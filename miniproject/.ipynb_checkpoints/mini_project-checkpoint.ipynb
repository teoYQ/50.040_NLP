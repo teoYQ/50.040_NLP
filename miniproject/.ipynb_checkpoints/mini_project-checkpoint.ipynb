{
 "cells": [
  {
   "cell_type": "markdown",
   "metadata": {
    "colab_type": "text",
    "id": "pf_8OI34CdXU"
   },
   "source": [
    "<img src=\"sutd.png\" alt=\"drawing\" style=\"width:300px;\"/>\n",
    "\n",
    "## <center>50.040 Natural Language Processing, Summer 2020<center>\n",
    "<center>**Due 19 June 2020, 5pm** <center>\n",
    "Mini Project"
   ]
  },
  {
   "cell_type": "markdown",
   "metadata": {
    "colab_type": "text",
    "id": "YAN5MA5GCdXU"
   },
   "source": [
    "**Write your student ID and name**\n",
    "\n",
    "\n",
    "### STUDNET ID:\n",
    "\n",
    "### Name:\n",
    "\n",
    "### Students with whom you have discussed (if any):"
   ]
  },
  {
   "cell_type": "markdown",
   "metadata": {
    "colab_type": "text",
    "id": "V0iF5uWcCdXV"
   },
   "source": [
    "# Introduction\n",
    "\n",
    "Language models are very useful for a wide range of applications, e.g., speech recognition and machine translation. Consider a sentence consisting of words $x_1, x_2, …, x_m$, where $m$ is the length of the sentence, the goal of language modeling is to model the probability of the sentence, where $m \\geq 1$, $x_i \\in V $ and $V$ is the vocabulary of the corpus:\n",
    "$$p(x_1, x_2, …, x_m)$$\n",
    "In this project, we are going to explore both statistical language model and neural language model on the [Wikitext-2](https://blog.einstein.ai/the-wikitext-long-term-dependency-language-modeling-dataset/) datasets. Download wikitext-2 word-level data and put it under the ``data`` folder.\n",
    "\n",
    "## Statistical  Language Model\n",
    "\n",
    "A simple way is to view words as independent random variables (i.e., zero-th order Markovian assumption). The joint probability can be written as:\n",
    "$$p(x_1, x_2, …, x_m)=\\prod_{i=1}^m p(x_i)$$\n",
    "However, this model ignores the word order information, to account for which, under the first-order Markovian assumption, the joint probability can be written as:\n",
    "$$p(x_0, x_1, x_2, …, x_m)= \\prod_{i=1}^{m}p(x_i \\mid x_{i-1})$$\n",
    "Under the second-order Markovian assumption, the joint probability can be written as:\n",
    "$$p(x_{-1}, x_0, x_1, x_2, …, x_m)= \\prod_{i=1}^{m}p(x_i \\mid x_{i-2}, x_{i-1})$$\n",
    "Similar to what we did in HMM, we will assume that $x_{-1}=START, x_0=START, x_m = STOP$ in this definition, where $START, STOP$ are special symbols referring to the start and the end of a sentence.\n",
    "\n",
    "\n",
    "\n",
    "\n",
    "\n"
   ]
  },
  {
   "cell_type": "markdown",
   "metadata": {
    "colab_type": "text",
    "id": "F5wC4lqKCdXW"
   },
   "source": [
    "### Parameter estimation\n",
    "\n",
    "Let's use $count(u)$ to denote the number of times the unigram $u$ appears in the corpus, use $count(v, u)$ to denote the number of times the bigram $v, u$ appears in the corpus, and $count(w, v, u)$ the times the trigram $w, v, u$ appears in the corpus, $u \\in V \\cup STOP$ and $w, v \\in V \\cup START$.\n",
    "\n",
    "And the parameters of the unigram, bigram and trigram models can be obtained using maximum likelihood estimation (MLE).\n",
    "\n",
    "- In the unigram model, the parameters can be estimated as: $$p(u) = \\frac {count(u)}{c}$$, where $c$ is the total number of words in the corpus.\n",
    "- In the bigram model, the parameters can be estimated as:\n",
    "$$p(u \\mid v) = \\frac{count(v, u)}{count(v)}$$\n",
    "- In the trigram model, the parameters can be estimated as:\n",
    "$$p(u \\mid w, v) = \\frac{count(w, v, u)}{count(w, v)}$$\n",
    "\n",
    "\n"
   ]
  },
  {
   "cell_type": "code",
   "execution_count": 4,
   "metadata": {},
   "outputs": [
    {
     "data": {
      "application/javascript": [
       "MathJax.Hub.Config({\n",
       "  TeX: { equationNumbers: { autoNumber: \"AMS\" } }\n",
       "});\n"
      ],
      "text/plain": [
       "<IPython.core.display.Javascript object>"
      ]
     },
     "metadata": {},
     "output_type": "display_data"
    }
   ],
   "source": [
    "%%javascript\n",
    "MathJax.Hub.Config({\n",
    "  TeX: { equationNumbers: { autoNumber: \"AMS\" } }\n",
    "});"
   ]
  },
  {
   "cell_type": "markdown",
   "metadata": {
    "colab_type": "text",
    "id": "C7dks8t0CdXW"
   },
   "source": [
    "### Smoothing the parameters\n",
    "Note, it is likely that many parameters of bigram and trigram models will be 0 because the relevant bigrams and trigrams involved do not appear in the corpus. If you don't have a way to handle these 0 probabilities, all the sentences that include such bigrams or trigrams will have probabilities of 0.\n",
    "\n",
    "We'll use a Add-k Smoothing method to fix this problem, the smoothed parameter can be estimated as:\n",
    "\\begin{equation}\n",
    "p_{add-k}(u)= \\frac{count(u)+k}{c+k|V^*|}\n",
    "\\end{equation}\n",
    "\\begin{equation}\n",
    "p_{add-k}(u \\mid v)= \\frac{count(v, u)+k}{count(v)+k|V^*|}\n",
    "\\end{equation}\n",
    "\\begin{equation}\n",
    "p_{add-k}(u \\mid w, v)= \\frac{count(w, v, u)+k}{count(w, v)+k|V^*|}\n",
    "\\end{equation}\n",
    "\n",
    "where $k \\in (0, 1)$ is the parameter of this approach, and $|V^*|$ is the size of the vocabulary $V^*$,here $V^*= V \\cup STOP$. One way to choose the value of $k$ is by\n",
    "optimizing the perplexity of the development set, namely to choose the value that minimizes the perplexity.\n",
    "\n"
   ]
  },
  {
   "cell_type": "markdown",
   "metadata": {
    "colab_type": "text",
    "id": "SNVha_8UCdXX"
   },
   "source": [
    "### Perplexity\n",
    "\n",
    "Given a test set $D^{\\prime}$ consisting of sentences $X^{(1)}, X^{(2)}, …, X^{(|D^{\\prime}|)}$, each sentence $X^{(j)}$ consists of words $x_1^{(j)}, x_2^{(j)},…,x_{n_j}^{(j)}$, we can measure the probability of each sentence $s_i$, and the quality of the language model would be the probability it assigns to the entire set of test sentences, namely:\n",
    "\\begin{equation} \n",
    "\\prod_j^{D^{\\prime}}p(X^{(j)})\n",
    "\\end{equation}\n",
    "Let's define average log2 probability as:\n",
    "\\begin{equation} \n",
    "l=\\frac{1}{c^{\\prime}}\\sum_{j=1}^{|D^{\\prime}|}log_2p(X^{(j)})\n",
    "\\end{equation}\n",
    "$c^{\\prime}$ is the total number of words in the test set, $D^{\\prime}$ is the number of sentences. And the perplexity is defined as:\n",
    "\\begin{equation} \n",
    "perplexity=2^{-l}\n",
    "\\end{equation}\n",
    "\n",
    "The lower the perplexity, the better the language model."
   ]
  },
  {
   "cell_type": "code",
   "execution_count": 5,
   "metadata": {},
   "outputs": [],
   "source": [
    "from collections import Counter, namedtuple\n",
    "import itertools\n",
    "import numpy as np"
   ]
  },
  {
   "cell_type": "code",
   "execution_count": 6,
   "metadata": {},
   "outputs": [],
   "source": [
    "with open('data/wikitext-2/wiki.train.tokens', 'r', encoding='utf8') as f:\n",
    "    text = f.readlines()\n",
    "    train_sents = [line.lower().strip('\\n').split() for line in text]\n",
    "    train_sents = [s for s in train_sents if len(s)>0 and s[0] != '=']"
   ]
  },
  {
   "cell_type": "code",
   "execution_count": 7,
   "metadata": {},
   "outputs": [
    {
     "name": "stdout",
     "output_type": "stream",
     "text": [
      "['the', 'game', 'began', 'development', 'in', '2010', ',', 'carrying', 'over', 'a', 'large', 'portion', 'of', 'the', 'work', 'done', 'on', 'valkyria', 'chronicles', 'ii', '.', 'while', 'it', 'retained', 'the', 'standard', 'features', 'of', 'the', 'series', ',', 'it', 'also', 'underwent', 'multiple', 'adjustments', ',', 'such', 'as', 'making', 'the', 'game', 'more', '<unk>', 'for', 'series', 'newcomers', '.', 'character', 'designer', '<unk>', 'honjou', 'and', 'composer', 'hitoshi', 'sakimoto', 'both', 'returned', 'from', 'previous', 'entries', ',', 'along', 'with', 'valkyria', 'chronicles', 'ii', 'director', 'takeshi', 'ozawa', '.', 'a', 'large', 'team', 'of', 'writers', 'handled', 'the', 'script', '.', 'the', 'game', \"'s\", 'opening', 'theme', 'was', 'sung', 'by', 'may', \"'n\", '.']\n",
      "91\n",
      "66\n"
     ]
    }
   ],
   "source": [
    "print(train_sents[1])\n",
    "print(len(train_sents[1]))\n",
    "print(len(set(train_sents[1])))"
   ]
  },
  {
   "cell_type": "markdown",
   "metadata": {
    "colab_type": "text",
    "id": "G0vxL-WpCdXX"
   },
   "source": [
    "### Question 1 [code][written]\n",
    "1. Implement the function **\"compute_ngram\"** that computes n-grams in the corpus.\n",
    " (Do not take the START and STOP symbols into consideration for now.) \n",
    " For n=1,2,3, the number of unique n-grams should be **28910/577343/1344047**, respectively.\n",
    "2. List 10 most frequent unigrams, bigrams and trigrams as well as their counts.(Hint: use the built-in function .most_common in Counter class)"
   ]
  },
  {
   "cell_type": "code",
   "execution_count": 8,
   "metadata": {
    "colab": {},
    "colab_type": "code",
    "id": "TOyoT-QiCdXY"
   },
   "outputs": [],
   "source": [
    "def compute_ngram(sents, n):\n",
    "    '''\n",
    "    Compute n-grams that appear in \"sents\".\n",
    "    param:\n",
    "        sents: list[list[str]] --- list of list of word strings\n",
    "        n: int --- \"n\" gram\n",
    "    return:\n",
    "        ngram_set: set{str} --- a set of n-grams (no duplicate elements)\n",
    "        ngram_dict: dict{ngram: counts} --- a dictionary that maps each ngram to its number occurence in \"sents\";\n",
    "        This dict contains the parameters of our ngram model. E.g. if n=2, ngram_dict={('a','b'):10, ('b','c'):13}\n",
    "        \n",
    "        You may need to use \"Counter\", \"tuple\" function here.\n",
    "    '''\n",
    "    \n",
    "    ngram_set = None\n",
    "    ngram_dict = {}\n",
    "    ### YOUR CODE HERE\n",
    "    #print(len(sents))\n",
    "    #print(n)\n",
    "    n_gram =[]\n",
    "    #sents is a list of sentences\n",
    "    for sentence in sents:\n",
    "        for i in range(len(sentence)-n+1):\n",
    "            for j in range(n):\n",
    "                n_gram.append(sentence[i+j])\n",
    "            temp_set = tuple(n_gram)\n",
    "            ngram_dict[temp_set] = ngram_dict.get(temp_set,0) + 1\n",
    "            n_gram = []\n",
    "    ngram_set = ngram_dict.keys()\n",
    "    ### END OF YOUR CODE\n",
    "    return ngram_set, ngram_dict"
   ]
  },
  {
   "cell_type": "code",
   "execution_count": 9,
   "metadata": {},
   "outputs": [
    {
     "name": "stdout",
     "output_type": "stream",
     "text": [
      "('the', 'game')\n",
      "('game', 'began')\n",
      "('began', 'development')\n",
      "('development', 'in')\n",
      "('in', '2010')\n",
      "('2010', ',')\n",
      "(',', 'carrying')\n",
      "('carrying', 'over')\n",
      "('over', 'a')\n",
      "('a', 'large')\n",
      "('large', 'portion')\n",
      "('portion', 'of')\n",
      "('of', 'the')\n",
      "('the', 'work')\n",
      "('work', 'done')\n",
      "('done', 'on')\n",
      "('on', 'valkyria')\n",
      "('valkyria', 'chronicles')\n",
      "('chronicles', 'ii')\n",
      "('ii', '.')\n",
      "('.', 'while')\n",
      "('while', 'it')\n",
      "('it', 'retained')\n",
      "('retained', 'the')\n",
      "('the', 'standard')\n",
      "('standard', 'features')\n",
      "('features', 'of')\n",
      "('the', 'series')\n",
      "('series', ',')\n",
      "(',', 'it')\n",
      "('it', 'also')\n",
      "('also', 'underwent')\n",
      "('underwent', 'multiple')\n",
      "('multiple', 'adjustments')\n",
      "('adjustments', ',')\n",
      "(',', 'such')\n",
      "('such', 'as')\n",
      "('as', 'making')\n",
      "('making', 'the')\n",
      "('game', 'more')\n",
      "('more', '<unk>')\n",
      "('<unk>', 'for')\n",
      "('for', 'series')\n",
      "('series', 'newcomers')\n",
      "('newcomers', '.')\n",
      "('.', 'character')\n",
      "('character', 'designer')\n",
      "('designer', '<unk>')\n",
      "('<unk>', 'honjou')\n",
      "('honjou', 'and')\n",
      "('and', 'composer')\n",
      "('composer', 'hitoshi')\n",
      "('hitoshi', 'sakimoto')\n",
      "('sakimoto', 'both')\n",
      "('both', 'returned')\n",
      "('returned', 'from')\n",
      "('from', 'previous')\n",
      "('previous', 'entries')\n",
      "('entries', ',')\n",
      "(',', 'along')\n",
      "('along', 'with')\n",
      "('with', 'valkyria')\n",
      "('ii', 'director')\n",
      "('director', 'takeshi')\n",
      "('takeshi', 'ozawa')\n",
      "('ozawa', '.')\n",
      "('.', 'a')\n",
      "('large', 'team')\n",
      "('team', 'of')\n",
      "('of', 'writers')\n",
      "('writers', 'handled')\n",
      "('handled', 'the')\n",
      "('the', 'script')\n",
      "('script', '.')\n",
      "('.', 'the')\n",
      "('game', \"'s\")\n",
      "(\"'s\", 'opening')\n",
      "('opening', 'theme')\n",
      "('theme', 'was')\n",
      "('was', 'sung')\n",
      "('sung', 'by')\n",
      "('by', 'may')\n",
      "('may', \"'n\")\n",
      "(\"'n\", '.')\n"
     ]
    }
   ],
   "source": [
    "set_,dict_ =compute_ngram([train_sents[1]],2)\n",
    "for i in set_:\n",
    "    print(i)"
   ]
  },
  {
   "cell_type": "code",
   "execution_count": 10,
   "metadata": {},
   "outputs": [
    {
     "name": "stdout",
     "output_type": "stream",
     "text": [
      "28910\n"
     ]
    }
   ],
   "source": [
    "### ~28xxx\n",
    "unigram_set, unigram_dict = compute_ngram(train_sents, 1)\n",
    "print(len(unigram_set))"
   ]
  },
  {
   "cell_type": "code",
   "execution_count": 11,
   "metadata": {},
   "outputs": [
    {
     "name": "stdout",
     "output_type": "stream",
     "text": [
      "577343\n"
     ]
    }
   ],
   "source": [
    "### ~57xxxx\n",
    "\n",
    "bigram_set, bigram_dict = compute_ngram(train_sents, 2)\n",
    "print(len(bigram_set))"
   ]
  },
  {
   "cell_type": "code",
   "execution_count": 12,
   "metadata": {},
   "outputs": [
    {
     "name": "stdout",
     "output_type": "stream",
     "text": [
      "1344047\n"
     ]
    }
   ],
   "source": [
    "### ~134xxxx\n",
    "trigram_set, trigram_dict = compute_ngram(train_sents, 3)\n",
    "print(len(trigram_set))"
   ]
  },
  {
   "cell_type": "code",
   "execution_count": 13,
   "metadata": {},
   "outputs": [
    {
     "name": "stdout",
     "output_type": "stream",
     "text": [
      "------------ UNIGRAM --------------\n"
     ]
    },
    {
     "data": {
      "text/plain": [
       "[(('the',), 130519),\n",
       " ((',',), 99763),\n",
       " (('.',), 73388),\n",
       " (('of',), 56743),\n",
       " (('<unk>',), 53951),\n",
       " (('and',), 49940),\n",
       " (('in',), 44876),\n",
       " (('to',), 39462),\n",
       " (('a',), 36140),\n",
       " (('\"',), 28285)]"
      ]
     },
     "execution_count": 13,
     "metadata": {},
     "output_type": "execute_result"
    }
   ],
   "source": [
    "# List 10 most frequent unigrams, bigrams and trigrams as well as their counts.\n",
    "from collections import Counter\n",
    "#c = Counter(unigram_dict)\n",
    "print(\"------------ UNIGRAM --------------\")\n",
    "(Counter(unigram_dict).most_common(10))\n"
   ]
  },
  {
   "cell_type": "code",
   "execution_count": 14,
   "metadata": {},
   "outputs": [
    {
     "name": "stdout",
     "output_type": "stream",
     "text": [
      "------------ BIGRAM ---------------\n"
     ]
    },
    {
     "data": {
      "text/plain": [
       "[(('of', 'the'), 17242),\n",
       " (('in', 'the'), 11778),\n",
       " ((',', 'and'), 11643),\n",
       " (('.', 'the'), 11274),\n",
       " ((',', 'the'), 8024),\n",
       " (('<unk>', ','), 7698),\n",
       " (('to', 'the'), 6009),\n",
       " (('on', 'the'), 4495),\n",
       " (('the', '<unk>'), 4389),\n",
       " (('and', 'the'), 4331)]"
      ]
     },
     "execution_count": 14,
     "metadata": {},
     "output_type": "execute_result"
    }
   ],
   "source": [
    "print(\"------------ BIGRAM ---------------\")\n",
    "(Counter(bigram_dict).most_common(10))"
   ]
  },
  {
   "cell_type": "code",
   "execution_count": 15,
   "metadata": {},
   "outputs": [
    {
     "name": "stdout",
     "output_type": "stream",
     "text": [
      "------------ TRIGRAM --------------\n"
     ]
    },
    {
     "data": {
      "text/plain": [
       "[((',', 'and', 'the'), 1393),\n",
       " ((',', '<unk>', ','), 950),\n",
       " (('<unk>', ',', '<unk>'), 901),\n",
       " (('one', 'of', 'the'), 866),\n",
       " (('<unk>', ',', 'and'), 819),\n",
       " (('.', 'however', ','), 775),\n",
       " (('<unk>', '<unk>', ','), 745),\n",
       " (('.', 'in', 'the'), 726),\n",
       " (('.', 'it', 'was'), 698),\n",
       " (('the', 'united', 'states'), 666)]"
      ]
     },
     "execution_count": 15,
     "metadata": {},
     "output_type": "execute_result"
    }
   ],
   "source": [
    "print(\"------------ TRIGRAM --------------\")\n",
    "(Counter(trigram_dict).most_common(10))"
   ]
  },
  {
   "cell_type": "markdown",
   "metadata": {
    "colab_type": "text",
    "id": "PVpoDgU7CdXb"
   },
   "source": [
    "### Question 2 [code][written]\n",
    "In this part, we take the START and STOP symbols into consideration. So we need to pad the **train_sents** as described in \"Statistical Language Model\" before we apply \"compute_ngram\" function. For example, given a sentence \"I like NLP\", in a bigram model, we need to pad it as \"START I like NLP STOP\", in a trigram model, we need to pad it as \"START START I like NLP STOP\".\n",
    "\n",
    "1. Implement the ``pad_sents function``.\n",
    "2. Pad ``train_sents``.\n",
    "3. Apply ``compute_ngram`` function to these padded sents. \n",
    "4. Implement ``ngram_prob`` function. Compute the probability for each n-gram in the variable **ngrams** according to Eq.(1)(2)(3) in **\"smoothing the parameters\"** .List down the n-grams that have 0 probability. \n",
    "\n"
   ]
  },
  {
   "cell_type": "code",
   "execution_count": 16,
   "metadata": {},
   "outputs": [
    {
     "name": "stdout",
     "output_type": "stream",
     "text": [
      "[['the', 'computer'], ['go', 'to'], ['have', 'had'], ['and', 'the'], ['can', 'sea'], ['a', 'number', 'of'], ['with', 'respect', 'to'], ['in', 'terms', 'of'], ['not', 'good', 'bad'], ['first', 'start', 'with']]\n"
     ]
    }
   ],
   "source": [
    "###############################################\n",
    "ngrams = list()\n",
    "with open(r'data/ngram.txt','r') as f:\n",
    "    for line in f:\n",
    "        ngrams.append(line.strip('\\n').split())\n",
    "print(ngrams)\n",
    "###############################################"
   ]
  },
  {
   "cell_type": "code",
   "execution_count": 17,
   "metadata": {},
   "outputs": [
    {
     "data": {
      "text/plain": [
       "['starts', 'starts', 'starts']"
      ]
     },
     "execution_count": 17,
     "metadata": {},
     "output_type": "execute_result"
    }
   ],
   "source": [
    "[\"starts\"]*3"
   ]
  },
  {
   "cell_type": "code",
   "execution_count": 18,
   "metadata": {},
   "outputs": [],
   "source": [
    "START = '<START>'\n",
    "STOP = '<STOP>'\n",
    "###################################\n",
    "def pad_sents(sents, n):\n",
    "    '''\n",
    "    Pad the sents according to n.\n",
    "    params:\n",
    "        sents: list[list[str]] --- list of sentences.\n",
    "        n: int --- specify the padding type, 1-gram, 2-gram, or 3-gram.\n",
    "    return:\n",
    "        padded_sents: list[list[str]] --- list of padded sentences.\n",
    "    '''\n",
    "    padded_sents = []\n",
    "    ### YOUR CODE HERE\n",
    "    for sentence in sents:\n",
    "        sent = []\n",
    "        for word in sentence:\n",
    "                sent.append(word)\n",
    "        if n != 1:\n",
    "            for i in range(n-1):\n",
    "                sent.insert(0,START)\n",
    "            \n",
    "            sent.append(STOP)\n",
    "        padded_sents.append(sent)\n",
    "    ### END OF YOUR CODE\n",
    "    #print(sents[0])\n",
    "    return padded_sents"
   ]
  },
  {
   "cell_type": "code",
   "execution_count": 19,
   "metadata": {},
   "outputs": [],
   "source": [
    "uni_sents = pad_sents(train_sents, 1)\n",
    "bi_sents = pad_sents(train_sents, 2)\n",
    "tri_sents = pad_sents(train_sents, 3)"
   ]
  },
  {
   "cell_type": "code",
   "execution_count": 20,
   "metadata": {},
   "outputs": [],
   "source": [
    "unigram_set, unigram_dict = compute_ngram(uni_sents, 1)\n",
    "bigram_set, bigram_dict = compute_ngram(bi_sents, 2)\n",
    "trigram_set, trigram_dict = compute_ngram(tri_sents, 3)"
   ]
  },
  {
   "cell_type": "code",
   "execution_count": 21,
   "metadata": {},
   "outputs": [
    {
     "data": {
      "text/plain": [
       "(28910, 580825, 1363266)"
      ]
     },
     "execution_count": 21,
     "metadata": {},
     "output_type": "execute_result"
    }
   ],
   "source": [
    "### (28xxx, 58xxxx, 136xxxx)\n",
    "len(unigram_set),len(bigram_set),len(trigram_set)"
   ]
  },
  {
   "cell_type": "code",
   "execution_count": 22,
   "metadata": {},
   "outputs": [
    {
     "name": "stdout",
     "output_type": "stream",
     "text": [
      "2007146\n"
     ]
    }
   ],
   "source": [
    "### ~ 200xxxx; total number of words in wikitext-2.train\n",
    "num_words = sum([v for _,v in unigram_dict.items()])\n",
    "print(num_words)"
   ]
  },
  {
   "cell_type": "code",
   "execution_count": 23,
   "metadata": {},
   "outputs": [],
   "source": [
    "def ngram_prob(ngram, num_words, unigram_dic, bigram_dic, trigram_dic):\n",
    "    '''\n",
    "    params:\n",
    "        ngram: list[str] --- a list that represents n-gram\n",
    "        num_words: int --- total number of words\n",
    "        unigram_dic: dict{ngram: counts} --- a dictionary that maps each 1-gram to its number of occurences in \"sents\";\n",
    "        bigram_dic: dict{ngram: counts} --- a dictionary that maps each 2-gram to its number of occurence in \"sents\";\n",
    "        trigram_dic: dict{ngram: counts} --- a dictionary that maps each 3-gram to its number occurence in \"sents\";\n",
    "    return:\n",
    "        prob: float --- probability of the \"ngram\"\n",
    "    '''\n",
    "    prob = None\n",
    "    ### YOUR CODE HERE\n",
    "    #get length of ngram to know where to find it\n",
    "    tup = tuple(ngram)\n",
    "    if len(ngram) == 1:\n",
    "        count = unigram_dic.get(tup,0)\n",
    "        prob = count/num_words\n",
    "    elif len(ngram) == 2:\n",
    "        countvu = bigram_dic.get(tup,0)\n",
    "       # print(tuple([tup[0]]))\n",
    "        countv = unigram_dic.get(tuple([tup[0]]),0)\n",
    "        prob = countvu/countv\n",
    "    elif len(ngram) == 3:\n",
    "        countwvu = trigram_dic.get(tup,0)\n",
    "        countwv = bigram_dic.get(tuple(tup[0:2]),0)\n",
    "        prob = countwvu/countwv\n",
    "    ### END OF YOUR CODE\n",
    "    return prob"
   ]
  },
  {
   "cell_type": "code",
   "execution_count": 24,
   "metadata": {},
   "outputs": [
    {
     "name": "stdout",
     "output_type": "stream",
     "text": [
      "['the', 'computer']\n"
     ]
    },
    {
     "data": {
      "text/plain": [
       "9.960235674499498e-05"
      ]
     },
     "execution_count": 24,
     "metadata": {},
     "output_type": "execute_result"
    }
   ],
   "source": [
    "### ~9.96e-05\n",
    "print(ngrams[0])\n",
    "ngram_prob(ngrams[0], num_words,unigram_dict, bigram_dict, trigram_dict)"
   ]
  },
  {
   "cell_type": "code",
   "execution_count": 25,
   "metadata": {},
   "outputs": [
    {
     "name": "stdout",
     "output_type": "stream",
     "text": [
      "['can', 'sea'] 0.0\n",
      "['not', 'good', 'bad'] 0.0\n",
      "['first', 'start', 'with'] 0.0\n"
     ]
    }
   ],
   "source": [
    "### List down the n-grams that have 0 probability. \n",
    "for ngram in ngrams:\n",
    "    prob = ngram_prob(ngram, num_words,unigram_dict, bigram_dict, trigram_dict)\n",
    "    if prob == 0:\n",
    "        print(ngram,prob)\n",
    "    "
   ]
  },
  {
   "cell_type": "markdown",
   "metadata": {
    "colab_type": "text",
    "id": "2kAezpJ9CdXd"
   },
   "source": [
    "### Question 3 [code][written]\n",
    "\n",
    "1. Implement ``smooth_ngram_prob`` function to estimate ngram probability with ``add-k`` smoothing technique. Compute the smoothed probabilities of each n-gram in the variable **\"ngrams\"** according to Eq.(1)(2)(3) in **\"smoothing the parameters\"** section.\n",
    "2. Implement ``perplexity`` function to compute the perplexity of the corpus \"**valid_sents**\" according to the Equations (4),(5),(6) in **perplexity** section. The computation of $p(X^{(j)})$ depends on the n-gram model you choose. If you choose 2-gram model, then you need to calculate $p(X^{(j)})$ based on Eq.(2) in **smoothing the parameter** section. Hint: convert probability to log probability.\n",
    "3. Try out different $k\\in [0.1, 0.3, 0.5, 0.7, 0.9]$ and different n-gram model ($n=1,2,3$). Find the n-gram model and $k$ that gives the best perplexity on \"**valid_sents**\" (smaller is better)."
   ]
  },
  {
   "cell_type": "code",
   "execution_count": 26,
   "metadata": {},
   "outputs": [],
   "source": [
    "with open('data/wikitext-2/wiki.valid.tokens', 'r', encoding='utf8') as f:\n",
    "    text = f.readlines()\n",
    "    valid_sents = [line.lower().strip('\\n').split() for line in text]\n",
    "    valid_sents = [s for s in valid_sents if len(s)>0 and s[0] != '=']\n",
    "\n",
    "uni_valid_sents = pad_sents(valid_sents, 1)\n",
    "bi_valid_sents = pad_sents(valid_sents, 2)\n",
    "tri_valid_sents = pad_sents(valid_sents, 3)"
   ]
  },
  {
   "cell_type": "markdown",
   "metadata": {},
   "source": [
    "### Smoothing the parameters\n",
    "Note, it is likely that many parameters of bigram and trigram models will be 0 because the relevant bigrams and trigrams involved do not appear in the corpus. If you don't have a way to handle these 0 probabilities, all the sentences that include such bigrams or trigrams will have probabilities of 0.\n",
    "\n",
    "We'll use a Add-k Smoothing method to fix this problem, the smoothed parameter can be estimated as:\n",
    "\\begin{equation}\n",
    "p_{add-k}(u)= \\frac{count(u)+k}{c+k|V^*|}\n",
    "\\end{equation}\n",
    "\\begin{equation}\n",
    "p_{add-k}(u \\mid v)= \\frac{count(v, u)+k}{count(v)+k|V^*|}\n",
    "\\end{equation}\n",
    "\\begin{equation}\n",
    "p_{add-k}(u \\mid w, v)= \\frac{count(w, v, u)+k}{count(w, v)+k|V^*|}\n",
    "\\end{equation}\n",
    "\n",
    "where $k \\in (0, 1)$ is the parameter of this approach, and $|V^*|$ is the size of the vocabulary $V^*$,here $V^*= V \\cup STOP$. One way to choose the value of $k$ is by\n",
    "optimizing the perplexity of the development set, namely to choose the value that minimizes the perplexity.\n",
    "\n"
   ]
  },
  {
   "cell_type": "code",
   "execution_count": 27,
   "metadata": {},
   "outputs": [],
   "source": [
    "def smooth_ngram_prob(ngram, k, num_words, unigram_dic, bigram_dic, trigram_dic):\n",
    "    '''\n",
    "    params:\n",
    "        ngram: list[str] --- a list that represents n-gram\n",
    "        k: float \n",
    "        num_words: int --- total number of words\n",
    "        unigram_dic: dict{ngram: counts} --- a dictionary that maps each 1-gram to its number of occurences in \"sents\";\n",
    "        bigram_dic: dict{ngram: counts} --- a dictionary that maps each 2-gram to its number of occurence in \"sents\";\n",
    "        trigram_dic: dict{ngram: counts} --- a dictionary that maps each 3-gram to its number occurence in \"sents\";\n",
    "    return:\n",
    "        s_prob: float --- probability of the \"ngram\"\n",
    "    '''\n",
    "    s_prob = 0\n",
    "    V = len(unigram_dic) + 1 \n",
    "    ### YOUR CODE HERE\\、\n",
    "    tup = tuple(ngram)\n",
    "    if len(ngram) == 1:\n",
    "        count = unigram_dic.get(tup,0)\n",
    "        s_prob = (count+k)/(num_words+k*V)\n",
    "    elif len(ngram) == 2:\n",
    "        countvu = bigram_dic.get(tup,0)\n",
    "       # print(tuple([tup[0]]))\n",
    "        countv = unigram_dic.get(tuple([tup[0]]),0)\n",
    "        s_prob =( countvu+k)/(countv+k*V)\n",
    "    elif len(ngram) == 3:\n",
    "        countwvu = trigram_dic.get(tup,0)\n",
    "        countwv = bigram_dic.get(tuple(tup[0:2]),0)\n",
    "        s_prob = (countwvu+k)/(countwv+k*V)\n",
    "    ### END OF YOUR CODE\n",
    "    return s_prob"
   ]
  },
  {
   "cell_type": "code",
   "execution_count": 28,
   "metadata": {},
   "outputs": [
    {
     "data": {
      "text/plain": [
       "9.311982452086402e-05"
      ]
     },
     "execution_count": 28,
     "metadata": {},
     "output_type": "execute_result"
    }
   ],
   "source": [
    "### ~ 9.31e-05\n",
    "smooth_ngram_prob(ngrams[0], 0.5, num_words, unigram_dict, bigram_dict, trigram_dict)\n"
   ]
  },
  {
   "cell_type": "markdown",
   "metadata": {},
   "source": [
    "### Perplexity\n",
    "\n",
    "Given a test set $D^{\\prime}$ consisting of sentences $X^{(1)}, X^{(2)}, …, X^{(|D^{\\prime}|)}$, each sentence $X^{(j)}$ consists of words $x_1^{(j)}, x_2^{(j)},…,x_{n_j}^{(j)}$, we can measure the probability of each sentence $s_i$, and the quality of the language model would be the probability it assigns to the entire set of test sentences, namely:\n",
    "\\begin{equation} \n",
    "\\prod_j^{D^{\\prime}}p(X^{(j)})\n",
    "\\end{equation}\n",
    "Let's define average log2 probability as:\n",
    "\\begin{equation} \n",
    "l=\\frac{1}{c^{\\prime}}\\sum_{j=1}^{|D^{\\prime}|}log_2p(X^{(j)})\n",
    "\\end{equation}\n",
    "$c^{\\prime}$ is the total number of words in the test set, $D^{\\prime}$ is the number of sentences. And the perplexity is defined as:\n",
    "\\begin{equation} \n",
    "perplexity=2^{-l}\n",
    "\\end{equation}\n",
    "\n",
    "The lower the perplexity, the better the language model."
   ]
  },
  {
   "cell_type": "code",
   "execution_count": 29,
   "metadata": {},
   "outputs": [],
   "source": [
    "import math\n",
    "def perplexity(n, k, num_words, valid_sents, unigram_dic, bigram_dic, trigram_dic):\n",
    "    '''\n",
    "    compute the perplexity of valid_sents\n",
    "    params:\n",
    "        n: int --- n-gram model you choose. \n",
    "        k: float --- smoothing parameter.\n",
    "        num_words: int --- total number of words in the traning set.\n",
    "        valid_sents: list[list[str]] --- list of sentences.\n",
    "        unigram_dic: dict{ngram: counts} --- a dictionary that maps each 1-gram to its number of occurences in \"sents\";\n",
    "        bigram_dic: dict{ngram: counts} --- a dictionary that maps each 2-gram to its number of occurence in \"sents\";\n",
    "        trigram_dic: dict{ngram: counts} --- a dictionary that maps each 3-gram to its number occurence in \"sents\";\n",
    "    return:\n",
    "        ppl: float --- perplexity of valid_sents\n",
    "    '''\n",
    "    ppl = None\n",
    "    ### YOUR CODE HERE\n",
    "    probs = 0\n",
    "\n",
    "    if n==1:\n",
    "        #loop through corpus\n",
    "        for sent in valid_sents:\n",
    "            #for each sentence, get probability of sentence\n",
    "            sent_prob = 0\n",
    "            \n",
    "            for word in sent:\n",
    "                #get probability of each word\n",
    "                #print(word)\n",
    "                prob = smooth_ngram_prob([word],k,num_words,unigram_dic,bigram_dic,trigram_dic)\n",
    "                #print(prob)\n",
    "                log_prob = math.log(prob,2)\n",
    "                sent_prob += log_prob\n",
    "            probs +=sent_prob\n",
    "        \n",
    "        #multiply probability of all sentences\n",
    "    elif n==2:\n",
    "        #get bigrams\n",
    "        for sent in valid_sents:\n",
    "            sent_prob = 0\n",
    "            for i in range(len(sent)-1):\n",
    "                bigram = [sent[i],sent[i+1]]\n",
    "                #print(bigram)\n",
    "                prob = smooth_ngram_prob(bigram,k,num_words,unigram_dic,bigram_dic,trigram_dic)\n",
    "                log_prob = math.log(prob,2)\n",
    "                sent_prob += log_prob\n",
    "            probs+= sent_prob\n",
    "                \n",
    "    elif n==3:\n",
    "        for sent in valid_sents:\n",
    "            sent_prob = 0\n",
    "            for i in range(len(sent)-2):\n",
    "                \n",
    "                trigram = [sent[i],sent[i+1],sent[i+2]]\n",
    "                prob = smooth_ngram_prob(trigram,k,num_words,unigram_dic,bigram_dic,trigram_dic)\n",
    "                log_prob = math.log(prob,2)\n",
    "                sent_prob += log_prob\n",
    "            probs+= sent_prob        \n",
    "    else:\n",
    "        return \"invalid n\"\n",
    "    len_test_set = sum([len(sent) for sent in valid_sents]) \n",
    "    \n",
    "    print(len_test_set)\n",
    "    l = (1/len_test_set)*probs\n",
    "    ppl = 2**(-l)\n",
    "    ### END OF YOUR CODE\n",
    "    return ppl"
   ]
  },
  {
   "cell_type": "code",
   "execution_count": 30,
   "metadata": {},
   "outputs": [
    {
     "name": "stdout",
     "output_type": "stream",
     "text": [
      "('hi', 'John')\n"
     ]
    }
   ],
   "source": [
    "tup = (\"hi\",\"John\")\n",
    "print(tuple(tup))"
   ]
  },
  {
   "cell_type": "code",
   "execution_count": 31,
   "metadata": {},
   "outputs": [
    {
     "name": "stdout",
     "output_type": "stream",
     "text": [
      "209338\n"
     ]
    },
    {
     "data": {
      "text/plain": [
       "840.7347306258201"
      ]
     },
     "execution_count": 31,
     "metadata": {},
     "output_type": "execute_result"
    }
   ],
   "source": [
    "### ~ 840\n",
    "#math.log(8,2)\n",
    "perplexity(1, 0.1, num_words, uni_valid_sents, unigram_dict, bigram_dict, trigram_dict)"
   ]
  },
  {
   "cell_type": "code",
   "execution_count": 32,
   "metadata": {},
   "outputs": [
    {
     "name": "stdout",
     "output_type": "stream",
     "text": [
      "209338\n",
      "for ngram =  1  and k =  0.1  the perplexitiy is  840.7347306258201\n",
      "209338\n",
      "for ngram =  1  and k =  0.3  the perplexitiy is  841.1427277036215\n",
      "209338\n",
      "for ngram =  1  and k =  0.5  the perplexitiy is  841.59596789613\n",
      "209338\n",
      "for ngram =  1  and k =  0.7  the perplexitiy is  842.0904494779538\n",
      "209338\n",
      "for ngram =  1  and k =  0.9  the perplexitiy is  842.622708490275\n",
      "213020\n",
      "for ngram =  2  and k =  0.1  the perplexitiy is  739.5817358293278\n",
      "213020\n",
      "for ngram =  2  and k =  0.3  the perplexitiy is  1061.398261737486\n",
      "213020\n",
      "for ngram =  2  and k =  0.5  the perplexitiy is  1289.1491260340888\n",
      "213020\n",
      "for ngram =  2  and k =  0.7  the perplexitiy is  1477.1909399543802\n",
      "213020\n",
      "for ngram =  2  and k =  0.9  the perplexitiy is  1641.5907324589143\n",
      "214861\n",
      "for ngram =  3  and k =  0.1  the perplexitiy is  4773.649128292909\n",
      "214861\n",
      "for ngram =  3  and k =  0.3  the perplexitiy is  6676.617325678288\n",
      "214861\n",
      "for ngram =  3  and k =  0.5  the perplexitiy is  7831.22845797887\n",
      "214861\n",
      "for ngram =  3  and k =  0.7  the perplexitiy is  8684.05607928335\n",
      "214861\n",
      "for ngram =  3  and k =  0.9  the perplexitiy is  9364.60490326933\n"
     ]
    }
   ],
   "source": [
    "n = [1,2,3]\n",
    "k = [0.1, 0.3, 0.5, 0.7, 0.9]\n",
    "### YOUR CODE HERE\n",
    "min_per = 99999999999\n",
    "n_min = 0\n",
    "k_min = 0\n",
    "valid_sents = [uni_valid_sents,bi_valid_sents,tri_valid_sents]\n",
    "for i in n:\n",
    "    for smallk in k:\n",
    "        perp = perplexity(i, smallk, num_words, valid_sents[i-1], unigram_dict, bigram_dict, trigram_dict)\n",
    "        print(\"for ngram = \",i,\" and k = \",smallk,\" the perplexitiy is \",perp)\n",
    "        if perp < min_per:\n",
    "            min_perp = perp\n",
    "            n_min = i\n",
    "            k_min = smallk\n",
    "### END OF YOUR CODE"
   ]
  },
  {
   "cell_type": "markdown",
   "metadata": {
    "colab_type": "text",
    "id": "3o_yjh9lCdXg"
   },
   "source": [
    "### Question 4 [code]\n",
    "\n",
    "Evaluate the perplexity of the test data **test_sents** based on the best n-gram model and $k$ you have found on the validation data (Q 3.3)."
   ]
  },
  {
   "cell_type": "code",
   "execution_count": 33,
   "metadata": {
    "colab": {},
    "colab_type": "code",
    "id": "i7hGcXgCCdXg"
   },
   "outputs": [],
   "source": [
    "with open('data/wikitext-2/wiki.test.tokens', 'r', encoding='utf8') as f:\n",
    "    text = f.readlines()\n",
    "    test_sents = [line.lower().strip('\\n').split() for line in text]\n",
    "    test_sents = [s for s in test_sents if len(s)>0 and s[0] != '=']\n",
    "\n",
    "uni_test_sents = pad_sents(test_sents, 1)\n",
    "bi_test_sents = pad_sents(test_sents, 2)\n",
    "tri_test_sents = pad_sents(test_sents, 3)"
   ]
  },
  {
   "cell_type": "code",
   "execution_count": 34,
   "metadata": {},
   "outputs": [
    {
     "name": "stdout",
     "output_type": "stream",
     "text": [
      "240211\n"
     ]
    },
    {
     "data": {
      "text/plain": [
       "689.3929590952947"
      ]
     },
     "execution_count": 34,
     "metadata": {},
     "output_type": "execute_result"
    }
   ],
   "source": [
    "### YOUR CODE HERE\n",
    "perplexity(2, 0.1, num_words,bi_test_sents, unigram_dict, bigram_dict, trigram_dict)\n",
    "### END OF YOUR CODE"
   ]
  },
  {
   "cell_type": "markdown",
   "metadata": {
    "colab_type": "text",
    "collapsed": true,
    "id": "ePSI8RDWCdXj"
   },
   "source": [
    "## Neural Language Model (RNN)\n"
   ]
  },
  {
   "cell_type": "markdown",
   "metadata": {
    "colab_type": "text",
    "id": "jkoTco_jCdXj"
   },
   "source": [
    "<img src=\"LM.png\" alt=\"drawing\" style=\"width:500px;\"/>\n",
    "\n",
    "We will create a LSTM language model as shown in figure and train it on the Wikitext-2 dataset. \n",
    "The data generators (train\\_iter, valid\\_iter, test\\_iter) have been provided. \n",
    "The word embeddings together with the parameters in the LSTM model will be learned from scratch.\n",
    "\n",
    "[Pytorch](https://pytorch.org/tutorials/) and [torchtext](https://torchtext.readthedocs.io/en/latest/index.html#) are required in this part. Do not make any changes to the provided code unless you are requested to do so. "
   ]
  },
  {
   "cell_type": "markdown",
   "metadata": {},
   "source": [
    "### Question 5 [code]\n",
    "- Implement the ``__init__`` function in ``LangModel`` class.\n",
    "- Implement the ``forward`` function in ``LangModel`` class.\n",
    "- Complete the training code in ``train`` function.\n",
    "    Then complete the testing code in  ``test`` function and \n",
    "    compute the perplexity of the test data ``test_iter``. The test perplexity should be below 150."
   ]
  },
  {
   "cell_type": "code",
   "execution_count": 1,
   "metadata": {
    "colab": {},
    "colab_type": "code",
    "id": "tF2GCRdFCdXk",
    "outputId": "7e2ee790-c23f-48dd-e4a2-763293db1880"
   },
   "outputs": [
    {
     "name": "stderr",
     "output_type": "stream",
     "text": [
      "[nltk_data] Downloading package punkt to C:\\Users\\Student-\n",
      "[nltk_data]     TeoYongQuan\\AppData\\Roaming\\nltk_data...\n",
      "[nltk_data]   Package punkt is already up-to-date!\n"
     ]
    },
    {
     "data": {
      "text/plain": [
       "<torch._C.Generator at 0x1fbeceb19f0>"
      ]
     },
     "execution_count": 1,
     "metadata": {},
     "output_type": "execute_result"
    }
   ],
   "source": [
    "import torchtext\n",
    "import torch\n",
    "import torch.nn.functional as F\n",
    "from torchtext.datasets import WikiText2\n",
    "from torch import nn, optim\n",
    "from torchtext import data\n",
    "from nltk import word_tokenize\n",
    "import nltk\n",
    "nltk.download('punkt')\n",
    "torch.manual_seed(222)"
   ]
  },
  {
   "cell_type": "code",
   "execution_count": 2,
   "metadata": {
    "colab": {},
    "colab_type": "code",
    "id": "lt6JBdSnCdXn",
    "outputId": "7d11709e-1821-473e-aece-5add82208067"
   },
   "outputs": [],
   "source": [
    "def tokenizer(text):\n",
    "    '''Tokenize a string to words'''\n",
    "    return word_tokenize(text)\n",
    "\n",
    "START = '<START>'\n",
    "STOP = '<STOP>'\n",
    "#Load and split data into three parts\n",
    "TEXT = data.Field(lower=True, tokenize=tokenizer, init_token=START, eos_token=STOP)\n",
    "train, valid, test = WikiText2.splits(TEXT) "
   ]
  },
  {
   "cell_type": "code",
   "execution_count": 3,
   "metadata": {
    "colab": {},
    "colab_type": "code",
    "id": "KHwu4VMVCdXq",
    "outputId": "4fb02a02-8f07-4239-b1f0-45234cda2b2d"
   },
   "outputs": [
    {
     "name": "stdout",
     "output_type": "stream",
     "text": [
      "Vocabulary size: 28905\n"
     ]
    }
   ],
   "source": [
    "#Build a vocabulary from the train dataset\n",
    "TEXT.build_vocab(train)\n",
    "print('Vocabulary size:', len(TEXT.vocab))"
   ]
  },
  {
   "cell_type": "code",
   "execution_count": 4,
   "metadata": {
    "colab": {},
    "colab_type": "code",
    "id": "ua9e-OBMCdXs"
   },
   "outputs": [],
   "source": [
    "BATCH_SIZE = 64\n",
    "# the length of a piece of text feeding to the RNN layer\n",
    "BPTT_LEN = 32           \n",
    "# train, validation, test data\n",
    "train_iter, valid_iter, test_iter = data.BPTTIterator.splits((train, valid, test),\n",
    "                                                                batch_size=BATCH_SIZE,\n",
    "                                                                bptt_len=BPTT_LEN,\n",
    "                                                                repeat=False)"
   ]
  },
  {
   "cell_type": "code",
   "execution_count": 5,
   "metadata": {
    "colab": {},
    "colab_type": "code",
    "id": "6_Cd8shXCdXy",
    "scrolled": true
   },
   "outputs": [
    {
     "name": "stdout",
     "output_type": "stream",
     "text": [
      "Size of text tensor torch.Size([32, 64])\n",
      "Size of target tensor torch.Size([32, 64])\n"
     ]
    }
   ],
   "source": [
    "#Generate a batch of train data\n",
    "batch = next(iter(train_iter))\n",
    "text, target = batch.text, batch.target\n",
    "# print(batch.dataset[0].text[:32])\n",
    "# print(text[0:3],target[:3])\n",
    "print('Size of text tensor',text.size())\n",
    "print('Size of target tensor',target.size())"
   ]
  },
  {
   "cell_type": "code",
   "execution_count": 14,
   "metadata": {},
   "outputs": [],
   "source": [
    "class LangModel(nn.Module):\n",
    "    def __init__(self, lang_config):\n",
    "        super(LangModel, self).__init__()\n",
    "        self.vocab_size = lang_config['vocab_size']\n",
    "        self.emb_size = lang_config['emb_size']\n",
    "        self.hidden_size = lang_config['hidden_size']\n",
    "        self.num_layer = lang_config['num_layer']\n",
    "        \n",
    "        self.embedding = None\n",
    "        self.rnn = None\n",
    "        self.linear = None\n",
    "        \n",
    "        ### TODO: \n",
    "        ###    1. Initialize 'self.embedding' with nn.Embedding function and 2 variables we have initialized for you\n",
    "        ###    2. Initialize 'self.rnn' with nn.LSTM function and 3 variables we have initialized for you\n",
    "        ###    3. Initialize 'self.linear' with nn.Linear function and 2 variables we have initialized for you\n",
    "        ### Reference:\n",
    "        ###        https://pytorch.org/docs/stable/nn.html\n",
    "        \n",
    "        ### YOUR CODE HERE (3 lines)\n",
    "        self.embedding = nn.Embedding(self.vocab_size,self.emb_size)\n",
    "        self.rnn = nn.LSTM(self.emb_size,self.hidden_size,self.num_layer)\n",
    "        self.linear = nn.Linear(self.hidden_size,self.vocab_size)\n",
    "        ### END OF YOUR CODE\n",
    "        \n",
    "    def forward(self, batch_sents, hidden=None):\n",
    "        '''\n",
    "        params:\n",
    "            batch_sents: torch.LongTensor of shape (sequence_len, batch_size)\n",
    "        return:\n",
    "            normalized_score: torch.FloatTensor of shape (sequence_len, batch_size, vocab_size)\n",
    "        '''\n",
    "        normalized_score = None\n",
    "        hidden = hidden\n",
    "        ### TODO:\n",
    "        ###      1. Feed the batch_sents to self.embedding  \n",
    "        ###      2. Feed the embeddings to self.rnn. Remember to pass \"hidden\" into self.rnn, even if it is None. But we will \n",
    "        ###         use \"hidden\" when implementing greedy search.\n",
    "        ###      3. Apply linear transformation to the output of self.rnn\n",
    "        ###      4. Apply 'F.log_softmax' to the output of linear transformation\n",
    "        ###\n",
    "        ### YOUR CODE HERE \n",
    "        embedding = self.embedding(batch_sents)\n",
    "        out,hidden = self.rnn(embedding,hidden)\n",
    "        out = self.linear(out)\n",
    "        normalized_score = F.log_softmax(out,dim=2)\n",
    "        ### END OF YOUR CODE\n",
    "        return normalized_score, hidden"
   ]
  },
  {
   "cell_type": "code",
   "execution_count": 15,
   "metadata": {},
   "outputs": [],
   "source": [
    "def train(model, train_iter, valid_iter, vocab_size, criterion, optimizer, num_epochs):\n",
    "    for n in range(num_epochs):\n",
    "        train_loss = 0\n",
    "        target_num = 0\n",
    "        model.train()\n",
    "        for batch in train_iter:\n",
    "            \n",
    "            text, targets = batch.text.to(device), batch.target.to(device)\n",
    "            loss = None\n",
    "            \n",
    "            ### we don't consider \"hidden\" here. So according to the default setting, \"hidden\" will be None\n",
    "            ### YOU CODE HERE (~5 lines)\n",
    "            optimizer.zero_grad()\n",
    "            prediction,_ = model(text)\n",
    "            loss = criterion(prediction.view(-1, vocab_size), targets.view(-1))\n",
    "\n",
    "            # Step 5. Do the backward pass and update the gradient\n",
    "            loss.backward()\n",
    "            optimizer.step()\n",
    "\n",
    "            ### END OF YOUR CODE\n",
    "            ##########################################\n",
    "            train_loss += loss.item() * targets.size(0) * targets.size(1)\n",
    "            target_num += targets.size(0) * targets.size(1)\n",
    "\n",
    "        train_loss /= target_num\n",
    "\n",
    "        # monitor the loss of all the predictions\n",
    "        val_loss = 0\n",
    "        target_num = 0\n",
    "        model.eval()\n",
    "        for batch in valid_iter:\n",
    "            text, targets = batch.text.to(device), batch.target.to(device)\n",
    "            \n",
    "            prediction,_ = model(text)\n",
    "            loss = criterion(prediction.view(-1, vocab_size), targets.view(-1))\n",
    "            \n",
    "            val_loss += loss.item() * targets.size(0) * targets.size(1)\n",
    "            target_num += targets.size(0) * targets.size(1)\n",
    "        val_loss /= target_num\n",
    "\n",
    "        print('Epoch: {}, Training Loss: {:.4f}, Validation Loss: {:.4f}'.format(n+1, train_loss, val_loss))            "
   ]
  },
  {
   "cell_type": "code",
   "execution_count": 16,
   "metadata": {},
   "outputs": [],
   "source": [
    "import math\n",
    "def test(model, vocab_size, criterion, test_iter):\n",
    "    '''\n",
    "    params: \n",
    "        model: LSTM model\n",
    "        test_iter: test data\n",
    "    return:\n",
    "        ppl: perplexity \n",
    "    '''\n",
    "    ppl = None\n",
    "    test_loss = 0\n",
    "    target_num = 0\n",
    "    with torch.no_grad():\n",
    "        for batch in test_iter:\n",
    "            text, targets = batch.text.to(device), batch.target.to(device)\n",
    "\n",
    "            prediction,_ = model(text)\n",
    "            loss = criterion(prediction.view(-1, vocab_size), targets.view(-1))\n",
    "\n",
    "            test_loss += loss.item() * targets.size(0) * targets.size(1)\n",
    "            target_num += targets.size(0) * targets.size(1)\n",
    "\n",
    "        test_loss /= target_num\n",
    "        \n",
    "        ### Compute perplexity according to \"test_loss\"\n",
    "        ### Hint: Consider how the loss is computed.\n",
    "        ### YOUR CODE HERE(1 line)\n",
    "        print(test_loss)\n",
    "        ppl = math.exp(test_loss)\n",
    "        ### END OF YOUR CODE\n",
    "        return ppl"
   ]
  },
  {
   "cell_type": "code",
   "execution_count": 17,
   "metadata": {},
   "outputs": [],
   "source": [
    "num_epochs=10\n",
    "device = torch.device(\"cuda\" if torch.cuda.is_available() else \"cpu\")\n",
    "vocab_size = len(TEXT.vocab)\n",
    "\n",
    "config = {'vocab_size':vocab_size,\n",
    "         'emb_size':128,\n",
    "         'hidden_size':128,\n",
    "         'num_layer':1}\n",
    "\n",
    "LM = LangModel(config)\n",
    "LM = LM.to(device)\n",
    "\n",
    "criterion = nn.NLLLoss(reduction='mean')\n",
    "optimizer = optim.Adam(LM.parameters(), lr=1e-3, betas=(0.7, 0.99))"
   ]
  },
  {
   "cell_type": "code",
   "execution_count": 18,
   "metadata": {},
   "outputs": [
    {
     "name": "stdout",
     "output_type": "stream",
     "text": [
      "Epoch: 1, Training Loss: 6.0746, Validation Loss: 5.1858\n",
      "Epoch: 2, Training Loss: 5.4098, Validation Loss: 4.9556\n",
      "Epoch: 3, Training Loss: 5.1383, Validation Loss: 4.8579\n",
      "Epoch: 4, Training Loss: 4.9621, Validation Loss: 4.8059\n",
      "Epoch: 5, Training Loss: 4.8326, Validation Loss: 4.7765\n",
      "Epoch: 6, Training Loss: 4.7302, Validation Loss: 4.7591\n",
      "Epoch: 7, Training Loss: 4.6457, Validation Loss: 4.7504\n",
      "Epoch: 8, Training Loss: 4.5747, Validation Loss: 4.7473\n",
      "Epoch: 9, Training Loss: 4.5136, Validation Loss: 4.7483\n",
      "Epoch: 10, Training Loss: 4.4595, Validation Loss: 4.7536\n"
     ]
    }
   ],
   "source": [
    "train(LM, train_iter, valid_iter,vocab_size, criterion, optimizer, num_epochs)"
   ]
  },
  {
   "cell_type": "code",
   "execution_count": 19,
   "metadata": {},
   "outputs": [
    {
     "name": "stdout",
     "output_type": "stream",
     "text": [
      "4.612913521056977\n"
     ]
    },
    {
     "data": {
      "text/plain": [
       "100.77733922186536"
      ]
     },
     "execution_count": 19,
     "metadata": {},
     "output_type": "execute_result"
    }
   ],
   "source": [
    "# < 150\n",
    "test(LM, vocab_size, criterion, test_iter)"
   ]
  },
  {
   "cell_type": "markdown",
   "metadata": {},
   "source": [
    "### Question 6 [code]\n",
    "When we use trained language model to generate a sentence given a start token, we can choose either ``greedy search`` or ``beam search``. \n",
    "<img src=\"greedy.png\" alt=\"drawing\" style=\"width:500px;\"/>\n",
    "\n",
    "As shown above, ``greedy search`` algorithm will pick the token which has the highest probability and feed it to the language model as input in the next time step. The model will generate ``max_len`` number of tokens at most.\n",
    "\n",
    "- Implement ``word_greedy_search``\n",
    "- **[optional]** Implement ``word_beam_search`` "
   ]
  },
  {
   "cell_type": "code",
   "execution_count": 173,
   "metadata": {},
   "outputs": [],
   "source": [
    "def word_greedy_search(model, start_token, max_len):\n",
    "    '''\n",
    "    param:\n",
    "        model: nn.Module --- language model\n",
    "        start_token: str --- e.g. 'he'\n",
    "        max_len: int --- max number of tokens generated\n",
    "    return:\n",
    "        strings: list[str] --- list of tokens, e.g., ['he', 'was', 'a', 'member', 'of',...]\n",
    "    '''\n",
    "    model.eval()\n",
    "    ID = TEXT.vocab.stoi[start_token]\n",
    "    strings = [start_token]\n",
    "    hidden = None\n",
    "    \n",
    "    ### You may find TEXT.vocab.itos useful.\n",
    "    ### YOUR CODE HERE\n",
    "    #print(model.eval())\n",
    "    #print(ID)\n",
    "    #print(torch.tensor([ID]).long().unsqueeze(1).to(device))\n",
    "    norm,hidden = model(torch.tensor([ID]).unsqueeze(1).to(device))\n",
    "    #print(norm,hidden)\n",
    "    ID =  torch.argmax(norm)\n",
    "    end = TEXT.vocab.stoi[\"<eos>\"]\n",
    "    #print(end)\n",
    "    #print(ID.item())\n",
    "    nextword = TEXT.vocab.itos[ID.item()]\n",
    "    strings.append(nextword)\n",
    "   # print(nextword)\n",
    "    i = 1\n",
    "    while ID.item() != end and i<max_len:\n",
    "        norm,hidden = model(torch.tensor([ID]).unsqueeze(1).to(device),hidden)\n",
    "        ID = torch.argmax(norm,dim=-1)\n",
    "        nextword = TEXT.vocab.itos[ID.item()]\n",
    "    #    print(nextword)\n",
    "        strings.append(nextword)\n",
    "    #print(TEXT.vocab.stoi)\n",
    "    ### END OF YOUR CODE \n",
    "    return strings"
   ]
  },
  {
   "cell_type": "code",
   "execution_count": null,
   "metadata": {},
   "outputs": [],
   "source": []
  },
  {
   "cell_type": "code",
   "execution_count": 174,
   "metadata": {},
   "outputs": [],
   "source": [
    "# BeamNode = namedtuple('BeamNode', ['prev_node', 'prev_hidden', 'wordID', 'score', 'length'])\n",
    "# LMNode = namedtuple('LMNode', ['sent', 'score'])\n",
    "\n",
    "def word_beam_search(model, start_token, max_len, beam_size):\n",
    "    print(TEXT.vocab.itos)\n",
    "    pass"
   ]
  },
  {
   "cell_type": "code",
   "execution_count": 175,
   "metadata": {},
   "outputs": [
    {
     "data": {
      "text/plain": [
       "['he',\n",
       " 'was',\n",
       " 'the',\n",
       " 'first',\n",
       " 'time',\n",
       " 'in',\n",
       " 'the',\n",
       " 'united',\n",
       " 'states',\n",
       " ',',\n",
       " 'and',\n",
       " 'the',\n",
       " 'film',\n",
       " \"'s\",\n",
       " '<',\n",
       " 'unk',\n",
       " '>',\n",
       " 'and',\n",
       " 'the',\n",
       " '<',\n",
       " 'unk',\n",
       " '>',\n",
       " 'of',\n",
       " 'the',\n",
       " '<',\n",
       " 'unk',\n",
       " '>',\n",
       " '<',\n",
       " 'unk',\n",
       " '>',\n",
       " '<',\n",
       " 'unk',\n",
       " '>',\n",
       " '<',\n",
       " 'unk',\n",
       " '>',\n",
       " '.',\n",
       " '<eos>']"
      ]
     },
     "execution_count": 175,
     "metadata": {},
     "output_type": "execute_result"
    }
   ],
   "source": [
    "word_greedy_search(LM, 'he', 64)"
   ]
  },
  {
   "cell_type": "code",
   "execution_count": 162,
   "metadata": {},
   "outputs": [
    {
     "name": "stdout",
     "output_type": "stream",
     "text": [
      "['<unk>', '<pad>', '<START>', '<STOP>', 'the', ',', '.', 'of', '<', '>', 'unk', 'and', '@', 'in', 'to', '<eos>', 'a', '=', '``', 'was', '-', 'on', 'as', 'that', \"'s\", 'for', 'with', 'by', ')', '(', 'is', 'it', 'from', 'at', 'his', 'he', 'were', 'an', 'had', 'which', 'be', 'are', 'this', 'their', 'first', 'but', ';', 'not', '–', 'one', 'they', 'its', 'also', ':', 'after', 'her', 'or', 'two', 'have', 'has', 'been', 'who', \"'\", 'she', 'new', 'other', 'during', 'when', 'time', 'all', 'into', 'more', 'would', '1', 'over', 'while', 'i', 'game', 'only', 'most', '2', 'three', 'later', 'up', 'about', 'may', 'between', 'him', 'song', 'there', 'some', 'than', 'out', 'no', 'season', 'year', 'made', 'city', '3', 'such', 'before', 'where', 'used', 'series', 'them', 'second', 'can', 'world', 'being', 'years', 'both', '000', 'many', 'these', 'film', 'however', 'album', 'south', 'war', 'through', '5', 'north', 'then', 'part', 'early', 'several', '4', 'number', 'state', 'including', 'against', 'well', '/', 'known', 'became', '—', 'four', 'united', 'under', 'although', 'century', 'day', 'following', 'music', 'began', 'because', 'so', 'work', 'like', 'end', 'called', 'episode', 'until', 'found', 'said', 'area', 'could', 'states', 'american', 'people', '6', 'since', 'british', 'each', 'released', 'same', 'team', 'church', 'around', 'm', '10', 'long', 'did', 'along', 'million', 'five', 'life', 'national', '0', 'back', 'john', 'high', 'company', 'another', 'best', 'use', '%', 'you', 'if', 'final', 'september', 'august', 'river', 'large', 'what', 'west', '8', 'km', 'off', 'down', '7', 'due', 'games', 'june', 'line', 'history', 'will', 'name', 'now', 'any', 'storm', 'home', 'received', '9', 'described', 'government', 'six', 'species', 'within', 'much', 'group', 'family', 'october', 'played', '$', 'east', 'league', 'general', 'set', 'took', '[', ']', 'major', 'road', 'july', 'wrote', 'late', 'single', 'won', 'system', 'play', 'video', 'times', 'us', 'according', 'record', '...', 'third', 'based', 'april', 'man', 'included', 'just', 'march', 'book', 'those', 'january', 'show', 'named', 'even', 'very', 'england', 'main', 'white', 'left', 'york', 'men', 'school', 'small', 'though', 'division', 'club', 'way', 'old', 'original', 'near', 'last', '12', 'november', 'water', 'death', 'place', '20', '15', 'tropical', 'december', 'built', 'own', 'character', 'we', 'songs', 'top', 'de', 'form', '30', 'player', 'do', 'king', 'black', 'public', 'german', 'island', 'next', '2009', 'make', '2008', 'still', '2010', 'role', 'led', 'again', \"'t\", 'moved', 'career', 'ii', 'university', 'without', 'love', 'often', 'among', 'recorded', 'further', 'hurricane', 'military', 'period', 'star', 'local', 'considered', 'army', 'production', 'release', 'side', '2007', 'great', 'house', 'came', 'published', 'written', '100', 'continued', 'power', 'town', 'english', 'story', 'days', 'forces', 'run', 'held', 'route', 'french', 'support', '14', '16', '11', 'force', 'half', 'few', 'take', 'international', 'having', '25', 'county', 'land', 'throughout', '2011', 'point', '18', 'become', '2006', 'children', 'order', 'light', 'version', 'title', 'former', 'lost', 'track', 'different', '&', 'development', 'field', 'ship', 'similar', 'despite', 'live', 'common', 'members', 'park', 'february', '13', 'gave', 'produced', 'short', 'southern', '!', 'dylan', 'little', 'site', '2012', 'once', 'television', 'writing', 'given', 'central', 'control', 'total', 'band', 'country', 'service', 'northern', 'include', 'young', 'fire', 'position', 'battalion', 'making', 'never', 'away', 'seven', 'tour', 'age', 'air', 'lead', '2013', 'how', 'open', 'reported', 'seen', 'battle', 'highway', 'eastern', 'good', 'western', 'stated', 'attack', 'red', 'god', 'match', 'across', 'body', 'instead', 'returned', 'ships', 'established', 'using', 'ft', 'population', 'america', 'construction', 'modern', 'week', 'noted', 'less', 'my', 'royal', 'head', 'reached', 'building', 'developed', 'eight', 'rock', 'ireland', 'players', 'brigade', 'president', 'result', 'thought', 'performance', 'right', 'london', 'miles', 'himself', 'father', 'per', 'important', 'style', 'performed', 'felt', 'australia', 'various', '17', 'full', 'areas', 'feet', 'previous', 'events', 'win', 'low', 'died', 'kingdom', 'guitar', 'football', 'others', 'art', 'mm', 'originally', 'project', 'too', 'went', 'human', '23', 'level', 'upon', 'range', 'works', 'formed', 'started', 'characters', 'james', 'political', 'women', 'should', 'cup', 'port', 'caused', '21', 'eventually', 'located', '19', '50', '28', '24', 'stars', 'critics', 'ground', 'sent', 'able', 'created', '2004', 'me', '2005', 'class', 'chart', 'night', 'u.s.', 'born', 'region', 'street', 'center', 'court', 'design', 'together', 'director', 'popular', 'present', 'strong', 'award', 'every', '’', 'return', 'son', 'hero', 'remained', 'see', 'completed', 'guns', 'novel', 'scored', 'announced', 'australian', 'grand', '22', 'almost', 'fourth', 's', 'behind', 'damage', 'least', '26', 're', 'brown', 'party', 'ten', 'added', 'heavy', 'followed', 'months', 'appeared', 'wife', 'killed', 'addition', 'does', 'playing', 'success', 'awards', 'list', 'features', 'aircraft', '2003', 'coast', 'sea', 'taken', '2015', 'david', 'leading', 'championship', 'action', 'france', 'either', 'europe', 'front', 'recording', 'served', 'towards', 'campaign', 'h', 'operations', 'gold', 'mother', 'put', 'decided', 'elements', 'b', 'close', 'records', 'believed', 'fleet', 'generally', 'magazine', 'carey', 'ever', 'female', 'post', 'poem', 'sold', 'soon', 'example', 'infantry', 'points', 'significant', 'fort', 'goal', 'move', 'weeks', 'rather', 'study', 'european', 'federer', 'outside', 'opened', 'robert', 'case', 'directed', 'brought', 'help', 'law', 'non', 'finished', '27', 'earlier', 'wales', 'william', 'c', 'featured', 'go', 'get', 'victory', 'manager', 'successful', 'act', 'gun', 'stage', 'association', 'member', 'provided', 'mi', 'mid', 'opening', 'start', 'village', 'working', 'council', 'wanted', 'appearance', 'jordan', 'particularly', 'roman', 'troops', '2014', '40', 'atlantic', 'depression', 'initially', 'tech', '29', 'evidence', 'yard', 'far', 'find', 'largest', 'office', 'blue', 'dam', 'george', 'review', 'attempt', 'possible', 'saw', 'special', 'type', 'month', 'summer', '19th', 'above', 'union', 'yards', 'florida', 'rest', 'allowed', 'event', 'race', 'winds', 'critical', 'saying', 'creek', 'cross', 'o', 'hours', 'whom', 'nine', '2001', 'missouri', 'plan', 'police', 'worked', 'community', 'designed', 'reception', 'society', '500', 'previously', 'free', 'forced', 'middle', 'process', 'era', 'operation', 'radio', 'real', 'remains', '200', 'increased', 'official', 'praised', 'research', 'hall', 'lower', 'parliament', 'station', 'come', 'michael', 'relationship', 'command', 'commander', 'hill', 'regiment', 'studio', 'units', 'base', 'taking', '£', 'parts', 'replaced', 'writer', 'ball', 'industry', 'navy', 'social', 'food', 'bay', 'college', 'highest', 'media', 'reviews', 'beginning', 'claimed', 'don', '°', 'canada', 'estimated', 'mph', 'museum', 'section', 'co', 'goals', 'stone', 'average', 'commercial', 'japanese', 'joined', 'religious', 'involved', 'oldham', 'placed', 'stories', 'training', 'introduced', 'met', 'shot', 'signed', 'suggested', 'lines', 'sometimes', '31', 'background', 'business', 'face', 'olivier', 'paul', 'today', 'complete', 'going', 'itself', 'scene', 'henry', 'mexico', 'structure', 'additional', 'available', 'give', 'thus', 'cast', 'date', 'horse', 'language', 'loss', 'india', 'nearly', 'sound', 'term', 'whose', 'fifth', 'past', 'thomas', 'approximately', 'indian', 'irish', 'must', 'program', 'a.', 'already', 'appointed', 'capital', 'entire', 'friends', 'britain', 'damaged', 'native', 'prior', 'shows', 'told', 'forest', 'issue', 'mark', 'names', 'probably', 'turned', 'male', 'sun', 'winning', 'change', 'our', 'students', 't', '?', 'earth', 'length', 'passed', 'size', 'child', 'civil', 'especially', 'christian', 'enough', 'notes', 'woman', 'chinese', 'failed', 'forward', 'mixed', 'overall', 'running', 'better', 'captain', 'ny', '2002', 'limited', 'st.', 'future', 'iii', 'minor', 'network', 'arrived', 'changes', 'includes', 'might', 'moving', 'ordered', 'pacific', 'regular', 'spent', 'wheeler', 'canadian', 'cathedral', 'education', 'larger', 'remaining', 'usually', 'birds', 'department', 'hand', 'hit', 'lake', 'required', 'san', 'uk', 'decision', 'latter', 'africa', 'plot', 'response', '2000', 'musical', 'round', 'space', 'voice', 'wide', 'appear', 'crew', 'debut', 'groups', 'mounted', 'related', 'centre', 'jin', 'rachel', 'territory', 'view', '00', 'billboard', 'ended', 'feature', 'films', 'nature', 'positive', 'saint', 'science', 'culture', 'finally', 'flight', 'score', 'squadron', 'supported', 'becoming', 'money', 'pressure', 'always', 'books', 'charles', 'provide', 'smaller', '1995', 'anti', 'discovered', 'got', 'private', 'shown', 'board', 'minutes', 'particular', 'shortly', 'defeated', 'difficult', 'experience', 'mass', 'nations', 'person', 'peter', 'temple', 'trade', 'big', 'staff', 'subsequently', 'surface', 'effects', 'japan', 'lack', 'living', 'press', 'upper', 'zealand', 'professional', 'st', 'word', 'fact', 'greater', 'material', 'problems', 'room', 'self', 'teams', 'bridge', 'collection', 'cut', 'gods', 'idea', 'intended', 'interest', 'key', 'largely', 'numbers', 'cover', 'haifa', 'metres', 'mostly', 'primary', 'themselves', 'tv', '2016', '60', 'captured', 'cm', 'd', 'likely', 'machine', 'mountain', 'referred', 'news', 'scientology', 'traffic', 'xenon', 'yet', 'contract', 'entered', 'location', 'tower', 'whole', 'airport', 'bill', 'makes', 'square', 'constructed', 'contains', 'greatest', 'headquarters', 'listed', 'lyrics', 'majority', 'morning', 'ranked', '1999', 'leaving', 'starting', 'wall', 'information', 'natural', 'report', 'studies', 'whether', 'companies', 'competition', 'election', 'officers', 'poor', '45', 'create', 'deal', 'fighting', 'galveston', 'certain', 'changed', 'fans', 'unit', 'dead', 'episodes', 'forms', 'jack', 'jewish', 'pass', 'proposed', 'theme', 'agreed', 'influence', 'know', 'lived', 'personal', 'plans', 'soldiers', 'turn', '2nd', 'california', 'increase', 'launched', 'movement', 'runs', 'singles', 'compared', 'concert', 'current', 'direct', 'friend', 'independent', 'pre', 'quarter', 'quickly', 'lady', 'minute', 'occurred', 'queen', 'richard', 'trees', 'valley', 'villa', 'assigned', 'health', 'leave', 'sixth', 'things', 'true', 'appears', 'artillery', 'condoms', 'defeat', 'destroyed', 'hot', 'inside', 'ocean', 'services', 'traditional', 'chicago', 'contemporary', 'double', 'longer', 'schools', 'takes', 'tons', 'artist', 'asked', 'cause', 'alice', 'awarded', 'carried', 'cyclone', 'proteins', 'source', '1998', 'buildings', 'conducted', 'daughter', 'ending', 'interview', 'latin', 'marriage', 'something', 'writers', 'ancient', 'annual', 'associated', 'burns', 'district', 'status', 'empire', 'ran', 'u', '1993', 'albums', 'alkan', 'commented', 'conference', 'married', 'polish', 'unable', '+', 'brother', 'corps', 'image', 'liverpool', 'nixon', 'numerous', 'republic', 'scenes', '1st', '400', 'deep', 'producer', 'standard', 'done', 'inspired', 'management', 'meaning', 'minister', 'positions', 'texas', 'attacks', 'somerset', 'terms', 'tracks', 'defense', 'earned', 'mosley', 'piano', '1996', '20th', 'begins', 'bird', 'broadcast', 'busch', 'daily', 'dark', 'giving', 'initial', 'issued', 'la', 'peak', 'planned', 'stay', 'variety', '80', 'actor', 'bowl', 'committee', 'directly', 'green', 'historical', 'immediately', 'nuclear', 'performances', 'via', 'your', 'castle', 'christmas', 'figure', 'individual', 'ross', 'spanish', 'taylor', 'al', 'coach', 'fowler', 'fox', 'helped', 'organization', 'wing', 'african', 'blood', 'effect', 'r', 'suffered', '38', 'chief', 'meant', 'nearby', 'safe', 'uses', '75', 'author', 'closed', 'cultural', 'presented', 'really', 'think', '35', 'girl', 'presence', 'raised', 'twenty', 'vocals', 'attempts', 'carolina', 'continue', 'figures', 'reach', 'rule', 'virginia', 'below', 'cell', 'covered', 'federal', 'super', 'assembly', 'call', 'catholic', 'composed', 'marked', 'officer', 'selected', '1997', 'appearances', 'beyoncé', 'bodies', 'course', 'extended', 'higher', '300', 'advance', 'countries', 'el', 'fell', 'germany', 'hard', 'here', 'miami', 'needed', 'offensive', 'camp', 'fiction', 'places', 'situation', 'speed', 'arts', 'attacked', 'comedy', 'festival', 'highly', 'hour', 'los', 'pop', 'recent', 'cadmium', 'edge', 'pennsylvania', 'protein', 'singer', 'specific', 'want', 'academy', 'allowing', 'distance', 'edition', 'energy', 'movie', 'paris', 'removed', 'tradition', 'active', 'baby', 'hold', 'hospital', 'levels', 'metal', 'offered', 'peaked', 'prince', 'scotland', 'subject', 'theatre', 'widely', '1991', 'attempted', 'chris', 'combined', 'copies', 'fall', 'governor', 'means', 'meeting', 'percent', 'powerful', 'rate', 'typically', 'allow', 'china', 'hands', 'iron', 'respectively', 'responsible', 'scoring', 'themes', 'activities', 'anderson', 'boy', 'describes', 'genus', 'husband', 'islands', 'need', 'sister', '1992', 'birth', 'combat', 'complex', 'formation', 'heavily', 'houses', 'le', 'mile', 'observed', 'sets', '1994', 'car', 'condom', 'looking', 'parents', 'reduced', 'rights', 'armed', 'audience', 'concluded', 'defence', 'jackson', 'mary', 'matches', 'minnesota', 'quality', 'resulted', 'stop', 'wind', 'activity', 'beach', 'calling', 'clear', 'completely', 'conditions', 'cost', 'kakapo', 'reports', 'residents', 'strength', '3rd', 'efforts', 'featuring', 'managed', 'revealed', 'rosebery', 'stadium', 'stating', 'townsend', 'transport', 'wave', 'account', 'artists', 'cricket', 'declared', 'description', 'draw', 'finals', 'look', 'refused', 'relief', 'separate', '1970', 'finkelstein', 'independence', 'leg', 'meyerbeer', 'therefore', 'van', 'walpole', 'approach', 'casualties', 'coming', 'emperor', 'impact', 'naval', 'sales', 'seasons', 'security', 'shiva', 'tessa', 'titles', '70', 'actions', 'expected', 'foreign', 'issues', 'nicole', 'ottoman', 'sports', 'yue', 'attention', 'becomes', 'follow', 'mainly', 'mount', 'plays', 'practice', 'words', 'braathens', 'italian', 'pair', 'scale', 'soundtrack', 'tournament', 'actually', 'eye', 'letters', 'lord', 'primarily', 'ultimately', '1990', 'accepted', 'achieved', 'critic', 'hotel', 'johnson', 'master', 'roles', 'spring', 'struck', 'write', 'authority', 'colony', 'concept', 'entertainment', 'fight', 'foundation', 'fully', 'job', 'paper', 'portuguese', 'silver', 'sir', 'weather', '36', 'alone', 'alongside', 'amount', 'antimony', 'authorities', 'channel', 'flooding', 'legal', 'northeast', 'rainfall', 'sense', 'sequence', 'serious', 'smith', 'soviet', 'workers', '1986', 'battery', 'branch', 'broken', 'elected', 'link', 'newspaper', 'owned', 'remain', 'slightly', 'affected', 'data', 'defensive', 'expressed', 'foot', 'inches', 'males', 'opera', 'ridge', 'spain', 'standing', 'twice', 'access', 'disease', 'except', 'fey', 'flying', 'frank', 'mission', 'officials', 'say', 'showed', 'vietnam', 'ability', 'commission', 'fish', 'fruit', 'historic', 'northwest', 'tintin', 'toward', 'varanasi', 'welsh', 'zhou', '33', '90', 'meet', 'nesbitt', 'physical', 'titled', 'acting', 'angeles', 'composition', 'computer', 'continues', 'domestic', 'earliest', 'eva', 'financial', 'individuals', 'israel', 'lives', 'mentioned', 'odaenathus', 'prevent', 'produce', 'says', 'sites', 'visit', '39', 'adopted', 'bank', 'cities', 'dumont', 'engineer', 'founded', 'influenced', 'market', 'olympic', 'perfect', 'read', 'reign', 'resulting', 's.', 'sarnia', 'singing', '150', 'advantage', 'analysis', 'basis', 'dedicated', 'digital', 'e', 'executive', 'illinois', 'increasing', 'keep', 'officially', 'rear', 'represented', 'script', 'sources', 'tree', 'winter', 'begin', 'direction', 'doing', 'heart', 'lot', 'manchester', 'reason', 'studios', 'surrounding', 'viewers', 'aid', 'faced', 'maximum', 'medical', 'peace', 'relatively', 'secret', 'sides', 'washington', '18th', '1988', 'attended', 'build', 'capture', 'chapel', 'females', 'freeway', 'journey', 'losing', 'older', 'organized', 'potential', 'test', 'transferred', 'tried', 'types', 'alabama', 'beyond', 'drive', 'effort', 'meanwhile', 'notable', 'oil', 'omaha', 'piece', 'proved', 'sr', 'student', 'thick', 'unlike', '47', 'animal', 'archaeological', 'believe', 'boat', 'break', 'charge', 'literature', '1960s', 'baseball', 'ceres', 'charts', 'conflict', 'designated', 'divided', 'fly', 'focus', 'follows', 'golden', 'helms', 'institute', 'intensity', 'kind', 'model', 'mogadishu', 'nation', 'perón', 'possibly', 'results', 'yellow', '1940', '1964', '1980s', 'arms', 'bishop', 'border', 'core', 'dance', 'determined', 'edward', 'historian', 'images', 'innis', 'paid', 'planet', 'prime', 'returning', 'shape', 'simply', 'structures', 'supporting', 'treaty', 'wilhelm', 'am', 'box', 'creation', 'economic', 'entrance', 'equipment', 'growing', 'joseph', 'kept', 'onto', 'portion', 'rose', 'rugby', 'technology', 'underground', 'argued', 'filming', 'importance', 'k', 'kg', 'knowledge', 'mccall', 'promotion', 'railway', 'rare', 'secretary', 'weekly', 'baltimore', 'bob', 'buried', 'c.', 'currently', 'grew', 'hamels', 'landing', 'lane', 'note', 'playstation', 'projects', 'publication', 'rihanna', 'sexual', 'suggests', 'actress', 'advanced', 'breeding', 'campus', 'causing', 'couple', 'criticized', 'escape', 'gained', 'hair', 'letter', 'lock', 'orders', 'pay', 'reference', 'volume', 'website', '5th', 'claims', 'containing', 'crown', 'debuted', 'djedkare', 'draft', 'f', 'guest', 'homes', 'horses', 'jupiter', 'property', 'reaching', 'reaction', 'rise', 'travel', '1947', '32', 'administration', 'andrew', 'chosen', 'contrast', 'enemy', 'leader', 'personnel', 'religion', 'theory', 'torres', \"'re\", 'abandoned', 'ahead', 'care', 'cases', 'consecutive', 'granted', 'inch', 'newly', 'prominent', 'rejected', 'seems', 'unknown', 'x', '1941', 'applewhite', 'assault', 'cells', 'color', 'commonly', 'content', 'crazy', 'deities', 'increasingly', 'l', 'multiple', 'pine', 'scottish', 'secondary', 'settlement', 'visited', '1987', 'broke', 'growth', 'haven', 'lands', 'moment', 'passing', 'regions', 'risk', 'seconds', 'systems', 'touchdown', 'wounded', '1970s', 'beat', 'egyptian', 'fantasy', 'feel', 'identified', 'killing', 'nominated', 'promoted', 'revolution', 'screen', 'senior', 'solo', 'temperature', 'thing', 'versions', '1972', '1984', '1989', '9th', 'agreement', 'aired', 'anonymous', 'barrow', 'bbc', 'croatia', 'dvd', 'fame', 'famous', 'greek', 'opposed', 'roads', 'save', 'selling', 'stations', 'unique', '1985', '4th', 'animals', 'bass', 'choice', 'fired', 'hope', 'mike', 'mouth', 'nothing', 'operated', 'outer', 'share', '1960', 'adult', 'boats', 'cardiff', 'confirmed', 'cougar', 'dr.', 'drama', 'explained', 'filmed', 'hms', 'ideas', 'poetry', 'serve', 'sport', 'subsequent', 'visual', 'writes', \"'m\", '1944', 'consisted', 'controlled', 'families', 'gives', 'herself', 'invasion', 'michigan', 'murder', 'ode', 'offer', 'perform', 'philadelphia', 'rapidly', 'regarded', 'vocal', 'weapons', '1990s', 'actors', 'aspects', 'avoid', 'battalions', 'bond', 'depth', 'dropped', 'failure', 'flow', 'keats', 'l.', 'maintained', 'pieces', 'premier', 'seventh', 'slam', 'trial', 'wood', 'chains', 'extensive', 'injury', 'landfall', 'occur', 'phase', 'pitched', 'province', 'ray', 'urban', 'v', '600', 'ai', 'andy', 'bring', 'claim', 'criticism', 'gulf', 'humans', 'italy', 'km2', 'medieval', 'retired', 'search', 'sign', 'steve', 'sustained', 'tom', 'transit', 'truth', 'value', 'abu', 'americans', 'bid', 'connected', 'creating', 'facilities', 'finding', 'hundred', 'interchange', 'passes', 'recognized', 'semi', 'significantly', 'try', 'weight', 'why', 'chose', 'intelligence', 'matter', 'n', 'necessary', 'perhaps', 'popularity', 'producers', 'protection', 'scheduled', 'sought', 'spread', 'stones', 'walls', '1981', 'cited', 'comic', 'generation', 'height', 'laid', 'losses', 'nucleus', 'powers', 'recently', 'represent', 'stand', 'starts', 'treatment', 'vietnamese', 'wild', 'bad', 'chapter', 'dated', 'employed', 'fought', 'gradually', 'nathan', 'regarding', 'request', 'sex', 'southeast', 'thunderbirds', '1939', 'comes', 'conservation', 'contained', 'distribution', 'ends', 'finds', 'frequently', 'guard', 'policy', 'prepared', 'rating', 'safety', 'transfer', '17th', '1942', 'allows', 'athletes', 'bc', 'champion', 'cold', 'collected', 'contributed', 'degree', 'gordon', 'habitat', 'host', 'jim', 'memorial', 'negative', 'oxford', 'peninsula', 'serving', 'severe', 'vice', 'worldwide', '1918', '1950s', '34', 'championships', 'commissioned', 'concrete', 'dynasty', 'economy', 'effective', 'entirely', 'gameplay', 'improved', 'kill', 'lieutenant', 'lisa', 'nba', 'neither', 'pilot', 'problem', 'shaped', 'survey', 'turner', '1968', '1969', '51', 'arab', 'boise', 'boston', 'budget', 'contain', 'drawn', 'dutch', 'europium', 'folk', 'gain', 'h.', 'kilometres', 'let', 'lewis', 'mario', 'motion', 'path', 'reasons', 'sentence', 'setting', 'shell', 'simple', 'slowly', 'text', 'threat', 'williams', \"'ve\", '1975', 'bottom', 'canal', 'dates', 'decade', 'develop', 'expanded', 'extra', 'gully', 'planning', 'programs', 'roughly', 'russian', 'stages', 'supply', '12th', '1965', '1974', '37', '44', 'allied', 'appeal', 'centuries', 'display', 'dota', 'evening', 'evita', 'girls', 'glass', 'items', 'join', 'massive', 'occasionally', 'occupied', 'pope', 'rich', 'southwest', 'transportation', 'youth', '42', 'additionally', 'churches', 'deaths', 'decades', 'dollar', 'editor', 'experienced', 'floor', 'jane', 'khánh', 'm.', 'miss', 'nor', 'plant', 'quite', 'rain', 'sector', 'speaking', 'straight', 'successfully', 'train', 'violence', 'waters', '700', 'avenue', 'bar', 'didn', 'die', 'dress', 'engaged', 'ice', 'jamal', 'poet', 'purchased', 'tell', 'wedding', '1946', '48', 'attorney', 'authors', 'begun', 'brian', 'briefly', 'category', 'declined', 'details', 'drew', 'learned', 'martin', 'permanent', 'politics', 'remix', 'tail', 'tennyson', 'torpedo', '1950', '800', 'adding', 'applied', 'basin', 'congress', 'des', 'eyes', 'fur', 'guide', 'interior', 'leaders', 'literary', 'liu', 'marine', 'moves', 'nest', 'normal', 'performing', 'settlers', 'simone', 'slow', 'thirty', 'zone', '#', '1919', '1952', '1966', '49', 'accompanied', 'acres', 'arrival', 'bell', 'cap', 'condition', 'discovery', 'earthquake', 'enjoyed', 'fields', 'happy', 'hired', 'holy', 'jump', 'justice', 'longest', 'paintings', 'participated', 'possibility', 'responded', 'routes', 'scholars', '1936', '53', 'ali', 'brothers', 'characteristics', 'contact', 'developing', 'egypt', 'engineering', 'heads', 'heard', 'journal', 'macleod', 'mind', 'oldest', 'painting', 'purpose', 'skin', 'snow', 'technical', 'ulysses', '1930', '1973', '64', 'anthony', 'apart', 'biography', 'charter', 'chorus', 'coastal', 'combination', 'consists', 'crowd', 'dominated', 'enter', 'existence', 'fellow', 'funding', 'goes', 'imperial', 'joint', 'lasted', 'max', 'populations', 'reserve', 'reviewers', 'thousands', 'towns', 'turkish', 'typical', 'widespread', 'younger', '1967', 'anything', 'calls', 'cardinal', 'caught', 'chance', 'closely', 'clubs', 'competitions', 'crime', 'dog', 'engine', 'everything', 'existing', 'hip', 'juan', 'kang', 'missing', 'monument', 'mountains', 'reality', 'stopped', 'turning', 'weakened', '1914', '1930s', '65', 'assistant', 'billion', 'capable', 'ceremony', 'classic', 'creator', 'decline', 'derived', 'element', 'exist', 'formula', 'greatly', 'holding', 'legacy', 'moon', 'noisy', 'opportunity', 'provides', 'rules', 'serves', 'similarly', 'tells', 'trip', 'wins', 'ad', 'aml', 'bought', 'caribbean', 'chelsea', 'dissipated', 'douglas', 'filled', 'gas', 'grade', 'headed', 'hornung', 'industrial', 'innings', 'invited', 'jazz', 'locations', 'md', 'palace', 'priest', 'rail', 'reading', 'receiving', 'restaurant', 'ring', 'rolling', 'seat', 'storyline', 'task', 'technique', 'vehicles', '1945', '1971', '6th', 'asia', 'classified', 'colonel', 'constantine', 'describing', 'destiny', 'establish', 'establishment', 'evil', 'falls', 'g.', 'louis', 'maeda', 'mean', 'novels', 'perry', 'question', 'ratings', 'receive', 'rural', 'survived', 'sweet', 'viewed', 'ways', '1982', 'acquired', 'boys', 'champions', 'converted', 'dry', 'eagle', 'entry', 'everglades', 'faith', 'flights', 'ga', 'georgian', 'grant', 'library', 'mortal', 'mtv', 'romani', 'scott', 'shared', 'simon', 'teaching', 'trying', 'von', 'whereas', '1913', '1916', '1956', '1976', '1980', 'arranged', 'atmosphere', 'brief', 'carry', 'chemical', 'clean', 'depicted', 'eighth', 'electronic', 'engineers', 'entering', 'fine', 'finish', 'focused', 'haiti', 'label', 'mushroom', 'ones', 'opposition', 'oslo', 'poems', 'regional', 'rescue', 'rio', 'rivers', 'spacing', 'store', 'succeeded', 'watched', '1943', '8th', 'agent', 'article', 'assistance', 'attached', 'basketball', 'communist', 'credited', 'credits', 'defined', 'hibari', 'iguanodon', 'jones', 'knew', 'methods', 'penalty', 'prize', 'providing', 'siege', 'sky', 'venus', '10th', '1963', '41', '43', 'adapted', 'civilian', 'colonies', 'controversy', 'dating', 'delivered', 'dublin', 'examples', 'fear', 'hits', 'ign', 'incident', 'jain', 'jersey', 'kent', 'method', 'morrison', 'professor', 'rangers', 'rarely', 'renamed', 'rome', 'separated', 'supplies', 'tied', 'accounts', 'acid', 'alexander', 'archaeology', 'athletic', 'australians', 'bradford', 'camps', 'certified', 'classes', 'colonial', 'columbia', 'commanded', 'consisting', 'fountain', 'fuel', 'hollywood', 'indicate', 'opinion', 'pattern', 'progress', 'protect', 'protected', 'regime', 'remainder', 'strike', 'sunday', 'usa', 'utc', 'vision', '16th', '1953', '1978', '55', 'chairman', 'croatian', 'divine', 'drop', 'facing', 'feelings', 'fun', 'grey', 'hearts', 'inner', 'introduction', 'maryland', 'memory', 'montana', 'narrow', 'occurs', 'online', 'references', 'specifically', 'suggest', 'tests', 'threatened', 'trujillo', 'turns', 'window', '11th', '56', 'acts', 'agricultural', 'alan', 'alternative', 'appearing', 'arthur', 'b.', 'cd', 'charlie', 'communities', 'denied', 'desire', 'divisions', 'exit', 'favorite', 'feeling', 'finishing', 'function', 'gray', 'leads', 'leaves', 'masters', 'missions', 'mississippi', 'portrayed', 'producing', 'protest', 'recognition', 'reputation', 'roxas', 'shooting', 'soil', 'spirit', 'squad', 'statement', 'studied', 'successor', 'views', 'walter', 'wooden', 'worship', '−', '1915', '250', '7th', '96', 'activision', 'arsenal', 'basic', 'daniel', 'dismissed', 'duke', 'fictional', 'gallery', 'getting', 'hindu', 'homer', 'honor', 'howard', 'kings', 'lords', 'maintain', 'message', 'offense', 'outstanding', 'picture', 'principal', 'reviewer', 'rifles', 'samuel', 'secure', 'seeing', 'supreme', 'worst', 'academic', 'attributed', 'calvert', 'capacity', 'changing', 'charges', 'chess', 'continuing', 'discussed', 'dollars', 'drawing', 'enterprise', 'holds', 'interested', 'involvement', 'isabella', 'knots', 'measure', 'mr.', 'noting', 'opponents', 'replace', 'specimens', 'speech', 'steel', 'target', 'tomb', 'watch', '1917', '1948', 'adventure', 'bart', 'bit', 'challenge', 'count', 'counter', 'danny', 'distinct', 'dna', 'exchange', 'expedition', 'fa', 'flank', 'flood', 'global', 'inland', 'magic', 'mix', 'nbc', 'offers', 'origin', 'passage', 'railroad', 'ruled', 'sarajevo', 'session', 'solid', 'standards', 'theater', 'towers', 'twelve', 'wars', '120', '1951', '1979', '94', 'coal', 'considerable', 'difficulty', 'emotional', 'faces', 'forests', 'frederick', 'gate', 'guardian', 'labour', 'miner', 'ninth', 'none', 'plants', 'prey', 'rocky', 'romantic', 'signing', 'someone', 'stephen', 'strand', 'victoria', 'w.', 'yankovic', '1954', '1961', '54', '61', '95', 'aston', 'breaking', 'brigades', 'candidate', 'clarkson', 'crossing', 'firm', 'heritage', 'hills', 'historians', 'j.', 'joe', 'landed', 'mine', 'mode', 'nomination', 'observations', 'pitch', 'races', 'raid', 'relationships', 'replacement', 'somali', 'taught', \"'brien\", '1937', 'adults', 'agency', 'believes', 'bono', 'bringing', 'connection', 'destroyers', 'documentary', 'estate', 'francisco', 'fungus', 'intersection', 'jifna', 'kitsune', 'lee', 'marines', 'muslim', 'nightingale', 'picked', 'recommended', 'rooms', 'santa', 'secured', 'simpsons', 'skye', 'soul', 'teacher', 'wilde', '1955', '52', 'adams', 'alien', 'argentina', 'classical', 'concerns', 'door', 'extremely', 'fashion', 'fit', 'genre', 'gone', 'grow', 'hamilton', 'languages', 'launch', 'leadership', 'learning', 'legs', 'missed', 'multi', 'nc', 'nevertheless', 'olympics', 'op', 'organizations', 'partial', 'respect', 'sections', 'shore', 'split', 'streets', 'surviving', 'territories', 'throw', 'windows', '×', '1958', 'approached', 'arrangement', 'banai', 'commonwealth', 'compounds', 'detailed', 'diameter', 'distributed', 'electric', 'emerged', 'encouraged', 'existed', 'extreme', 'manner', 'marks', 'parties', 'ruler', 'showing', 'sons', 'surrounded', 'talk', 'teeth', 'tribes', 'tries', '1949', '1977', '3d', '46', 'admiral', 'apparent', 'armor', 'attempting', 'carter', 'climate', 'constitution', 'counties', 'courts', 'crossed', 'd.', 'dream', 'fan', 'firing', 'freedom', 'fresh', 'giant', 'ha', 'hoped', 'immediate', 'inspiration', 'institutions', 'isolated', 'lennon', 'plain', 'regularly', 'rival', 'roger', 'suffering', 'triple', 'tunnel', 'unusual', 'videos', 'wants', '13th', '62', 'admitted', 'anniversary', 'assumed', 'bolívar', 'convoy', 'designation', 'duties', 'expansion', 'footage', 'franchise', 'goffman', 'hergé', 'hundreds', 'identity', 'indeed', 'initiative', 'janeiro', 'kilmer', 'laws', 'neck', 'owner', 'pointed', 'possession', 'protagonist', 'protests', 'rapid', 'reconstruction', 'relative', 'resources', 'ryan', 'saprang', 'scientific', 'sequel', 'sessions', 'statistics', 'strongly', 'tales', 'treated', 'verse', 'visible', 'weak', \"'ll\", '1920', '1983', '85', 'accept', 'aged', 'airline', 'approved', 'attracted', 'bce', 'belt', 'camera', 'christ', 'completion', 'concerned', 'concerts', 'coup', 'cycle', 'debate', 'easily', 'eggs', 'fixed', 'frame', 'georgia', 'heaven', 'hop', 'improve', 'indicated', 'internal', 'jerusalem', 'lawton', 'medal', 'meets', 'mention', 'musicians', 'pleasure', 'reconnaissance', 'specimen', 'spot', 'trials', 'warm', 'wearing', 'wimbledon', 'winner', 'accused', 'adjacent', 'amateur', 'behaviour', 'burn', 'cambridge', 'composer', 'crash', 'destruction', 'dramatic', 'effectively', 'falling', 'g', 'gerard', 'ghost', 'guy', 'hear', 'incorporated', 'influences', 'jean', 'looked', 'ministry', 'norman', 'parks', 'pool', 'practices', 'prison', 'publishing', 'rated', 'recordings', 'register', 'remnants', 'require', 'richardson', 'rifle', 'ritual', 'sand', 'settled', 'somalia', 'starling', 'surrender', 'tall', 'tank', 'terminus', 'traveled', 'watershed', '1909', '1910', 'adam', 'afterwards', 'ages', 'aniston', 'anzac', 'arc', 'aviation', 'bridges', 'destroy', 'driving', 'eleven', 'environment', 'holiday', 'i.', 'jesus', 'keamy', 'kombat', 'measures', 'meetings', 'mega', 'mole', 'obtained', 'operating', 'painted', 'partly', 'pitcher', 'portrait', 'pupils', 'purchase', 'recalled', 'recovered', 'restoration', 'seemed', 'selection', 'shots', 'solar', 'somewhat', 'stands', 'storms', 'supposed', 'un', 'victims', 'worth', '1912', '1931', '1935', 'arabic', 'architecture', 'cake', 'cancer', 'corn', 'corythosaurus', 'craft', 'crisis', 'desert', 'destroyer', 'distinguished', 'fast', 'fraser', 'funds', 'germans', 'hosted', 'household', 'johnston', 'lb', 'linked', 'normally', 'origins', 'plunketts', 'poland', 'preserved', 'reduce', 'representing', 'researchers', 'sculpture', 'stevens', 'table', 'tone', 'township', 'trail', '1932', '76', 'artificial', 'attacking', 'ben', 'blocks', 'circulation', 'colour', 'controversial', 'covering', 'covers', 'crosses', 'dean', 'defended', 'else', 'elsewhere', 'equipped', 'expensive', 'express', 'fia', 'forming', 'generals', 'grass', 'hockey', 'hunting', 'income', 'institution', 'interaction', 'judge', 'junior', 'marlborough', 'medium', 'monuments', 'nintendo', 'opposite', 'prerogative', 'pro', 'programme', 'responsibility', 'shoot', 'sisters', 'stayed', 't.', 'tailed', 'trading', 'vessel', 'wolf', '1911', '1921', '1929', 'arrested', 'beautiful', 'burning', 'cave', 'cloud', 'consider', 'disaster', 'disc', 'essential', 'exception', 'fate', 'fei', 'impossible', 'internet', 'lawrence', 'legend', 'legislation', 'lowest', 'mill', 'mobile', 'netherlands', 'otherwise', 'owen', 'parallel', 'passengers', 'patrick', 'plum', 'promote', 'pushed', 'rebels', 'sing', 'speak', 'stanley', 'step', 'supporters', 'throwing', 'voted', 'wine', 'wrong', '1938', '1959', '1962', '57', '81', 'atlanta', 'au', 'batsman', 'block', 'bone', 'bright', 'cambodia', 'carrying', 'cemetery', 'charity', 'citing', 'comments', 'convention', 'criminal', 'cruiser', 'defences', 'difficulties', 'earl', 'elizabeth', 'equivalent', 'garcía', 'gates', 'graph', 'helmet', 'intensified', 'involving', 'iv', 'korean', 'lap', 'learn', 'motor', 'objects', 'observatory', 'occasions', 'panel', 'pitman', 'praise', 'quick', 'r.', 'raise', 'retained', 'returns', 'roof', 'stefani', 'tribute', 'understanding', 'unsuccessful', 'vessels', 'villages', \"'d\", '1900', '1920s', '66', 'ace', 'aerith', 'allah', 'apparently', 'behavior', 'belief', 'biographer', 'bound', 'canterbury', 'causes', 'cbs', 'choir', 'committed', 'context', 'cult', 'defeating', 'democratic', 'drum', 'fallen', 'farm', 'housing', 'ill', 'laboratory', 'latex', 'mediterranean', 'na', 'narrative', 'needs', 'notably', 'overseas', 'palestine', 'periods', 'phillies', 'preferred', 'princess', 'product', 'resistance', 'reveals', 'roll', 'saved', 'sees', 'sell', 'slide', 'subspecies', 'survivors', 'tale', 'temples', 'voiced', 'wings', '110', '71', 'absence', 'bureau', 'canyon', 'closer', 'collaboration', 'colorado', 'considers', 'criticised', 'deployed', 'dialogue', 'doesn', 'exposure', 'followers', 'formally', 'furtado', 'grammy', 'imagine', 'journalist', 'kick', 'lbw', 'manga', 'maria', 'markgraf', 'mayor', 'monarch', 'musician', 'p.', 'platoon', 'productions', 'products', 'proposal', 'raffles', 'ready', 'refers', 'representative', 'represents', 'shipping', 'steam', 'suggesting', 'tie', 'trust', 'u2', 'visitors', 'warning', 'aftermath', 'altar', 'amino', 'archbishop', 'aware', 'carol', 'communications', 'convection', 'da', 'depending', 'directors', 'displays', 'dock', 'dominican', 'drums', 'ensure', 'extent', 'flat', 'heat', 'moments', 'muscaria', 'networks', 'nhl', 'poorly', 'predators', 'ranges', 'recovery', 'republican', 'sacred', 'sale', 'sholay', 'stable', 'stationed', 'submarine', 'thereafter', 'trouble', 'universal', 'v.', 'vehicle', 'waterfall', '15th', '1940s', '98', 'accident', 'advertising', 'annually', 'assist', 'baker', 'cape', 'cat', 'childhood', 'clay', 'coins', 'doubt', 'driven', 'entitled', 'environmental', 'excavation', 'extension', 'fifa', 'garden', 'influential', 'infrastructure', 'injuries', 'intense', 'lists', 'lose', 'maggie', 'mexican', 'models', 'modified', 'municipal', 'opportunities', 'orbit', 'posted', 'publisher', 'purposes', 'radiation', 'regard', 'representatives', 'saves', 'scholar', 'simultaneously', 'situated', 'superior', 'talking', 'thousand', 'throne', 'withdraw', 'withdrew', '1928', '72', '77', 'adventures', 'ago', 'ammunition', 'anime', 'athletics', 'barker', 'burned', 'circumstances', 'dawn', 'demand', 'detail', 'driver', 'e.', 'easy', 'en', 'engines', 'factors', 'generated', 'happened', 'historically', 'informed', 'installed', 'interests', 'israeli', 'massachusetts', 'materials', 'norway', 'originated', 'parvati', 'pick', 'plane', 'platform', 'properties', 'rates', 'relations', 'réunion', 'severely', 'shark', 'spoke', 'watching', 'wrestling', 'writings', '1927', '59', 'affairs', 'agents', 'amongst', 'anekāntavāda', 'anyone', 'biggest', 'bulls', 'carved', 'casting', 'dangerous', 'dc', 'deck', 'departure', 'eaton', 'emergency', 'everyone', 'favor', 'gary', 'gwen', 'hurricanes', 'instruments', 'kannada', 'layer', 'map', 'mixture', 'movements', 'operate', 'option', 'organ', 'partially', 'plateau', 'pole', 'portugal', 'proper', 'raaf', 'rhythm', 'richmond', 'shells', 'starlings', 'stem', 'substantial', 'survive', 'swedish', 'sword', 'ustaše', 'victories', 'walk', 'whilst', 'wilson', '1933', 'armored', 'bearing', 'boxing', 'broad', 'caves', 'chamber', 'citizens', 'classification', 'compete', 'corporation', 'creative', 'diet', 'documents', 'downtown', 'establishing', 'fifteen', 'forty', 'howe', 'instance', 'interesting', 'j', 'khandoba', 'listing', 'looks', 'loose', 'midge', 'márquez', 'object', 'occupation', 'personality', 'premiered', 'price', 'reinforcements', 'residence', 'resigned', 'restored', 'rising', 'sang', 'sequences', 'simpson', 'spend', 'spores', 'stewart', 'struggle', 'sung', 'techniques', 'terrorist', 'thinking', 'twins', 'usd', 'veronica', 'wasn', 'wicca', 'wives', '1957', '21st', 'achieve', 'actual', 'application', 'arm', 'bath', 'bush', 'catechism', 'continental', 'correct', 'dan', 'designs', 'detroit', 'experiences', 'flower', 'forcing', 'frelimo', 'grounds', 'hart', 'illustrated', 'inhg', 'jeff', 'jurchen', 'martial', 'matt', 'mental', 'miller', 'minimum', 'moderate', 'mozambique', 'mulder', 'offices', 'page', 'phoenix', 'preparation', 'prove', 'readers', 'recognised', 'resolution', 'retirement', 'ride', 'saturday', 'scientists', 'shakespeare', 'sounds', 'sub', 'toronto', 'universe', 'useful', 'vary', 'wasp', 'wright', 'zoo', '900', 'address', 'archaeologist', 'bear', 'cars', 'characterized', 'cleared', 'coleman', 'convinced', 'costs', 'cubs', 'delayed', 'depicts', 'engage', 'excavations', 'formal', 'format', 'formerly', 'founder', 'fund', 'giants', 'gilbert', 'huge', 'hull', 'kansas', 'kevin', 'measured', 'mechanical', 'moore', 'moral', 'objective', 'oh', 'parish', 'philosophy', 'presentation', 'remarked', 'revolutionary', 'russia', 'scheme', 'scully', 'shop', 'sort', 'starred', 'sufficient', 'tactics', 'tanks', 'tide', 'trained', 'twin', 'understand', 'usage', 'variation', 'virgin', 'westward', 'wiśniowiecki', '130', '1926', '79', 'ambassador', 'arriving', 'audiences', 'benefit', 'blues', 'cavalry', 'claiming', 'clearly', 'closest', 'column', 'communication', 'crake', 'crops', 'decides', 'del', 'describe', 'designer', 'determine', 'differences', 'displayed', 'duty', 'factory', 'feathers', 'feeding', 'frequent', 'graphics', 'hamlet', 'hokies', 'impressed', 'inscription', 'intention', 'jobs', 'magnetic', 'nick', 'opponent', 'oscar', 'partner', 'persian', 'plus', 'predecessor', 'publications', 'ranging', 'regiments', 'residential', 'revival', 'schedule', 'skills', 'spiritual', 'strategy', 'streak', 'styles', 'texts', 'trek', 'valuable', 'vote', 'voyage', 'warren', \"'malley\", '07', '1905', 'abby', 'adaptation', 'argues', 'armament', 'arrive', 'artwork', 'aside', 'aspect', 'attained', 'badly', 'batteries', 'blacks', 'brazil', 'cater', 'centers', 'chagas', 'commandment', 'conduct', 'considering', 'cruise', 'defending', 'definition', 'degrees', 'elections', 'ex', 'exclusively', 'garrison', 'grown', 'han', 'highways', 'isbn', 'jonathan', 'kelly', 'lay', 'leslie', 'machines', 'magnitude', 'mathews', 'mr', 'newspapers', 'pagan', 'peach', 'perspective', 'promised', 'prompted', 'protestant', 'quarterback', 'ranking', 'releases', 'restricted', 'roots', 'rough', 'ruling', 'temporary', 'turks', 'updated', 'valkyria', 'victorian', 'waiting', 'willing', 'yo', '63', 'allen', 'amounts', 'anthem', 'artistic', 'attend', 'bands', 'bertin', 'bir', 'bones', 'boom', 'boundary', 'brooks', 'celebrated', 'charged', 'chronicles', 'cinema', 'clark', 'code', 'comics', 'cotton', 'crews', 'dave', 'deemed', 'deity', 'disappeared', 'erected', 'exists', 'explains', 'fifty', 'furthermore', 'globe', 'handled', 'heroes', 'hudson', 'inhabitants', 'injured', 'investigation', 'jackets', 'liberal', 'magadheera', 'metre', 'nebraska', 'northeastern', 'northward', 'nurse', 'owners', 'refer', 'relation', 'repeated', 'resumed', 'retreat', 'roberts', 'spaces', 'strengthened', 'structural', 'suicide', 'talent', 'testing', 'tourist', 'uefa', '“', '160', '1890', '1924', '1925', '88', 'asomtavruli', 'assassination', 'banned', 'basement', 'breed', 'brick', 'chain', 'circle', 'constant', 'davis', 'demands', 'demonstrated', 'der', 'diamond', 'difference', 'distinctive', 'djokovic', 'dominant', 'emmy', 'enters', 'executed', 'exposed', 'harold', 'herzegovina', 'honour', 'inscriptions', 'landings', 'lies', 'madrid', 'meteorological', 'nielsen', 'organisation', 'peaking', 'prevented', 'profile', 'pryce', 'pure', 'pursue', 'referring', 'runners', 'scattered', 'seas', 'seek', 'settlements', 'soft', 'southeastern', 'stores', 'substitute', 'trophy', 'turrets', 'viet', 'ward', 'yankees', '05', '140', '1934', 'acre', 'acute', 'afternoon', 'alfred', 'altered', 'anglo', 'approval', 'assisted', 'bible', 'card', 'cargo', 'celtic', 'commandos', 'cong', 'congo', 'cool', 'corner', 'defend', 'defenders', 'discuss', 'edges', 'false', 'fee', 'feels', 'hostile', 'houston', 'indicating', 'initiated', 'jay', 'jews', 'labor', 'liked', 'loan', 'madison', 'magazines', 'mbar', 'melody', 'murray', 'philip', 'pictures', 'pounds', 'premiere', 'print', 'runway', 'sixteen', 'stood', 'striking', 'subjects', 'sunk', 'suspended', 'tennessee', 'thin', 'tournaments', 'translation', 'valve', 'warrior', 'weir', '08', '1000', '1908', '74', '93', 'architectural', 'barry', 'biological', 'cent', 'certainly', 'chevaliers', 'clock', 'colleagues', 'concern', 'conclusion', 'conservative', 'delivery', 'drug', 'du', 'eliminated', 'equal', 'ethnic', 'fair', 'federation', 'genetic', 'geoff', 'gift', 'goddess', 'guilty', 'harbour', 'hawaii', 'keeping', 'kurt', 'mariana', 'measurements', 'ndh', 'ontario', 'orchestra', 'ordering', 'outbreak', 'paramount', 'presidential', 'pretty', 'programming', 'reader', 'realized', 'rebuilt', 'receives', 'reducing', 'requested', 'respective', 'reveal', 'romanian', 'sas', 'seem', 'sheffield', 'signs', 'swiss', 'toured', 'underneath', 'violent', 'wagner', 'walking', 'weapon', '1923', '89', 'abc', 'animation', 'ann', 'asian', 'asks', 'autumn', 'battles', 'benjamin', 'carre', 'chicks', 'christine', 'circuit', 'coaching', 'collapsed', 'components', 'cougars', 'dakota', 'discover', 'elaborate', 'employees', 'evans', 'f.', 'flag', 'gets', 'harrison', 'hawaiian', 'helium', 'impression', 'krak', 'leigh', 'molecules', 'observation', 'omar', 'operates', 'oregon', 'organised', 'parliamentary', 'passion', 'peoples', 'potentially', 'propaganda', 'pulaski', 'puppet', 'queensland', 'rhyme', 'rhys', 'riding', 'rounds', 'send', 'sentences', 'shoulder', 'skull', 'strip', 'tracy', 'trick', 'venues', 'visiting', 'withdrawal', 'wrapped', 'z', 'zinc', '14th', '180', 'acids', 'advancing', 'asking', 'audio', 'banks', 'believing', 'borough', 'boss', 'boundaries', 'chase', 'christopher', 'columns', 'commons', 'comparison', 'compound', 'contribution', 'dams', 'dispute', 'doctrine', 'documented', 'drove', 'earning', 'expression', 'extratropical', 'goat', 'islamic', 'keys', 'kills', 'korea', 'logic', 'lover', 'mail', 'negotiations', 'pace', 'parade', 'platinum', 'putting', 'remove', 'rush', 'seeking', 'shorter', 'sisler', 'sorraia', 'spacecraft', 'starring', 'stock', 'suitable', 'surgery', 'symbol', 'territorial', 'toll', 'translated', 'upset', 'voices', 'weekend', 'wildlife', 'woodhouse', 'youngest', '09', '1907', '766th', 'agree', 'agriculture', 'airlines', 'bases', 'battleships', 'bears', 'beauty', 'belgium', 'biddenden', 'birthday', 'bodyline', 'briggs', 'ce', 'coin', 'collapse', 'completing', 'couldn', 'cresswell', 'cullen', 'degrom', 'doctor', 'encountered', 'explain', 'exploration', 'factor', 'favorable', 'fill', 'fishing', 'friendly', 'gap', 'grace', 'gravity', 'greg', 'herald', 'honorary', 'inclusion', 'industries', 'ingres', 'jardine', 'jason', 'louisiana', 'millennium', 'molecular', 'naming', 'nettles', 'pale', 'personally', 'powered', 'prepare', 'prix', 'produces', 'questions', 'racing', 'reflected', 'removal', 'representation', 'revised', 'row', 'sample', 'satellite', 'sculptures', 'shrine', 'sole', 'spending', 'spur', 'strategic', 'submitted', 'suddenly', 'sugar', 'telugu', 'temporarily', 'tim', 'topped', 'ultimate', 'universities', 'vast', 'veracruz', 'vertical', 'volumes', 'wish', '06', '1922', '58', '82', '91', 'administrative', 'amanita', 'anne', 'approaches', 'armies', 'arvn', 'assembled', 'ballad', 'beliefs', 'bennett', 'burial', 'cabinet', 'campbell', 'cash', 'charted', 'choose', 'chrono', 'clinton', 'commenting', 'conflicts', 'consequently', 'corpus', 'demolished', 'dershowitz', 'discussion', 'eat', 'emphasis', 'ernest', 'eshmun', 'fitted', 'flies', 'genera', 'hidden', 'illegal', 'joining', 'junction', 'jury', 'lesser', 'likewise', 'mainland', 'marry', 'memories', 'meters', 'nevesinje', 'nominations', 'objectives', 'pain', 'patrol', 'pattycake', 'phrase', 'prisoners', 'provincial', 'pulled', 'punt', 'sailed', 'select', 'shares', 'signal', 'sioux', 'sony', 'spin', 'steps', 'struggled', 'synagogue', 'tenth', 'tip', 'traded', 'typhoon', 'underwent', 'upgraded', 'vii', 'w', 'westminster', 'wishes', '”', '02', '130th', '1861', '360', 'abbey', 'abilities', 'achievement', 'advice', 'alliance', 'allies', 'appointment', 'argentine', 'beats', 'beings', 'brand', 'caesar', 'carries', 'charlotte', 'chronicle', 'columbus', 'controller', 'conversation', 'cooperation', 'credit', 'crest', 'danger', 'daughters', 'developers', 'drivers', 'ed', 'eventual', 'facility', 'finale', 'fusion', 'gene', 'ian', 'ibis', 'idaho', 'keith', 'lakes', 'lanes', 'leukemia', 'mainstream', 'merely', 'metropolitan', 'pages', 'parody', 'percentage', 'pilots', 'pink', 'pohl', 'preston', 'punishment', 'reactions', 'reduction', 'reforms', 'reviewed', 'rotation', 'shift', 'singapore', 'sings', 'snake', 'string', 'sweden', 'switzerland', 'tax', 'temperatures', 'theatrical', 'threw', 'tigers', 'tony', 'unlikely', 'unnamed', 'usher', 'uss', 'wanderers', 'wwf', '₹', '350', '67', 'accompanying', 'aerial', 'aggressive', 'airports', 'alberta', 'armoured', 'backed', 'bat', 'belgian', 'census', 'closure', 'contest', 'controls', 'decisions', 'delaware', 'depicting', 'deputy', 'dies', 'dover', 'draws', 'duo', 'duration', 'elevation', 'enemies', 'eve', 'everton', 'gardens', 'gospel', 'harbor', 'helping', 'hoover', 'investment', 'isesi', 'isle', 'k.', 'kit', 'kong', 'lessing', 'lifetime', 'loud', 'mac', 'machinery', 'madero', 'mccartney', 'measuring', 'nadal', 'nazi', 'net', 'offering', 'offshore', 'ongoing', 'onwards', 'patterns', 'pregnancy', 'recreation', 'restore', 'sanskrit', 'senator', 'significance', 'smooth', 'speaker', 'sporting', 'sq', 'stellar', 'strange', 'stuart', 'sure', 'tape', 'taxonomy', 'teachers', 'telling', 'themed', 'toniná', 'trails', 'traveling', 'travelled', 'uprising', 'walker', 'wider', 'y', 'youtube', '1895', '1902', '99', 'accurate', 'acyclic', 'add', 'adelaide', 'aimed', 'albert', 'allosaurus', 'architect', 'arkansas', 'battleship', 'bronze', 'buy', 'cancelled', 'candidates', 'cards', 'carpenter', 'closing', 'commanders', 'commands', 'concentrated', 'connecting', 'conversion', 'crusaders', 'dag', 'decay', 'decorated', 'donated', 'dubbed', 'e.g', 'embarked', 'eu', 'exactly', 'farmers', 'feed', 'hell', 'hydrogen', 'illness', 'indicates', 'joyful', 'kate', 'khan', 'knights', 'las', 'leonard', 'madonna', 'manuscripts', 'matters', 'operational', 'pairs', 'partnership', 'permission', 'pitching', 'policies', 'preparing', 'printed', 'raising', 'recurring', 'requires', 'revenue', 'searching', 'seattle', 'segment', 'shear', 'spots', 'stavanger', 'sydney', 'terrain', 'thirteen', 'trapped', 'trio', 'twentieth', 'values', 'wells', '194', '22nd', 'abroad', 'alive', 'angelou', 'animated', 'archaeologists', 'ashore', 'backing', 'beating', 'berlin', 'brilliant', 'broadway', 'canning', 'characteristic', 'chen', 'christi', 'civilians', 'compilation', 'compositions', 'cousin', 'daydream', 'demon', 'dense', 'derfflinger', 'detected', 'dinosaurs', 'dudley', 'dynamic', 'evolved', 'failing', 'fernandez', 'fewer', 'files', 'flash', 'flesh', 'flowers', 'fourteen', 'francis', 'functions', 'grave', 'harry', 'hawaiʻi', 'hnc', 'horn', 'hpa', 'hugh', 'hungarian', 'inning', 'interactions', 'jeremy', 'jon', 'lacking', 'leeds', 'limit', 'maintaining', 'mars', 'membrane', 'monkey', 'monster', 'morgan', 'mothers', 'movies', 'myself', 'nave', 'operas', 'phone', 'poets', 'positively', 'profit', 'pursuit', 'qualified', 'ranks', 'reaches', 'rocks', 'rushing', 'seats', 'serbs', 'soldier', 'solely', 'solution', 'stronger', 'strongest', 'tend', 'tenure', 'tissue', 'touring', 'transmission', 'unclear', 'vegetation', 'vertex', 'volunteers', 'watson', 'waves', 'wealthy', 'whatever', 'wickets', 'witchcraft', 'withdrawn', 'wore', 'wyoming', '1889', '1903', 'abuse', 'acted', 'allmusic', 'appropriate', 'arabs', 'arena', 'bedell', 'blow', 'bow', 'bowling', 'bradstreet', 'bus', 'canon', 'carmel', 'clothes', 'cole', 'commerce', 'concession', 'consistent', 'coverage', 'cruisers', 'cutting', 'cyrus', 'divorce', 'dual', 'elder', 'eric', 'evident', 'examination', 'extinct', 'gaelic', 'gaining', 'geography', 'goods', 'governments', 'grandfather', 'hampshire', 'heavier', 'hence', 'herd', 'honours', 'hunt', 'identify', 'increases', 'interpreted', 'jam', 'jurchens', 'kody', 'loved', 'm3', 'maintenance', 'marketing', 'maya', 'neil', 'numbered', 'obtain', 'occasion', 'occurring', 'opinions', 'ownership', 'oxygen', 'permitted', 'photographs', 'physics', 'pirates', 'plate', 'ports', 'pregnant', 'presents', 'protesters', 'puzzle', 'radical', 'reinforced', 'relegated', 'romania', 'sam', 'seriously', 'singers', 'sora', 'stakes', 'starter', 'succession', 'successive', 'surprise', 'symptoms', 'targets', 'taste', 'trains', 'uncle', 'utah', 'virtually', 'wear', 'wellington', 'xiii', '03', '1849', '230', '68', '86', '92', 'announcement', 'attitude', 'authorized', 'balance', 'balls', 'barrier', 'bills', 'blocked', 'breaks', 'bull', 'capturing', 'christianity', 'clothing', 'coldrum', 'collections', 'continuous', 'copy', 'crystal', 'defender', 'departed', 'depiction', 'dinosaur', 'displaced', 'download', 'downstream', 'drainage', 'earnest', 'engagement', 'et', 'etty', 'exact', 'experimental', 'flooded', 'forever', 'fortune', 'guides', 'habitats', 'halo', 'hat', 'helps', 'hospitals', 'housed', 'hunter', 'immigration', 'indigenous', 'infection', 'ioc', 'kilometers', 'legislature', 'margaret', 'mlb', 'ohio', 'palestinian', 'participate', 'perceived', 'phil', 'pounder', 'promotional', 'puma', 'puzzles', 'questioned', 'ra', 'rains', 'rank', 'registered', 'renewed', 'repair', 'resemble', 'revived', 'rhodesian', 'salmon', 'savage', 'sciences', 'seized', 'sitting', 'sized', 'sol', 'sovereign', 'statements', 'survival', 'tasked', 'telegraph', 'tours', 'tristan', 'understood', 'varied', 'votes', '84', 'absorbed', 'acclaim', 'arrangements', 'banksia', 'barbarian', 'bed', 'birmingham', 'brethren', 'carbon', 'catch', 'chair', 'christians', 'clocks', 'component', 'comprised', 'confusion', 'creutz', 'deer', 'delay', 'dennis', 'dependent', 'directing', 'distances', 'districts', 'disturbance', 'ecclestone', 'edited', 'electrical', 'escort', 'evolution', 'expert', 'extend', 'fastest', 'fires', 'flew', 'funny', 'gaming', 'graphic', 'graves', 'gregory', 'haitian', 'hannah', 'hellblazer', 'horror', 'interstate', 'iowa', 'isotopes', 'les', 'linear', 'loverboy', 'lumber', 'mad', 'manor', 'manual', 'margin', 'mystery', 'ncaa', 'nice', 'ns', 'obvious', 'orange', 'palmyrene', 'persons', 'pistol', 'poll', 'preserve', 'rays', 'rebellion', 'reflecting', 'replied', 'reportedly', 'rescued', 'restrictions', 'roller', 'ron', 'räikkönen', 'scorer', 'sharp', 'sil', 'skinner', 'slayer', 'smoke', 'ss', 'staley', 'stream', 'subtropical', 'tennis', 'tickets', 'tight', 'tokyo', 'tooth', 'touchdowns', 'tourism', 'trondheim', 'undertaken', 'vegas', 'vicinity', 'victim', 'zanzibar', 'zero', '1819', '1901', '1906', '87', 'aboard', 'alleged', 'angle', 'arguing', 'arizona', 'atop', 'barracks', 'batsmen', 'battlefield', 'beeton', 'behalf', 'bombing', 'bruce', 'businesses', 'cambodian', 'chapters', 'cleveland', 'cobra', 'complimented', 'concepts', 'confession', 'conjunction', 'consent', 'consistently', 'corbet', 'crickets', 'curved', 'dad', 'dancing', 'derby', 'drinking', 'earn', 'ensemble', 'escaped', 'essentially', 'exclusive', 'execution', 'exhibition', 'extending', 'extensively', 'freakum', 'gender', 'grammar', 'handed', 'hearing', 'hitting', 'hobbs', 'hughes', 'ideal', 'indigo', 'kennedy', 'kids', 'lights', 'liner', 'locally', 'manufacturing', 'marie', 'matthew', 'miners', 'mines', 'norwegian', 'opposing', 'parachute', 'praising', 'preparations', 'quiney', 'radar', 'reagan', 'reform', 'relatives', 'requirements', 'rubber', 'sending', 'singh', 'sleep', 'software', 'squadrons', 'te', 'tommy', 'touch', 'transition', 'trend', 'tubes', 'variations', 'vs.', 'wait', 'worn', 'zagreb', '101', '1878', '1880', '1897', '220', '261', '78', '97', 'acoustic', 'advertisements', 'advised', 'airborne', 'allocated', 'ap', 'apply', 'archer', 'asteroid', 'atlético', 'beam', 'beaten', 'borders', 'brenda', 'carl', 'centimetres', 'commenced', 'commissioner', 'competitive', 'conception', 'concerning', 'construct', 'courses', 'deals', 'dedication', 'device', 'doyle', 'egyptians', 'essay', 'europa', 'explore', 'faster', 'fits', 'funeral', 'grain', 'heading', 'holocaust', 'hong', 'households', 'humphrey', 'intellectual', 'iraq', 'johnny', 'josé', 'justin', 'kenneth', 'kyle', 'kyra', 'lacked', 'liao', 'lincoln', 'marge', 'marsh', 'mature', 'militia', 'ministers', 'mixing', 'nasa', 'noble', 'oral', 'pagoda', 'painter', 'partington', 'partners', 'penn', 'peters', 'pioneer', 'pit', 'plains', 'predicted', 'pushing', 'reflect', 'reines', 'retrieved', 'rice', 'saving', 'sb', 'shadow', 'sheep', 'shirt', 'sox', 'steadily', 'stingray', 'sudden', 'teach', 'tempo', 'tested', 'tombs', 'tools', 'tracked', 'transported', 'urania', 'users', 'usual', 'venue', 'vulcan', '1860', 'absolute', 'africaine', 'aim', 'alex', 'alfa', 'altarpiece', 'angry', 'applications', 'approaching', 'argument', 'arrest', 'articles', 'austrian', 'bishops', 'borrowed', 'brain', 'calculated', 'canals', 'cantrell', 'celebrate', 'challenging', 'charmbracelet', 'commanding', 'concentration', 'condemned', 'connections', 'constantly', 'conventional', 'declaration', 'density', 'distant', 'donald', 'dot', 'dwarf', 'eating', 'educational', 'exhausted', 'experts', 'expressway', 'flagship', 'fled', 'floods', 'franklin', 'funded', 'gardner', 'gill', 'glanville', 'graham', 'grasses', 'happen', 'hebrew', 'highlight', 'ignored', 'inaugural', 'insects', 'investigations', 'item', 'jaw', 'jr', 'kaifeng', 'kickoff', 'labyrinth', 'lancaster', 'legends', 'lloyd', 'load', 'magical', 'marking', 'mate', 'metro', 'minority', 'mkhedruli', 'navarro', 'participants', 'placing', 'portions', 'priests', 'proceeded', 'qualifying', 'quoted', 'ram', 'recreational', 'repairs', 'retain', 'russell', 'scholarship', 'serial', 'sexuality', 'slopes', 'speculation', 'sponsored', 'storylines', 'studying', 'summary', 'superman', 'survivor', 'talks', 'tawny', 'thai', 'threats', 'tributaries', 'vandernoot', 'villaret', 'visits', 'volunteer', 'warfare', 'warned', '\\ufeff', '1904', '240', '73', '83', 'auburn', 'austria', 'austro', 'beds', 'belonging', 'berhtwald', 'besides', 'billy', 'blu', 'bore', 'bristol', 'buoys', 'button', 'catholics', 'centered', 'colours', 'comment', 'consumption', 'dd', 'decide', 'destroying', 'devoted', 'diplomatic', 'dozen', 'dying', 'eighteen', 'elgin', 'emotions', 'epic', 'exercise', 'explaining', 'favour', 'ferry', 'finest', 'flows', 'fragments', 'ganges', 'gathered', 'gielgud', 'glee', 'graduate', 'grows', 'hoping', 'imagery', 'improvement', 'indolence', 'innocent', 'intersects', 'isles', 'jackrabbit', 'jet', 'jumping', 'knocked', 'lad', 'languedoc', 'larry', 'leicester', 'liquid', 'lyrical', 'manage', 'memorable', 'nelson', 'noise', 'occasional', 'passages', 'permanently', 'politicians', 'progressed', 'promise', 'publishers', 'qedar', 'qedarites', 'repeatedly', 'replacing', 'reporter', 'resident', 'rivals', 'roadway', 'rockefeller', 'rothschild', 'sailors', 'salary', 'screens', 'shipments', 'shut', 'similarities', 'sinai', 'slave', 'spore', 'stretched', 'suit', 'supernatural', 'surrendered', 'tasks', 'teammate', 'ties', 'timber', 'tracking', 'traditions', 'transits', 'travels', 'truly', 'ulster', 'unless', 'urged', 'venture', 'vertices', 'viaduct', 'wanting', 'wicket', 'witnesses', 'wno', 'yorkshire', '04', '1857', '2000s', '69', 'acceptable', 'accommodate', 'annals', 'antonio', 'astronomers', 'athlete', 'avoided', 'axis', 'bernard', 'biblical', 'bomb', 'bombardment', 'bombs', 'boyfriend', 'bradman', 'bread', 'brigadier', 'bulk', 'campaigns', 'ceased', 'commandments', 'complicated', 'cook', 'cps', 'cretaceous', 'dealing', 'destination', 'devin', 'devotion', 'dressed', 'duet', 'elephant', 'employment', 'enormous', 'estimates', 'evacuated', 'faulkner', 'fighter', 'friendship', 'fungi', 'gacko', 'garnered', 'gathering', 'guitarist', 'heir', 'humanitarian', 'indoor', 'instrumentation', 'intermediate', 'involves', 'jimmy', 'journalists', 'kicked', 'kim', 'limits', 'links', 'maurice', 'mccarthy', 'mills', 'minimal', 'mint', 'montreal', 'mythology', 'naked', 'narrator', 'neolithic', 'nevada', 'oak', 'observers', 'offs', 'opined', 'ordinary', 'perfectly', 'planes', 'planets', 'posts', 'precipitation', 'predominantly', 'processing', 'prohibited', 'proportion', 'publicly', 'pyramid', 'rectangular', 'relegation', 'remarkable', 'reserves', 'responses', 'restaurants', 'robinson', 'roy', 'sacked', 'screened', 'seemingly', 'shaft', 'shallow', 'shifted', 'shimomura', 'siblings', 'sic', 'sixty', 'songwriter', 'span', 'spell', 'stability', 'statue', 'substance', 'sufficiently', 'sultan', 'synthesis', 'tag', 'tonnes', 'travelling', 'tunnels', 'turkey', 'verses', 'violation', 'vital', 'witness', 'woodland', 'yugoslavia', '…', '→', \"'in\", '1848', '1850', '1854', '1856', 'advances', 'aided', 'alternate', 'atp', 'attract', 'awareness', 'bald', 'beak', 'bình', 'cadets', 'caliber', 'cameo', 'challenges', 'chronic', 'collaborated', 'colors', 'commentators', 'computers', 'confidence', 'conquest', 'cooper', 'custom', 'cyclones', 'decommissioned', 'deliberately', 'demanded', 'disbanded', 'dreams', 'dust', 'dwight', 'encounter', 'enjoy', 'everyday', 'expand', 'extends', 'finance', 'focusing', 'foxes', 'fred', 'fundamental', 'gay', 'gladstone', 'governed', 'halted', 'helicopter', 'highlighted', 'hollow', 'hunters', 'i.e', 'imbudo', 'immigrants', 'imposed', 'improvements', 'inducted', 'jose', 'kōsaku', 'landscape', 'learns', 'limestone', 'listen', 'lying', 'mansion', 'mg', 'montfort', 'naturally', 'nicholas', 'nursery', 'offerings', 'options', 'oribi', 'pakistan', 'patron', 'pete', 'pfaster', 'poles', 'populated', 'portable', 'realised', 'reformed', 'releasing', 'relieved', 'rushed', 'scores', 'senate', 'sensitive', 'sit', 'spotted', 'steep', 'surge', 'surprised', 'therapy', 'trough', 'uncertain', 'variable', 'varies', 'walks', 'waste', 'weakening', 'wisconsin', 'xbox', 'xook', '01', '1832', '1851', '1880s', '1881', '1894', '1898', 'addressed', 'affair', 'affect', 'apartment', 'appeals', 'arrives', 'associate', 'astronomical', 'attending', 'bergen', 'blackie', 'bracknell', 'brazilian', 'cable', 'categories', 'cattle', 'coaches', 'collect', 'commentary', 'competed', 'comprising', 'connects', 'convict', 'crab', 'crowds', 'crush', 'damages', 'darwin', 'dealt', 'declaring', 'decoration', 'deliver', 'descent', 'directions', 'dissipating', 'diverse', 'divines', 'document', 'ecology', 'electron', 'employ', 'enabled', 'estimate', 'examined', 'excess', 'exhibited', 'extant', 'external', 'forth', 'gabbar', 'ganganelli', 'guidance', 'guinea', 'guinness', 'gusts', 'hans', 'humor', 'humpty', 'hygrometricus', 'intact', 'internationally', 'interpretation', 'intervention', 'invaded', 'isn', 'katherine', 'katia', 'kicking', 'knee', 'knows', 'lancashire', 'lawyer', 'lion', 'loop', 'mahesh', 'marshal', 'mcelroy', 'mentions', 'metric', 'mhalsa', 'migration', 'milk', 'montgomery', 'moro', 'mosque', 'mysterious', 'navigation', 'nazaire', 'nonetheless', 'notice', 'nuskhuri', 'observer', 'orlando', 'paranthodon', 'pavn', 'paying', 'perception', 'pet', 'playable', 'portrayal', 'preceding', 'pressed', 'provisions', 'puerto', 'push', 'rajamouli', 'rape', 'rapids', 'recognize', 'reservoirs', 'respond', 'retail', 'retaliation', 'rhode', 'rituals', 'ronald', 'saints', 'silk', 'sms', 'speculated', 'strapping', 'tactical', 'telescope', 'terry', 'todd', 'transformed', 'trinity', 'unrest', 'urn', 'vargas', 'wake', 'wallace', 'welcome', 'yd', 'µm', 'ímar', '105', '1200', '175', '1865', '1882', '1891', 'accomplished', 'acknowledged', 'adaptations', 'algernon', 'alignment', 'amazing', 'archipelago', 'arose', 'asserted', 'barons', 'batting', 'battlecruisers', 'beer', 'beside', 'brings', 'cakes', 'cardinals', 'celebration', 'circular', 'coaster', 'commercially', 'consequence', 'covenant', 'crusade', 'debt', 'decrease', 'denmark', 'discussing', 'drawings', 'díaz', 'elevated', 'eleventh', 'eliminate', 'experiment', 'farming', 'fastra', 'favourite', 'genres', 'gibson', 'hampered', 'hosts', 'hotels', 'idol', 'impressive', 'inhabited', 'insisted', 'interviewed', 'interviews', 'invitation', 'involve', 'jenkins', 'ken', 'layers', 'leagues', 'li', 'liberty', 'lightning', 'liz', 'llosa', 'lowland', 'maps', 'marched', 'mariah', 'mclaren', 'mere', 'mild', 'millions', 'mounts', 'museums', 'mvp', 'nea', 'nose', 'occupy', 'organic', 'papal', 'parker', 'parrot', 'passenger', 'paths', 'platforms', 'pointing', 'positioned', 'pound', 'principle', 'quinn', 'radius', 'rafael', 'ratio', 'raymond', 'reactor', 'realistic', 'revenge', 'reverse', 'reversed', 'reviewing', 'rick', 'scripts', 'secular', 'semifinals', 'seventeen', 'silent', 'situations', 'skill', 'snl', 'stern', 'stewie', 'sullivan', 'teachings', 'thesis', 'thoughts', 'tong', 'torpedoes', 'tourists', 'transcription', 'troubles', 'undergo', 'velocity', 'wished', 'yeovil', 'zones', '117', '125', '1862', '1896', '25th', 'aa', 'abbot', 'administered', 'advocated', 'affecting', 'aggregate', 'agrees', 'alphabet', 'angel', 'anger', 'ask', 'belonged', 'binding', 'blamed', 'bobby', 'bombers', 'bonus', 'broadcasting', 'bruins', 'cameras', 'campbeltown', 'cats', 'centres', 'certifications', 'cheese', 'chemistry', 'clouds', 'coined', 'commando', 'companion', 'comparing', 'comprehensive', 'conceived', 'confused', 'congregation', 'console', 'constitutional', 'corresponding', 'costumes', 'crop', 'darkness', 'davies', 'debated', 'deeply', 'desired', 'developer', 'developments', 'dirt', 'discovers', 'dispatched', 'downloadable', 'drugs', 'ds', 'durham', 'egg', 'elementary', 'elite', 'emphasized', 'enlisted', 'entirety', 'enzymes', 'ep', 'exciting', 'exeter', 'exhibit', 'exterior', 'fairly', 'familiar', 'feared', 'fears', 'fez', 'filed', 'focuses', 'forbidden', 'founding', 'frequency', 'frigates', 'frontier', 'gothic', 'governing', 'graduated', 'hears', 'hiatus', 'honors', 'hurt', 'identical', 'indies', 'jamie', 'janet', 'judo', 'killer', 'knight', 'lacks', 'lasting', 'latest', 'logs', 'magdalen', 'manuel', 'markets', 'maryang', 'mcnichol', 'merchant', 'messages', 'meter', 'mitchell', 'moth', 'mrs', 'myth', 'nephew', 'neutrino', 'newport', 'nicknamed', 'northumberland', 'opens', 'owing', 'p', 'palm', 'parent', 'participation', 'patrols', 'persisted', 'plumage', 'printing', 'progression', 'proposals', 'quest', 'rebel', 'recruited', 'reinforce', 'reminiscent', 'rendition', 'rob', 'sad', 'screenplay', 'sean', 'shaolin', 'signature', 'spelling', 'staged', 'staying', 'storage', 'submarines', 'summit', 'targeted', 'thompson', 'thrown', 'toy', 'unstable', 'verstappen', 'vocalist', 'vulnerable', 'warriors', 'wet', 'wikipedia', 'winners', 'wolfpack', 'wu', 'zombie', '1830', '1870', '1874', '1893', '1899', '27th', 'abundance', 'abundant', 'acceptance', 'aldean', 'ambition', 'amid', 'answer', 'arguments', 'attendance', 'baptist', 'bhairava', 'bonds', 'breeds', 'canons', 'caps', 'carlos', 'carrier', 'cecil', 'chances', 'chanology', 'chest', 'civilization', 'claws', 'clearing', 'coalition', 'coastline', 'coffee', 'comet', 'commodore', 'contracts', 'copia', 'crowns', 'crusader', 'curtis', 'debris', 'demonstration', 'deposits', 'descriptions', 'disabled', 'doors', 'drummer', 'dumpty', 'ecu', 'ellis', 'encounters', 'euro', 'exile', 'expeditions', 'explored', 'explosive', 'fe', 'flown', 'framework', 'frigate', 'gang', 'gaozong', 'genes', 'gross', 'guthrie', 'hairan', 'hakim', 'handle', 'handling', 'harris', 'holes', 'hook', 'humanity', 'iaaf', 'implemented', 'incomplete', 'ingram', 'intelligent', 'introduces', 'jacob', 'jan', 'joan', 'joshua', 'labeled', 'leinster', 'lessons', 'lie', 'lions', 'listeners', 'lit', 'lützow', 'mdot', 'mining', 'monthly', 'murphy', 'napoleon', 'nearest', 'neutral', 'nickname', 'obstacles', 'oval', 'overcome', 'overwhelmed', 'oxide', 'playoffs', 'poetic', 'pose', 'possessed', 'prompting', 'prosecution', 'proximity', 'refuses', 'regulation', 'rendered', 'reservoir', 'resignation', 'rna', 'romance', 'rounded', 'rowley', 'ruins', 'samples', 'sanctuary', 'sat', 'scope', 'sexually', 'shaw', 'sight', 'soviets', 'spectrum', 'spy', 'statues', 'strengthen', 'striker', 'subjected', 'suggestion', 'symbols', 'syria', 'tapes', 'technologies', 'telephone', 'tiny', 'totally', 'traditionally', 'turbines', 'turnpike', 'tzu', 'unesco', 'unusually', 'update', 'valid', 'vistara', 'web', 'witnessed', \"'inich\", '1859', '1892', '42nd', '52nd', 'abd', 'adopt', 'assessment', 'averaged', 'barely', 'bloody', 'buddhist', 'carroll', 'celebrity', 'cellular', 'challenged', 'chord', 'coat', 'competing', 'considerably', 'cooking', 'crimson', 'crucial', 'deciding', 'di', 'dining', 'dispersed', 'domnall', 'donations', 'drafted', 'dragon', 'editions', 'empty', 'error', 'etymology', 'excellent', 'expanding', 'fed', 'ferdinand', 'fighters', 'flair', 'ford', 'fortress', 'foster', 'functional', 'gale', 'ghat', 'golf', 'guided', 'helen', 'hemisphere', 'imagination', 'improving', 'indu', 'ingrid', 'intersections', 'itv', 'jackrabbits', 'jerry', 'joins', 'josh', 'judith', 'julian', 'julio', 'kaimanawa', 'kinds', 'kw', 'landmark', 'leo', 'liam', 'liberation', 'lifted', 'lithuania', 'lone', 'lorenzo', 'manufactured', 'marilyn', 'maternal', 'mets', 'minerals', 'monica', 'multiplayer', 'newfoundland', 'nineteenth', 'nl', 'nok', 'numbering', 'okeechobee', 'organisations', 'orleans', 'paint', 'palmer', 'pam', 'pat', 'patients', 'persuaded', 'peshkin', 'phenomenon', 'portraits', 'preventing', 'principles', 'pull', 'q', 'ralph', 'ranger', 'rebbie', 'reflects', 'relied', 'remake', 'remixes', 'retreated', 'robyn', 'rookie', 'saigon', 'saxon', 'scots', 'seated', 'sec', 'segments', 'sentiment', 'separately', 'seventeenth', 'shall', 'slaves', 'specialized', 'spoken', 'stopping', 'streams', 'strikeouts', 'suburb', 'suspected', 'syādvāda', 'terrible', 'thailand', 'tides', 'topological', 'transmitted', 'tribe', 'troop', 'unity', 'wonder', '☉', '1836', '1863', '1877', '1888', '1890s', '355', '978', 'a.v', 'achievements', 'afterward', 'agencies', 'aires', 'anselm', 'arcade', 'arikamedu', 'atomic', 'attractive', 'attributes', 'barbara', 'barnes', 'blockade', 'branches', 'breakdown', 'buenos', 'canceled', 'carty', 'ceiling', 'channels', 'characterised', 'charan', 'chasing', 'check', 'clan', 'comair', 'communists', 'composers', 'concentrations', 'confessions', 'connect', 'continent', 'contributions', 'correspondence', 'corridor', 'costume', 'coupled', 'crescent', 'cuba', 'cuts', 'dads', 'delano', 'demanding', 'demographic', 'depends', 'descendants', 'detective', 'diocese', 'diseases', 'dolls', 'drought', 'dug', 'durand', 'easter', 'emma', 'enlarged', 'explorer', 'faculty', 'fails', 'fatalities', 'feast', 'fever', 'fights', 'flora', 'folklore', 'frustrated', 'gains', 'genuine', 'geological', 'guards', 'guitars', 'gwendolen', 'helicopters', 'hopes', 'incorporates', 'indie', 'infected', 'instrument', 'investigate', 'irregular', 'karl', 'legislative', 'leonardo', 'licence', 'livestock', 'mammals', 'managing', 'manufacturer', 'mating', 'mechanism', 'midway', 'mirror', 'modes', 'mood', 'nautical', 'neutron', 'nicholson', 'nights', 'northwestern', 'ordnance', 'pa', 'panzer', 'paralympic', 'pc', 'prayer', 'probe', 'recalls', 'recover', 'regardless', 'remnant', 'remote', 'reopened', 'repertoire', 'resolved', 'rok', 'rumors', 'sarah', 'scales', 'scenario', 'scrap', 'securing', 'shield', 'sinclair', 'soap', 'solitaire', 'sometime', 'southwestern', 'stansfield', 'strict', 'suez', 'supplied', 'swamp', 'swept', 'tends', 'thereby', 'throws', 'thunderbird', 'traders', 'treat', 'tributary', 'trilogy', 'tune', 'unsuccessfully', 'user', 'vintage', 'vishnu', 'visions', 'wealth', 'widow', '108', '170', '1853', '1858', '1885', '737', 'abandon', 'accidentally', 'acclaimed', 'adds', 'advisory', 'aids', 'ambitious', 'apf', 'assessed', 'assyrian', 'avtovac', 'baron', 'bells', 'belong', 'blackburn', 'bloom', 'bolton', 'boulder', 'boulevard', 'broncos', 'cannon', 'careers', 'catholicism', 'chambers', 'charting', 'clair', 'clusters', 'commitment', 'complained', 'comprises', 'conducting', 'confluence', 'conquered', 'contacted', 'contracted', 'conviction', 'cooler', 'courage', 'creature', 'cure', 'damaging', 'delays', 'depictions', 'deployment', 'desperate', 'devil', 'discussions', 'disliked', 'dissolution', 'dodo', 'dried', 'dropping', 'duarte', 'editing', 'editors', 'eldest', 'eno', 'ensuing', 'envelope', 'errors', 'exercised', 'experiments', 'facts', 'fantastic', 'farms', 'farther', 'fat', 'felicia', 'festivals', 'finland', 'floating', 'fortified', 'giã', 'gorilla', 'graphs', 'herbert', 'identifies', 'imprisoned', 'incursion', 'indonesian', 'instrumental', 'interception', 'interrupted', 'investigated', 'italians', 'jennifer', 'judicial', 'junta', 'khoo', 'kitchen', 'knowing', 'lawsuit', 'lifestyle', 'listening', 'literally', 'loyal', 'loyalsock', 'loyalty', 'maintains', 'manufacturers', 'maple', 'maturity', 'meat', 'megan', 'melbourne', 'merged', 'michaels', 'mini', 'ml', 'morris', 'mortar', 'mostar', 'mrna', 'muslims', 'mutual', 'nash', 'nashville', 'neighborhoods', 'nests', 'nme', 'observe', 'ojibwe', 'orbital', 'ortona', 'outcome', 'output', 'panels', 'paralympics', 'philippines', 'photography', 'playoff', 'pokiri', 'poverty', 'preservation', 'proceeds', 'projected', 'provinces', 'quit', 'racial', 'randy', 'rap', 'readily', 'reflection', 'refuge', 'regulations', 'relating', 'relay', 'relevant', 'removing', 'repaired', 'requiring', 'reserved', 'respected', 'rhymes', 'riaa', 'rico', 'robin', 'robot', 'root', 'rosberg', 'routing', 'royston', 'scout', 'shoes', 'skeleton', 'somebody', 'springs', 'stolen', 'strain', 'strengthening', 'stump', 'succeed', 'suffer', 'supports', 'sussex', 'swing', 'switch', 'tanya', 'tension', 'termed', 'thanks', 'theaters', 'thinks', 'thirds', 'traits', 'treasure', 'truck', 'twelfth', 'umpire', 'uniform', 'veeru', 'versus', 'veteran', 'vettel', 'vi', 'victorious', 'wan', 'weighed', 'whenever', 'witch', 'worker', 'worse', 'wound', 'yeomanry', '114', '131', '1838', '1847', '330', 'accordingly', 'acquire', 'actively', 'admits', 'albeit', 'albion', 'alcohol', 'amphibious', 'anticipated', 'arch', 'austin', 'battlecruiser', 'belongs', 'beta', 'bite', 'blind', 'boca', 'bootleg', 'brunswick', 'bullet', 'cabin', 'cage', 'captains', 'captivity', 'carriages', 'chancel', 'chapman', 'chauvel', 'cherry', 'chopin', 'collision', 'colonists', 'colonna', 'colored', 'competitor', 'concludes', 'consist', 'contrary', 'coordinated', 'diego', 'dig', 'dimensional', 'disappointed', 'disorder', 'doofenshmirtz', 'ease', 'easier', 'eastward', 'educated', 'elderly', 'electricity', 'enable', 'endangered', 'equally', 'evacuate', 'evacuation', 'expense', 'extraordinary', 'fail', 'fairies', 'fathers', 'ferrari', 'fischer', 'flotilla', 'forgotten', 'formations', 'frames', 'franz', 'gather', 'gerald', 'graduating', 'hamar', 'hardcover', 'hate', 'highlights', 'horns', 'hungary', 'immortal', 'imprisonment', 'indians', 'inflicted', 'instances', 'intent', 'intimate', 'jumps', 'kentucky', 'kir', 'kusanagi', 'lighter', 'lithuanian', 'luminosity', 'mantell', 'medley', 'mercy', 'merrifield', 'metals', 'mistake', 'monk', 'mortimer', 'mrs.', 'munich', 'muscimol', 'myths', 'neglected', 'nfl', 'nuclei', 'observing', 'oliver', 'olivia', 'overwhelming', 'participating', 'peggy', 'perth', 'physically', 'presbyterian', 'protagonists', 'quarters', 'raids', 'raw', 'reasoning', 'relocated', 'remember', 'remembered', 'remixed', 'rises', 'roundabout', 'rows', 'ruth', 'sail', 'sailing', 'sandy', 'separation', 'settle', 'shelter', 'shoots', 'sinking', 'slight', 'societies', 'spawned', 'spelled', 'spite', 'stanza', 'substances', 'substantially', 'susquehanna', 'swimming', 'symmetrical', 'sympathetic', 'symphony', 'tactic', 'tensions', 'testament', 'theories', 'thickness', 'threatening', 'traces', 'tucker', 'undertook', 'variant', 'verdict', 'visitor', 'wang', 'wanyan', 'warsaw', 'warships', 'weakness', 'wembley', 'yellowstone', 'zombies', \"'an\", \"'shara\", '102', '106', '1837', '1876', '1883', '260', '2d', '80s', 'accessible', 'adequate', 'adriatic', 'aerodromes', 'alpha', 'americas', 'analyzed', 'aramaic', 'armour', 'associations', 'assured', 'audition', 'averaging', 'berg', 'blame', 'bowlers', 'browns', 'butterfly', 'capcom', 'catherine', 'chancellor', 'chaos', 'charmed', 'chemotherapy', 'clement', 'clergy', 'collecting', 'collector', 'coloured', 'comedian', 'comparable', 'compiled', 'complement', 'connie', 'consequences', 'constantinople', 'contemporaries', 'cooksey', 'coronation', 'crimes', 'cruzi', 'curve', 'decreased', 'definitely', 'delegates', 'delta', 'demolition', 'dick', 'discontinued', 'discusses', 'disturbed', 'dressing', 'eaten', 'economics', 'endemic', 'enduring', 'ensued', 'entertaining', 'essex', 'everybody', 'expectations', 'explicitly', 'fantuzzi', 'feldman', 'fin', 'flame', 'fletcher', 'fluid', 'fold', 'fortifications', 'fossil', 'friedrich', 'gandhi', 'gills', 'glasgow', 'gliders', 'grandson', 'greece', 'harsha', 'hood', 'implement', 'innovative', 'inscribed', 'introduce', 'issuing', 'jagannadh', 'jai', 'jeffrey', 'josce', 'judged', 'juveniles', 'kingship', 'kirk', 'ladies', 'leather', 'lens', 'lovers', 'loves', 'lowered', 'lucky', 'm2', 'marble', 'marc', 'marcus', 'matrix', 'mcc', 'medway', 'mercury', 'metacritic', 'microsoft', 'midnight', 'mitsuda', 'moody', 'moritz', 'municipality', 'newark', 'newcastle', 'nobody', 'occupies', 'opted', 'overlap', 'pack', 'panther', 'parasites', 'parking', 'pays', 'peckii', 'pierre', 'pitcairn', 'pittsburgh', 'plensa', 'pm', 'poisoning', 'possessions', 'pozzobonelli', 'practical', 'pradesh', 'predator', 'predecessors', 'prisoner', 'prolific', 'proof', 'prototype', 'quake', 'raton', 'reassigned', 'regained', 'reprinted', 'reproduction', 'resort', 'rubble', 'saginaw', 'salt', 'sank', 'satisfied', 'savannah', 'serb', 'sergeant', 'sf', 'shock', 'sink', 'solve', 'songwriting', 'specially', 'sri', 'statute', 'stick', 'stoppani', 'stroke', 'survives', 'susan', 'suspect', 'swift', 'tackle', 'taxi', 'teaches', 'thames', 'tin', 'torn', 'touching', 'toxic', 'trademark', 'treason', 'treasury', 'tribbles', 'triumph', 'turret', 'u.s', 'unlimited', 'victor', 'viewing', 'villagers', 'violacea', 'vol', 'yugoslav', 'zhang', 'zrínyi', '‘', '*', '122', '1800', '1840', '1850s', '1852', '1866', '1872', '217', '550', '750', '878', 'abolished', 'accomplish', 'accomplishments', 'activated', 'aden', 'adrian', 'advantages', 'advisories', 'altogether', 'ancestry', 'angered', 'anglesey', 'anthology', 'assume', 'attraction', 'authored', 'azores', 'barometric', 'beaches', 'beaver', 'beneath', 'binary', 'boilers', 'braves', 'brighton', 'bulgaria', 'byron', 'camel', 'carriage', 'cecily', 'ceremonial', 'charitable', 'chi', 'circulated', 'claire', 'cloth', 'collective', 'collectively', 'commit', 'compact', 'competitors', 'compromise', 'confederate', 'confident', 'consciousness', 'consensus', 'contents', 'contested', 'contribute', 'controlling', 'corpse', 'countryside', 'crane', 'cultures', 'denomination', 'descended', 'diagnosis', 'disagreed', 'discipline', 'disputes', 'distinguish', 'diversity', 'dj', 'doctors', 'domain', 'domoina', 'dull', 'eddie', 'eguchi', 'encourage', 'engaging', 'ensured', 'epsom', 'escapes', 'excluded', 'expecting', 'extinction', 'fatal', 'fault', 'favored', 'fees', 'fierce', 'financially', 'fringe', 'funk', 'glory', 'governors', 'grid', 'hanging', 'harvey', 'hereford', 'hibiscus', 'hindenburg', 'hindi', 'hole', 'hurdles', 'hyphae', 'hương', 'identification', 'illustrations', 'imported', 'incidents', 'individually', 'informal', 'interim', 'investors', 'invisible', 'ion', 'joke', 'kid', 'krypton', 'leaked', 'lebanon', 'loaded', 'loading', 'luis', 'malaysia', 'manages', 'manufacture', 'median', 'metallic', 'metallica', 'monastery', 'moons', 'murdered', 'māori', 'n.', 'nationalist', 'nesting', 'nomura', 'northwestward', 'o.', 'odes', 'ono', 'oriented', 'orthodox', 'overlooking', 'palmyra', 'peaceful', 'phases', 'philosophical', 'plates', 'plaza', 'pleased', 'possess', 'privately', 'proclaimed', 'prose', 'puppets', 'purple', 'qi', 'quiet', 'rankings', 'rar', 'reagents', 'rhodesia', 'rivalry', 'robertson', 'rovers', 'satire', 'scenic', 'seize', 'sheet', 'shelters', 'shipped', 'shorts', 'sidon', 'sitcom', 'slavery', 'slip', 'slope', 'speakers', 'springfield', 'staples', 'stokes', 'stretch', 'suited', 'supplement', 'supporter', 'symbolic', 'tears', 'temperate', 'theft', 'thriller', 'timbaland', 'tolerance', 'tool', 'topic', 'topics', 'tough', 'townsville', 'triangle', 'trucks', 'tube', 'twickenham', 'uleki', 'unaware', 'uí', 'varieties', 'viscount', 'wcw', 'websites', 'whites', '~', '1842', '1855', '1860s', '1886', '243', '30th', 'absolutely', 'accumulated', 'accusations', 'advent', 'advocate', 'afraid', 'aging', 'ahk', 'airfield', 'airing', 'alarm', 'alter', 'amun', 'antilles', 'antiquities', 'antiquity', 'anywhere', 'aot', 'appoint', 'architects', 'aria', 'arrows', 'astraeus', 'atoms', 'autobiography', 'basket', 'bassline', 'bent', 'bet', 'bigger', 'blake', 'bold', 'breast', 'brownish', 'bruges', 'brutal', 'buoy', 'busy', 'bypass', 'caa', 'calendar', 'carefully', 'carnival', 'ceratopsians', 'choral', 'circles', 'cleaning', 'climax', 'cobain', 'colin', 'commercials', 'complaints', 'confrontation', 'convert', 'coordination', 'couples', 'cove', 'cream', 'crowned', 'cytoplasm', 'dancers', 'darker', 'decisive', 'delhi', 'demo', 'depict', 'determining', 'devices', 'diagnosed', 'discarded', 'disciples', 'disney', 'dogs', 'dresses', 'drink', 'echmarcach', 'edmund', 'eligible', 'employee', 'escorted', 'essays', 'estates', 'estuary', 'excited', 'expeditionary', 'explosion', 'export', 'facade', 'faction', 'fairy', 'farmland', 'favoured', 'fingers', 'fission', 'flags', 'fossils', 'freely', 'fulbe', 'fusiliers', 'guybrush', 'halfway', 'hangzhou', 'hardy', 'harmony', 'harsh', 'helm', 'homosexual', 'horizontal', 'humorous', 'huron', 'inari', 'induction', 'inferior', 'inherited', 'insurance', 'integrated', 'intensify', 'interactive', 'introducing', 'invented', 'investigating', 'javelin', 'jewels', 'jill', 'joy', 'jtwc', 'kahn', 'kashi', 'keen', 'layout', 'limitations', 'litter', 'longacre', 'lu', 'ludlow', 'majors', 'manning', 'manuscript', 'massa', 'mcluhan', 'membership', 'mercedes', 'merge', 'millimeter', 'moderately', 'molecule', 'monitors', 'monks', 'moored', 'mound', 'mushrooms', 'nancy', 'nationally', 'necessarily', 'neighbouring', 'nobel', 'notices', 'notion', 'novak', 'obsolete', 'olive', 'orchestral', 'ostend', 'owl', 'papers', 'paved', 'performs', 'placement', 'plasma', 'politician', 'populace', 'precise', 'prefectures', 'prehistoric', 'prices', 'princeton', 'prominently', 'protective', 'pseudonym', 'publicity', 'publish', 'pulp', 'raghuveer', 'realize', 'realizes', 'rearguard', 'requests', 'requirement', 'resembles', 'revealing', 'rings', 'riots', 'roofs', 'rowson', 'ruined', 'scrapped', 'seal', 'seasonal', 'semaphore', 'shrubs', 'signals', 'slated', 'smackdown', 'spans', 'sponsorship', 'stained', 'stepped', 'stockholm', 'stored', 'stress', 'strictly', 'struggling', 'subordinate', 'sulfide', 'surfaces', 'sweep', 'synopsis', 'tackles', 'tamil', 'teenage', 'terror', 'thakur', 'tobacco', 'ton', 'tongue', 'trigger', 'trips', 'trunk', 'und', 'underlying', 'unfortunately', 'varying', 'vault', 'vic', 'virtue', 'voyager', 'warnings', 'waterway', 'wayne', 'weaken', 'wednesday', 'weyden', 'width', 'winston', 'witches', 'woodfull', 'woodward', 'wwe', 'wyatt', 'xe', 'yield', 'zealanders', '⁄', '111', '1769', '1833', '1870s', '1879', '24th', '370', 'accelerated', 'accepting', 'achieving', 'acquisition', 'actresses', 'admiralty', 'affects', 'afford', 'aft', 'airplay', 'aisle', 'alike', 'amber', 'analyses', 'anchor', 'anna', 'aoc', 'appealed', 'arabia', 'armstrong', 'attackers', 'avoiding', 'ban', 'belfast', 'benson', 'bermuda', 'blown', 'bowler', 'bride', 'broadly', 'brook', 'carlisle', 'carr', 'cease', 'celebrations', 'ceremonies', 'chu', 'churchill', 'colombia', 'combine', 'complexes', 'congolese', 'consumed', 'continuously', 'cope', 'copper', 'cox', 'critique', 'deadline', 'declining', 'decreasing', 'deeper', 'delicate', 'demons', 'derives', 'detached', 'determination', 'diana', 'diane', 'dictator', 'dictionary', 'digging', 'displacement', 'distinction', 'doc', 'dominion', 'dorothy', 'dorsal', 'downgraded', 'dubious', 'edible', 'efficient', 'eliot', 'ely', 'ensuring', 'erzherzog', 'evaluation', 'everywhere', 'excessive', 'explanation', 'fau', 'feud', 'firmly', 'flanks', 'fleets', 'floors', 'folded', 'font', 'forget', 'fragilis', 'g.i', 'galaxy', 'gentleman', 'grossing', 'haddock', 'hang', 'heaviest', 'heights', 'herbie', 'hermann', 'hiv', 'holotype', 'horsepower', 'hoysala', 'hypothesis', 'index', 'indirect', 'instructions', 'inter', 'itunes', 'jr.', 'keyboard', 'knife', 'kubica', 'kun', 'lamb', 'lamps', 'laying', 'lease', 'legendary', 'lemon', 'lengthy', 'levine', 'liang', 'lighting', 'linking', 'loosely', 'loses', 'mall', 'marketed', 'marrow', 'mask', 'masses', 'medicine', 'megaliths', 'merger', 'minorities', 'mobility', 'monitoring', 'moray', 'motifs', 'mountainous', 'mycologist', 'narrowly', 'neo', 'niece', 'nina', 'norse', 'nova', 'oath', 'odyssey', 'operator', 'orbits', 'orsogna', 'outdoor', 'outfit', 'p.m.', 'paperback', 'particles', 'patch', 'patterson', 'percussion', 'persona', 'petition', 'phillips', 'pipe', 'platte', 'portland', 'prefect', 'pressing', 'primitive', 'proctor', 'progressive', 'prominence', 'properly', 'provoked', 'psychological', 'puck', 'quantities', 'raiden', 'rails', 'random', 'realism', 'redoctane', 'referee', 'refusing', 'relaxed', 'reliance', 'remarks', 'retire', 'retiring', 'rockstar', 'rumours', 'sealed', 'sebastian', 'secretly', 'sediment', 'senators', 'sentenced', 'shirts', 'shops', 'sizes', 'sketch', 'slate', 'sleaford', 'smart', 'smoking', 'soccer', 'solutions', 'sounding', 'spaced', 'speaks', 'spectators', 'spike', 'steady', 'steven', 'stockwell', 'strategies', 'stuff', 'stumps', 'submerged', 'sum', 'supposedly', 'televised', 'tended', 'terminal', 'tertiary', 'theology', 'tiger', 'timing', 'tomita', 'transformation', 'trap', 'tribble', 'trunkline', 'tudor', 'upstream', 'wears', 'wouldn', 'xef', '1801', '1821', '1831', '1834', '1884', '23rd', '275', '480', '57th', 'absent', 'accompany', 'accounted', 'addresses', 'aerodrome', 'airspace', 'allegations', 'allāh', 'alonso', 'amanda', 'ancestors', 'anfield', 'angels', 'angular', 'appreciated', 'arnold', 'atmospheric', 'availability', 'bachelor', 'barbours', 'bark', 'bayeux', 'beast', 'beltline', 'berlioz', 'bias', 'broadcasts', 'brussels', 'businessman', 'butetown', 'calm', 'caravan', 'castles', 'ceo', 'certificate', 'chile', 'churchyard', 'circus', 'civic', 'classics', 'clinical', 'coincide', 'colleges', 'comeback', 'communal', 'compares', 'complaint', 'concentrate', 'conclusions', 'connector', 'consolidated', 'constituency', 'contributing', 'corners', 'cottam', 'crashed', 'critically', 'cu', 'culminated', 'dahlan', 'dangerously', 'darden', 'database', 'defeats', 'democrats', 'designing', 'devised', 'diamandis', 'disrupted', 'dole', 'dome', 'doubled', 'drunk', 'echoed', 'edinburgh', 'effectiveness', 'emerging', 'emily', 'enhance', 'enhanced', 'enjoyable', 'erik', 'erosion', 'expressing', 'feral', 'fernando', 'finger', 'fir', 'fitness', 'fixtures', 'flocks', 'foraging', 'forested', 'foul', 'founders', 'frustration', 'funerary', 'fuse', 'gaga', 'gambia', 'gambling', 'garth', 'gb', 'gladys', 'glorious', 'gon', 'governmental', 'grants', 'griffin', 'grisham', 'guild', 'guilt', 'handful', 'happens', 'happiness', 'harmonix', 'herds', 'horizon', 'huguenots', 'inc', 'incumbent', 'independently', 'instructed', 'intercourse', 'invention', 'islais', 'ix', 'jealous', 'jeremi', 'kaboom', 'larwood', 'lasts', 'licensed', 'lighthouse', 'locals', 'lycoming', 'macarthur', 'manhattan', 'mann', 'massacre', 'mathematical', 'maybe', 'meantime', 'merit', 'meyers', 'missile', 'missionary', 'morale', 'moravia', 'mouse', 'mumbai', 'naturalist', 'necessity', 'negotiated', 'neversoft', 'newer', 'newman', 'normandy', 'nos', 'noticed', 'observes', 'occurrence', 'opéra', 'patronage', 'penis', 'performer', 'persuade', 'pin', 'pirate', 'politically', 'polytron', 'pompey', 'popmatters', 'portray', 'portraying', 'postseason', 'preceded', 'prevalent', 'processes', 'progresses', 'promising', 'promoting', 'proposes', 'provisional', 'pursued', 'puts', 'raf', 'reasonable', 'rebuilding', 'recipes', 'reed', 'referenced', 'reformation', 'refugees', 'reincarnation', 'renowned', 'replay', 'resign', 'resolve', 'retaining', 'richie', 'rod', 'rowland', 'sacrifice', 'scandinavian', 'scheer', 'scouts', 'screening', 'sectors', 'selective', 'sends', 'sentimental', 'shapur', 'shipbuilding', 'shrines', 'siberia', 'sick', 'sin', 'slowed', 'solved', 'specialist', 'stalk', 'staple', 'stead', 'steals', 'strings', 'struggles', 'suburbs', 'suite', 'summoned', 'talented', 'tamaulipas', 'ted', 'theatres', 'theoretical', 'throat', 'ticket', 'tier', 'tonight', 'torchwood', 'tot', 'totaled', 'toys', 'trailer', 'umpires', 'undergraduate', 'underwater', 'unofficial', 'utilized', 'uyghurs', 'vermeer', 'villain', 'virtual', 'virus', 'voting', 'walked', 'wally', 'warner', 'wartime', 'watches', 'weird', 'wire', 'workshop', 'worlds', 'worried', 'zapata', 'ålesund', 'ælfric', 'ōzora', '112', '118', '121', '137', '164', '1830s', '1840s', '185', '1867', '190', '650', 'abraham', 'admired', 'adoption', 'airfields', 'ally', 'amendment', 'amy', 'antagonist', 'argue', 'artefacts', 'attribute', 'backwards', 'baja', 'barbie', 'bend', 'bernissartensis', 'bleeding', 'boo', 'bosi', 'brass', 'breeders', 'broader', 'bulgarian', 'ca', 'cabo', 'cabral', 'capitals', 'chef', 'coldplay', 'collins', 'commissioning', 'committees', 'comparisons', 'compensation', 'composite', 'confined', 'consultant', 'contests', 'convicted', 'convoys', 'corporate', 'craig', 'customers', 'daylight', 'deadly', 'democracy', 'demonstrate', 'depot', 'destinations', 'diary', 'differs', 'disappointing', 'disappointment', 'distress', 'diving', 'divisional', 'dozens', 'drains', 'duchess', 'duncan', 'ear', 'ecclesiastical', 'edit', 'edith', 'eighteenth', 'ellen', 'embassy', 'encouraging', 'ennis', 'epithet', 'etc', 'eugene', 'examining', 'exercises', 'exhibits', 'expect', 'exploring', 'facilitated', 'feedback', 'ferb', 'fiba', 'flanked', 'flightless', 'frontal', 'gauge', 'geastrum', 'gems', 'gendarmerie', 'generations', 'genesis', 'genius', 'gerry', 'glitter', 'gofraid', 'google', 'granting', 'guerrilla', 'gunpowder', 'haitians', 'halftime', 'hawks', 'healthy', 'heated', 'honduras', 'honest', 'hosting', 'huai', 'hyderabad', 'hydnellum', 'iconic', 'inauguration', 'indonesia', 'ing', 'insane', 'insufficient', 'insurgents', 'interpretations', 'inventory', 'isis', 'ivan', 'jackie', 'jail', 'jar', 'jointly', 'jokes', 'julia', 'juvenile', 'keyboards', 'knuckleball', 'kpa', 'kumar', 'l.a.m.b', 'labelled', 'lengths', 'leukemic', 'lift', 'limbs', 'lindsay', 'lisbon', 'liszt', 'ln', 'lunch', 'lyric', 'madres', 'managers', 'mansfield', 'marshall', 'marvel', 'mason', 'mathematics', 'mechanics', 'melancholy', 'memoirs', 'merging', 'michelle', 'minneapolis', 'minsky', 'misunderstood', 'monitor', 'muscle', 'mycena', 'nambu', 'namely', 'negotiate', 'neighborhood', 'neighboring', 'nervous', 'newell', 'nhc', 'novelist', 'née', 'organize', 'organs', 'oricon', 'oswald', 'overnight', 'owed', 'owego', 'partition', 'patriarch', 'payments', 'performers', 'periodically', 'peronist', 'persistent', 'phoebe', 'photo', 'pianist', 'picard', 'pictish', 'plastic', 'pledged', 'podium', 'polar', 'prairie', 'pride', 'proceedings', 'profound', 'programmes', 'protecting', 'protector', 'proto', 'psp', 'rca', 'realm', 'relates', 'relieve', 'repeat', 'resembling', 'reunited', 'rhythms', 'rim', 'roosevelt', 'routine', 'rulers', 'runner', 'saga', 'satirical', 'scandal', 'scientist', 'seller', 'sewage', 'shafts', 'shelby', 'shelley', 'sheridan', 'shooter', 'shortage', 'sided', 'skeletons', 'slash', 'slower', 'smallest', 'soir', 'solitude', 'sperm', 'spinning', 'spreading', 'stan', 'stance', 'stays', 'stela', 'stiff', 'strips', 'submit', 'subsidiary', 'supernova', 'sur', 'surpassed', 'surveys', 'ta', 'talked', 'tallest', 'targeting', 'taunton', 'taxes', 'teammates', 'thanhouser', 'thatgamecompany', 'thief', 'timeslot', 'trench', 'tribune', 'tripoli', 'trustees', 'tying', 'uncertainty', 'unpopular', 'vaishnava', 'validity', 'venom', 'viking', 'volunteered', 'wages', 'wever', 'wines', 'wisdom', 'woodsboro', 'worshipped', 'xi', 'yellowish', '²', \"'pol\", '152', '1825', '1869', '1873', '280', '317', '50th', 'absorption', 'accidents', 'accommodation', 'accounting', 'activist', 'activists', 'affection', 'agaric', 'allegiance', 'amedeo', 'ancestor', 'andrea', 'assess', 'assets', 'associates', 'astonishing', 'attracting', 'augustus', 'bacteria', 'baldwin', 'bang', 'banning', 'basal', 'bee', 'beneficial', 'bileća', 'billed', 'blair', 'bosnia', 'breese', 'broward', 'burnley', 'burnt', 'campaigned', 'capped', 'carbonaria', 'carving', 'cascade', 'casey', 'cedar', 'ch', 'cincinnati', 'citizen', 'cliff', 'clip', 'collegiate', 'comfortable', 'commemorated', 'confirm', 'connecticut', 'constituted', 'constructors', 'convective', 'convenient', 'conversations', 'cos', 'councils', 'counterattack', 'cruiserweight', 'custody', 'dags', 'danish', 'deception', 'declines', 'decree', 'demise', 'democrat', 'depend', 'deposited', 'designers', 'detachment', 'devastated', 'differently', 'dinner', 'diverted', 'downs', 'drifting', 'drops', 'earthrealm', 'ecological', 'elevations', 'emotion', 'enabling', 'enacted', 'enclosed', 'enforce', 'enforcement', 'entity', 'exceeding', 'failures', 'fassl', 'fauna', 'fictionalized', 'figg', 'finley', 'fins', 'fisa', 'flashback', 'flattened', 'flee', 'forge', 'fork', 'framed', 'franco', 'friday', 'frost', 'gabriel', 'generate', 'ghats', 'goddesses', 'granite', 'grecian', 'grossman', 'guys', 'habit', 'hairstyle', 'hardly', 'hatch', 'healing', 'heroin', 'hewitt', 'hinge', 'holland', 'horus', 'husbandman', 'hymns', 'ibotenic', 'illustrate', 'immense', 'imprint', 'indiana', 'innovation', 'instruction', 'iucn', 'jaguar', 'jurisdiction', 'kaiser', 'keeper', 'knock', 'laura', 'laurence', 'lawyers', 'leaf', 'leased', 'likes', 'lobbied', 'lobster', 'locke', 'logical', 'logistical', 'logo', 'longtime', 'macdonald', 'maine', 'maritime', 'markings', 'mcdougal', 'meddings', 'meri', 'minh', 'modeled', 'moist', 'momentum', 'monarchy', 'montagu', 'montenegro', 'motivated', 'napa', 'negatively', 'neighbors', 'nineteen', 'olaf', 'omitted', 'openings', 'openly', 'organisms', 'ottomans', 'outlets', 'outlined', 'outnumbered', 'overlooked', 'oxidation', 'pan', 'parallels', 'patrolling', 'pdr', 'peer', 'phineas', 'phoenician', 'physician', 'physicist', 'pike', 'pipes', 'pitt', 'plagued', 'pocket', 'polka', 'pp', 'praetervisa', 'precious', 'prevention', 'priority', 'probable', 'profitable', 'pronounced', 'prospect', 'proven', 'qedarite', 'qualities', 'radioactive', 'ramon', 'reads', 'reddish', 'regards', 'rejects', 'rely', 'reporting', 'retains', 'revelation', 'revolt', 'ricciardo', 'ridges', 'riff', 'robust', 'salvador', 'satake', 'seeks', 'semen', 'sensation', 'seventy', 'seymour', 'sharing', 'sharks', 'shiban', 'shoulders', 'sins', 'soils', 'sounded', 'specifications', 'sponsor', 'staging', 'stallion', 'stealing', 'sticks', 'stretches', 'suburban', 'successes', 'supervisor', 'surveillance', 'synthesized', 'tang', 'technically', 'teenager', 'tel', 'tempest', 'tennant', 'testified', 'theodore', 'thread', 'tightly', 'tina', 'townships', 'trace', 'transporting', 'trescothick', 'underway', 'uneven', 'unexpected', 'unidentified', 'unnecessary', 'unveiled', 'vague', 'vancouver', 'vertigo', 'warrant', 'wica', 'wii', 'wilfrid', 'wintory', 'withdrawing', 'wounds', 'ylide', 'yourself', '1.e4', '145', '1500', '151', '165', '1759', '1794', '1844', '1864', '1887', '26th', '28th', '320', 'abstract', 'academics', 'accent', 'accurately', 'admission', 'afghanistan', 'agreements', 'aims', 'andré', 'answers', 'archery', 'aretusa', 'ashes', 'assignment', 'assumption', 'attitudes', 'auckland', 'audiobook', 'auto', 'avalon', 'awakening', 'badge', 'banner', 'barriers', 'beethoven', 'beloved', 'benefits', 'biographers', 'blank', 'bohemica', 'bordering', 'boreas', 'borgnine', 'brooklyn', 'bugs', 'caen', 'canadians', 'candidacy', 'canopy', 'capilla', 'captive', 'celebrating', 'cluster', 'coincided', 'columnist', 'commissioners', 'compensate', 'comprise', 'concluding', 'confederacy', 'conscientious', 'contracting', 'conventions', 'cookery', 'counterparts', 'creates', 'criteria', 'crowded', 'culminating', 'customer', 'czech', 'decorative', 'define', 'delivering', 'deserted', 'desires', 'devastating', 'develops', 'differ', 'differed', 'disappearance', 'discharge', 'discography', 'displaying', 'disrupt', 'dissolved', 'divorced', 'dominance', 'doping', 'doubts', 'drain', 'drake', 'dramatically', 'dunn', 'dwarfs', 'elect', 'electoral', 'elephanta', 'elliott', 'embryos', 'emerge', 'emplacements', 'employing', 'enforced', 'enthusiastic', 'entrenched', 'envisioned', 'europeans', 'examine', 'exceptional', 'exceptions', 'experiencing', 'explosions', 'facilitate', 'factions', 'falcon', 'farmer', 'fifteenth', 'fig', 'findings', 'flint', 'foliot', 'footballer', 'françois', 'freed', 'fulfilled', 'furs', 'galentine', 'gamespot', 'garage', 'gases', 'glamorgan', 'grande', 'grassland', 'grip', 'gryllotalpa', 'guests', 'habits', 'halt', 'harajuku', 'hay', 'hbo', 'heavyweight', 'heinrich', 'heller', 'heroic', 'hide', 'highlands', 'highlighting', 'hod', 'homeless', 'hunted', 'ibn', 'iconography', 'ideology', 'illustration', 'immature', 'imminent', 'implied', 'incorporate', 'insular', 'intensification', 'interceptions', 'ironic', 'islam', 'jasper', 'joyce', 'jungle', 'jutland', 'kiss', 'kleine', 'lab', 'lambton', 'larvae', 'lateral', 'legitimate', 'lerner', 'lester', 'letting', 'loch', 'locked', 'log', 'ltd', 'luke', 'lulu', 'lyrically', 'maids', 'marina', 'maría', 'mast', 'metaphor', 'migrate', 'mls', 'modest', 'moisture', 'motherwell', 'muhammad', 'narration', 'nationwide', 'natives', 'nonsense', 'nude', 'nursing', 'objections', 'obligation', 'offspring', 'operative', 'otto', 'outages', 'palenque', 'parodies', 'patient', 'patriarchal', 'payment', 'pearl', 'penelope', 'periodic', 'pest', 'phylogeny', 'picking', 'pig', 'pioneering', 'piper', 'pitchers', 'plague', 'plaque', 'please', 'polyurethane', 'portico', 'portrays', 'portsmouth', 'possessing', 'powderfinger', 'prasad', 'preference', 'preliminary', 'premium', 'presenting', 'presumed', 'principe', 'prism', 'professionally', 'professors', 'prolonged', 'punk', 'quantity', 'quartet', 'questioning', 'racist', 'raiding', 'ranged', 'reclamation', 'recognise', 'reconstructed', 'rector', 'reduces', 'regulate', 'rejection', 'remastered', 'researched', 'richards', 'rocket', 'rogers', 'roseberys', 'rpg', 'sanctioned', 'sandstone', 'santiago', 'scholarly', 'scoreless', 'seeds', 'servants', 'shame', 'shifting', 'shifts', 'shocked', 'sicily', 'sippy', 'solving', 'sophomore', 'stake', 'sterling', 'stevenson', 'stranger', 'stunt', 'substituted', 'subtle', 'sue', 'summarized', 'superstructure', 'supplemented', 'surprising', 'surrey', 'switching', 'sylvia', 'taxa', 'textile', 'timeline', 'tomorrow', 'topping', 'touched', 'traced', 'tract', 'trafford', 'travelers', 'treatments', 'tribal', 'trivial', 'tu', 'tutor', 'ukraine', 'underwood', 'unhappy', 'unified', 'unsure', 'veerashaiva', 'vernon', 'viewer', 'voters', 'weber', 'wheat', 'whiskey', 'winters', 'wizards', 'woody', 'yeah', '103', '138', '155', '1824', '1839', '1845', '1875', '221', '358', '48th', '516', 'accolades', 'accuracy', 'acquiring', 'affiliated', 'agreeing', 'aif', 'ain', 'alert', 'allegedly', 'ambulance', 'ambushed', 'amps', 'amylostereum', 'ancients', 'andreas', 'andrews', 'anglican', 'annexed', 'arabian', 'arise', 'arrange', 'ascension', 'assists', 'ations', 'attain', 'automatic', 'automobile', 'autonomy', 'aviv', 'backdrop', 'baltic', 'bangkok', 'barrows', 'bassist', 'beads', 'bearded', 'benadir', 'besieged', 'beverly', 'biographical', 'biographies', 'biology', 'blofeld', 'bodø', 'boots', 'boxes', 'brandon', 'bronx', 'buckingham', 'buffalo', 'builds', 'bunker', 'buying', 'byzantine', 'calder', 'campuses', 'candidature', 'captures', 'casuarius', 'causeway', 'celestial', 'ceratopsian', 'chapels', 'clash', 'cliffs', 'clive', 'clown', 'coasts', 'comparatively', 'concolor', 'confronted', 'conrad', 'consoles', 'conspiracy', 'consumer', 'cooling', 'corey', 'corruption', 'counted', 'counterpart', 'courtship', 'creatures', 'criminals', 'criticizing', 'curious', 'curriculum', 'dante', 'debts', 'deceased', 'decent', 'declare', 'definitive', 'demokraten', 'demonstrating', 'deposit', 'depressed', 'depressions', 'diarmait', 'differentiation', 'digitally', 'dignity', 'disguised', 'disputed', 'ditch', 'dockyard', 'dodge', 'dominate', 'doug', 'drained', 'dynamics', 'editorial', 'elbow', 'enrolled', 'enzyme', 'episcopal', 'ericsson', 'eurogamer', 'everett', 'exceeded', 'excellence', 'executives', 'explicit', 'facial', 'faithful', 'famine', 'fashionable', 'fatality', 'fc', 'feat', 'fielding', 'file', 'firms', 'fisher', 'fitting', 'foca', 'forbes', 'fore', 'foundations', 'fragment', 'fret', 'fungal', 'gama', 'generating', 'gravitational', 'grouped', 'gunnery', 'guru', 'hailed', 'hammer', 'hank', 'happening', 'harder', 'harvard', 'harvest', 'hastings', 'hi', 'hides', 'hiding', 'huizong', 'hyde', 'ignore', 'imaging', 'impacts', 'incorporating', 'incredible', 'infant', 'infections', 'inn', 'input', 'installation', 'intentionally', 'intentions', 'interact', 'intercepted', 'invertebrates', 'iran', 'iraqi', 'ironclad', 'irony', 'irresistible', 'irrigation', 'jacques', 'jainism', 'jenna', 'johann', 'judges', 'julie', 'juno', 'karnataka', 'kauai', 'kendall', 'kindergarten', 'kingdoms', 'krishna', 'kurstin', 'lanois', 'laser', 'laughing', 'launching', 'legion', 'leon', 'licensing', 'likened', 'lin', 'lined', 'lohan', 'lots', 'louise', 'lowe', 'lsu', 'maat', 'magdalene', 'mammalian', 'mandatory', 'manheim', 'marriages', 'masonry', 'mates', 'merchants', 'microscopic', 'midfielder', 'mongolia', 'moors', 'motif', 'mp', 'musically', 'muzzle', 'nailz', 'narrower', 'neon', 'nigel', 'nike', 'odd', 'opener', 'orozco', 'overly', 'packed', 'panama', 'parasite', 'patrons', 'peers', 'penalties', 'permit', 'persians', 'photos', 'pistols', 'pity', 'polls', 'posed', 'possibilities', 'postponed', 'premises', 'prestige', 'prestigious', 'primetime', 'principally', 'privacy', 'privy', 'probability', 'proceed', 'professionals', 'promises', 'prosecutor', 'protested', 'proud', 'pulse', 'purely', 'quebec', 'quotes', 'rapper', 'ras', 'rats', 'reachability', 'reala', 'receiver', 'recommendations', 'recovering', 'recruiting', 'reds', 'refusal', 'rehabilitation', 'reject', 'rejoined', 'relate', 'reliefs', 'religions', 'renaissance', 'repetitive', 'resemblance', 'restigouche', 'reubens', 'rewarded', 'rfu', 'roadblock', 'robbie', 'rockets', 'ruin', 'ryder', 'salts', 'satisfy', 'sayid', 'scapa', 'sclerodermatineae', 'sculpted', 'sect', 'semifinal', 'seth', 'sexy', 'sierra', 'sightings', 'silence', 'similarity', 'sketches', 'sociology', 'sophisticated', 'spanning', 'spare', 'sparked', 'spector', 'spiders', 'sporadic', 'strait', 'stratford', 'stressed', 'strikes', 'structured', 'superficial', 'superiority', 'supervision', 'surgeon', 'surroundings', 'synonym', 'tables', 'tendency', 'tent', 'terrestrial', 'testimony', 'thaksin', 'tharp', 'thea', 'theologians', 'thirteenth', 'tips', 'tired', 'toirdelbach', 'toro', 'toss', 'totals', 'transitive', 'trauma', 'travis', 'trends', 'trent', 'troubled', 'tyre', 'unbeaten', 'undertaker', 'unemployment', 'unite', 'unprecedented', 'unused', 'vanderwerff', 'vengeur', 'vertebrae', 'vibe', 'visibility', 'vowel', 'ware', 'wasps', 'wheel', 'whip', 'wonderful', 'woodlands', 'wuzhu', '1224', '1766', '1790', '1818', '1820', '1871', '199', '319', '3ds', 'a48', 'abolition', 'acapulco', 'accepts', 'administrator', 'adorned', 'aerosmith', 'alamos', 'algorithm', 'aliens', 'alteration', 'amnesty', 'ankle', 'approve', 'arbeideren', 'archaic', 'array', 'ash', 'assassinated', 'attendant', 'augmented', 'avalanche', 'backgrounds', 'backup', 'bahamas', 'bahá', 'balliett', 'barre', 'barrel', 'barrels', 'barrett', 'bars', 'batou', 'beatles', 'beth', 'bicycle', 'bind', 'bitter', 'blaine', 'bluffs', 'boadicea', 'boost', 'borderers', 'breach', 'bred', 'brittany', 'bros.', 'builder', 'bulkhead', 'bunkers', 'burden', 'burnside', 'burst', 'burton', 'buses', 'butler', 'cameron', 'captained', 'caretaker', 'carlo', 'carrie', 'casemates', 'cg', 'cheers', 'chip', 'choosing', 'citra', 'claude', 'clearance', 'collectors', 'comedic', 'commemorate', 'commitments', 'compare', 'compartments', 'comrades', 'configuration', 'confront', 'conjoined', 'conservatoire', 'contacts', 'contingent', 'contradictory', 'convey', 'counterfeit', 'courtyard', 'croydon', 'cruising', 'crushed', 'cushing', 'customs', 'dana', 'defenses', 'defining', 'deluxe', 'denial', 'denis', 'deny', 'deposition', 'derek', 'destructive', 'detection', 'deteriorated', 'diable', 'dirty', 'disastrous', 'dishes', 'diversion', 'earnings', 'ears', 'edwards', 'efficiency', 'elegans', 'eliminating', 'elimination', 'elongated', 'embodied', 'emi', 'endorsed', 'enix', 'enthusiasm', 'environments', 'eucalypts', 'excavated', 'excitement', 'exodus', 'expired', 'exploits', 'f1', 'fake', 'fcc', 'feminist', 'financed', 'finnish', 'fisheries', 'fixture', 'fonts', 'forthcoming', 'fourteenth', 'fragile', 'fran', 'freestyle', 'frequented', 'freshman', 'fruits', 'fused', 'gabrielle', 'gallipoli', 'geoffrey', 'geology', 'georg', 'giacomo', 'gibraltar', 'glasses', 'gleba', 'glen', 'goaltender', 'grapes', 'groening', 'grossed', 'guarantee', 'halls', 'hamel', 'hatred', 'hawk', 'helikopter', 'hemmema', 'highland', 'hilda', 'hitler', 'holdings', 'homarus', 'hostilities', 'hub', 'hubbardton', 'hybrid', 'hymn', 'icon', 'improvised', 'inappropriate', 'induced', 'inocybe', 'inserted', 'instructor', 'integration', 'intensive', 'invested', 'ironically', 'jains', 'jiu', 'joey', 'judgment', 'jules', 'justified', 'kantara', 'karamokho', 'kerry', 'kodokan', 'kristiansand', 'laborintus', 'lactarius', 'lauderdale', 'lechuck', 'license', 'lifelong', 'liga', 'limiting', 'localized', 'lopez', 'lp', 'lucas', 'magnolia', 'mandate', 'manned', 'mentioning', 'methodist', 'michel', 'microscopy', 'midst', 'migrants', 'milan', 'mineral', 'mistaken', 'mitchells', 'mondlane', 'mongols', 'monumental', 'moresby', 'morphology', 'mortars', 'mottola', 'mourning', 'mozambican', 'mullen', 'myers', 'neared', 'newmarket', 'nguyễn', 'nile', 'nlf', 'noitulove', 'nomadic', 'noon', 'norton', 'nueces', 'oahu', 'obscure', 'osiris', 'outlet', 'outright', 'oversaw', 'owasco', 'owls', 'pad', 'panzergrenadier', 'penetrate', 'penultimate', 'pharaoh', 'philosopher', 'plank', 'plantations', 'planted', 'pneumonia', 'pores', 'pornographic', 'ported', 'posters', 'posture', 'prediction', 'prefer', 'preferring', 'prefers', 'presidency', 'pressures', 'procedure', 'proceeding', 'propeller', 'prophète', 'pulling', 'punctuation', 'pursuing', 'queens', 'racism', 'radial', 'rainbow', 'rally', 'reagent', 'rebuild', 'reconcile', 'recruit', 'redesignated', 'referendum', 'refit', 'regulated', 'reigning', 'renovated', 'rescues', 'reside', 'responsibilities', 'retreating', 'revisions', 'riders', 'risks', 'robe', 'rolled', 'rolls', 'romans', 'rowing', 'rude', 'runoff', 'rushes', 'safely', 'salisbury', 'sampled', 'seed', 'sexpunctatus', 'shadows', 'shapes', 'sharply', 'sheen', 'shipyard', 'shopping', 'shortened', 'shortest', 'singled', 'sits', 'skilled', 'slant', 'slaughter', 'sleeping', 'slender', 'slipped', 'smell', 'somehow', 'somewhere', 'songwriters', 'spaceship', 'speeds', 'spherical', 'spine', 'spirits', 'splash', 'spokesman', 'staircase', 'stalled', 'standings', 'statehood', 'static', 'stefan', 'stems', 'stimulated', 'stomach', 'strained', 'stripped', 'subcontinent', 'subsidies', 'suggestions', 'suppress', 'surfaced', 'suspension', 'synthetic', 'takumi', 'tanaka', 'tbsa', 'tents', 'thermal', 'timed', 'toso', 'traps', 'traverse', 'tromsø', 'trout', 'trusted', 'twenty20', 'uncommon', 'unfinished', 'unions', 'unreleased', 'upcoming', 'ups', 'vacant', 'vasco', 'vaudeville', 'vermont', 'veterans', 'vienna', 'viewpoints', 'violated', 'violations', 'virgil', 'wadi', 'warming', 'washed', 'weighing', 'werneth', 'whedon', 'wheelchair', 'wiedensahl', 'woodstock', 'worthing', 'worthy', 'wru', 'yangtze', 'yu', \"'connor\", '109', '1100', '113', '115', '128', '135', '1761', '1817', '1823', '1829', '1846', '1868', '196', '210', '251', '36th', '420', '440', '448', '450', '910', 'abandonment', 'aberdeen', 'abnormal', 'abrams', 'adjusted', 'advertisement', 'aggressively', 'aground', 'alicia', 'alternating', 'alternatively', 'ambiguous', 'amounted', 'amylostereaceae', 'antioch', 'anzacs', 'apartments', 'arches', 'arenas', 'arsenic', 'arterial', 'artifacts', 'ashley', 'assaulted', 'assaulting', 'assemble', 'asserts', 'asteroids', 'attaining', 'augustine', 'averages', 'bare', 'beetons', 'bequeathed', 'berkeley', 'bestowed', 'bhai', 'bmw', 'bonaparte', 'bosnian', 'bowled', 'boyz', 'bridgehead', 'brood', 'burrow', 'c.r.u.s.h', 'calculators', 'capabilities', 'carson', 'catches', 'catching', 'cds', 'chandler', 'charm', 'cheaper', 'checked', 'chemicals', 'chennselaig', 'chester', 'chestnut', 'chick', 'chiefly', 'choices', 'chords', 'clamp', 'climbing', 'collided', 'compose', 'composing', 'concerto', 'concessions', 'confiscated', 'confusing', 'congregations', 'congressman', 'coniferous', 'conspirators', 'constitute', 'constructing', 'containers', 'continuation', 'controversies', 'conversely', 'converting', 'counts', 'crack', 'creations', 'crests', 'criticisms', 'cubic', 'dangers', 'dear', 'def', 'definite', 'delegation', 'delia', 'deliberate', 'delivers', 'demographics', 'demonstrations', 'deploy', 'designations', 'detect', 'diagram', 'diamonds', 'disagreement', 'disasters', 'disruption', 'distortions', 'dive', 'doctoral', 'doctrines', 'donors', 'doorway', 'downed', 'draining', 'drives', 'dubai', 'duck', 'earthstar', 'eastwards', 'edgeworth', 'eliza', 'elvis', 'eminent', 'emperors', 'energetic', 'ernst', 'erratic', 'examines', 'exchanged', 'expelled', 'expenses', 'explores', 'explosives', 'exported', 'eyed', 'fanning', 'fascist', 'fatigue', 'filling', 'fittings', 'fix', 'flawed', 'flaws', 'flowing', 'fond', 'foods', 'forgiveness', 'forwards', 'fulfill', 'furniture', 'gala', 'galericulata', 'gamer', 'garrett', 'gear', 'giger', 'girlfriend', 'glenn', 'gliding', 'governance', 'grades', 'grayish', 'groove', 'guildford', 'hardcore', 'harm', 'harper', 'hartley', 'headquartered', 'highlanders', 'hilo', 'hire', 'hitter', 'homeland', 'hometown', 'homosexuality', 'hospitallers', 'humour', 'imposing', 'inability', 'inadequate', 'indication', 'inexperienced', 'ingredients', 'inherent', 'insight', 'interference', 'interned', 'intricate', 'ira', 'jacket', 'jerzy', 'jewellery', 'jewelry', 'jihad', 'jubilee', 'julius', 'katie', 'kitana', 'kneeling', 'knoll', 'kreeft', 'laboratories', 'landmarks', 'laps', 'larssen', 'ledge', 'levy', 'lightly', 'likelihood', 'lineup', 'lunar', 'ma', 'magnificent', 'maker', 'malone', 'managerial', 'marching', 'marker', 'markers', 'maskray', 'matched', 'matching', 'mcallister', 'mead', 'medals', 'melodies', 'memoir', 'menu', 'mercer', 'meyer', 'millimeters', 'milton', 'minds', 'mistakenly', 'mistress', 'mock', 'modelled', 'monitored', 'mortality', 'mumia', 'municipalities', 'narrated', 'nasals', 'newton', 'nf6', 'nirvana', 'notts', 'nowhere', 'nsb', 'obsession', 'octagonal', 'odds', 'oghratina', 'ordinance', 'ottawa', 'outfits', 'outposts', 'panic', 'paranormal', 'patent', 'paternal', 'patriotic', 'payne', 'peaks', 'personalities', 'perspectives', 'pesos', 'petersburg', 'petit', 'phylogenetic', 'pier', 'plantation', 'plating', 'pleasant', 'plymouth', 'polehinke', 'popularised', 'portage', 'povenmire', 'ppg', 'premise', 'preparatory', 'prevailed', 'pronunciation', 'propelled', 'prophet', 'proportions', 'propose', 'prospects', 'prosperity', 'provision', 'pudding', 'pupil', 'qualify', 'queenstown', 'quote', 'rao', 'reactors', 'recommendation', 'reliable', 'renault', 'rendering', 'renovation', 'reproductive', 'residues', 'resting', 'resupply', 'retro', 'retrospective', 'revision', 'revisited', 'reward', 'rid', 'risen', 'rivière', 'rochdale', 'roddick', 'rook', 'rope', 'rosemary', 'rosey', 'roster', 'roth', 'royalty', 'ruthless', 'ruwan', 'sabor', 'sandwich', 'scotia', 'scouting', 'scrapping', 'scratch', 'scribe', 'serialized', 'sewer', 'shades', 'shanghai', 'shelling', 'sheriff', 'shields', 'shutout', 'simultaneous', 'sinner', 'sitriuc', 'slot', 'smash', 'snakes', 'snapper', 'snelling', 'solitary', 'solomon', 'spear', 'specified', 'spectral', 'spp', 'sprites', 'stalin', 'steamed', 'stoke', 'stops', 'storytelling', 'substrate', 'sued', 'sustain', 'sybil', 'tadeusz', 'taiyuan', 'takeoff', 'tampa', 'tanzania', 'tatanka', 'tavern', 'tepe', 'terminated', 'terraces', 'texture', 'thinly', 'thoroughly', 'thumb', 'till', 'timor', 'tissues', 'torrential', 'transitional', 'transports', 'treatise', 'trevor', 'triangular', 'unchanged', 'undercover', 'undergoing', 'undergone', 'unreliable', 'unwilling', 'upgrade', 'urging', 'valleys', 'valued', 'var', 'variants', 'variously', 'vassal', 'vatican', 'vegetarian', 'veil', 'verbal', 'verne', 'vhs', 'vicious', 'viii', 'vingtième', 'vinyl', 'visuals', 'văn', 'webster', 'whereby', 'whig', 'willie', 'wise', 'wolverhampton', 'wolves', 'yes', 'zack', \"'pau\", '0600', '1127', '124', '129', '13b', '1648', '169', '1795', '1800s', '1816', '1835', '1841', '202', '270', '29th', '368', '402', '460', '60s', '640', '72nd', '90th', '^', 'a.m.', 'aaa', 'aaron', 'accordance', 'acknowledge', 'adjoining', 'admiration', 'adolf', 'agustín', 'alaska', 'amended', 'amendments', 'amidst', 'ancestral', 'annoying', 'apollo', 'appealing', 'applause', 'appreciate', 'apse', 'aren', 'assaults', 'assuming', 'astronomer', 'attested', 'attractions', 'auction', 'automatically', 'autonomous', 'backward', 'ballot', 'bankruptcy', 'barra', 'basically', 'batters', 'beachhead', 'bedroom', 'beijing', 'belle', 'benedict', 'bidding', 'birthplace', 'bishopric', 'blast', 'blend', 'bollywood', 'bombed', 'boot', 'boring', 'boris', 'breakfast', 'bryant', 'bucket', 'buttons', 'calibre', 'campaigning', 'cancel', 'cannes', 'capability', 'caroline', 'casa', 'casino', 'cass', 'catchment', 'catchy', 'celebrities', 'cello', 'censorship', 'cents', 'champlain', 'chapterhouse', 'charming', 'chromosomes', 'chuck', 'chutzpah', 'cites', 'clade', 'clarified', 'clayton', 'clerk', 'clever', 'climb', 'clips', 'colleague', 'colonization', 'colton', 'combines', 'communicate', 'compatible', 'complaining', 'compulsory', 'concurrently', 'confirmation', 'conical', 'conspicuous', 'contraception', 'contradictions', 'controllers', 'corporations', 'cosmopolitan', 'countess', 'creed', 'crossover', 'cuban', 'cultivated', 'cunningham', 'currents', 'curves', 'cute', 'cylindrical', 'd.c.', 'dalmeny', 'debates', 'declares', 'defines', 'definitions', 'densely', 'denying', 'depleted', 'descendant', 'devote', 'devotional', 'devout', 'differentiate', 'differentiated', 'dilke', 'dimensions', 'diminished', 'directive', 'disguise', 'dish', 'dismissal', 'disston', 'distribute', 'distributor', 'disturbing', 'divide', 'dnl', 'doll', 'dooley', 'downward', 'drowned', 'eager', 'easa', 'ecosystem', 'edwin', 'emigration', 'endorsement', 'engineered', 'erlewine', 'espn', 'establishes', 'exaggerated', 'excluding', 'exemplified', 'exhaustion', 'explorers', 'expose', 'exposing', 'favourable', 'fearing', 'feeds', 'fertility', 'ffordd', 'finn', 'flames', 'flanders', 'flemish', 'flock', 'fm', 'foremost', 'formats', 'fortunes', 'franciscan', 'frankfurt', 'frog', 'fruiting', 'fumble', 'furious', 'félix', 'gag', 'gait', 'galleys', 'gaza', 'generators', 'generic', 'geometry', 'gifts', 'giovanni', 'gm', 'goalball', 'gracehope', 'gracie', 'granada', 'gratitude', 'grazing', 'greenwich', 'grimsby', 'grosmont', 'guangdong', 'guaranteed', 'guatemala', 'guerrero', 'guerrillas', 'gunfire', 'hale', 'hamburg', 'hats', 'heath', 'helena', 'hemlock', 'hereditary', 'hernan', 'hind', 'hindered', 'hispanic', 'holmes', 'honolulu', 'horizons', 'hospitaller', 'hum', 'ibrahim', 'identifying', 'illuminated', 'inc.', 'incendiary', 'incorrectly', 'incredibly', 'ineffective', 'influx', 'informer', 'inhalation', 'inheritance', 'ins', 'instability', 'insurgency', 'intersecting', 'inverness', 'invites', 'jarvis', 'java', 'jessica', 'jitsu', 'jo', 'joanna', 'justify', 'kalyanasundara', 'kanata', 'kemal', 'kieswetter', 'klingons', 'kramer', 'laugh', 'layne', 'lear', 'learnt', 'legally', 'libretto', 'limb', 'listened', 'listings', 'literal', 'localization', 'locate', 'locks', 'lotus', 'lounge', 'ludwig', 'macfarlane', 'madhvacharya', 'malaya', 'maneuvers', 'margins', 'marseille', 'martel', 'marvin', 'masked', 'mastery', 'maze', 'mcmaster', 'megalithic', 'mentmore', 'mess', 'microscope', 'middleton', 'migrated', 'modeling', 'modifications', 'mold', 'mosaic', 'moss', 'motown', 'mounting', 'mud', 'mural', 'murderer', 'myeloid', 'nasty', 'nazis', 'ne', 'nightfall', 'nightmare', 'nobility', 'norbert', 'norfolk', 'nostrovite', 'notoriously', 'obama', 'objected', 'occupying', 'odor', 'ores', 'organizers', 'outflow', 'ovation', 'pageant', 'painters', 'palin', 'patton', 'patty', 'payette', 'peat', 'pedal', 'pen', 'percy', 'perimeter', 'pests', 'peterborough', 'piggott', 'pioneers', 'plaster', 'plenty', 'plums', 'poison', 'pollution', 'posthumously', 'practically', 'presumably', 'prevents', 'prints', 'priorities', 'prizes', 'probes', 'problematic', 'prognosis', 'progressing', 'prohibition', 'promptly', 'proponents', 'providence', 'provoke', 'prow', 'prussian', 'ptolemy', 'pumping', 'punch', 'puppeteer', 'purity', 'pursuers', 'qualification', 'rama', 'ramps', 'rat', 'ravana', 'react', 'reacted', 'readings', 'realizing', 'recaptured', 'redesign', 'redeveloped', 'regain', 'relics', 'researcher', 'resembled', 'responding', 'restructuring', 'revenues', 'ridiculous', 'rodman', 'rodriguez', 'romeo', 'ronnie', 'rugged', 'sacrifices', 'sadness', 'sampras', 'saqqara', 'savoy', 'seer', 'selections', 'sentiments', 'sephiroth', 'sergio', 'settling', 'shah', 'shannon', 'shao', 'shaoguan', 'sheets', 'sher', 'shortages', 'skulls', 'slots', 'sociological', 'soluble', 'southward', 'sparse', 'specialised', 'speeches', 'spines', 'spoiled', 'sponsors', 'spontaneous', 'staffed', 'starr', 'steamboat', 'stranded', 'stupid', 'succeeds', 'sugarcane', 'summers', 'sunken', 'sunshine', 'suppressed', 'suppression', 'surname', 'syllables', 'synonymous', 'synonyms', 'syrian', 't30', 'tabernacle', 'tannery', 'teen', 'terrace', 'thee', 'theological', 'thi', 'thunder', 'torture', 'transept', 'transferring', 'transitioned', 'translate', 'trebinje', 'treble', 'trudy', 'truncated', 'tsubame', 'tufaro', 'twitter', 'tyres', 'ukrainian', 'unacceptable', 'unanimously', 'uncovered', 'undeveloped', 'unexpectedly', 'unopposed', 'unseen', 'uttar', 'uyghur', 'vaballathus', 'valentin', 'valentine', 'vapor', 'vaulted', 'venezuela', 'vickers', 'virtuoso', 'visor', 'vulcans', 'wagon', 'waited', 'wakes', 'wash', 'westbound', 'wetlands', 'wilder', 'wilderness', 'willis', 'winged', 'wintering', 'wishing', 'wooded', 'woods', 'wrought', 'władysław', 'yuan', 'zeebrugge', '♯', \"'africaine\", \"'état\", '104', '123', '1234', '141', '1600', '1616', '1625', '1643', '1646', '1650', '1660', '173', '177', '1776', '18-', '1808', '1811', '1813', '1826', '1828', '262', '290', '305', '32nd', '690', '70s', '77th', '90s', 'abdomen', 'abnormalities', 'abusir', 'accompaniment', 'accumulate', 'acronym', 'adapt', 'addicted', 'admit', 'advancement', 'aesthetic', 'afanasieff', 'agassi', 'aggregator', 'agnes', 'aisles', 'aki', 'alec', 'alma', 'alterations', 'alvarez', 'ambitions', 'ambush', 'amsterdam', 'analysts', 'anatolia', 'anatomy', 'ancona', 'andersons', 'angelo', 'angles', 'answered', 'antarctic', 'antibodies', 'arched', 'archie', 'archives', 'arctic', 'areolatum', 'arromanches', 'assemblies', 'assumes', 'atom', 'attachment', 'attendees', 'augustan', 'awkward', 'axe', 'ba', 'babyface', 'babylonian', 'bachchan', 'backs', 'bahrain', 'balanced', 'ballet', 'barge', 'barges', 'baroque', 'barron', 'basel', 'basilica', 'basins', 'battered', 'beau', 'belly', 'bendis', 'berdych', 'berkshire', 'berman', 'bernstein', 'bin', 'blonde', 'blows', 'boards', 'boeing', 'bomber', 'borne', 'bossy', 'bottle', 'bourbon', 'boxer', 'brad', 'bradley', 'brienne', 'broadside', 'buddha', 'buff', 'builders', 'burt', 'bury', 'calculations', 'callisto', 'capitol', 'cardell', 'cardiac', 'careful', 'carnegie', 'carriageway', 'carriers', 'casterman', 'casualty', 'centenary', 'centipede', 'centred', 'certification', 'chapat', 'chariot', 'chased', 'chasuble', 'chaykovsky', 'cholera', 'cinquemani', 'citation', 'classify', 'cockpit', 'cogan', 'colombian', 'combatants', 'combinations', 'comedies', 'commended', 'compelled', 'complications', 'computing', 'concealed', 'conceded', 'concurrent', 'conductor', 'confederation', 'confessed', 'confronts', 'conscience', 'consecrated', 'consideration', 'consolidation', 'constraints', 'consul', 'consulted', 'consume', 'consuming', 'container', 'contaminated', 'contention', 'continually', 'continuity', 'contrasts', 'conveyed', 'convinces', 'convincing', 'copenhagen', 'copperfield', 'copulation', 'cossacks', 'costly', 'coty', 'counterattacks', 'coward', 'crassweller', 'creators', 'crewmen', 'crex', 'cristina', 'croix', 'crow', 'culinary', 'cultivation', 'cults', 'cummings', 'cylinder', 'dame', 'dances', 'daniels', 'dareus', 'deacon', 'deleted', 'den', 'denominations', 'depaul', 'depths', 'destined', 'detailing', 'diplomat', 'disbandment', 'discovering', 'discretion', 'discus', 'dislike', 'dismantled', 'dismay', 'dissenting', 'dodgers', 'donation', 'dots', 'dr', 'draftees', 'drafts', 'dreadnoughts', 'dreamers', 'drill', 'ducks', 'dupri', 'eagles', 'ecosystems', 'edibility', 'em', 'emitted', 'emotionally', 'emphasised', 'empires', 'employs', 'endurance', 'endured', 'enrollment', 'equilibrium', 'eroded', 'eternal', 'exceptionally', 'executing', 'exploit', 'exploited', 'f.c', 'fab', 'facto', 'farley', 'farmington', 'fewest', 'fiji', 'finishes', 'firth', 'flagler', 'fleming', 'flexible', 'floodplain', 'fog', 'foliage', 'forestry', 'forts', 'fraction', 'freeze', 'freezing', 'freight', 'freighter', 'frenchmen', 'freshmen', 'frozen', 'fruitbodies', 'fulton', 'funnel', 'futa', 'gal', 'galleries', 'gamma', 'ganymede', 'gareth', 'gazette', 'gemma', 'geographic', 'gibbons', 'gifted', 'glider', 'goalkeeper', 'gorillas', 'gravel', 'grounded', 'guidelines', 'gyswllt', 'ham', 'hansen', 'hartford', 'hastily', 'hated', 'hayes', 'headwaters', 'hemmemas', 'hen', 'herding', 'hetman', 'hilarious', 'hinted', 'homage', 'homs', 'honored', 'horsemen', 'huddersfield', 'hymenium', 'iberia', 'iberian', 'icy', 'idyllwild', 'immemorial', 'implications', 'impressions', 'inaccessible', 'inclined', 'indemnity', 'indo', 'indoors', 'inferred', 'informs', 'inlet', 'innocence', 'inshore', 'intellectuals', 'intending', 'interacted', 'interface', 'io', 'ions', 'ir', 'isaac', 'ishmael', 'isolation', 'ivor', 'ivory', 'jake', 'jefferson', 'jellicoe', 'jets', 'jewell', 'journals', 'juice', 'jurassic', 'kajal', 'kauffman', 'keepers', 'kilograms', 'kinney', 'kiryat', 'kitty', 'knowles', 'krasinski', 'kung', 'kỳ', 'laevigatum', 'lao', 'lauded', 'lavish', 'lent', 'libraries', 'lineage', 'lineman', 'lining', 'listener', 'logan', 'lois', 'loops', 'loving', 'lungs', 'luther', 'm4', 'macv', 'madagascar', 'madness', 'magician', 'mahāvīra', 'mammal', 'manders', 'manitoba', 'marlene', 'marrying', 'matilda', 'maxwell', 'mcdonald', 'meals', 'mev', 'mice', 'michelin', 'midday', 'midlands', 'mined', 'ming', 'miracle', 'mitochondrial', 'mk', 'modification', 'moe', 'moines', 'monastic', 'monte', 'moreover', 'morocco', 'motives', 'motoko', 'motorists', 'ms.', 'muldaur', 'mutinus', 'mw', 'mysore', 'nameless', 'naples', 'narvesen', 'nato', 'nazareth', 'nectar', 'negras', 'neighbor', 'neoscapteriscus', 'nestlings', 'netflix', 'neutrons', 'nicaragua', 'niche', 'nico', 'nominate', 'northeastward', 'nwa', 'obstacle', 'oklahoma', 'olds', 'operatic', 'optical', 'optimism', 'opus', 'orientation', 'overt', 'overview', 'packaged', 'palestro', 'pandu', 'paratroopers', 'parkway', 'parsons', 'pasha', 'pastoral', 'patches', 'peck', 'pendragon', 'penguins', 'persecution', 'petitioned', 'petroleum', 'pfa', 'phenomena', 'philosophers', 'phrases', 'piazzi', 'piedras', 'piers', 'pilgrimage', 'pitches', 'planners', 'plausible', 'plea', 'plentiful', 'plunkett', 'pml', 'poehler', 'poisonous', 'polished', 'porch', 'pore', 'portal', 'poured', 'pray', 'precinct', 'precisely', 'predation', 'predatory', 'prescribed', 'primaries', 'productive', 'prone', 'proportional', 'prospective', 'prototypes', 'prpić', 'qinzong', 'rabbi', 'ragale', 'raiders', 'railways', 'randolph', 'recapture', 'recommend', 'reconciliation', 'reese', 'refuse', 'relocation', 'reluctant', 'relying', 'remembering', 'remembers', 'reminds', 'renovations', 'rent', 'rented', 'rené', 'reopen', 'repetition', 'rerouted', 'resource', 'respects', 'rested', 'resurrection', 'reunion', 'revue', 'reworked', 'riker', 'rml', 'rodríguez', 'rom', 'rufus', 'rutgers', 'saffir', 'sake', 'salvation', 'scarce', 'scarlet', 'scheduling', 'schmidt', 'schmoke', 'scranton', 'seam', 'secrets', 'seldom', 'separates', 'sequels', 'settings', 'shane', 'shattered', 'shed', 'sid', 'sighted', 'signaling', 'sihanouk', 'simplicity', 'sirius', 'slabs', 'sleeves', 'snap', 'socially', 'socks', 'somaliland', 'sonic', 'sosa', 'soundtracks', 'soval', 'spectacular', 'speculates', 'spencer', 'sphere', 'spisevognselskapet', 'splicing', 'statistical', 'steering', 'stelae', 'stipe', 'stole', 'stretching', 'stunning', 'subfamily', 'suborder', 'subplot', 'succeeding', 'sulfur', 'sunset', 'supervising', 'supportive', 'surf', 'surveying', 'susceptible', 'swaziland', 'switched', 'syndrome', 'talents', 'tata', 'tate', 'templar', 'terri', 'terrorism', 'thematic', 'theorist', 'thicker', 'tops', 'torso', 'towed', 'trailing', 'transcribed', 'traveler', 'treaties', 'treating', 'triggered', 'tsunami', 'turing', 'turtle', 'typewriter', 'uhf', 'unas', 'understory', 'undirected', 'unicorn', 'uniforms', 'uranium', 'urgent', 'usace', 'venice', 'viable', 'viewpoint', 'vig', 'vigorously', 'warns', 'warts', 'warwick', 'weaker', 'weaving', 'welfare', 'whitish', 'wholly', 'willingness', 'winslow', 'worms', 'wrestled', 'zoe', 'zweig', 'zygoballus', '‑', '..', '0000', '107', '1150', '1170', '119', '1219', '127', '129xe', '132', '1553', '174', '1770', '1772', '1775', '1793', '1803', '1810', '1812', '1822', '1827', '201', '215', '253', '27s', '3000', '310', '35th', '49th', '533', '65th', '660', 'abandoning', 'abingdon', 'aboriginal', 'accelerate', 'accession', 'accessories', 'adorján', 'affinity', 'africans', 'airways', 'akin', 'alden', 'algorithms', 'aligned', 'altitude', 'ambient', 'amiga', 'animations', 'annie', 'announce', 'antiquaries', 'anton', 'apparatus', 'apple', 'applying', 'approximate', 'aqha', 'archive', 'arguably', 'arish', 'arising', 'arnhem', 'asclepius', 'assisting', 'attendants', 'auditioned', 'authenticity', 'avery', 'avon', 'backstory', 'bag', 'ballads', 'bard', 'bas', 'bayern', 'bays', 'befriended', 'berio', 'bessin', 'biased', 'birch', 'birkin', 'blackstone', 'blew', 'blocking', 'blog', 'blowing', 'boarding', 'boogie', 'bounded', 'bounds', 'bowie', 'bowman', 'breakout', 'breakthrough', 'breath', 'bree', 'brest', 'brightness', 'broods', 'broom', 'bsu', 'burgh', 'byway', 'bédard', 'calcutta', 'camped', 'capel', 'cared', 'carrington', 'cartoon', 'caste', 'cement', 'charities', 'charlton', 'cheap', 'cheltenham', 'chiefs', 'chin', 'chooses', 'cinematic', 'clearwater', 'client', 'clients', 'clutch', 'cnn', 'coached', 'comfort', 'commentaries', 'conclude', 'conformity', 'congestion', 'constrained', 'consulting', 'consumers', 'contexts', 'convince', 'cooke', 'cooperate', 'cornwallis', 'cosmic', 'costa', 'costing', 'coyotes', 'cpr', 'crabble', 'cries', 'croats', 'crowe', 'crude', 'crust', 'culverhouse', 'cups', 'curtain', 'cycles', 'dahl', 'damietta', 'darpa', 'deciduous', 'degenerate', 'delaying', 'dell', 'demonstrates', 'denoting', 'deposed', 'derivatives', 'deterioration', 'detonated', 'devon', 'dillon', 'dire', 'disappear', 'disciplines', 'dismiss', 'disqualified', 'divinities', 'dominic', 'doremus', 'doubles', 'dre', 'drumming', 'dubliners', 'easterly', 'eccentric', 'echo', 'echoes', 'eclipse', 'economically', 'eduardo', 'elaine', 'elegant', 'emmanuel', 'emphasizes', 'employer', 'emptied', 'enclosure', 'encore', 'encouragement', 'engagements', 'enterprises', 'entrances', 'entries', 'equated', 'es', 'escaping', 'ethiopia', 'eukaryotic', 'evan', 'evolutionary', 'exempt', 'expertise', 'explode', 'exploitation', 'expresses', 'expressions', 'extraterrestrial', 'extraterrestrials', 'extravagant', 'fades', 'fancy', 'fanny', 'fashioned', 'faults', 'feasible', 'feather', 'feminine', 'fence', 'feudal', 'fieldfare', 'finances', 'fincher', 'fingal', 'fluorescence', 'folds', 'forbs', 'forelimbs', 'formidable', 'fortification', 'fraud', 'freeman', 'frescoes', 'fu', 'fumbled', 'functioning', 'funnels', 'funniest', 'galileo', 'gallons', 'garner', 'geffen', 'generous', 'gentle', 'genuinely', 'gesture', 'gilda', 'gillian', 'ginsberg', 'goalscorer', 'goldberg', 'goldman', 'gradual', 'graduation', 'grasslands', 'greco', 'greens', 'gregorian', 'grief', 'grooves', 'gum', 'hadrosaurids', 'hairs', 'halliwell', 'hammond', 'hanover', 'hanuman', 'hardware', 'hartman', 'hearted', 'heather', 'hebrides', 'heidfeld', 'heinz', 'henderson', 'hitchcock', 'hooked', 'hopkins', 'hotspur', 'howitzers', 'hoʻolulu', 'hugo', 'humanities', 'humidity', 'hunger', 'ibari', 'ibm', 'ickes', 'identities', 'illusion', 'imagined', 'immune', 'impending', 'import', 'inaugurated', 'incapable', 'incense', 'inclination', 'inconsistent', 'incorrect', 'inflict', 'inform', 'infrared', 'inhabit', 'insect', 'inspire', 'instantly', 'intake', 'intend', 'intends', 'intentional', 'intervals', 'introductory', 'invade', 'invalid', 'invoked', 'ione', 'irb', 'isabel', 'jamaica', 'janelle', 'jeremiah', 'jerome', 'jew', 'jorge', 'jovian', 'kedar', 'kedok', 'kelley', 'kesteven', 'ketawa', 'kettering', 'khmer', 'ki', 'kicker', 'knocking', 'kovalainen', 'kowang', 'krasnyi', 'kressenstein', 'lamented', 'lanka', 'largs', 'latitude', 'launches', 'lebanese', 'leopard', 'lesson', 'levee', 'lexington', 'león', 'lincolnshire', 'linda', 'lively', 'liver', 'llanilltern', 'lofty', 'lon', 'lowell', 'lucasarts', 'lucasfilm', 'luminous', 'lynch', 'maclagen', 'majesty', 'makeup', 'malcolm', 'mana', 'manifestations', 'mantellisaurus', 'mariners', 'marquis', 'matagorda', 'mayer', 'mayo', 'mccay', 'mccoy', 'mckay', 'measurement', 'mecca', 'mekong', 'melting', 'meredith', 'mesolithic', 'mesopotamia', 'metropolis', 'mfume', 'middlesex', 'midland', 'millimetres', 'minus', 'missiles', 'mistakes', 'monday', 'monopoly', 'monroe', 'monsters', 'montagne', 'morality', 'morel', 'morels', 'morhange', 'moscow', 'motivation', 'muster', 'namco', 'nantucket', 'nasal', 'necessitated', 'necklace', 'neighbours', 'neural', 'neutrinos', 'newborn', 'nha', 'nickel', 'nocturnal', 'noel', 'nol', 'nomen', 'nominee', 'northumbria', 'noticeable', 'nottingham', 'npr', 'nucleolus', 'o2', 'oaks', 'offseason', 'operators', 'oppose', 'optional', 'originals', 'os', 'osato', 'oshii', 'outlaw', 'overturned', 'pagodas', 'pairing', 'palaces', 'palacios', 'pamphlet', 'panned', 'paradigm', 'parallax', 'parole', 'particle', 'paste', 'pathways', 'patricia', 'pectoral', 'pencerah', 'perceive', 'peripheral', 'petra', 'pews', 'phones', 'phonographic', 'pile', 'plagiarism', 'planetary', 'plated', 'pledge', 'plumes', 'po', 'pond', 'pools', 'possesses', 'postwar', 'pounders', 'practitioners', 'precedent', 'precursor', 'predict', 'predominant', 'preserving', 'presided', 'prevailing', 'preview', 'profession', 'prostitute', 'protégé', 'psyche', 'psychiatric', 'publicized', 'puritans', 'quadruple', 'quotation', 'ramp', 'raphael', 'realise', 'recall', 'recipient', 'recognizes', 'recounted', 'recruits', 'rectory', 'reef', 'reefs', 'refined', 'regeneration', 'reggae', 'regulatory', 'reinstated', 'rejoin', 'remade', 'remark', 'remedy', 'remission', 'renumbering', 'repeats', 'replica', 'requesting', 'residing', 'resistant', 'resisted', 'resonance', 'restrict', 'rests', 'resurrected', 'reuter', 'ric', 'ricky', 'riedesel', 'riverside', 'roddenberry', 'rods', 'romanesque', 'romano', 'romantically', 'rooted', 'rotating', 'rotten', 'rouge', 'rover', 's.c.', 'sac', 'sacristy', 'safin', 'sails', 'sal', 'sampling', 'sanford', 'scenery', 'schafer', 'schemes', 'scratchley', 'scripted', 'scripture', 'seizing', 'semitic', 'serialised', 'servant', 'shaiva', 'sham', 'sharma', 'shawn', 'sheer', 'sheikh', 'shelf', 'shocking', 'shoreline', 'shula', 'sidney', 'sighting', 'simmons', 'skeletal', 'sloan', 'socialist', 'sociologist', 'sodium', 'sognsvann', 'sori', 'souls', 'sourced', 'soyuz', 'spanned', 'speckles', 'spectre', 'spikes', 'spiral', 'splits', 'spruce', 'squat', 'stamp', 'standout', 'starboard', 'steal', 'steamboats', 'steeltown', 'steffy', 'stipulated', 'stolac', 'strachan', 'stripes', 'strive', 'stuck', 'subgenus', 'submission', 'sully', 'superintendent', 'supervised', 'suppose', 'susanna', 'swallowed', 'swansea', 'tablets', 'tails', 'tan', 'taneytown', 'taxonomic', 'tea', 'telecom', 'threaten', 'thursday', 'tipped', 'titus', 'tobias', 'tomatoes', 'toned', 'tow', 'toxicity', 'trades', 'transform', 'transmissions', 'trenches', 'tricks', 'trioxide', 'trotternish', 'truce', 'tsung', 'turmoil', 'twist', 'ucl', 'underparts', 'universally', 'unnatural', 'upright', 'urine', 'vale', 'vance', 'vein', 'vertically', 'veto', 'vicar', 'vincent', 'violet', 'vivid', 'volcanic', 'volcano', 'voluntary', 'waking', 'walled', 'wardrobe', 'warn', 'webb', 'welcomed', 'widened', 'willoughby', 'wily', 'worcestershire', 'wording', 'yahoo', 'yanjing', 'yearly', 'yeast', 'yielded', 'ymca', 'yoko', 'youthful', 'yucatán', 'z.', 'zartan', 'zimbabwe', 'zimmerman', 'île', 'μm', '≤', \"'las\", \"'rourke\", '1126', '1217', '1221', '1270', '1390', '146', '149', '157', '1605', '1615', '1632', '1639', '167', '1804', '1806', '1809', '1843', '1900s', '205', '232', '254', '31st', '38th', '44th', '47th', '5191', '590', '874', '950', 'abrupt', 'acc', 'acknowledges', 'additions', 'addressing', 'adequately', 'admitting', 'advert', 'advocating', 'ahiṃsā', 'aide', 'akira', 'alexandra', 'allan', 'altering', 'amidships', 'amlaíb', 'amusement', 'anchored', 'andhra', 'andorian', 'angela', 'announcing', 'annular', 'anomaly', 'antelope', 'anthodon', 'anthropology', 'anticipation', 'antigua', 'antiquarian', 'antique', 'antisemitic', 'antony', 'apprentice', 'appropriately', 'aquatic', 'ara', 'ardan', 'aristocratic', 'armenian', 'arrow', 'ascending', 'ascot', 'ashbee', 'asleep', 'assassin', 'assassins', 'assert', 'assign', 'atkinson', 'austen', 'autobiographical', 'ava', 'avatars', 'avian', 'axel', 'babe', 'backyard', 'bafta', 'baht', 'balestre', 'banaras', 'barack', 'barn', 'barrage', 'batch', 'bds', 'beams', 'bench', 'berardi', 'bernissart', 'bike', 'blackley', 'blessed', 'blessing', 'bo', 'boating', 'bolivia', 'bolster', 'bonding', 'booms', 'bordered', 'braathen', 'brahma', 'brahmin', 'branched', 'branded', 'bravery', 'bricks', 'bridging', 'brush', 'brutality', 'bungie', 'burials', 'cadet', 'caesarea', 'calculation', 'candace', 'candy', 'canvas', 'carlyle', 'carvings', 'castile', 'cathedrals', 'caucasian', 'cemented', 'ceratopsia', 'certainty', 'champu', 'chastity', 'chemist', 'chesapeake', 'chloride', 'chong', 'choreography', 'christina', 'cilicia', 'citadel', 'cite', 'ciudad', 'cladogram', 'claret', 'clarke', 'classrooms', 'cleland', 'climbed', 'cns', 'coffin', 'commentator', 'committing', 'comparative', 'compelling', 'compressed', 'compromised', 'computational', 'con', 'conclave', 'condemning', 'conditional', 'conflicting', 'conformation', 'conifers', 'conning', 'consort', 'convergence', 'convex', 'cooled', 'corrected', 'correctly', 'cortland', 'cosmetic', 'councillor', 'countdown', 'crafted', 'creativity', 'crested', 'crosby', 'cuisine', 'cured', 'curiosity', 'curse', 'cy', 'cytogenetics', 'd5', 'd6', 'daly', 'darling', 'darren', 'decreases', 'dee', 'degraded', 'delegated', 'delight', 'delightful', 'demos', 'denise', 'denver', 'descending', 'descriptive', 'deserves', 'desirable', 'dhangar', 'dharmendra', 'dialogues', 'disagree', 'disagreements', 'disgust', 'disk', 'disposed', 'dissolve', 'div', 'divers', 'dodos', 'domains', 'draught', 'drilling', 'dueidar', 'duel', 'dun', 'dungeon', 'durga', 'duvall', 'ectomycorrhizal', 'edgar', 'elk', 'elrane', 'embroiled', 'emphasize', 'encountering', 'engages', 'engraving', 'enjoys', 'epidemic', 'epiphany', 'equaliser', 'equality', 'esa', 'esarhaddon', 'est', 'eurasia', 'exhibitions', 'exits', 'exotic', 'expansions', 'extract', 'extras', 'faint', 'falsetto', 'farber', 'fare', 'fascinating', 'façade', 'fidelity', 'filmmakers', 'finely', 'firepower', 'fisherman', 'flashes', 'flats', 'fledgling', 'florence', 'flowed', 'forecast', 'forehead', 'fragmentary', 'framing', 'freeville', 'friction', 'frieze', 'fruition', 'fury', 'gaba', 'gaboon', 'gavin', 'geopyxis', 'georges', 'gil', 'glacis', 'glastonbury', 'globular', 'glossy', 'glowing', 'goats', 'gonzalez', 'goose', 'govern', 'graded', 'grasp', 'greenish', 'greenland', 'greeted', 'grievances', 'gruffudd', 'grunge', 'gustav', 'hampton', 'handsome', 'hardest', 'harford', 'harihara', 'harmonies', 'hauled', 'haunted', 'hazard', 'hd', 'headdress', 'heating', 'hebei', 'heine', 'henri', 'heroine', 'herries', 'hersey', 'hey', 'heylin', 'hierarchy', 'hightower', 'holden', 'holders', 'holidays', 'hollinwood', 'homarinus', 'honorius', 'hostage', 'houllier', 'hubert', 'hung', 'hungry', 'hutchinson', 'hypacrosaurus', 'iceland', 'iguana', 'il', 'illinoise', 'illustrates', 'immortals', 'implementation', 'implying', 'impose', 'inactive', 'incorporation', 'incubation', 'indirectly', 'indochina', 'inez', 'infested', 'ingestion', 'inhabits', 'innovations', 'insert', 'insists', 'inspection', 'installations', 'installment', 'insult', 'integral', 'interchanges', 'interfere', 'interlude', 'internationals', 'intro', 'invaders', 'iodine', 'ipswich', 'iroquois', 'irregularly', 'isotope', 'jallon', 'jeep', 'jermaine', 'jesse', 'jesuit', 'jetport', 'jig', 'joked', 'judaism', 'judgement', 'jumped', 'ka', 'kamil', 'kass', 'kawartha', 'kilometre', 'kimi', 'knot', 'kraków', 'laborers', 'lacy', 'lambeosaurus', 'lambert', 'lambs', 'lamina', 'lance', 'langer', 'layered', 'lays', 'lbws', 'leap', 'lecture', 'lectures', 'levant', 'leveled', 'liberator', 'lifespan', 'lifting', 'lionel', 'loaned', 'localities', 'lodged', 'lonely', 'looting', 'lordship', 'lovely', 'lucie', 'luck', 'lucrative', 'mackenzie', 'macrianus', 'madame', 'makers', 'makovicky', 'malaysian', 'malta', 'mama', 'mandated', 'maneater', 'manila', 'manipulating', 'manipulation', 'manoeuvre', 'manoeuvres', 'manpower', 'manuela', 'mara', 'marches', 'marco', 'marty', 'masculine', 'maui', 'mays', 'mcfarland', 'mcmanaman', 'meadows', 'meal', 'mechanic', 'mechanisms', 'mediate', 'mediocre', 'melt', 'mentally', 'mer', 'messenger', 'mgb', 'mickey', 'migratory', 'milky', 'minded', 'misses', 'missionaries', 'mithra', 'mob', 'mobbing', 'monaghan', 'monkeys', 'monogamous', 'monsen', 'moor', 'morally', 'morton', 'motions', 'mozart', 'muscular', 'mutually', 'myles', 'métis', 'nationalism', 'nebula', 'ned', 'needing', 'nek', 'ness', 'niches', 'nightclub', 'nitrogen', 'nominal', 'notified', 'nottinghamshire', 'nr', 'nutrients', 'nymphs', 'oakley', 'obey', 'obliged', 'obviously', 'occupational', 'ok', 'okinawa', 'onward', 'optimistic', 'orbiting', 'ordination', 'ore', 'oriental', 'osaka', 'outlaws', 'outlook', 'outrage', 'outskirts', 'outworld', 'overhead', 'overlapping', 'overrun', 'overs', 'packs', 'pads', 'paler', 'pamela', 'pantheon', 'par', 'parable', 'parasaurolophus', 'parcel', 'passport', 'pastor', 'peculiar', 'penetrating', 'pentwyn', 'permits', 'petty', 'pflueger', 'piccadilly', 'piercing', 'pilgrims', 'pitchfork', 'pius', 'platt', 'pola', 'policeman', 'ponderosa', 'poorer', 'popmart', 'popularized', 'postal', 'potatoes', 'powerhouse', 'prayers', 'precision', 'presbyterians', 'presenter', 'presidents', 'pressured', 'priced', 'priory', 'procedures', 'procured', 'prognostic', 'prohaska', 'projectiles', 'promiscuous', 'protestants', 'provoking', 'psychology', 'pub', 'pursues', 'qf', 'quarterfinals', 'quasi', 'questionable', 'quoting', 'rage', 'railroads', 'raj', 'rarity', 'reacts', 'receptors', 'reclassified', 'recommending', 'recycled', 'redesigned', 'redoubts', 'reliability', 'reluctance', 'renewal', 'repairing', 'repel', 'repelled', 'repertory', 'reply', 'reprint', 'reproduce', 'reptiles', 'republicans', 'resigning', 'retitled', 'reused', 'revered', 'reverend', 'revive', 'revolutionaries', 'ribbon', 'ribosomal', 'richly', 'richter', 'ridden', 'rides', 'riffs', 'riot', 'robbery', 'robed', 'roberto', 'rodney', 'rogatti', 'rogue', 'rommel', 'roosts', 'rosso', 'roussillon', 'rpm', 'rudolph', 'sabo', 'saddle', 'sage', 'sago', 'salem', 'sammy', 'santander', 'saunders', 'sawmills', 'scarf', 'scholastic', 'schumann', 'scientifically', 'scientologists', 'screaming', 'screenwriter', 'scrutiny', 'searched', 'searches', 'seawall', 'seedlings', 'sentencing', 'separating', 'sepinwall', 'sevastopol', 'severed', 'sexes', 'shade', 'shakespearean', 'shang', 'shearer', 'shelled', 'shelton', 'shoe', 'shores', 'showcase', 'shy', 'si', 'sights', 'signings', 'simulate', 'simón', 'sinatra', 'singular', 'sixteenth', 'snowy', 'sonthi', 'sorties', 'sorts', 'southwestward', 'sovetsky', 'sparsely', 'specialists', 'spectacle', 'spends', 'spillway', 'spokesperson', 'spotlight', 'sprint', 'starbucks', 'steele', 'steeplechase', 'stephanie', 'stint', 'straightforward', 'strategically', 'strengths', 'styled', 'subdivisions', 'subterranean', 'subtypes', 'sucre', 'sunderland', 'supermarionation', 'supper', 'sustaining', 'swim', 'swords', 'swung', 'synth', 'syphilis', 'takeover', 'tar', 'taxon', 'technological', 'tender', 'tenor', 'therapeutic', 'threatens', 'thriving', 'thunderstorm', 'tlc', 'toilet', 'totaling', 'tottenham', 'translucent', 'transverse', 'treats', 'tri', 'triceratops', 'trimurti', 'trinsey', 'tuned', 'twenties', 'twigs', 'typography', 'uh', 'ultraviolet', 'unanimous', 'underside', 'undertake', 'undertaking', 'undoubtedly', 'uneventful', 'unpaid', 'updates', 'upward', 'useless', 'utility', 'utterly', 'vai', 'vain', 'vampire', 'vanished', 'vanity', 'varrick', 'varsity', 'vesta', 'vibrant', 'vicarious', 'vicars', 'viewership', 'villiers', 'vineyards', 'vishwanath', 'visually', 'vocalists', 'volley', 'vorenus', 'waist', 'walton', 'wards', 'warehouse', 'warship', 'wdtv', 'weary', 'weevil', 'wigner', 'wilmington', 'windsor', 'wiped', 'wires', 'workplace', 'worry', 'wrestler', 'xia', 'xion', 'yields', 'yours', 'zenobia', 'ziltoid', 'zoë', '～', \"'day\", \"'neill\", '1123', '1130', '1142', '116', '1206', '126', '134', '139', '148', '161', '1628', '171', '172', '1783', '1792', '182', '200th', '267', '28s', '312', '314', '375', '403', '406', '430', '50s', '520', '54th', '560', '69th', '819', '850', '980', 'aadt', 'abbott', 'abramowitz', 'abused', 'accidental', 'accomplice', 'accusing', 'acknowledging', 'acquaintance', 'adopting', 'adultery', 'adversely', 'advertised', 'advisers', 'advisor', 'advocates', 'affiliate', 'affirmed', 'aforementioned', 'africanus', 'agenda', 'aggression', 'agrarian', 'ail', 'aiming', 'airbus', 'alarmed', 'aleksander', 'alexis', 'algy', 'alligators', 'allusion', 'alphabets', 'alumni', 'amateurs', 'amor', 'amusing', 'analytical', 'andre', 'anekānta', 'anesthetic', 'anglicus', 'annoyed', 'anterior', 'anthropomorphic', 'anupong', 'anymore', 'anyway', 'aol', 'apocalypse', 'appalachian', 'appreciation', 'apricot', 'archdeacon', 'argosy', 'arihant', 'arises', 'arithmetic', 'arne', 'articulated', 'ascap', 'ashton', 'asserting', 'asset', 'assistants', 'astoria', 'astronomy', 'athens', 'atlas', 'atv', 'augusta', 'authentic', 'authorised', 'authorizing', 'awali', 'awful', 'azzarello', 'baibars', 'ballroom', 'bandicoot', 'barbados', 'barbatos', 'barcelona', 'bartlett', 'basidia', 'bathing', 'beaumont', 'behave', 'belts', 'benares', 'benefited', 'bengal', 'berliner', 'bernis', 'bert', 'betrayed', 'bids', 'bing', 'biting', 'bits', 'bizarre', 'blade', 'blanc', 'blanche', 'bluish', 'bodyguard', 'boiler', 'bombarded', 'bony', 'bottles', 'bourgmont', 'bouts', 'bowls', 'bradbury', 'brandy', 'brawl', 'breadth', 'breakage', 'breakup', 'brentford', 'brisbane', 'brittle', 'bryan', 'bubbles', 'bucharest', 'buddhism', 'buildup', 'bulb', 'burrowing', 'burrows', 'bursts', 'c5', 'cajal', 'cam', 'camels', 'campeche', 'camping', 'cancellation', 'cane', 'cares', 'caricature', 'caring', 'cart', 'cartoonist', 'cartridge', 'casemate', 'castro', 'casual', 'catalog', 'catalogue', 'catastrophic', 'cautious', 'cavity', 'cayuga', 'ccm', 'cdt', 'ceasefire', 'ceded', 'centennial', 'centric', 'ceratopsids', 'cgi', 'changeup', 'chanting', 'characterisation', 'charters', 'cheek', 'chennai', 'cheshire', 'chocolate', 'chomsky', 'choreographed', 'christiana', 'christie', 'chulkhurst', 'cia', 'clashed', 'classroom', 'clerical', 'clerks', 'click', 'clinic', 'clyde', 'coalitions', 'codes', 'coining', 'colchester', 'coleridge', 'collapsing', 'combining', 'combs', 'commence', 'commendation', 'compartment', 'compendium', 'competent', 'complain', 'complains', 'confederations', 'confirming', 'congregationalists', 'congressional', 'connery', 'consortium', 'constellation', 'constituents', 'consultation', 'contraceptive', 'contrasting', 'coordinator', 'copyright', 'coral', 'cork', 'corpses', 'cortex', 'cosmos', 'cossack', 'cottage', 'counting', 'covington', 'cowan', 'craftsmen', 'creighton', 'criticizes', 'cromwell', 'cruelty', 'crying', 'cryptic', 'culmination', 'curator', 'cyclogenesis', 'daisy', 'dandenong', 'dans', 'daring', 'dateline', 'davenport', 'davidson', 'davie', 'ddos', 'dealings', 'deauville', 'debuting', 'decorations', 'degenerated', 'degradation', 'delaborde', 'delegate', 'deliveries', 'denounced', 'densities', 'departments', 'depended', 'descends', 'desktop', 'despatched', 'desperately', 'destroys', 'dev', 'deva', 'devastation', 'devi', 'devoid', 'devolved', 'diagonal', 'dialog', 'dickens', 'dictated', 'digit', 'dimension', 'dinan', 'disadvantage', 'disciple', 'discouraged', 'discrimination', 'disillusioned', 'divides', 'diệm', 'doggett', 'donor', 'dose', 'doubtful', 'dove', 'dreamscape', 'dreyfus', 'drier', 'dripping', 'droppings', 'drs', 'dryden', 'dualism', 'dub', 'duets', 'dunbar', 'dundee', 'dunes', 'dusty', 'dutchman', 'e5', 'eagerly', 'earthen', 'eastbound', 'edmonton', 'educate', 'efficiently', 'elevate', 'embark', 'embedded', 'embrace', 'embracing', 'emerson', 'emit', 'enables', 'encoded', 'encompassing', 'encourages', 'englishwoman', 'engraver', 'enraged', 'enthroned', 'erect', 'erupted', 'escalated', 'esports', 'essence', 'euphrates', 'eurasian', 'evade', 'evaluate', 'evaluated', 'evidenced', 'exacerbated', 'exceed', 'excommunication', 'execute', 'exhausting', 'exploded', 'explodes', 'extraction', 'extremes', 'fabric', 'facebook', 'fade', 'fairfax', 'faithfully', 'famed', 'fashi', 'favorably', 'fbi', 'ferreum', 'fertilizers', 'fi', 'filmfare', 'filmography', 'finalists', 'finch', 'finer', 'firecrest', 'firefly', 'fishes', 'flanking', 'fledging', 'float', 'flourished', 'flux', 'foreigners', 'forerunner', 'fortnight', 'fountains', 'franjo', 'freak', 'fredrik', 'frequencies', 'fries', 'frogs', 'frontman', 'fullback', 'fundamentalist', 'fundamentally', 'gacy', 'galilean', 'gallienus', 'gamers', 'garments', 'gasoline', 'gasteroid', 'gendarmes', 'gentlemen', 'geographically', 'geologists', 'georgetown', 'ghosts', 'gideon', 'glands', 'gloucestershire', 'gpus', 'grandmother', 'grangetown', 'greatness', 'grenades', 'grosser', 'groves', 'guarded', 'guess', 'gyakuten', 'hadar', 'halen', 'halle', 'handing', 'handwriting', 'hangs', 'harassment', 'harishchandra', 'harriet', 'hassan', 'hathor', 'hawaiians', 'hazardous', 'headlining', 'headshrinkers', 'healthcare', 'hearings', 'heightened', 'helmets', 'henchmen', 'herb', 'herbivorous', 'heresy', 'herons', 'highlander', 'hillsgrove', 'hispaniola', 'hobson', 'hopefully', 'hornets', 'hostility', 'hove', 'howitzer', 'hp', 'huffington', 'hugely', 'hutchings', 'hype', 'hypothesized', 'hypothetical', 'iago', 'imitated', 'immortality', 'implies', 'improper', 'incidence', 'incidental', 'inconclusive', 'incurred', 'indicative', 'indira', 'induce', 'inevitable', 'infamous', 'initials', 'initiatives', 'inspiring', 'integrity', 'intercept', 'internally', 'internationale', 'intervene', 'interviewing', 'intrigue', 'invading', 'invasive', 'inventor', 'inverted', 'investigates', 'investments', 'ironclads', 'istanbul', 'jamestown', 'jaws', 'jaye', 'jennings', 'jenny', 'jervois', 'jiankang', 'jma', 'johannes', 'judas', 'kailash', 'kamala', 'kavkaz', 'kawai', 'kay', 'keeps', 'kessler', 'kilometer', 'knicks', 'koh', 'kraus', 'kudirka', 'kurfürst', 'kvyat', 'könig', 'laird', 'lambeosaurines', 'lamp', 'landowners', 'lanthanides', 'lars', 'laughs', 'laughter', 'laureate', 'leaning', 'leaping', 'lecturer', 'legitimacy', 'leisure', 'leone', 'leukemias', 'levelled', 'liberties', 'ligand', 'livin', 'lodge', 'lomonosov', 'loneliness', 'looted', 'lore', 'lt.', 'lung', 'macbeth', 'machismo', 'macpherson', 'magdalena', 'magistrates', 'magnum', 'mainstem', 'mal', 'malibu', 'maneuver', 'manipulate', 'mankind', 'mantle', 'marauders', 'marcell', 'markedly', 'maroon', 'martyn', 'martínez', 'mash', 'masks', 'masterpiece', 'matthews', 'mayaguez', 'mayne', 'mayors', 'mcfadden', 'mcgrath', 'mcmahon', 'meanings', 'medication', 'mehbooba', 'membranes', 'menkauhor', 'menzel', 'merchandising', 'merry', 'metallicity', 'mick', 'microphone', 'middlesbrough', 'milligan', 'millionaire', 'minigames', 'minted', 'mit', 'mitosis', 'mobilized', 'mocked', 'mod', 'moltke', 'monasteries', 'moncrieff', 'monetary', 'monologue', 'motherboard', 'motorcycle', 'mouths', 'mt', 'muck', 'mudslides', 'mughal', 'muscles', 'mutations', 'mutiny', 'mycelium', 'mycorrhizal', 'naacp', 'nachtigall', 'nails', 'natalie', 'nationality', 'negotiating', 'nelly', 'nitrate', 'northampton', 'northwards', 'norwich', 'noël', 'ntsb', 'nubia', 'nutrient', 'oars', 'oasis', 'olav', 'ole', 'onstage', 'orbiter', 'organising', 'ornamentation', 'ornaments', 'orson', 'othello', 'ought', 'outgoing', 'outline', 'outraged', 'outspoken', 'outward', 'overshadowed', 'overthrow', 'owns', 'ozploitation', 'paced', 'pacer', 'package', 'panthers', 'pareles', 'pasupathy', 'patents', 'paterson', 'pathway', 'paula', 'peasants', 'pedestrian', 'pedro', 'pending', 'peptide', 'pernick', 'persist', 'personified', 'pessimistic', 'pharaohs', 'phosphorus', 'photograph', 'photographed', 'php', 'pietro', 'pigments', 'pits', 'pitted', 'plantain', 'platoons', 'plots', 'pluto', 'pockets', 'policing', 'polygamist', 'pondicherry', 'populous', 'porter', 'poses', 'potent', 'pottery', 'prelude', 'premature', 'presenters', 'princes', 'privilege', 'prop', 'proposing', 'propulsion', 'prostitutes', 'protomycena', 'protruding', 'proving', 'prussia', 'pullo', 'pulpit', 'pump', 'pumps', 'pun', 'punished', 'purchasing', 'quarry', 'quietly', 'raided', 'ramallah', 'ramayana', 'ramc', 'ramnagar', 'rampart', 'razor', 'reactivity', 'rebounds', 'receptions', 'receptor', 'recipe', 'reclaimed', 'recognizing', 'recounts', 'recreated', 'recruitment', 'rediscovered', 'reductions', 'referencing', 'refinery', 'refining', 'refrain', 'regency', 'rehearsals', 'reid', 'relies', 'relocate', 'reminded', 'replaces', 'replicate', 'reporters', 'reprised', 'reptile', 'residences', 'resist', 'restoring', 'resume', 'retailers', 'retake', 'retention', 'reunite', 'revolver', 'ribosomes', 'rigid', 'ripped', 'roan', 'rotherham', 'rum', 'sacks', 'salvage', 'sans', 'sara', 'saskatchewan', 'satisfying', 'sauber', 'scar', 'schofield', 'schooling', 'scream', 'screw', 'scuttled', 'seaforth', 'seaport', 'searchlights', 'sectarian', 'sega', 'segregated', 'selenites', 'semester', 'sensory', 'servicemen', 'setbacks', 'shaanxi', 'shining', 'shootout', 'sia', 'sidonian', 'signifying', 'simplified', 'sirex', 'skeptical', 'skies', 'slippage', 'slogan', 'sloping', 'snout', 'socialism', 'sociedad', 'softer', 'sola', 'sophie', 'sortie', 'southbound', 'souvenirs', 'sovetskaya', 'spectra', 'speculate', 'splitting', 'spoof', 'sporadically', 'spouse', 'spouting', 'spreads', 'spun', 'spurred', 'spurs', 'ssh', 'stabilize', 'stabilized', 'stamped', 'standardised', 'stanisław', 'stanzas', 'stardom', 'stereotypes', 'stetson', 'stigma', 'storey', 'stormed', 'stowaway', 'streaks', 'stricken', 'strikers', 'stripe', 'stylistic', 'su', 'subdivided', 'substrates', 'subtly', 'suffrage', 'sunny', 'supplier', 'surak', 'surround', 'suspects', 'suspense', 'suspicion', 'sv', 'swallowing', 'swan', 'sweeping', 'swelling', 'sworn', 'symbolize', 'sympathy', 'symphonic', 'synthesizers', 'tacuma', 'tal', 'taxation', 'teens', 'telecommunications', 'tellicherry', 'temperament', 'template', 'tens', 'textures', 'thank', 'theologian', 'thiele', 'thiệu', 'thom', 'threads', 'thrilling', 'thrust', 'tiber', 'tilt', 'timeout', 'tirpitz', 'titular', 'togusa', 'tones', 'torquay', 'tortured', 'toyota', 'tragedy', 'trainer', 'transplant', 'trappers', 'troupe', 'trypanosoma', 'tunes', 'turbine', 'turf', 'turnover', 'udayghad', 'ultra', 'unconstitutional', 'uncovering', 'undefeated', 'undivided', 'unemployed', 'unfair', 'unicode', 'unitary', 'unlocked', 'unpredictable', 'unprotected', 'unrelated', 'unsafe', 'upn', 'utilities', 'utilizing', 'vanya', 'vastly', 'vegetables', 'veneration', 'vengeance', 'ver', 'verde', 'verge', 'vigorous', 'viral', 'virtues', 'vitro', 'vokes', 'voltage', 'votive', 'vulgar', 'wage', 'waldorf', 'walters', 'wandering', 'waterline', 'waterways', 'watkins', 'waving', 'weakly', 'weekends', 'weigh', 'weighs', 'weinstein', 'wentworth', 'wherein', 'whistle', 'whoever', 'widowed', 'wiesbaden', 'wihtred', 'williamsport', 'wills', 'wiltshire', 'workforce', 'worsened', 'wreath', 'wreck', 'wrecked', 'xeo', 'xinjiang', 'xu', 'xvi', 'yale', 'yamaha', 'yang', 'yardage', 'yingzao', 'youths', 'ācārya', '्', '†', '€', \"'andrade\", \"'cruz\", \"'easter\", \"'ohang\", '1.d4', '1233', '1300', '133', '1400', '1435', '154', '1604', '1609', '1622', '1631', '1644', '1653', '166', '1664', '1689', '1753', '176', '1771', '1789', '179', '1791', '1805', '186', '200s', '247', '258', '263', '264', '266', '281', '285', '286', '300th', '33rd', '352nd', '4000', '425', '457', '512', '820', '82nd', 'abdication', 'abe', 'abortion', 'about.com', 'abridged', 'abruptly', 'abusive', 'ac', 'academies', 'accents', 'accusation', 'achieves', 'activism', 'adili', 'adolescence', 'adot', 'adversaries', 'adverse', 'adverts', 'aides', 'airworthiness', 'aj', 'albany', 'alerted', 'allegory', 'alleviate', 'alloy', 'altarpieces', 'altars', 'amassed', 'amitabh', 'amnh', 'amounting', 'ample', 'amyloid', 'anal', 'analogous', 'anchors', 'andros', 'angola', 'angus', 'annum', 'anthropologist', 'antics', 'anxiety', 'apex', 'appointments', 'archbishops', 'ari', 'arid', 'armistice', 'aroused', 'ascend', 'ascended', 'asci', 'ashcroft', 'assembling', 'assent', 'assertion', 'assigns', 'astarte', 'asthmatic', 'atenism', 'atherfieldensis', 'authoritative', 'automotive', 'auxiliary', 'avant', 'bach', 'backbone', 'baez', 'bags', 'baked', 'ballala', 'balloon', 'banana', 'banished', 'banking', 'baptised', 'barbed', 'barbettes', 'barred', 'basanti', 'baton', 'beatty', 'beaucaire', 'beaufighters', 'beginnings', 'begley', 'begs', 'behr', 'believer', 'benedictine', 'benevolent', 'benigno', 'berengaria', 'berkley', 'besieging', 'bethany', 'bethlehem', 'betrayal', 'bhaduri', 'billington', 'binaries', 'binomial', 'blending', 'blond', 'bmi', 'bmnh', 'boarded', 'bobcats', 'bohemond', 'bologna', 'bombings', 'bon', 'bonded', 'booming', 'boone', 'boosted', 'borland', 'botanist', 'bout', 'bowyer', 'brake', 'brandt', 'braun', 'bravo', 'brent', 'brett', 'bridgeport', 'brig', 'brightest', 'bubble', 'buchan', 'buckland', 'bulloch', 'bunch', 'bundle', 'bur', 'butterflies', 'cade', 'caffo', 'cairo', 'cal', 'calcium', 'calculate', 'cameos', 'campgrounds', 'canteen', 'capri', 'caregiver', 'carell', 'carlson', 'casemated', 'casimir', 'cassette', 'cassin', 'catalyst', 'censor', 'censored', 'centerline', 'centimeter', 'ceresville', 'chai', 'chailletii', 'chaired', 'chambered', 'chamberlain', 'charms', 'chesterfield', 'chinlund', 'choruses', 'chromatin', 'chromosomal', 'chronicler', 'chun', 'churrigueresque', 'cinematography', 'circa', 'circulate', 'cirrhifer', 'clad', 'classmates', 'clause', 'claw', 'cleopatra', 'clergyman', 'clerics', 'clinch', 'coating', 'coco', 'cod', 'coded', 'cohen', 'collaborators', 'colonised', 'coloring', 'colouration', 'commissions', 'communicated', 'communion', 'commute', 'companions', 'compassion', 'compilations', 'completes', 'complexity', 'condensation', 'conditioned', 'conferred', 'confesses', 'confirms', 'conscription', 'constable', 'contestants', 'contractor', 'contributes', 'contributors', 'conway', 'cooperative', 'copied', 'cores', 'corresponds', 'cosvn', 'cottages', 'coulson', 'councillors', 'counsel', 'courtesy', 'cousins', 'cow', 'crac', 'cracks', 'crakes', 'crashing', 'craters', 'creeks', 'crete', 'cricketers', 'crocodile', 'cruel', 'crusher', 'crushing', 'crypt', 'cuautla', 'culturally', 'cumbria', 'cynthia', 'cyprus', 'cystidia', 'daddy', 'danes', 'datadyne', 'dealers', 'dealership', 'deccan', 'decks', 'denny', 'denote', 'deprecating', 'deprived', 'derivative', 'designating', 'despair', 'detecting', 'detectors', 'determines', 'detractors', 'deuterium', 'devotees', 'diaries', 'dictatorship', 'dignitaries', 'dike', 'disaffected', 'disappears', 'discharged', 'discourse', 'disgrace', 'dismasted', 'dispersal', 'disposition', 'dissent', 'distract', 'distracted', 'documentaries', 'doha', 'dominating', 'dont', 'doris', 'dorset', 'doubted', 'downloads', 'dramas', 'dreadnought', 'dreary', 'drift', 'dubois', 'dumah', 'dunnington', 'dunvegan', 'dynastic', 'e4', 'easternmost', 'eats', 'ecw', 'edifice', 'egyptologists', 'eilean', 'eisenhower', 'elaborated', 'eleanor', 'electro', 'elemental', 'elliot', 'elliptical', 'elton', 'email', 'embattled', 'emblem', 'emergence', 'emerges', 'emigrated', 'empress', 'engle', 'enriched', 'entourage', 'envisaged', 'eponymous', 'equalled', 'equals', 'equatorial', 'eras', 'ernie', 'esmond', 'estranged', 'ethos', 'eukaryotes', 'evoked', 'evolving', 'exam', 'excavate', 'excuse', 'expands', 'expel', 'experimenting', 'expressive', 'expulsion', 'eyewall', 'facelift', 'factories', 'fading', 'falcons', 'fallon', 'famitsu', 'famously', 'fantasies', 'farr', 'farthest', 'fascination', 'fastball', 'favorites', 'favouring', 'fawkes', 'fearful', 'fearless', 'felix', 'ferguson', 'fertile', 'fibrous', 'fielded', 'fielders', 'fills', 'filmmaker', 'finite', 'fiordland', 'fishhook', 'flashbacks', 'flavor', 'fledglings', 'fleeing', 'flees', 'fleetwood', 'flip', 'floated', 'flores', 'flossy', 'flotillas', 'flynn', 'fokker', 'folktale', 'footballers', 'footing', 'forage', 'forcibly', 'forensic', 'forgive', 'forks', 'forlorn', 'foulk', 'fragrance', 'franchises', 'française', 'freewheelin', 'freshness', 'freya', 'fritt', 'frustrating', 'fucking', 'fueled', 'fulfilling', 'fuller', 'fundraising', 'futile', 'futuristic', 'gallian', 'gamesradar', 'ganga', 'gangster', 'gannit', 'gaps', 'garbage', 'gardnerian', 'garuda', 'gatherings', 'gaul', 'gdp', 'geared', 'generosity', 'gently', 'geographical', 'giesmė', 'glamorous', 'gleason', 'gradient', 'grape', 'grays', 'grenache', 'gripping', 'guadalupe', 'guiding', 'guineas', 'gunners', 'gust', 'habroptila', 'hacker', 'haircut', 'halifax', 'hamelin', 'handheld', 'hanoi', 'harassed', 'harmonica', 'harvesting', 'hath', 'heartbreak', 'hectares', 'henan', 'heralded', 'herbivores', 'hers', 'herschel', 'heterosexual', 'hid', 'hiking', 'hildreth', 'hints', 'hipper', 'historiography', 'ho', 'hobbit', 'homecoming', 'honda', 'honoring', 'hoshi', 'hospitalization', 'hospitalized', 'howson', 'hss', 'hubei', 'huopao', 'hyaline', 'iain', 'iambic', 'iau', 'ideally', 'ideals', 'idf', 'ignoring', 'illustrating', 'imjin', 'impersonating', 'imply', 'imposition', 'impromptu', 'impétueux', 'incarnation', 'incoming', 'inconsistencies', 'indenture', 'inert', 'infiltrate', 'ingleside', 'injustice', 'ink', 'inquiry', 'insignificant', 'insisting', 'insomnia', 'inspect', 'inspected', 'inspirational', 'institutes', 'insulting', 'intensely', 'intensifying', 'interiors', 'intermittent', 'interpret', 'intriguing', 'invasions', 'invincible', 'iona', 'irrelevant', 'itzam', 'jailed', 'jakarta', 'jealousy', 'jefferies', 'jenice', 'jesuits', 'jetty', 'jinx', 'juliet', 'jun', 'junyi', 'junín', 'juárez', 'kai', 'kanye', 'kapoor', 'karachi', 'katib', 'kavi', 'kazimierz', 'kendrick', 'kensal', 'kerr', 'kilogram', 'kirsch', 'kissing', 'kitsunetsuki', 'kleinman', 'klingon', 'kn', 'labrosaurus', 'lalor', 'lamar', 'landscapes', 'landslides', 'lawson', 'leafs', 'leckwith', 'leds', 'lees', 'lerma', 'lethal', 'levin', 'licenses', 'ligament', 'lightship', 'limitation', 'linebacker', 'lineberger', 'linen', 'linga', 'linguist', 'lip', 'lite', 'llc', 'lobby', 'lobbying', 'logging', 'loire', 'longitudinal', 'lorne', 'loutit', 'lovell', 'lubricated', 'lucia', 'ludvig', 'lukewarm', 'mackerras', 'mackinac', 'mackinaw', 'magnetosphere', 'mahé', 'maid', 'makeba', 'malay', 'malini', 'manners', 'manohar', 'manses', 'mapping', 'marion', 'marquess', 'marred', 'mart', 'mastering', 'masts', 'maureen', 'mauritius', 'maximus', 'mb', 'mcdonough', 'mcpherson', 'meadow', 'meaningless', 'mech', 'melodrama', 'memorials', 'mendip', 'mercenaries', 'mercenary', 'merchandise', 'meridian', 'metalwork', 'michele', 'mighty', 'milestone', 'miniature', 'minimize', 'mints', 'miranic', 'mirrors', 'mitch', 'mixes', 'mobilised', 'mocking', 'modelling', 'mohamed', 'mohammed', 'molly', 'mom', 'monarchs', 'moniker', 'mont', 'monty', 'moralitas', 'motive', 'mu', 'muangthong', 'mueller', 'muganga', 'muhammadiyah', 'multitude', 'muscarine', 'mycelia', 'mysteries', 'mystic', 'nagar', 'nalbandian', 'nandi', 'naresh', 'nassau', 'natasha', 'navies', 'navigate', 'nayavāda', 'neal', 'neglect', 'nematode', 'neutrality', 'neve', 'nigeria', 'nightstick', 'nil', 'nmr', 'noblemen', 'nodes', 'nomenclature', 'nominally', 'normandie', 'northbound', 'norwood', 'notre', 'nur', 'oaxaca', 'obedience', 'objectors', 'obtaining', 'oceania', 'offset', 'ohkawa', 'operationally', 'orchestrated', 'ord', 'organizer', 'originating', 'orioles', 'ornette', 'osborne', 'ostensibly', 'otter', 'overarching', 'overbearing', 'oversee', 'packaging', 'pakistani', 'pallium', 'pampa', 'panoramic', 'paradox', 'parameters', 'parishioners', 'parisian', 'parked', 'parodied', 'pavilion', 'pawn', 'pawnee', 'pearson', 'perished', 'permanence', 'petrie', 'petrol', 'phosphor', 'phosphors', 'picks', 'piety', 'pigment', 'pillars', 'pinkish', 'pipeline', 'pisolithus', 'platypus', 'pliny', 'poesy', 'polo', 'polynesian', 'polytheistic', 'portree', 'poster', 'posting', 'pot', 'potassium', 'potro', 'powder', 'practised', 'praises', 'praška', 'preacher', 'predicting', 'presentations', 'pretend', 'pretending', 'primrose', 'privileges', 'profits', 'projecting', 'projection', 'projections', 'promyelocytic', 'propel', 'proprietary', 'prosperous', 'prostate', 'protoceratops', 'protracted', 'prue', 'psychoactive', 'punted', 'puri', 'purification', 'puritan', 'purported', 'pusan', 'qin', 'que', 'raises', 'rak', 'ransom', 'raven', 'rebecca', 'reboot', 'recipients', 'recitals', 'reclaim', 'recommends', 'recurved', 'redevelopment', 'reflections', 'reforming', 'refurbished', 'regaining', 'registration', 'regret', 'regulars', 'reich', 'rejecting', 'remarkably', 'remedial', 'remind', 'reminder', 'renaming', 'rendezvous', 'renewable', 'reorganised', 'replacements', 'replies', 'representations', 'reprise', 'researching', 'respite', 'restless', 'restraint', 'reyes', 'rhinoceros', 'rhythmic', 'roadways', 'robes', 'robots', 'rochester', 'roland', 'romney', 'rosary', 'rot', 'royton', 'rubin', 'rump', 'runaway', 'rusambo', 'russo', 'rutherford', 's.r', 'sabotage', 'sagebrush', 'saiban', 'sailor', 'sainz', 'salon', 'samoa', 'sanctions', 'sandra', 'sanitation', 'sarcophagus', 'saturn', 'sawmill', 'sawyer', 'sbf', 'scaled', 'scare', 'scared', 'scary', 'scathing', 'scleroderma', 'scrubby', 'sculptor', 'sdp', 'seaside', 'secretive', 'sejm', 'seminal', 'septimius', 'seydlitz', 'shaking', 'shale', 'shandong', 'shatpadi', 'sheltered', 'shepard', 'shipyards', 'shootings', 'shortcomings', 'shouted', 'shran', 'shrub', 'shruti', 'sidelined', 'signifies', 'silly', 'simulator', 'sitter', 'sleat', 'smile', 'smtv', 'sniper', 'socio', 'southampton', 'spark', 'spartans', 'specification', 'spectroscopy', 'sphaerocarpa', 'splendid', 'splinter', 'spored', 'spouses', 'sprawling', 'sprinting', 'squatters', 'stabilization', 'stahn', 'stalemate', 'stanford', 'stare', 'starfleet', 'stark', 'stature', 'statutory', 'steered', 'stegosaurid', 'stegosaurus', 'stein', 'stemming', 'sticky', 'stimulate', 'stinkhorn', 'stockade', 'stony', 'straw', 'striped', 'strumming', 'studded', 'stylish', 'suba', 'successors', 'sucking', 'sufjan', 'suits', 'summarised', 'summed', 'sundance', 'sunlight', 'superhero', 'supervise', 'supplying', 'surpassing', 'surreal', 'surrounds', 'suspicions', 'swedes', 'syndicate', 'synthesizer', 'systematic', 'sáenz', 'taller', 'tap', 'taped', 'tasmania', 'tautiška', 'tear', 'teenagers', 'telemachus', 'temper', 'tempered', 'templars', 'tenant', 'tentative', 'tenths', 'thinkers', 'thinner', 'thomson', 'thorough', 'throwers', 'thunderstorms', 'ticonderoga', 'timothy', 'tjoa', 'totten', 'trafalgar', 'trans', 'translating', 'transporter', 'trash', 'trey', 'trollope', 'trousers', 'tuition', 'tullie', 'tutors', 'twisted', 'typesetting', 'ufo', 'ugly', 'unavailable', 'unconscious', 'uncut', 'undisclosed', 'uniformly', 'unincorporated', 'unlock', 'unmarried', 'unrealistic', 'unsuitable', 'upperparts', 'upwards', 'vacancy', 'vacated', 'vacations', 'valiant', 'variables', 've', 'vector', 'veera', 'veins', 'venomous', 'ventral', 'vernacular', 'verpa', 'versailles', 'viceroy', 'vida', 'vidal', 'villains', 'violate', 'violating', 'vita', 'vivien', 'voce', 'void', 'volatile', 'vowed', 'wabd', 'wallez', 'wallis', 'warmer', 'warwickshire', 'waterloo', 'webber', 'weiner', 'welles', 'wes', 'westernmost', 'westmoreland', 'whereabouts', 'whistles', 'whitehead', 'whittaker', 'widening', 'wilbur', 'wilcox', 'wilfried', 'wilkes', 'wilkinson', 'winger', 'yacht', 'yangzhou', 'yasunori', 'yat', 'ylides', 'yokozuna', 'zeal', 'zelanti', 'zoologist', '±', 'à', 'æsthetic', '〈', '〉', '・', \"'connell\", '050', '100th', '101st', '1108', '1115', '1125', '1135', '1138', '1207', '1237', '136', '142', '143', '144', '153', '156', '1629', '163', '1630', '1647', '1649', '1701', '1714', '1737', '1743', '1756', '1764', '1777', '1784', '1796', '1797', '1802', '1814', '1820s', '187', '2017', '203', '208', '216', '222', '225', '228', '233', '272nd', '2f', '2o', '311', '322', '365', '366', '37th', '44b', '470', '490', '5000', '56th', '570', '630', '64th', '68th', '70th', '716th', '73rd', '740', '790', '815', '84th', '880', '920', '970', '995', 'a6', 'abide', 'absorb', 'accessed', 'accommodated', 'accompanies', 'achille', 'activates', 'adherents', 'administer', 'admirer', 'adolescent', 'adulthood', 'adviser', 'advises', 'advisors', 'afc', 'affectionate', 'affiliation', 'affirmation', 'afforded', 'afterlife', 'agate', 'agility', 'ahmed', 'aiding', 'airplane', 'albani', 'alder', 'alderley', 'aldwych', 'alfonso', 'algae', 'alleging', 'alloys', 'allu', 'alluded', 'alludes', 'allusions', 'alpine', 'amazon', 'amazon.com', 'ambulances', 'amjad', 'ammonia', 'analysed', 'anarchy', 'anchorage', 'andrzej', 'angrily', 'annex', 'announces', 'antagonists', 'antarctica', 'anthologies', 'antonius', 'anybody', 'apathetic', 'apology', 'apostles', 'apostolic', 'appellations', 'applicable', 'applicant', 'applies', 'appointing', 'arbeiderblad', 'arbitrary', 'arbitration', 'archaea', 'aristocracy', 'armenia', 'arresting', 'arrests', 'ars', 'articulate', 'asnelles', 'asphalt', 'assortment', 'assumptions', 'assyrians', 'astronaut', 'astrée', 'atherstone', 'atoll', 'atomics', 'atrox', 'attends', 'attire', 'attorneys', 'attributing', 'auditions', 'auditory', 'auspices', 'austrians', 'authorization', 'avatar', 'await', 'awaited', 'aylwin', 'ayrshire', 'babu', 'babylon', 'backstage', 'bain', 'balista', 'balkan', 'ballcourt', 'banded', 'baptiste', 'basalt', 'bateman', 'bayonets', 'beautifully', 'bedrock', 'beirut', 'bellamy', 'bellerophon', 'belongings', 'benoît', 'benítez', 'bequest', 'berger', 'berkovići', 'bernie', 'berry', 'bestselling', 'betaine', 'bethel', 'bharat', 'bhu', 'binds', 'biodiversity', 'biscay', 'blackpool', 'blaney', 'blitz', 'bobcaygeon', 'bocks', 'bode', 'bodied', 'bolts', 'bombard', 'booked', 'booker', 'bosnians', 'bouncing', 'bouvet', 'bows', 'boyd', 'brackets', 'brainwashing', 'bramantyo', 'branagh', 'branching', 'brat', 'brave', 'breathing', 'breech', 'briain', 'brighter', 'brooke', 'bruno', 'brutus', 'brûlé', 'buck', 'buffy', 'bullpen', 'bullying', 'bunbury', 'bureaucratic', 'burgesses', 'burr', 'butt', 'café', 'cagayan', 'cahill', 'cai', 'caishi', 'calculator', 'californian', 'canary', 'canonical', 'capitalism', 'captives', 'captors', 'caramanica', 'carbonate', 'carlton', 'carolyn', 'carpet', 'cartoons', 'cartridges', 'casing', 'cassino', 'castleton', 'catalogues', 'catering', 'cattaro', 'cavaliers', 'celebrates', 'ceramics', 'chaak', 'chadderton', 'champagne', 'chang', 'charging', 'chartered', 'chat', 'chiapas', 'chichester', 'chilean', 'chips', 'chiranjeevi', 'chronicled', 'cinemas', 'cinematographer', 'circuits', 'clades', 'clashes', 'classifications', 'classmate', 'clearances', 'clicking', 'climates', 'clinched', 'clockwise', 'clues', 'codfish', 'coffeehouse', 'cognitive', 'coherent', 'cohesion', 'coil', 'colder', 'coleraine', 'collaborations', 'collar', 'colonisation', 'colorless', 'colouring', 'coma', 'commemoration', 'commencement', 'communicating', 'communism', 'compatibility', 'complemented', 'comply', 'compounded', 'compression', 'concentric', 'concurred', 'conducts', 'confrontations', 'conscious', 'consciously', 'consecration', 'consistency', 'contemporaneous', 'contenders', 'contends', 'contraction', 'contradicted', 'contrasted', 'converts', 'cookbook', 'coordinate', 'copious', 'copyrighted', 'cornwall', 'correspond', 'corresponded', 'correspondent', 'corrosion', 'corrupt', 'cosmetics', 'coulthard', 'countless', 'courier', 'courtroom', 'coven', 'cracked', 'crafts', 'cramp', 'crashes', 'crater', 'crawley', 'creeps', 'creepy', 'crescendo', 'crossroads', 'cruiserweights', 'cruises', 'cruz', 'crystalline', 'cuillin', 'culling', 'curving', 'cushion', 'cycling', 'cyclonic', 'cálidas', 'dade', 'dahlonega', 'dai', 'dalglish', 'dallas', 'dalmatia', 'darryl', 'dartmouth', 'darvin', 'dash', 'decatur', 'decisively', 'deepwater', 'defends', 'delighted', 'denardo', 'deployments', 'depressing', 'derided', 'derrick', 'deserved', 'desk', 'dhangars', 'diagnostic', 'dialect', 'diesel', 'differing', 'digestive', 'diminishing', 'dimitri', 'din', 'dipping', 'directorate', 'disappearing', 'discontent', 'discourage', 'discoveries', 'discredited', 'dismissals', 'disorganized', 'disperse', 'disrepair', 'disrupting', 'dissenters', 'distortion', 'divalent', 'diverged', 'dividing', 'divination', 'divinity', 'docks', 'doctorate', 'dodson', 'dollodon', 'doncaster', 'donnchad', 'downloaded', 'drag', 'dragged', 'drastically', 'dreamworks', 'dredged', 'dresden', 'drifted', 'dubium', 'dura', 'durable', 'dwayne', 'dương', 'e3', 'earthquakes', 'eaves', 'eclipsing', 'ecuador', 'edged', 'edie', 'effigy', 'egyptologist', 'einstein', 'elastic', 'electromagnetic', 'electronics', 'electrons', 'electropop', 'elf', 'eligibility', 'elisabeth', 'elves', 'embarrassment', 'emission', 'emphasising', 'enactment', 'encompasses', 'engined', 'enhancing', 'enlargement', 'enna', 'enriquillo', 'entertained', 'entities', 'envoys', 'epoxides', 'equator', 'equip', 'erased', 'erica', 'erich', 'erie', 'erotic', 'erroneous', 'erroneously', 'escorting', 'ethic', 'eugène', 'evenings', 'excelled', 'exchanges', 'exchanging', 'exemption', 'exerted', 'exhale', 'exhaust', 'exited', 'exiting', 'experimented', 'extracted', 'ezra', 'famer', 'fatally', 'federations', 'felipe', 'fencing', 'fetus', 'financing', 'finder', 'fined', 'firebrand', 'firstly', 'fist', 'flawless', 'flax', 'flowering', 'fluorescent', 'fluoride', 'foil', 'folding', 'foray', 'formulaic', 'fortuna', 'fragmented', 'francesco', 'francophone', 'frenchman', 'friedman', 'frightening', 'frill', 'frontals', 'fronts', 'fulfil', 'fulvius', 'furiously', 'fuselage', 'fuses', 'fusing', 'fédération', 'gable', 'gaines', 'gainsborough', 'galaxies', 'galim', 'gallagher', 'galway', 'gamepro', 'gamespy', 'ganesha', 'gateway', 'gaunt', 'gba', 'gcse', 'geek', 'generator', 'gig', 'giuseppe', 'glacial', 'glamour', 'glosserman', 'gloves', 'glucose', 'goodman', 'goodwill', 'goodwin', 'gotten', 'graceful', 'grassy', 'greeks', 'greenwood', 'grohl', 'guillaume', 'guise', 'gym', 'gálvez', 'habitation', 'hadn', 'hadrosaurs', 'haggerty', 'hairstyles', 'halides', 'halladay', 'hallam', 'halmahera', 'halves', 'hama', 'hamas', 'hammett', 'hamra', 'handbag', 'hanged', 'hanneman', 'harding', 'hare', 'harmful', 'harshly', 'hatching', 'haunting', 'havilland', 'hdz', 'heatseekers', 'heirs', 'hepburn', 'hertfordshire', 'hewn', 'hilton', 'hiring', 'hitfix', 'hmcs', 'hollis', 'holster', 'honeymoon', 'honorable', 'horace', 'horrible', 'horseback', 'hospice', 'hospitality', 'hostages', 'howell', 'hubble', 'huggins', 'hulls', 'humble', 'humiliation', 'hurdat', 'husbands', 'hussein', 'hydroelectric', 'hydrophobic', 'hygiene', 'hygroscopic', 'hyper', 'icefrog', 'ignorance', 'ihl', 'ike', 'illegally', 'illustrator', 'imaginative', 'imagines', 'immigrant', 'impacting', 'imports', 'inadvertently', 'inception', 'inclusive', 'incremental', 'indications', 'indicator', 'indra', 'inducing', 'inedible', 'inexpensive', 'infinity', 'inflammatory', 'inflation', 'informant', 'inhabiting', 'inhibitors', 'initiate', 'inmates', 'innermost', 'insecurity', 'insights', 'inspirations', 'installments', 'instant', 'instinct', 'instructs', 'intelligentsia', 'interacting', 'intermedius', 'internationalist', 'interspersed', 'interval', 'intravenous', 'intruder', 'inventions', 'investigators', 'inviting', 'inward', 'ionization', 'ionizing', 'iranian', 'irving', 'isthmian', 'iteration', 'izezi', 'jacobi', 'jeunesse', 'joel', 'johan', 'johanna', 'jolyon', 'jonny', 'juanita', 'jujutsu', 'juniors', 'k7', 'kaibab', 'kaiu', 'karamoko', 'karaoke', 'karen', 'karros', 'karya', 'kasparov', 'ke', 'kelvin', 'kenny', 'kenton', 'kicks', 'kidnap', 'kidnapped', 'kiel', 'kinzer', 'kirkpatrick', 'kits', 'knopp', 'kongo', 'konkan', 'koreans', 'kuwait', 'kvaternik', 'köppen', 'lambeosaurine', 'lanai', 'landslide', 'lansdowne', 'lansing', 'lantern', 'laos', 'lastly', 'latino', 'lawn', 'lend', 'lengthened', 'leningrad', 'leopold', 'lets', 'levees', 'leverage', 'levi', 'leviathan', 'liberated', 'likeness', 'liking', 'limerick', 'linnaeus', 'liquids', 'litigation', 'loftleidir', 'logged', 'logistics', 'longing', 'lowering', 'lowlands', 'lull', 'lush', 'lust', 'luzon', 'lyceum', 'lyndon', 'lynn', 'lágrimas', 'lüthorst', 'maclean', 'mafia', 'magnus', 'mahabharata', 'mahatma', 'mahwah', 'maiden', 'mainline', 'makeshift', 'mallory', 'mamluk', 'manifestation', 'mantelli', 'maputo', 'marcia', 'mare', 'marginal', 'marian', 'marketplace', 'marries', 'mastered', 'mat', 'mathematician', 'matures', 'mcentire', 'mediated', 'medicines', 'megalosaurus', 'melancholic', 'memphis', 'mendelssohn', 'mendota', 'merton', 'meta', 'metabolism', 'metz', 'mi6', 'microlight', 'microlights', 'microscopically', 'midfield', 'midlothian', 'midsummer', 'miike', 'milestones', 'miley', 'millimetre', 'mimic', 'minerva', 'miniseries', 'miriam', 'misleading', 'mohamud', 'molds', 'molina', 'monazite', 'monsoon', 'montage', 'montenegrins', 'moose', 'moratorium', 'morphological', 'mortuary', 'moses', 'motorsport', 'moulds', 'mps', 'muddling', 'muddy', 'mulberry', 'multinucleated', 'munitions', 'munster', 'murchad', 'murdering', 'murders', 'musicals', 'mythical', 'mythological', 'naive', 'namesake', 'narayana', 'nationalists', 'ncap', 'nearing', 'needle', 'neighbour', 'nellie', 'neoceratopsian', 'nesebar', 'nevermind', 'newsted', 'nicolas', 'nikki', 'ninety', 'ninjas', 'nix', 'niño', 'noam', 'nobles', 'nolan', 'norms', 'nostalgia', 'notions', 'notorious', 'novella', 'novoselic', 'nss', 'nucleoplasm', 'nucleotide', 'numerical', 'nurses', 'nut', 'nuzman', 'obituary', 'obscured', 'obsessed', 'occult', 'oceans', 'offence', 'offended', 'og', 'okay', 'omnivorous', 'onondaga', 'oprah', 'orion', 'ornate', 'orwell', 'oso', 'outdated', 'outpost', 'outs', 'ouw', 'overgrown', 'overpass', 'overseen', 'overture', 'overwhelmingly', 'oxen', 'oxides', 'pacing', 'pallas', 'pantocrator', 'parasitic', 'parental', 'parliaments', 'parrots', 'parted', 'partisan', 'pastry', 'pathetic', 'patience', 'patronised', 'pattillo', 'pauline', 'pause', 'peel', 'peerage', 'peh', 'pelagius', 'pencil', 'penetrated', 'penned', 'pentathlon', 'perch', 'perfection', 'perkins', 'perpendicular', 'perrin', 'petits', 'petrograd', 'pets', 'pettit', 'pew', 'phantom', 'philippine', 'philips', 'philosophies', 'phoenice', 'photographer', 'physique', 'picnic', 'pido', 'pierce', 'pileggi', 'pileus', 'pillar', 'pines', 'pinned', 'pinochet', 'piston', 'pistons', 'piz', 'playground', 'pleaded', 'plotting', 'plowright', 'pluralism', 'plutonium', 'poisoned', 'poker', 'polling', 'polygamy', 'polypeptide', 'popularly', 'populist', 'portals', 'posing', 'posits', 'posthumous', 'postulated', 'potato', 'potomac', 'pour', 'powell', 'ppcli', 'pr', 'practiced', 'prank', 'precautions', 'precipitated', 'predictable', 'predictions', 'preface', 'prefects', 'prefecture', 'premiership', 'presbyterianism', 'presses', 'prevalence', 'priestley', 'prisons', 'professed', 'profoundly', 'programmer', 'progressively', 'promoter', 'promotions', 'promulgated', 'proposition', 'props', 'protesting', 'proves', 'provider', 'prowess', 'préval', 'publishes', 'puebla', 'pulses', 'pumped', 'punitive', 'purified', 'pyramidal', 'qadri', 'qing', 'quantum', 'quarterdeck', 'quicker', 'raccoons', 'racetrack', 'racquet', 'radios', 'rainbands', 'rainy', 'raisins', 'rammed', 'ranadev', 'randomly', 'rations', 'ravine', 'readiness', 'rebelled', 'rebellious', 'reborn', 'rebounded', 'recited', 'recommissioned', 'reconstituted', 'reconstruct', 'recounting', 'recreate', 'redemption', 'redundant', 'reelection', 'regimental', 'registers', 'registry', 'regulating', 'reissued', 'relented', 'reliant', 'relic', 'remarried', 'removes', 'reorganisation', 'repeating', 'replication', 'reservation', 'resides', 'residual', 'responds', 'reuse', 'revamped', 'reversibility', 'reverted', 'revolving', 'reworking', 'rewrite', 'reynolds', 'rhodes', 'rhyming', 'rhône', 'ribs', 'riddle', 'rig', 'rigging', 'rites', 'rli', 'rockies', 'romero', 'roost', 'rooster', 'roses', 'routed', 'routinely', 'rower', 'royalties', 'rumble', 'runways', 'rushden', 'rzepecki', 'saban', 'sabbath', 'sabine', 'sabre', 'safer', 'sags', 'saladin', 'salvos', 'sands', 'santo', 'satisfactory', 'saudi', 'saurolophus', 'saxophone', 'scandinavia', 'scattering', 'scenarios', 'scent', 'schedules', 'schoolhouse', 'scotti', 'sealing', 'sealy', 'seamlessly', 'seating', 'seaward', 'sediments', 'seizure', 'selfish', 'sennacherib', 'senses', 'sensors', 'sentinel', 'ser', 'serbia', 'sermon', 'seville', 'sha', 'shabaab', 'shareholder', 'shiina', 'shin', 'shine', 'shirley', 'shizhong', 'shortlist', 'shortlisted', 'shout', 'shouts', 'sichuan', 'sicilian', 'sidekick', 'signalled', 'silicon', 'simpler', 'sincere', 'singly', 'sire', 'sired', 'sisko', 'slab', 'slept', 'slovenia', 'solbakken', 'solemn', 'solicitor', 'soma', 'sonata', 'sonia', 'soorma', 'soundscan', 'sp', 'spacey', 'sparks', 'specializes', 'spells', 'spider', 'spillways', 'spirituality', 'spotless', 'squares', 'stall', 'stallions', 'stamper', 'staring', 'stationary', 'statistically', 'staunch', 'stds', 'steamship', 'stepmother', 'stepping', 'stepson', 'steroids', 'stillwater', 'stimulation', 'stirring', 'stoats', 'streaming', 'stroud', 'strung', 'stucco', 'stupa', 'subdued', 'sublime', 'substitution', 'suffers', 'suicides', 'sulfonium', 'sultanate', 'summons', 'sundays', 'superb', 'superstition', 'supplemental', 'surely', 'surgical', 'surplus', 'surveyed', 'suryanarayana', 'suvarnabhumi', 'suzume', 'swamps', 'swap', 'swimmer', 'syllable', 'symbolism', 'syrrannites', 't1', 'taff', 'tagline', 'tahiti', 'tally', 'talmud', 'tampico', 'tapered', 'taping', 'tattnall', 'tatum', 'teamed', 'teaser', 'technologically', 'tendons', 'teng', 'tenuous', 'teresa', 'terrific', 'theakston', 'theoretically', 'therapist', 'threshold', 'throated', 'thx', 'ticks', 'tiers', 'tis', 'tito', 'todt', 'tolerant', 'tolerate', 'tonners', 'topical', 'torpedoed', 'toxins', 'tracts', 'tragic', 'trailed', 'trajectory', 'transactions', 'translocation', 'transylvania', 'travellers', 'triangulation', 'trillion', 'trulli', 'trustee', 'trusting', 'tsar', 'tsugumi', 'tumor', 'tuning', 'tupolev', 'turk', 'tutelage', 'tyrrell', 'ulama', 'ulisse', 'umbrella', 'umfolozi', 'uncomfortable', 'unconventional', 'undead', 'undeniable', 'undermined', 'understated', 'undesirable', 'unfamiliar', 'unfavorable', 'unfortunate', 'unharmed', 'unimpressed', 'uniquely', 'unknowingly', 'unorthodox', 'unprepared', 'unpublished', 'upbringing', 'updating', 'usgs', 'uterus', 'utilising', 'vacation', 'vacuum', 'vanderbilt', 'vassals', 'vatatzes', 'vegetable', 'vehemently', 'velvet', 'ventured', 'ventus', 'verb', 'versa', 'versatile', 'vicente', 'vikings', 'villainous', 'vin', 'violin', 'viper', 'vizier', 'viziers', 'vocational', 'voicing', 'vulgaris', 'wac', 'wallonia', 'warne', 'waterfront', 'wawrinka', 'waymon', 'wb', 'weakest', 'wealthiest', 'weaponry', 'weehawken', 'weissweiler', 'wendy', 'weren', 'wesley', 'weston', 'wheeled', 'wheels', 'whitney', 'wiccan', 'wicked', 'wield', 'wielding', 'wight', 'wildly', 'willows', 'winchester', 'winnipeg', 'wired', 'wireless', 'wisden', 'wit', 'withstand', 'workshops', 'worldly', 'worsening', 'wounding', 'woven', 'wrecks', 'wrestlemania', 'wrestlers', 'wrongly', 'wynne', 'xavier', 'xeof', 'xv', 'yamazaki', 'yauta', 'zambia', 'zndh', 'zoos', 'études', 'í', 'α', 'β', \"'aak\", \"'aaknal\", \"'anan\", \"'leary\", \"'neil\", '010', '070', '10m', '1129', '1132', '1160', '1208', '1212', '1220', '1229', '1230', '1235', '1279', '127th', '135xe', '147', '153eu', '156th', '158', '159', '1603', '1611', '1612', '162', '1623', '1624', '1645', '1651', '1662', '1679', '1692', '1725', '1758', '1773', '1774', '178', '1782', '1787', '1798', '181', '192', '194a', '2.nf3', '206', '224', '238', '252', '256', '257', '25b', '271', '279', '2s', '315', '325', '326', '337', '380', '390', '39th', '410', '462', '509', '540', '593', '60th', '696', '716', '730', '731', '737s', '767', '76th', '780', '840', '860', '895', '907', '909', '930', '960', '971', '972', 'a320', 'abolitionist', 'accord', 'accuse', 'accustomed', 'activating', 'adapting', 'addiction', 'addington', 'adept', 'adil', 'admirals', 'admirers', 'admissions', 'advise', 'advising', 'aegis', 'affluent', 'agaricus', 'ageing', 'agnew', 'agron', 'aguda', 'ahmad', 'ailing', 'aka', 'alexandria', 'algebra', 'algeria', 'alienated', 'alif', 'alison', 'alkali', 'allegation', 'allegro', 'allotted', 'allstars', 'alluvial', 'almina', 'alternated', 'amie', 'analog', 'anatomical', 'anders', 'anesthesia', 'animator', 'animators', 'anion', 'annapolis', 'ansari', 'answering', 'anthems', 'antibody', 'antoine', 'antwerp', 'anxious', 'apg', 'apl', 'apocalyptic', 'apologize', 'apologized', 'apostolidès', 'appalling', 'apparel', 'appease', 'arbor', 'arisen', 'arjun', 'armageddon', 'artifact', 'artwalk', 'ascent', 'asiaticus', 'asin', 'assignments', 'associating', 'assures', 'astronauts', 'astrosporina', 'asylums', 'atamoni', 'ate', 'atia', 'atmospheres', 'atrocities', 'attracts', 'atum', 'auctioned', 'aunt', 'aurora', 'autism', 'automated', 'automatons', 'aux', 'avenge', 'averted', 'avoids', 'babies', 'ballistic', 'ballots', 'bancroft', 'banding', 'bandmates', 'banker', 'bankrupt', 'barley', 'barrowman', 'barrymore', 'barton', 'bastnäsite', 'batchelor', 'bate', 'bathroom', 'battling', 'bayud', 'beard', 'bearings', 'beaufort', 'becker', 'bedford', 'bees', 'beetles', 'behead', 'beheaded', 'behest', 'bellerive', 'bellevue', 'belting', 'belém', 'benny', 'bernardo', 'berthed', 'bhairavakona', 'bhakti', 'bi', 'binh', 'biologist', 'biomech', 'bismarck', 'bison', 'blackwell', 'blackwyche', 'blames', 'bleed', 'blended', 'blizzard', 'blowin', 'bluff', 'blunt', 'boidin', 'bolivar', 'bombardments', 'bombay', 'bonnie', 'booklet', 'bored', 'bournemouth', 'boyle', 'bp', 'bpi', 'branson', 'breaker', 'breeder', 'breslau', 'bret', 'brilliantly', 'brink', 'britons', 'broadford', 'brobbel', 'bromwich', 'brutally', 'btec', 'bu', 'buckets', 'bug', 'bullets', 'bullied', 'bump', 'burgeoning', 'burgoyne', 'burj', 'burnu', 'busoni', 'busqué', 'butch', 'bye', 'bypasses', 'byrds', 'bà', 'cab', 'cabbage', 'cafe', 'caged', 'caldwell', 'camden', 'cameraman', 'camouflage', 'campin', 'canaan', 'canberra', 'cang', 'canned', 'canopus', 'capablanca', 'carantouan', 'carleton', 'carnivorous', 'carolinas', 'carver', 'castanea', 'catcher', 'catechisms', 'categorised', 'cautionary', 'cavalcade', 'cavities', 'cel', 'celia', 'centaurus', 'centrosaurus', 'cereal', 'cervical', 'cgw', 'chairs', 'channing', 'chanonry', 'chant', 'characterize', 'charing', 'chases', 'chatham', 'chaytor', 'cheating', 'cheke', 'chemically', 'chestnuts', 'chewing', 'chicken', 'chien', 'childbirth', 'childcare', 'choirs', 'chopra', 'christgau', 'chromosome', 'chronology', 'cigarettes', 'cigars', 'cinderella', 'cinta', 'circumstance', 'cistern', 'cisterns', 'citizenship', 'civilizations', 'claimant', 'claimants', 'clancy', 'clandestine', 'clans', 'clarity', 'classifies', 'claus', 'cleaner', 'clemson', 'clinics', 'clone', 'closes', 'clothed', 'coarse', 'coats', 'cockburn', 'cocktail', 'codified', 'cohesive', 'coincidence', 'col.', 'collaborate', 'collaborative', 'collaborator', 'collapses', 'collisions', 'colloquially', 'columba', 'columbian', 'comb', 'comical', 'comma', 'commandant', 'commemorates', 'commemorating', 'commemorative', 'commonsense', 'competitiveness', 'completions', 'conceal', 'conceptual', 'concurrency', 'confess', 'conifer', 'coniston', 'connectionism', 'connotations', 'conquer', 'consolidate', 'constituent', 'consultants', 'consumes', 'contemplative', 'contend', 'contended', 'continual', 'contractors', 'contradict', 'convenience', 'convictions', 'cooked', 'copacabana', 'cordelia', 'corinthian', 'cornerstone', 'cornic', 'cornish', 'corona', 'correction', 'corridors', 'cory', 'countered', 'counteroffensive', 'counterpoint', 'courtly', 'coverts', 'coy', 'craftsman', 'craftsmanship', 'crawford', 'creamy', 'creatively', 'credibility', 'cremation', 'critiqued', 'croat', 'crompton', 'cry', 'crystallography', 'cuff', 'curb', 'currants', 'currency', 'customized', 'cutscenes', 'cutter', 'cwt', 'd.j', 'damon', 'danced', 'dania', 'dare', 'daytime', 'dayton', 'deactivated', 'deane', 'deathbed', 'decayed', 'decibels', 'declan', 'decried', 'deepe', 'deepest', 'defendant', 'deficiencies', 'deformed', 'defunct', 'demeanor', 'demoted', 'dengeki', 'denham', 'denies', 'dent', 'dentist', 'dentists', 'depart', 'dependence', 'deploying', 'deputies', 'deriving', 'despatches', 'destinies', 'detained', 'detector', 'detonation', 'dheera', 'diageo', 'digg', 'dim', 'dioceses', 'directorial', 'directorship', 'directory', 'disability', 'discerning', 'discount', 'dismayed', 'dismounted', 'disorders', 'disposal', 'disruptive', 'dissatisfaction', 'dissatisfied', 'distantly', 'distillation', 'distinguishes', 'distorted', 'disturbances', 'disused', 'divert', 'djibouti', 'documenting', 'dolan', 'domestically', 'domesticated', 'dominates', 'donaldson', 'donato', 'donegal', 'donny', 'doo', 'doubling', 'drafting', 'drammatica', 'draper', 'dratch', 'dressings', 'drilled', 'drills', 'drowning', 'duat', 'dubrovnik', 'duchovny', 'duff', 'dumped', 'dumping', 'dune', 'dung', 'dwellers', 'dwindled', 'dynamite', 'dysfunctional', 'dál', 'earns', 'ebergötzen', 'eclectic', 'economist', 'edessa', 'edison', 'edna', 'eec', 'effected', 'egged', 'ein', 'elders', 'electorate', 'elevator', 'elida', 'elusive', 'embarrassed', 'embroidered', 'emerald', 'emmet', 'emmett', 'empathy', 'empowered', 'emulate', 'encyclical', 'endless', 'endorsements', 'endowment', 'endure', 'enfilade', 'engler', 'enlightenment', 'enlist', 'ensign', 'entertainer', 'entrepreneurs', 'entrusted', 'enuff', 'eppley', 'er', 'erastian', 'esport', 'establishments', 'estimating', 'ethical', 'ethics', 'eucalypt', 'eusebius', 'evangelical', 'evoke', 'evolve', 'exaggeration', 'examinations', 'excimer', 'exclaim', 'exercising', 'exhumed', 'explanations', 'exploding', 'expo', 'exports', 'extensions', 'exteriors', 'fabled', 'fabulous', 'fain', 'faiths', 'famicom', 'farcical', 'fared', 'farewell', 'farrell', 'farsund', 'fascinated', 'fascists', 'fati', 'fatimah', 'faulted', 'faulty', 'fausto', 'favourably', 'faye', 'feats', 'fender', 'fern', 'fertilization', 'festivities', 'ffi', 'figurines', 'filefish', 'filmmaking', 'filthy', 'finalised', 'firearms', 'firecracker', 'fishery', 'fitch', 'fitwatch', 'fitzgerald', 'flanagan', 'flare', 'flares', 'flavored', 'fleury', 'flexibility', 'flick', 'floyd', 'fluency', 'fluorine', 'flybys', 'foals', 'focal', 'footed', 'foothills', 'footsteps', 'forbids', 'forecasters', 'forecastle', 'forfeits', 'formulated', 'fornebu', 'fractured', 'frances', 'frazee', 'freeing', 'freeport', 'friar', 'fried', 'fruitful', 'fry', 'fumes', 'gallup', 'gantry', 'garrisons', 'genealogical', 'generates', 'genetics', 'genevieve', 'genomics', 'gerrold', 'gestation', 'gharapuri', 'ghettos', 'gilded', 'gillingham', 'glacier', 'glaciers', 'glad', 'glazed', 'glyn', 'gma', 'godfrey', 'goldstein', 'goldwyn', 'goode', 'goro', 'gothenburg', 'gown', 'gpu', 'grady', 'graffiti', 'gran', 'grandiose', 'grappling', 'grasping', 'grayson', 'greene', 'gregarious', 'grenade', 'grinding', 'groom', 'grouping', 'grouse', 'grout', 'gtx', 'guan', 'guarantees', 'guarding', 'gull', 'gunboat', 'gunner', 'gut', 'gutierrez', 'gutiérrez', 'hacarmel', 'hague', 'hail', 'hal', 'halley', 'halloween', 'halpert', 'hamifratz', 'hamlets', 'hampering', 'hanau', 'handel', 'handles', 'hao', 'happily', 'hardline', 'hardwicke', 'harmless', 'harmolodics', 'harvested', 'harwich', 'hasbro', 'hates', 'hatteras', 'haul', 'havana', 'hawkes', 'hazael', 'header', 'headmaster', 'headpiece', 'hector', 'heel', 'helga', 'hellenic', 'helpful', 'henriette', 'henson', 'henstridge', 'herbs', 'hermit', 'hernia', 'herodianus', 'herpes', 'herrera', 'hezbollah', 'hidalgo', 'hideout', 'histories', 'hitters', 'hobart', 'hoc', 'hodgson', 'hof', 'holed', 'honeyeater', 'hooks', 'hooters', 'horizontally', 'horrific', 'horrocks', 'hottest', 'housewives', 'howards', 'hoyt', 'hozjan', 'hq', 'huang', 'hubbard', 'hui', 'humane', 'humid', 'humiliated', 'hunwick', 'hussars', 'hussey', 'hutch', 'hydrostatic', 'hypocrisy', 'hz', 'i.g', 'ibarguren', 'icelandic', 'ich', 'icons', 'icp', 'identifiable', 'ideological', 'idle', 'ignorant', 'igual', 'iifa', 'ilan', 'illegitimate', 'illiterate', 'illumination', 'imam', 'immaculate', 'immersed', 'immersion', 'immunity', 'impacted', 'inaccurate', 'incidentally', 'indefinitely', 'indeterminate', 'indianapolis', 'indispensable', 'indulge', 'inevitably', 'infancy', 'infiltrated', 'infinite', 'informally', 'infrastructural', 'infrequently', 'inherit', 'ini', 'initiating', 'injected', 'injuring', 'inquirer', 'inserting', 'insignia', 'insistence', 'inspires', 'installing', 'instalment', 'instruct', 'instructing', 'insurgent', 'interconnected', 'intermittently', 'intersect', 'interstellar', 'intertropical', 'intestines', 'intolerance', 'intoxication', 'inundated', 'invariably', 'invest', 'investing', 'investiture', 'ios', 'iphigénie', 'iris', 'irrigated', 'isabela', 'ithaca', 'jacksonville', 'jacqueline', 'jade', 'jagger', 'jakobsson', 'jayatilleke', 'jayma', 'jeffries', 'jejuri', 'jekyll', 'jelly', 'jerkins', 'jerseys', 'jimmadseni', 'joachim', 'johns', 'juana', 'judah', 'judiciary', 'jung', 'junkers', 'kamalakannan', 'kano', 'katrina', 'kaufman', 'kaufmann', 'keel', 'kells', 'kelp', 'kenji', 'kerb', 'kerosene', 'keshiraja', 'keswick', 'keyes', 'khe', 'kheops', 'khouw', 'kifino', 'kinescopes', 'kingsley', 'kissy', 'kitase', 'klein', 'knighted', 'knit', 'kobe', 'kookaburra', 'kooper', 'kpj', 'kratos', 'kurds', 'labels', 'laden', 'laity', 'lalich', 'lambei', 'lamby', 'lame', 'lamin', 'lasker', 'latitudes', 'laud', 'launcher', 'laurel', 'lawful', 'lea', 'leafy', 'lecturing', 'ledger', 'legality', 'legate', 'legitimately', 'lending', 'levitating', 'libretti', 'lieu', 'lifestream', 'ligature', 'lightweight', 'likeable', 'limantour', 'lime', 'lingering', 'lips', 'liters', 'litigators', 'livelihood', 'livingston', 'llangaffo', 'localised', 'locker', 'lombardo', 'longstanding', 'longyearbyen', 'lookout', 'lopsided', 'lorraine', 'lottery', 'lou', 'loudspeaker', 'louvre', 'lowman', 'lucius', 'luigi', 'lure', 'lusts', 'lutheran', 'luxurious', 'luxury', 'lydekker', 'maaveeran', 'macmillan', 'madras', 'magistrate', 'magnate', 'magnates', 'maharashtra', 'maidan', 'malayalam', 'malignant', 'mandarin', 'mandible', 'mandler', 'mangalore', 'mani', 'manic', 'manipulates', 'manzanillo', 'mares', 'marginally', 'marlins', 'marlon', 'martyr', 'marxist', 'masarnau', 'mascot', 'massey', 'masturbation', 'matted', 'mauryas', 'mausoleum', 'maximilian', 'mcgill', 'mcguinness', 'mckidd', 'mclean', 'mcmillan', 'meaningful', 'mechanization', 'mechanized', 'meditation', 'melodramatic', 'melted', 'mentality', 'mentor', 'merseyside', 'merville', 'mesa', 'metabolic', 'meteor', 'methodical', 'methodologies', 'midwest', 'migrant', 'miguel', 'mikhail', 'militant', 'milwaukee', 'mindless', 'minervois', 'mingrelian', 'misfortune', 'mist', 'mithravinda', 'miyamoto', 'mochan', 'modernize', 'molloy', 'monash', 'monoclonius', 'monospaced', 'monotypic', 'montenegrin', 'moravec', 'morchella', 'morelos', 'mortem', 'motorised', 'mottram', 'moult', 'mowing', 'mtb', 'mule', 'multiplicity', 'munei', 'munro', 'murdoch', 'muscat', 'mustangs', 'mwanga', 'myres', 'mysticism', 'nag', 'naraharitirtha', 'narasimha', 'narrates', 'narrowing', 'nate', 'naturalized', 'natwest', 'nava', 'naves', 'nearer', 'nebrius', 'necks', 'negation', 'nekoi', 'neptune', 'nestling', 'nestor', 'netherlandish', 'netted', 'netting', 'niagara', 'niall', 'nicaea', 'nicely', 'nichols', 'nicola', 'nigam', 'ninja', 'nm', 'noises', 'nominees', 'nopcsa', 'norsk', 'northerly', 'nostrils', 'noteworthy', 'nuns', 'nuts', 'oakland', 'obscurity', 'observance', 'obstructions', 'octaves', 'octavian', 'oddly', 'odessa', 'odoratus', 'oerlikon', 'offenses', 'officiating', 'omega', 'oneself', 'onion', 'operatives', 'opium', 'ordinated', 'organelle', 'organism', 'oriana', 'originates', 'ornithologist', 'ortiz', 'othniel', 'otranto', 'otters', 'otway', 'ourselves', 'ousted', 'outcomes', 'outdoors', 'outfitted', 'outlying', 'outset', 'outtakes', 'oven', 'overcoming', 'oversight', 'overthrown', 'overtly', 'overtones', 'overwhelm', 'owe', 'owning', 'oz', 'packing', 'pact', 'padua', 'painful', 'pains', 'paints', 'paired', 'palencia', 'paleontologist', 'palestinians', 'pandit', 'parades', 'paralleled', 'paramilitary', 'pardon', 'parenting', 'parry', 'participant', 'partitioned', 'partnerships', 'passionate', 'pastiche', 'patrolled', 'pbs', 'pecking', 'pelusium', 'pelvic', 'penalized', 'penetration', 'pennsylvanian', 'penny', 'perceptions', 'peridium', 'peron', 'persistence', 'peru', 'peróns', 'pesca', 'pescara', 'petrochemical', 'phased', 'philippe', 'phillip', 'photographing', 'pianos', 'picasso', 'pictorial', 'pill', 'pinkney', 'pint', 'pinyin', 'pitkern', 'pittsfield', 'pivotal', 'planting', 'platformer', 'plattsburgh', 'plurality', 'policemen', 'polluted', 'polly', 'pontprennau', 'porto', 'posse', 'posterior', 'potter', 'pouring', 'ppm', 'prague', 'praying', 'precedence', 'precentor', 'precept', 'predynastic', 'preserves', 'prevail', 'preyed', 'primordial', 'principality', 'printers', 'pro40', 'processed', 'processions', 'procure', 'professionalism', 'proficient', 'progenitor', 'prohibitions', 'promotes', 'propellant', 'proprietor', 'protester', 'proton', 'provence', 'ps2', 'psittacosaurus', 'pts', 'pulls', 'purgitsville', 'purposely', 'pushes', 'pédalier', 'queensberry', 'quintessential', 'quitting', 'racecourse', 'racially', 'radha', 'radically', 'rafting', 'raghavanka', 'raja', 'rallied', 'ramblin', 'ramesh', 'ramgarh', 'ramoji', 'rampant', 'ramsay', 'randall', 'rash', 'ratified', 'rational', 'ratios', 'ravaged', 'ravinder', 'rawlings', 'reachable', 'readability', 'readable', 'realms', 'reasoned', 'recalling', 'receptive', 'recession', 'recitation', 'recorder', 'recurrence', 'rederi', 'redgrave', 'refine', 'refineries', 'refugee', 'refurbishment', 'regent', 'regimes', 'reilly', 'reinforcement', 'reinforcing', 'reinstate', 'reiter', 'relativity', 'relaxation', 'relayed', 'relevance', 'reliably', 'remarking', 'rematch', 'render', 'renegade', 'rents', 'reorganized', 'replicated', 'republished', 'repulse', 'repulsed', 'reputed', 'rescuing', 'reservations', 'resided', 'resin', 'resolving', 'respiratory', 'restlessness', 'restriction', 'resultant', 'resuscitation', 'rev', 'revamp', 'revel', 'reversing', 'revolves', 'rewarding', 'rey', 'rhetoric', 'rhine', 'riata', 'rica', 'rickshaws', 'riddick', 'ridiculed', 'ridot', 'rigor', 'riley', 'ringing', 'rivalries', 'rizzi', 'rko', 'rn', 'robotic', 'rochelle', 'rodrigues', 'roommate', 'roosting', 'rosa', 'rothschilds', 'rotterdam', 'rowed', 'rrna', 'rubinstein', 'rupert', 'rutee', 'ruthenian', 'républicain', 'résolue', 'rịa', 'sabres', 'sadleir', 'salaam', 'salib', 'salle', 'saloon', 'salsa', 'salted', 'samarium', 'sampson', 'sanctuaries', 'sanguineti', 'sanh', 'sankat', 'santos', 'sapper', 'sarsens', 'satin', 'savings', 'sayuri', 'scaffolding', 'scalers', 'scaling', 'schedeen', 'schneider', 'schooner', 'scotsman', 'scramble', 'scraps', 'screams', 'scriptures', 'scw', 'seamus', 'seasonally', 'seismic', 'selecting', 'selectivity', 'selo', 'semicircular', 'semitism', 'sensitivity', 'sensual', 'sepulchral', 'serapion', 'serbian', 'seriousness', 'serpent', 'servers', 'setlist', 'sewers', 'señora', 'shake', 'shampain', 'shankar', 'shaoxing', 'shaping', 'sheds', 'shelves', 'shen', 'sherlock', 'shielding', 'shipment', 'shirtless', 'shoemaker', 'shook', 'shoop', 'shorten', 'shortstop', 'shouting', 'showcased', 'shrapnel', 'shrewsbury', 'shrimp', 'shropshire', 'shuswap', 'siak', 'siegfried', 'sify', 'signified', 'silvery', 'sinful', 'sizable', 'sk', 'skedar', 'skepticism', 'sleepy', 'slick', 'slit', 'slocum', 'slovenes', 'smashed', 'smuggling', 'snapped', 'societal', 'solidified', 'soloist', 'someday', 'sonate', 'sortied', 'sorting', 'souness', 'southwards', 'sovereignty', 'spar', 'sparrow', 'spatial', 'spawn', 'spawning', 'spheres', 'spins', 'spoils', 'spontaneously', 'sported', 'springsteen', 'spuds', 'spynie', 'ssp', 'stacy', 'stadion', 'stadiums', 'starship', 'starspots', 'starters', 'starvation', 'steeger', 'steer', 'stele', 'stemmed', 'stiffened', 'stirred', 'stocks', 'stockton', 'stoppage', 'stout', 'straits', 'streetcars', 'stretcher', 'stronghold', 'stumbled', 'subscribers', 'subunits', 'sudan', 'suitability', 'sulfate', 'sulfides', 'sulfuric', 'superiors', 'supernovae', 'supervisors', 'supremacy', 'surprises', 'surprisingly', 'surrogate', 'sutherland', 'sutton', 'suu', 'suzuki', 'svan', 'swelled', 'swells', 'swiftly', 'swinging', 'swollen', 'symbolically', 'symbolise', 'symons', 'sympathies', 'synthesize', 'syād', 'tadman', 'taiwan', 'taizong', 'takeshi', 'tapers', 'tara', 'tarantino', 'tay', 'tedious', 'telescopes', 'tenacity', 'tentatively', 'terminals', 'terminate', 'terrifying', 'testimonial', 'tfg', 'thang', 'thematically', 'theorists', 'thermonuclear', 'theropod', 'thieves', 'thirst', 'thorndike', 'thou', 'thoughtful', 'thrash', 'thy', 'tigernach', 'tile', 'timetable', 'tire', 'tirthankar', 'toan', 'tobe', 'tolls', 'tomáš', 'topography', 'tornadoes', 'tort', 'tortoise', 'touchback', 'tracey', 'traction', 'traill', 'tramps', 'tranmere', 'transcend', 'transcriptional', 'transforming', 'transforms', 'transiting', 'transitioning', 'transitions', 'translations', 'transmit', 'transparent', 'transplantation', 'trapping', 'traveller', 'treasurer', 'tricky', 'triumvirate', 'trot', 'troy', 'trunks', 'tsonga', 'tubular', 'tuff', 'tunisia', 'turin', 'tuđman', 'twain', 'twinned', 'tyla', 'tyler', 'tynan', 'tønsberg', 'uci', 'ucla', 'uganda', 'ulaid', 'ullevål', 'ullman', 'unaffected', 'unaided', 'uncover', 'undated', 'understandable', 'unheard', 'unicef', 'unionist', 'unlawful', 'unleashed', 'unnumbered', 'unoriginal', 'unsatisfactory', 'unsigned', 'unsportsmanlike', 'upbeat', 'upgrades', 'upheld', 'uphold', 'upholding', 'uprisings', 'uprooted', 'utilize', 'utilizes', 'vachana', 'vaguely', 'vendetta', 'venerated', 'verdi', 'verify', 'vestry', 'vfx', 'vhf', 'vices', 'vince', 'vines', 'violinist', 'vipers', 'viruses', 'vitamin', 'viva', 'vogue', 'voluntarily', 'vomiting', 'votta', 'vs', 'vulnerability', 'véron', 'wal', 'walkersville', 'walsh', 'walt', 'warmly', 'warnock', 'warranted', 'wasson', 'watts', 'wax', 'weaknesses', 'wearer', 'weighted', 'weights', 'weizenbaum', 'welterweight', 'wetland', 'wettest', 'wharves', 'wherever', 'wickford', 'widmore', 'widows', 'wiley', 'wilhelmshaven', 'winfrey', 'withheld', 'withoos', 'wnwbl', 'wodehouse', 'wolverines', 'wonderland', 'woodwork', 'woolf', 'workings', 'wrangler', 'wreckage', 'wrinkled', 'wrist', 'writ', 'wrongdoing', 'wttg', 'xinhua', 'ya', 'yakuza', 'yankee', 'ydll', 'yeats', 'yelin', 'yielding', 'yogyakarta', 'yokoi', 'yukon', 'yusuf', 'zanzibari', 'zimmermann', 'zionism', 'zionist', 'zzap', 'µg', '½', 'æthelred', 'éditions', '„', '♭', \"'automobile\", \"'nal\", \"'ung\", '.69', '1005', '1075', '1102', '1107', '1121', '1133', '1161', '1210', '1213', '1215', '1250', '1260', '1265', '1271', '1534', '1549', '1550', '1554', '1558', '1567', '1596', '1613', '1617', '1621', '1633', '1637', '1640', '1652', '1669', '168', '1681', '1708', '1717', '1751', '1754', '1763', '1765', '1767', '1788', '183', '189', '193', '195', '198', '1up.com', '2100', '213', '219', '231', '234', '239', '241', '245', '2500', '268', '269', '271st', '273', '276', '277', '293', '295', '302', '323', '333', '338', '340', '345', '354', '385', '38a', '393', '395', '415', '41st', '435', '43rd', '454', '463', '47338', '483', '4he', '502nd', '51st', '525', '53rd', '568', '610', '618', '620', '67th', '697', '6f', '702', '708', '725', '76ers', '81st', '830', '835', '87th', '938', 'a4232', 'abbreviations', 'abdul', 'abietinae', 'ablutions', 'abnormally', 'absorbing', 'absorbs', 'academia', 'accountability', 'accumulating', 'acorns', 'acquainted', 'acquitted', 'activate', 'activation', 'adair', 'adaptable', 'adde', 'addict', 'adelphi', 'adjective', 'adjusting', 'adjustments', 'administrators', 'admirable', 'adoration', 'adore', 'adrenaline', 'adrianne', 'adummatu', 'advertise', 'aegean', 'affiliates', 'affiliations', 'affordable', 'aforesaid', 'afro', 'aftershocks', 'agarics', 'aggarwal', 'aggressor', 'airbase', 'airstrikes', 'aitape', 'alabaster', 'alain', 'albans', 'aldershot', 'alerts', 'alessandro', 'allegheny', 'allegorical', 'allenton', 'allocation', 'allowance', 'alph', 'altitudes', 'aluminium', 'alvin', 'amalgamated', 'ambassadors', 'ambivalent', 'amphibians', 'amplified', 'anagram', 'analogy', 'annapurna', 'annihilated', 'announcer', 'annuity', 'antonescu', 'antoni', 'antrim', 'apiece', 'applicants', 'apprenticeship', 'arcades', 'archbishopric', 'archdiocese', 'archibald', 'arden', 'argon', 'argyle', 'arianna', 'arkadelphia', 'armia', 'armory', 'arriaga', 'arrogant', 'ascenders', 'ascribed', 'asen', 'ashlar', 'ashurbanipal', 'askew', 'aspiring', 'asquith', 'assemblage', 'assertive', 'assimilated', 'assonance', 'atkin', 'attribution', 'atwood', 'audible', 'auditioning', 'auguste', 'augustin', 'aurangzeb', 'authoritarian', 'avenues', 'aviators', 'avignon', 'axial', 'axle', 'aynesworth', 'aziridines', 'aziz', 'aztec', 'b5', 'b6', 'backhand', 'baden', 'baghdad', 'bailey', 'bair', 'balaguer', 'bamboo', 'bandits', 'bangalore', 'bangaru', 'bangladesh', 'bannawit', 'banyuls', 'baptismal', 'barber', 'bardufoss', 'baritone', 'barnum', 'barometer', 'barrister', 'basing', 'batavia', 'bathurst', 'bats', 'batted', 'bayonet', 'bcs', 'beans', 'beattie', 'beck', 'beech', 'beetle', 'beforehand', 'behaves', 'behavioral', 'benign', 'benznidazole', 'berries', 'bestseller', 'bhopali', 'bianco', 'bikini', 'billions', 'biochemical', 'biogenesis', 'bipedal', 'birdwood', 'births', 'bismillāh', 'bki', 'bl', 'blanket', 'blasting', 'blaze', 'blazers', 'blends', 'blish', 'bloc', 'blockaded', 'blockading', 'blockbuster', 'blockships', 'blossom', 'blotches', 'boiled', 'boldly', 'bondage', 'bonnet', 'bonuses', 'booty', 'boreanaz', 'bosses', 'bothered', 'bottas', 'bounce', 'bounced', 'bowen', 'bowers', 'boycott', 'boycotted', 'brahmanandam', 'branding', 'brando', 'bray', 'breached', 'breaches', 'breeze', 'brew', 'brewers', 'bridgestone', 'bridgwater', 'brindisi', 'bringin', 'britney', 'brixton', 'broadcaster', 'broccoli', 'broodmare', 'brough', 'brow', 'bruising', 'brunt', 'brushed', 'bruyn', 'bs', 'bubbling', 'buchanan', 'buckinghamshire', 'budgets', 'budokan', 'bunder', 'bunny', 'burbank', 'burchill', 'burger', 'burke', 'burma', 'busiest', 'buttresses', 'buyer', 'buyout', 'bypassed', 'byung', 'caesium', 'cain', 'calamine', 'calisto', 'calospora', 'camouflaged', 'campers', 'canadiens', 'cannan', 'cannons', 'canoes', 'cans', 'capacities', 'capita', 'capitulation', 'caponier', 'capping', 'capsized', 'captivating', 'carcetti', 'carla', 'caro', 'cartagena', 'cassini', 'casts', 'catalytic', 'catchers', 'cation', 'cauldron', 'cede', 'ceilings', 'celeste', 'celtics', 'cenozoic', 'centralized', 'ceramic', 'cessation', 'cessna', 'chad', 'chalukyas', 'chancery', 'changeable', 'channeling', 'chaplains', 'characterization', 'characterizing', 'charcoal', 'charisma', 'charismatic', 'charleston', 'chas', 'chattering', 'checking', 'checks', 'childish', 'chola', 'chop', 'christened', 'christiansen', 'christmastime', 'christoph', 'chucky', 'chure', 'cider', 'cigarette', 'circumstantial', 'citations', 'cladistic', 'clapton', 'clare', 'clarify', 'clarion', 'classed', 'claudio', 'clearer', 'clearmountain', 'climactic', 'climbs', 'closures', 'cloudiness', 'cloverleaf', 'clue', 'clumps', 'clustered', 'coasters', 'coated', 'coaxial', 'cob', 'coiled', 'collieries', 'colonialism', 'colorful', 'colt', 'comadres', 'commits', 'commodity', 'commoners', 'commonplace', 'commuter', 'companionship', 'compensated', 'complementary', 'compliance', 'complied', 'comprehend', 'computation', 'concealment', 'conclusively', 'concorde', 'conditioning', 'conferences', 'confinement', 'conflicted', 'confucian', 'conjectured', 'connor', 'connors', 'conocí', 'conquests', 'consorts', 'constellations', 'constituencies', 'constitutes', 'contemplating', 'contempt', 'contentious', 'contestant', 'contraceptives', 'contractual', 'contrived', 'convened', 'conveying', 'conveys', 'convincingly', 'cooks', 'copland', 'copying', 'corbett', 'corbières', 'coriolis', 'corncrake', 'cornelius', 'corporal', 'correa', 'correlated', 'correlation', 'corsage', 'cortés', 'courting', 'courtney', 'courtyards', 'covetousness', 'cowell', 'cranes', 'credible', 'crevice', 'crewe', 'cried', 'criticising', 'crociato', 'crossbolt', 'crowning', 'crowsnest', 'cruciform', 'ctesiphon', 'cub', 'cun', 'curd', 'customary', 'cuu', 'cuvier', 'cw', 'cyclical', 'cynan', 'cytogenetic', 'césar', 'd4', 'dagenham', 'dairy', 'dale', 'damn', 'dancer', 'danielle', 'daniil', 'dar', 'darkening', 'dart', 'dasa', 'dawson', 'dazzling', 'deadwood', 'deakin', 'deborah', 'decimated', 'declarations', 'decrees', 'dedicating', 'deducted', 'deduction', 'deeming', 'deepened', 'default', 'defected', 'defects', 'defenseman', 'defiance', 'defy', 'delusional', 'demolishing', 'demonic', 'denotes', 'denton', 'departs', 'departures', 'deploys', 'depots', 'derker', 'descenders', 'deserve', 'desmond', 'desolate', 'deter', 'deteriorate', 'detracted', 'deutsche', 'developmental', 'deviate', 'devlin', 'devotes', 'dhien', 'dial', 'dianna', 'diaspora', 'dibiase', 'dickey', 'didactylus', 'dilemma', 'dimer', 'dion', 'dipped', 'dipterura', 'disadvantages', 'disapproval', 'disapproved', 'disbanding', 'discarding', 'discerned', 'discernible', 'disciplinary', 'disciplined', 'discomfort', 'disconcerting', 'discreet', 'discrepancy', 'discs', 'disdain', 'disembark', 'disembarking', 'disgusted', 'dislikes', 'dismisses', 'disobedience', 'dispatch', 'dispatches', 'dispatching', 'disraeli', 'dissected', 'dissertation', 'distal', 'distinctions', 'distinguishable', 'distinguishing', 'distraught', 'distributes', 'distributing', 'distrust', 'ditches', 'diverting', 'divorces', 'divākara', 'dixie', 'dixon', 'dlc', 'docile', 'dockyards', 'documentation', 'dogger', 'domed', 'domingo', 'dominica', 'dominique', 'domonia', 'donate', 'donnelly', 'donnie', 'doomed', 'dorn', 'dos', 'doses', 'dowie', 'downfall', 'downwards', 'doña', 'drab', 'drank', 'draped', 'drax', 'drown', 'drunken', 'drying', 'ds9', 'dso', 'dubrava', 'dubstep', 'duirinish', 'duly', 'dumas', 'dunand', 'dunham', 'duplicate', 'duponchel', 'dusk', 'dwell', 'dwelling', 'dwellings', 'dycroft', 'dye', 'dynasties', 'e6', 'eared', 'earthstars', 'earthworms', 'ecliptic', 'ectomycorrhizae', 'edberg', 'edmond', 'eerie', 'ejected', 'elbridge', 'electrolysis', 'electronegative', 'elijah', 'elixir', 'elle', 'ellerbeck', 'ellerbee', 'embalmed', 'embassies', 'embodiment', 'embody', 'embraced', 'embryo', 'emigrants', 'emil', 'emile', 'emirates', 'emissions', 'emits', 'emitting', 'employers', 'enantioselective', 'enclosures', 'encompassed', 'endanger', 'endeavor', 'endings', 'endorse', 'enforcing', 'engendered', 'enrique', 'enroll', 'entail', 'entangled', 'enthusiastically', 'enthusiasts', 'entropy', 'enveloped', 'environs', 'epics', 'epigenetic', 'episodic', 'epistemology', 'epithets', 'equalised', 'equalling', 'eradication', 'erard', 'erection', 'ernoul', 'erving', 'esque', 'esquisses', 'estañol', 'eternia', 'ethiopian', 'ethnographic', 'eu2o3', 'europos', 'evald', 'evaluating', 'evenly', 'evidently', 'evocative', 'evolves', 'exams', 'excavating', 'exceedingly', 'exceeds', 'exclusion', 'executioner', 'executions', 'exert', 'exiled', 'exoplanets', 'expansive', 'expectation', 'expedited', 'expended', 'experimentation', 'expertly', 'exponent', 'exportins', 'expound', 'extirpated', 'eyelids', 'faa', 'fabricated', 'facilitating', 'faded', 'fait', 'falco', 'fangs', 'fanned', 'farah', 'farce', 'farmhouse', 'farrar', 'faust', 'favoring', 'favourites', 'feasibility', 'felis', 'femininity', 'ferranti', 'ferried', 'ferries', 'ferryland', 'fetch', 'feuded', 'fiancé', 'fibre', 'fictitious', 'fiercely', 'fifties', 'figured', 'filament', 'filiation', 'filippo', 'filkins', 'filtering', 'fingleton', 'fireforce', 'fissures', 'fitz', 'flak', 'flared', 'flaw', 'fledged', 'flemington', 'flintlock', 'flirting', 'flour', 'flourishing', 'fluctuated', 'fluorides', 'fogle', 'follower', 'fool', 'foothold', 'forbade', 'forceful', 'fordham', 'forebears', 'forefront', 'foreseeable', 'forgery', 'forgettable', 'forster', 'forum', 'fractures', 'fragmentation', 'francetić', 'franks', 'freckles', 'frederik', 'freeland', 'freestylegames', 'freetown', 'freeways', 'freshwater', 'fresnel', 'freud', 'friars', 'frightened', 'fringed', 'frédéric', 'fulham', 'fullerene', 'futurians', 'g6', 'gaa', 'gabon', 'gabonica', 'gaiman', 'galilee', 'gall', 'gallia', 'galloway', 'gangs', 'garde', 'garland', 'garman', 'garrisoned', 'garry', 'gasar', 'gashmu', 'gaskell', 'gays', 'gaze', 'gcses', 'gedney', 'geetha', 'gel', 'geliot', 'gemini', 'gen.', 'geneva', 'genital', 'genome', 'germain', 'germaniawerft', 'gertrude', 'ghora', 'gian', 'giles', 'gilmore', 'gimmick', 'glenelg', 'gloucester', 'glow', 'gobrecht', 'goeben', 'goldhagen', 'goldreyer', 'goldsmith', 'gorgeous', 'gould', 'governorship', 'goâve', 'grab', 'grabbed', 'graced', 'graeme', 'grams', 'grandchildren', 'granddaughter', 'grandeur', 'grandparents', 'granules', 'grasped', 'grasshoppers', 'grateful', 'grating', 'gravitationally', 'greenaway', 'greyish', 'grimes', 'groin', 'groundbreaking', 'groundwater', 'grove', 'growling', 'gruesome', 'guardsmen', 'gubernatorial', 'gudbrandsdalens', 'gui', 'guitarists', 'gupta', 'gusty', 'gwynedd', 'h2o', 'hack', 'hacking', 'hadji', 'hadrosaurid', 'haig', 'hailing', 'hairy', 'halting', 'halévy', 'hampshires', 'handicap', 'hanna', 'harcourt', 'hardened', 'haridasa', 'harstad', 'hartmann', 'hasn', 'hassett', 'hasta', 'hasted', 'hasty', 'hatcher', 'hawkins', 'haze', 'hazel', 'headgear', 'headline', 'headmold', 'heartfelt', 'heavens', 'hectare', 'hedmark', 'heisler', 'helpers', 'hema', 'hendford', 'hendrie', 'henryk', 'hentz', 'herbivore', 'hermes', 'heron', 'herr', 'hesitant', 'hibbing', 'hiberno', 'hierarchical', 'hieroglyphic', 'hieroglyphs', 'highs', 'hilberg', 'hillside', 'himalayas', 'hindman', 'hindus', 'hint', 'hoare', 'hoffman', 'hokie', 'holder', 'holdsworth', 'hollandia', 'holliday', 'holloway', 'holly', 'honesty', 'honey', 'honeyeaters', 'honorific', 'hopeful', 'hormone', 'horned', 'horrified', 'hostess', 'houndstooth', 'housefull', 'hoysalas', 'huainan', 'huey', 'humboldt', 'hume', 'humiliating', 'hun', 'hundredth', 'hurri', 'hydraulic', 'hydride', 'hydroxide', 'hypnosis', 'icao', 'idealist', 'ifa', 'ignace', 'ignite', 'ignores', 'iif', 'imitate', 'imitations', 'immobile', 'imparted', 'implementing', 'importantly', 'importins', 'impossibility', 'impoverished', 'impregnated', 'impress', 'improperly', 'improvisation', 'inactivity', 'inafune', 'incessantly', 'incompatible', 'incompetence', 'incompetent', 'incomprehensible', 'inconsistency', 'incursions', 'indebted', 'indifference', 'indifferent', 'indiscriminate', 'indistinguishable', 'indus', 'ineligible', 'infect', 'infectious', 'inferno', 'infest', 'infidelity', 'infighting', 'inflorescences', 'ingested', 'inhabitant', 'inhaled', 'inherently', 'inhibiting', 'inhibits', 'inisfallen', 'initiates', 'inputs', 'insectivorous', 'insertion', 'inspecting', 'install', 'instinctively', 'instincts', 'insulted', 'insults', 'integrate', 'intel', 'interactivity', 'interacts', 'interfering', 'interphase', 'intertwined', 'intervened', 'interviewer', 'intifada', 'intimacy', 'intimately', 'intimidating', 'intoxicated', 'intracellular', 'intrigued', 'intrinsically', 'introductions', 'introspective', 'intruders', 'intuitive', 'investigator', 'irresponsible', 'irritation', 'irvine', 'irwin', 'isaiah', 'ishmaelites', 'isidore', 'islandtm', 'islay', 'isolde', 'italianate', 'italo', 'itc', 'ito', 'iva', 'izumo', 'jackman', 'jacmel', 'jacobin', 'jacobson', 'jams', 'janesville', 'jani', 'jarred', 'javanese', 'jaya', 'jenova', 'jerusalemite', 'jie', 'jing', 'joes', 'johannesburg', 'johnstone', 'jolly', 'joni', 'josip', 'journeys', 'judea', 'judy', 'julianne', 'julien', 'jurisdictions', 'justification', 'juxtaposed', 'kadokawa', 'kaemtjenent', 'kahne', 'kala', 'kama', 'kamehameha', 'kane', 'kaori', 'kaplan', 'karaboudjan', 'karin', 'karol', 'kartvelian', 'kathleen', 'katra', 'katy', 'keegan', 'keeravani', 'kelefa', 'kentwood', 'kepler', 'kerch', 'kev', 'keyblade', 'kidman', 'kidney', 'killings', 'kilmuir', 'kinoʻole', 'kipling', 'kirkus', 'kirkwood', 'kissinger', 'kitchens', 'kittyhawks', 'knapp', 'knives', 'knockout', 'knocks', 'knox', 'knútr', 'koch', 'kodansha', 'kodipetta', 'koenig', 'koller', 'konami', 'koniecpolski', 'konstanty', 'koreanus', 'korita', 'krajowa', 'krayoxx', 'kritschgau', 'krycek', 'kuehn', 'kund', 'kwazulu', 'labeling', 'lac', 'lackluster', 'ladder', 'ladiges', 'lakshmi', 'lamins', 'landowner', 'lang', 'lankan', 'lapse', 'larra', 'lasers', 'lat', 'lattice', 'laudatory', 'launchers', 'lauren', 'laverton', 'lawler', 'laxa', 'laz', 'leak', 'ledden', 'ledges', 'leeward', 'legionnaires', 'leibniz', 'lek', 'lenient', 'lennie', 'lesbian', 'lev', 'lew', 'lewes', 'lewiston', 'liability', 'liberating', 'licences', 'lieberman', 'lifton', 'lillehammer', 'lilly', 'limoux', 'lineages', 'linux', 'literacy', 'literate', 'lithium', 'litre', 'lizard', 'lizards', 'llanbeulan', 'llanedeyrn', 'loads', 'lobsters', 'locating', 'lockheed', 'lodgepole', 'logistic', 'lombardi', 'longevity', 'longford', 'longitude', 'lookouts', 'lows', 'loyola', 'lsd', 'ltd.', 'luciano', 'lucknow', 'luton', 'lwów', 'lxxvi', 'lyla', 'lynette', 'm.i.a', 'maccabi', 'machinations', 'maclagan', 'macromolecules', 'madsen', 'maeonius', 'mageibra', 'magna', 'maidstone', 'makoto', 'malaria', 'malls', 'manas', 'mandan', 'mandir', 'manfred', 'manipulated', 'manningham', 'manse', 'mansions', 'mantellodon', 'manually', 'manuals', 'marbles', 'margat', 'margot', 'marino', 'mariposans', 'marital', 'martinez', 'maryada', 'marylebone', 'massacres', 'massed', 'masterpieces', 'materiel', 'maud', 'maverick', 'maxilla', 'mayoral', 'maza', 'mbaruk', 'mccarron', 'mcgregor', 'mcguffie', 'mcgurk', 'mcgwire', 'mckean', 'meiklejohn', 'melanocephala', 'meld', 'melinda', 'melodic', 'melzer', 'meng', 'mennonites', 'merengue', 'messengers', 'metaphors', 'meteorology', 'mfr', 'microorganisms', 'mifflin', 'mifune', 'migrating', 'milieu', 'militias', 'milking', 'millais', 'millennia', 'minefields', 'mink', 'minnie', 'minustah', 'mis', 'mischief', 'misery', 'mislead', 'misunderstanding', 'misused', 'mj', 'mmr', 'mo', 'moaning', 'modernity', 'modernized', 'mogadiscio', 'mohan', 'molde', 'momentarily', 'mona', 'mondavi', 'mongolian', 'monkees', 'monochrome', 'monotheistic', 'monsieur', 'morey', 'moriarty', 'moritzian', 'mosaics', 'moshenska', 'motherhood', 'motorway', 'motto', 'mould', 'moulded', 'mountings', 'mouquet', 'mowgli', 'mozambicans', 'mucius', 'multinational', 'multipurpose', 'mumps', 'mundo', 'munsee', 'murchada', 'musicnotes.com', 'muted', 'mutis', 'mxn', 'mycelial', 'myeloblast', \"n'roll\", 'nagachandra', 'nahant', 'nakajima', 'nanaly', 'narayan', 'narial', 'narrate', 'narratives', 'narrowed', 'narthex', 'narvik', 'nasor', 'natal', 'nationalistic', 'naya', 'nc3', 'nc6', 'ncos', 'necked', 'necropolis', 'negligence', 'nemesis', 'neocurtilla', 'nerys', 'nets', 'networking', 'neurons', 'neurotic', 'neutralize', 'newcomers', 'newest', 'newsday', 'newsweek', 'nf3', 'nguyen', 'nicholls', 'nicky', 'nielly', 'nitrous', 'nlds', 'nmda', 'nmi', 'noctilio', 'noir', 'norske', 'norwalk', 'nota', 'nozzle', 'nucleolar', 'nucleosynthesis', 'nudes', 'nuestra', 'nuisance', 'nutter', 'nw', 'nz', 'nöldeke', 'oar', 'oblique', 'obstruct', 'occurrences', 'oceanographic', 'oden', 'oedjang', 'offences', 'offenders', 'offensives', 'oils', 'okura', 'oldfield', 'oldman', 'olympus', 'oman', 'omnipotent', 'onset', 'onshore', 'opines', 'opining', 'opt', 'orchart', 'ordained', 'organiser', 'oribe', 'orientalis', 'orkney', 'ornament', 'ornamental', 'ornithischians', 'ornithopod', 'orphanage', 'otra', 'ouranosaurus', 'ourebi', 'outermost', 'outflank', 'outflanking', 'outgassing', 'outing', 'outlawed', 'outwards', 'overcrowding', 'overflowed', 'overhaul', 'overpasses', 'overruled', 'overseeing', 'overseer', 'overtime', 'overtook', 'overweight', 'oxfam', 'oyster', 'pablo', 'paddling', 'palaeoscincus', 'palatinate', 'paley', 'palisade', 'palisades', 'pamphlets', 'papacy', 'papua', 'papyri', 'paragraphs', 'paranoid', 'parochial', 'parte', 'passer', 'passive', 'passports', 'pathogenic', 'pathos', 'patronym', 'pave', 'pci', 'peabody', 'peacekeeping', 'pelham', 'pelican', 'pelts', 'penal', 'penarth', 'penh', 'pens', 'perennial', 'pereyns', 'perfume', 'permitting', 'perpetual', 'persia', 'persists', 'personification', 'pertaining', 'pertama', 'perugia', 'peterson', 'petri', 'peulan', 'peuple', 'phd', 'phnom', 'phosphate', 'photographic', 'photons', 'photosphere', 'phước', 'pictured', 'picturesque', 'pierced', 'pilgrim', 'pinkner', 'pinnacle', 'pinus', 'pioneered', 'pitlake', 'placid', 'plaques', 'plastered', 'playgrounds', 'playwright', 'pld', 'pleasing', 'pleistocene', 'plight', 'plotline', 'plugge', 'plume', 'plush', 'plužine', 'poetical', 'poignant', 'pointless', 'poised', 'politiquerias', 'polygonal', 'polygyny', 'polytheism', 'pongola', 'pongolapoort', 'poorest', 'popping', 'porgy', 'pornography', 'portfolio', 'portisch', 'positional', 'positioning', 'potocki', 'pots', 'pounding', 'pountney', 'powdery', 'powerfully', 'powerless', 'pozières', 'praemaxillae', 'pratt', 'preach', 'preachers', 'precluded', 'precocial', 'predications', 'predominately', 'prehistory', 'premaxilla', 'prepares', 'presbytery', 'preseason', 'pretends', 'prg', 'priesthood', 'priestly', 'principals', 'privileged', 'prized', 'proclamation', 'programmed', 'prohibit', 'prohibiting', 'prohibits', 'prolong', 'prompt', 'proofs', 'protocol', 'provident', 'provocative', 'psh', 'psychologist', 'puppeteers', 'purcell', 'purchases', 'purge', 'purged', 'purre', 'pursuant', 'putnam', 'puzzled', 'pym', 'pérez', 'quakers', 'quarrel', 'quarrels', 'quarterfinal', 'quickest', 'quirky', 'quonset', 'quotations', 'raasay', 'radiate', 'radiates', 'radicals', 'raft', 'ragged', 'ragnaill', 'rainn', 'rajasthan', 'raked', 'ramanagara', 'ramanna', 'ramat', 'rams', 'rand', 'rankin', 'rapping', 'raptors', 'rasbach', 'ratzenberger', 'rdna', 'reacting', 'reactivated', 'reactive', 'reaffirmed', 'realising', 'rearing', 'reasonably', 'rebellions', 'reburied', 'recast', 'receivers', 'recite', 'recognisable', 'recognises', 'recognizable', 'recon', 'reconciled', 'rectilinear', 'rediff.com', 'reel', 'reformers', 'reginald', 'regroup', 'regurgitation', 'rehabilitated', 'rehearsal', 'rehearsing', 'reindeer', 'reinforces', 'reintroduced', 'relapse', 'relatable', 'relativism', 'relaunched', 'relentlessly', 'religiously', 'relinquished', 'remaster', 'remit', 'remixing', 'renders', 'rendezvoused', 'renew', 'repellent', 'reproduced', 'reproductions', 'republics', 'rescuers', 'resent', 'resented', 'residency', 'residue', 'resolute', 'resolves', 'respectable', 'restrained', 'resumes', 'resuming', 'resurfaced', 'revelations', 'revert', 'rewritten', 'richest', 'rider', 'riflemen', 'rift', 'riga', 'rigged', 'rightful', 'rightly', 'rioting', 'riparian', 'risked', 'ritualistic', 'rivera', 'rnf', 'roasted', 'robbed', 'robotics', 'robson', 'rocker', 'rodents', 'rolf', 'romp', 'roo', 'ropes', 'rossini', 'rosyth', 'royalist', 'royce', 'rubbing', 'rubbish', 'ruby', 'rufous', 'rupture', 'rusher', 'sachs', 'sacirbey', 'sacrament', 'sacraments', 'sacrificed', 'sajid', 'sakamoto', 'sakimoto', 'salaad', 'salamis', 'salesman', 'salim', 'salmana', 'salvaged', 'sami', 'samu', 'sandler', 'sangatya', 'sanger', 'sanjeev', 'sanneh', 'sap', 'saptibhaṅgī', 'satires', 'sato', 'saturdays', 'sawtooth', 'sbcl', 'scalds', 'scarcely', 'schaefer', 'schnellenberger', 'schoolboy', 'schoolcraft', 'schrute', 'schuester', 'schyster', 'sci', 'scientologist', 'scribes', 'scrub', 'scumm', 'seaman', 'seaplanes', 'sear', 'searle', 'seawright', 'secluded', 'seconded', 'sedgemoor', 'seepage', 'segontium', 'segregation', 'selenite', 'sellers', 'sellout', 'seminole', 'senegal', 'senjō', 'senna', 'senthil', 'serpents', 'setback', 'settler', 'settles', 'seward', 'shand', 'shaotang', 'sharon', 'sharpened', 'shearman', 'shepherds', 'sherman', 'shi', 'shielded', 'shikmona', 'shinawatra', 'shlaim', 'shou', 'shower', 'showers', 'shp', 'shropshires', 'shutters', 'shuttle', 'shōnen', 'sickness', 'sideways', 'signage', 'signaled', 'signatures', 'signify', 'sikh', 'simplistic', 'simulants', 'simulated', 'simulation', 'sinister', 'sited', 'situ', 'sivaji', 'sizeable', 'sketchy', 'skirts', 'slang', 'slavonia', 'sleeve', 'slightest', 'slim', 'slits', 'slowing', 'smiling', 'smokey', 'smugglers', 'snapping', 'snowfall', 'sockeye', 'socorro', 'softened', 'solicited', 'solidarity', 'solidify', 'solvent', 'somanatha', 'somber', 'sophia', 'soprano', 'sorcerer', 'sorry', 'southeasterly', 'southend', 'southernmost', 'spaniards', 'sparta', 'spearheaded', 'spears', 'specializing', 'specifies', 'spectator', 'spindle', 'spindles', 'spiracles', 'spitting', 'spokeswoman', 'spout', 'spreadsheet', 'squeezed', 'srihari', 'stadia', 'staffing', 'stafford', 'stains', 'stairs', 'stalks', 'stamps', 'standpoint', 'standpoints', 'stanton', 'startling', 'statistic', 'steamer', 'steeply', 'stegosauridae', 'steiner', 'steinernema', 'stepen', 'steppe', 'stereoscopic', 'stereotypical', 'stereum', 'sterile', 'stibnite', 'sticking', 'stir', 'storyboard', 'streaked', 'strenuous', 'strikeout', 'stringent', 'striving', 'structurally', 'stunned', 'stylised', 'subalpine', 'subeditor', 'subfossil', 'subhash', 'subplots', 'subset', 'subsided', 'subsistence', 'subsurface', 'subtype', 'succumbed', 'sucked', 'sudanese', 'sufi', 'sulfoxonium', 'sumino', 'summerslam', 'sums', 'sundial', 'sunpass', 'superficially', 'superfiring', 'superwasp', 'supplementary', 'surfer', 'suspend', 'suspicious', 'sweetest', 'swimmers', 'sylvester', 'symbiosis', 'symbiotic', 'symbolized', 'symmetry', 'symptomatic', 'syndicated', 'synonymized', 'synths', 'syracuse', 'syriac', 'systematically', 'taels', 'tai', 'taiwanese', 'taj', 'tame', 'tammy', 'taoist', 'tarnovo', 'tastes', 'taxis', 'teaming', 'technion', 'tehuantepec', 'teja', 'telegram', 'temperance', 'tending', 'tense', 'teri', 'terminating', 'terminator', 'terrorists', 'tessic', 'testosterone', 'tetrameter', 'textbook', 'textured', 'tgs', 'thatcher', 'thebes', 'theobald', 'theodor', 'theropods', 'theroux', 'thorne', 'thoroughbred', 'thorpe', 'thrill', 'thrilled', 'tiles', 'timberlake', 'timbers', 'timbo', 'tioga', 'tna', 'toe', 'toed', 'tonal', 'tongs', 'toothless', 'topographic', 'toppling', 'tore', 'tornado', 'torre', 'torrens', 'torv', 'totalled', 'touches', 'toughest', 'toulon', 'towering', 'toya', 'tracery', 'trader', 'trainers', 'trajan', 'tram', 'transaction', 'transcontinental', 'translates', 'translators', 'traphont', 'traverses', 'traversing', 'trawler', 'treasures', 'treehouse', 'tremendous', 'triana', 'triangles', 'triatominae', 'trim', 'triumphant', 'triumphed', 'trivalent', 'trois', 'troublesome', 'troughs', 'truths', 'trần', 'tsarevets', 'tuesday', 'tulsi', 'tumble', 'tuojiangosaurus', 'tuozhou', 'turanoceratops', 'turbulence', 'turbulent', 'turnout', 'turnpikes', 'turquoise', 'turuma', 'tuttle', 'tweeter', 'twists', 'tyrone', 'ubiquitous', 'ugo', 'uig', 'umar', 'unarmed', 'unconfirmed', 'unconnected', 'undamaged', 'undercut', 'undermine', 'undetected', 'undistinguished', 'unearthed', 'unification', 'unilateral', 'unjust', 'unjustly', 'unmarked', 'unparalleled', 'unplugged', 'unranked', 'unresolved', 'unsettling', 'unspecified', 'unspoken', 'untidy', 'unusable', 'unveiling', 'unwillingness', 'upriver', 'urgency', 'uruguay', 'usda', 'userkaf', 'usumacinta', 'utilised', 'utter', 'uttered', 'valanginian', 'valerian', 'varma', 'vase', 'vaults', 'vc', 'vedic', 'veers', 'veiled', 'venezuelan', 'vengeful', 'ventilation', 'verified', 'verulamium', 'vetoed', 'vibration', 'vijayanagara', 'vikram', 'vintner', 'vira', 'visitation', 'viviparous', 'vosloo', 'vows', 'wade', 'wainwright', 'wakabayashi', 'wakefield', 'waldemar', 'warburton', 'warcraft', 'warehouses', 'warheads', 'wario', 'warlord', 'warmed', 'wasting', 'wat', 'waterfalls', 'waterford', 'watergate', 'waterhead', 'waternish', 'watersheds', 'wedge', 'westinghouse', 'wetherall', 'whale', 'whalers', 'whereupon', 'whigs', 'widen', 'widescreen', 'wielded', 'wiggs', 'wikimania', 'willard', 'winding', 'wingspan', 'wisniewski', 'wisteria', 'witnessing', 'witty', 'witu', 'womanhood', 'wondered', 'wonderfully', 'wonders', 'wool', 'worcester', 'wordplay', 'worries', 'wren', 'wrigley', 'wwii', 'wyman', 'xii', 'xiv', 'xuan', 'xxx', 'yap', 'ye', 'yinlong', 'yorker', 'zabibe', 'zeit', 'zeller', 'zoological', 'zur', 'đình', '̃', 'الله', '჻', '′', '⅓', '大空', \"'ad\", \"'ari\", \"'les\", \"'oc\", \"'or\", \"'ron\", '001', '015', '020', '030', '060', '1023', '1038', '1044', '1054', '1064', '1065', '1070', '1101', '1105', '1120', '1122', '1124', '1128', '1137', '1140', '1154', '1164', '1166', '1180', '1187', '1189', '1205', '1214', '1218', '1225', '1228', '1231', '125th', '1264', '1268', '129i', '1330', '1331', '133xe', '1345', '1351', '1402', '1425', '1489', '151eu', '1545', '154eu', '1552', '1563', '1619', '1641', '1642', '1656', '1660s', '1663', '1665', '1666', '1667', '1676', '1682', '1684', '1685', '1686', '1688', '1690', '1697', '1706', '1720', '1721', '1726', '1741', '1742', '1747', '1755', '1768', '1778', '1k', '2010s', '2019', '204', '2055', '207', '212', '218', '226', '2300', '231st', '237', '240s', '2501', '259', '265', '283', '2854', '298', '308', '3100', '316', '321', '341', '344', '353', '357', '361', '367', '381', '398', '3s', '40th', '414', '422', '443', '451', '453', '467', '486', '495', '499', '4o', '505', '515', '522', '523', '526', '544', '555', '580', '595', '612', '614', '625', '628', '635', '649', '667', '679', '680', '691', '6b', '6s', '7000', '703', '705', '711', '720', '729', '738', '746', '75th', '760', '767s', '772', '775', '78th', '794', '79th', '8000', '808', '80th', '853d', '881', '9000', '935928', '94th', '965', '973', '977', '986', '990', '991', '996', '999', '9n', 'a5', 'ab', 'aback', 'abandons', 'abbes', 'abbreviated', 'abdominal', 'abducted', 'abduction', 'abeam', 'aberrant', 'ablution', 'abode', 'abolish', 'abrahamic', 'absolutism', 'abydos', 'accelerating', 'accessibility', 'accommodates', 'acetate', 'acidic', 'ackerson', 'acknowledgment', 'acoustics', 'acquaintances', 'acquisitions', 'acropolis', 'actin', 'acton', 'adamant', 'adapter', 'adherence', 'adhering', 'adi', 'adjust', 'administrations', 'administratively', 'admire', 'adopts', 'adorn', 'adventurer', 'adventurers', 'aerobics', 'aeroplane', 'affections', 'ag', 'agaricales', 'agglomeration', 'aggravated', 'aggressiveness', 'agitation', 'agnostic', 'agonistic', 'aguilera', 'agustin', 'ah', 'aidid', 'aimee', 'airliner', 'airmen', 'airship', 'airships', 'airstrips', 'ak', 'akhenaten', 'akiko', 'alarms', 'alcock', 'alcoholic', 'aleister', 'alejandro', 'alekhine', 'alexandre', 'algal', 'alienation', 'align', 'alisandros', 'alla', 'allergic', 'alleyways', 'allosaur', 'allotrope', 'alluding', 'almami', 'aloof', 'alta', 'alternates', 'alto', 'amadito', 'amalthea', 'amano', 'amastigotes', 'amazed', 'ambling', 'ambroise', 'amenable', 'amenities', 'ames', 'amos', 'amphibian', 'amphorae', 'amplexus', 'anabolic', 'analyst', 'analyze', 'anchoring', 'ancillary', 'andes', 'andhaka', 'andi', 'anecdotes', 'anemia', 'angie', 'angling', 'anita', 'anketell', 'ankh', 'annal', 'annoy', 'anonymously', 'ansem', 'antagonistic', 'ante', 'antidote', 'antonin', 'ants', 'antónio', 'anupama', 'aplacental', 'apologizes', 'apoptosis', 'appellation', 'applauded', 'applegate', 'apples', 'appoints', 'appraisal', 'appropriated', 'aquinas', 'aquitania', 'arable', 'aralt', 'aravind', 'araya', 'archival', 'archived', 'arcs', 'ardent', 'arecibo', 'aretha', 'argentines', 'aribi', 'ark', 'armand', 'armlets', 'arniel', 'arora', 'arundel', 'ascetic', 'asceticism', 'ashdod', 'asher', 'ashtaka', 'asiaceratops', 'aspiration', 'aspirations', 'assailant', 'assassinate', 'assertiveness', 'assi', 'assouline', 'assurance', 'assyria', 'asthma', 'asti', 'astonished', 'astra', 'astro', 'astrology', 'astute', 'asus', 'asylum', 'asymmetrical', 'asymptotic', 'attacker', 'attic', 'atypical', 'auber', 'auditorium', 'aurelius', 'auroraceratops', 'authorize', 'autobiographies', 'autoharp', 'automobiles', 'avaktavyaḥ', 'aversion', 'avi', 'avis', 'avre', 'aweary', 'awesome', 'axles', 'ayesha', 'ayurvedic', 'ayyubid', 'azaria', 'azerbaijan', 'azure', 'baal', 'babaorum', 'babylonia', 'backlash', 'bahía', 'bail', 'baku', 'bakula', 'balch', 'baldev', 'ballast', 'ballymena', 'bandit', 'bandung', 'banes', 'bangor', 'bantam', 'baptized', 'barbadian', 'barbicane', 'barbuda', 'bards', 'barium', 'barremian', 'barren', 'baseline', 'baseman', 'bashir', 'basil', 'basoeki', 'basra', 'bassermann', 'bassin', 'basuki', 'batches', 'bathe', 'batman', 'batson', 'battering', 'battled', 'baum', 'bayan', 'bayer', 'bayesian', 'bayfest', 'bbdo', 'bde', 'be7', 'beachfront', 'beaks', 'beaufighter', 'beauforts', 'bede', 'bedouins', 'beerbohm', 'belize', 'belo', 'benefice', 'benn', 'bentley', 'benzene', 'berm', 'bern', 'berth', 'beryllium', 'besiegers', 'bestow', 'bethe', 'betraying', 'betrays', 'bettered', 'bfi', 'bg7', 'bhandara', 'biases', 'bignell', 'billie', 'billionaire', 'bimonthly', 'binghamton', 'biologically', 'bios', 'biplane', 'biscayne', 'bites', 'blackmon', 'bland', 'blankets', 'blasphemy', 'blasted', 'blasts', 'blazed', 'bleiler', 'blender', 'blistering', 'blitt', 'blogger', 'bluewater', 'blurred', 'blythe', 'bmg', 'boasted', 'bodashtart', 'bodymoor', 'bogotá', 'bohemia', 'boiling', 'bolder', 'boletinellus', 'bolt', 'bonaventura', 'boobs', 'bookcase', 'boredom', 'borg', 'bostock', 'boulevards', 'bouquet', 'bowes', 'bracey', 'brackenburn', 'bragg', 'bramall', 'brands', 'brassy', 'brasília', 'brazen', 'brazoria', 'bren', 'brenton', 'bricius', 'briefed', 'brill', 'brimsek', 'brit', 'britannica', 'broadcasters', 'broadening', 'broadoak', 'broadsides', 'brodsky', 'brogan', 'brom', 'bromley', 'bronzes', 'brooch', 'brooches', 'brooding', 'broome', 'browsing', 'brute', 'buckley', 'budapest', 'budcat', 'buena', 'bulbs', 'bulkheads', 'bulldogs', 'bulletin', 'bun', 'bundu', 'burdensome', 'burditt', 'bureaucracy', 'burkettsville', 'burleigh', 'burney', 'burrell', 'bushes', 'bust', 'butter', 'buttocks', 'buyrate', 'byblos', 'byp', 'bypassing', 'c.j', 'c6h5', 'cabaret', 'cabildo', 'cac', 'caddick', 'cadres', 'caizhou', 'calamity', 'caledonia', 'calgary', 'californicus', 'calle', 'calligraphy', 'calloway', 'calmly', 'calories', 'calostoma', 'calvin', 'cameroon', 'camille', 'campaigners', 'camptosaurus', 'cannibalism', 'cao', 'capensis', 'capitalize', 'capsule', 'capsules', 'captaincy', 'carbuncle', 'carcasses', 'caricatures', 'carlock', 'carmen', 'carnation', 'carnivals', 'caroll', 'cartilage', 'carts', 'cartwright', 'cary', 'casablanca', 'cassowary', 'catapult', 'catapulted', 'categorized', 'caution', 'cautioned', 'cavern', 'cb', 'cctv', 'ceases', 'cecilia', 'cedars', 'cella', 'celts', 'censors', 'centimeters', 'centurion', 'cephalothorax', 'ceratopsid', 'ceratopsidae', 'ceratosaurus', 'cerezo', 'cerium', 'chabad', 'chakrabarti', 'chakraborty', 'cham', 'championed', 'chan', 'chandos', 'chaotic', 'chaoyangsaurus', 'chardonnay', 'charitra', 'chasmosaurus', 'chassis', 'checkers', 'checkpoints', 'cheerful', 'cheering', 'cheesy', 'cheetah', 'cheevers', 'chefs', 'chesham', 'chew', 'chickens', 'chihuahua', 'childe', 'chilling', 'chinnery', 'chivo', 'chlorine', 'chou', 'christianisation', 'christy', 'chromatography', 'chung', 'chuojiao', 'churchmen', 'cisski', 'citrus', 'clapping', 'clarifying', 'classifying', 'clauses', 'cleaned', 'clichéd', 'climatic', 'clinically', 'clonmacnoise', 'closeness', 'cluj', 'clutches', 'clutching', 'cmu', 'cny', 'cockroaches', 'codenamed', 'coerced', 'coilin', 'coinage', 'coke', 'colantoni', 'coli', 'colima', 'coliseum', 'collateral', 'collects', 'colliding', 'colman', 'coloration', 'colourful', 'colts', 'comfortably', 'comique', 'commending', 'commercialism', 'commune', 'comoros', 'competitively', 'compile', 'compiling', 'complimentary', 'compostela', 'compton', 'computed', 'conan', 'concealing', 'concentrating', 'conclusive', 'concussion', 'conde', 'conduit', 'confer', 'conformational', 'conglomerate', 'congregated', 'conscripts', 'consequent', 'consolidating', 'constantin', 'consternation', 'constructions', 'constructive', 'contamination', 'contiguous', 'continents', 'contributor', 'conventionally', 'conversing', 'coolness', 'cooperated', 'coordinates', 'cop', 'coracoid', 'cordon', 'coriolanus', 'cornell', 'cornerback', 'corral', 'corrector', 'corrupted', 'costliest', 'coteries', 'cotrona', 'cottonwood', 'couguar', 'countenance', 'counterbalance', 'counterculture', 'counterfeiting', 'coups', 'courteney', 'courtiers', 'couture', 'coventry', 'coyne', 'coyote', 'cphc', 'crabs', 'cracksman', 'credentials', 'creeds', 'creole', 'crevices', 'crippled', 'crite', 'cropped', 'crowley', 'crumbling', 'crustaceans', 'crutches', 'crépon', 'css', 'cue', 'cull', 'cultured', 'cumulative', 'curled', 'curly', 'curt', 'curtailed', 'curveball', 'cushitic', 'cxd4', 'cybernetic', 'cyclic', 'cymru', 'cynical', 'cynicism', 'cyrillic', 'cytoskeleton', 'd1', 'dacoit', 'dacoits', 'dahau', 'damascus', 'danja', 'danko', 'darby', 'darcsen', 'darius', 'darlington', 'das', 'dasyatis', 'dax', 'dcpa', 'deadliest', 'dealer', 'debating', 'decathlon', 'decaying', 'deceived', 'declination', 'decommissioning', 'decomposition', 'decrying', 'deduced', 'deed', 'deem', 'deepening', 'defaced', 'defensible', 'deferred', 'defiant', 'deficit', 'defied', 'delany', 'delineated', 'demure', 'denard', 'denim', 'denoted', 'denounce', 'denser', 'dentistry', 'departing', 'dependency', 'deprecation', 'derivation', 'dermal', 'derogatory', 'destruct', 'detention', 'deteriorating', 'detoxified', 'devils', 'devonian', 'devonport', 'devotee', 'dharma', 'diabolus', 'diameters', 'dictatorial', 'dietary', 'diets', 'diffuse', 'difluoride', 'diggle', 'dihedral', 'dilapidated', 'dimming', 'dimorphic', 'diocesan', 'diodes', 'dip', 'diplocystis', 'diplomats', 'directional', 'dirk', 'disabilities', 'disadvantaged', 'disarmed', 'disassembly', 'disclosed', 'disco', 'discounted', 'discredit', 'discrepancies', 'discrete', 'discretionary', 'disenchanted', 'disgraced', 'dishonest', 'disintegration', 'dismemberment', 'disparaged', 'disparaging', 'disparate', 'disruptions', 'dissanayake', 'disseminated', 'dissidents', 'dissipate', 'distinctly', 'distraction', 'distractions', 'distressed', 'distributors', 'disuse', 'diva', 'divergence', 'diversionary', 'divisive', 'dm', 'dogfights', 'dollo', 'domination', 'dominions', 'donnel', 'donoghue', 'doom', 'doped', 'dor', 'dormitories', 'dougong', 'dovre', 'dow', 'dowry', 'drastic', 'dravya', 'drc', 'dredge', 'dredging', 'drinks', 'drummers', 'dudleys', 'dumb', 'dunamis', 'dunams', 'dunder', 'dunk', 'dunster', 'durban', 'durrant', 'dvaita', 'dvds', 'dynamically', 'dynamo', 'dyneley', 'dystopian', 'dáil', 'düsseldorf', 'eaa', 'earls', 'earthworks', 'eased', 'eater', 'echelons', 'echevarria', 'echoing', 'eclipsed', 'economical', 'ecoregion', 'ecstasy', 'eddy', 'eden', 'edmonds', 'eduard', 'ee', 'egitto', 'ego', 'egon', 'eh', 'ehrensvärd', 'ehrlich', 'eighty', 'electors', 'electroplating', 'elects', 'elias', 'elie', 'ellie', 'ellington', 'elo', 'elvira', 'emanating', 'emanuel', 'embankment', 'embankments', 'embarkation', 'embarking', 'embarrass', 'emeli', 'emesa', 'eminem', 'eminently', 'emphasizing', 'emulation', 'enact', 'enamel', 'encampment', 'encoding', 'encyclopedia', 'endpoint', 'engraved', 'enjoyment', 'enlightened', 'enlightening', 'enlisting', 'enquiry', 'enrico', 'ensembles', 'enshrined', 'ensures', 'entailed', 'entertain', 'entertainers', 'entice', 'entrained', 'entrepreneur', 'envious', 'envy', 'enzymatic', 'eole', 'epicenter', 'epsicokhan', 'eradicated', 'erase', 'erin', 'eritrea', 'errol', 'eshmunazar', 'esoteric', 'espionage', 'esplanade', 'esteem', 'esteemed', 'esther', 'ethnically', 'eton', 'etymological', 'etymologies', 'europaeus', 'euros', 'evangelist', 'evergreen', 'evokes', 'ewing', 'excels', 'excessively', 'excludes', 'exclusivity', 'excommunicated', 'exemplary', 'exemplifies', 'exemptions', 'exiles', 'exoperidium', 'expatriates', 'expects', 'expenditure', 'experimentally', 'expiration', 'expiring', 'exporter', 'exporting', 'exposes', 'exposition', 'exposures', 'exquisite', 'extracellular', 'extraordinarily', 'extrasolar', 'extravagance', 'eyck', 'eyesight', 'fables', 'facades', 'fai', 'failings', 'fainted', 'fakes', 'fallout', 'falsified', 'familiarity', 'fanfare', 'fantasia', 'farmed', 'fascism', 'fatima', 'fatty', 'fatu', 'faux', 'favors', 'favours', 'fda', 'feak', 'feisty', 'fellowship', 'fences', 'ferdan', 'fermi', 'ferocious', 'ferox', 'ferraris', 'fertilised', 'fertiliser', 'fetishist', 'feuilley', 'fiancée', 'fibres', 'fickett', 'fiery', 'fife', 'figaro', 'filaments', 'filing', 'filly', 'filter', 'filtered', 'filucius', 'finalized', 'financier', 'findspot', 'fireballs', 'fireworks', 'firs', 'fitzpatrick', 'flamboyant', 'flaps', 'flashing', 'flattening', 'flavour', 'flavours', 'flea', 'flechas', 'fleeting', 'flinders', 'flipped', 'floodplains', 'floral', 'flt3', 'flu', 'fluids', 'flung', 'flute', 'flyby', 'flyer', 'fondly', 'foo', 'footnote', 'foreground', 'forehand', 'foreshadowed', 'forester', 'forged', 'forgetting', 'forked', 'formulae', 'formulation', 'forte', 'fortunately', 'forums', 'fostered', 'fouke', 'fouled', 'fours', 'fowley', 'foyle', 'fracture', 'franciscans', 'franck', 'franglen', 'frankfurter', 'frankish', 'fraternal', 'fraught', 'freaks', 'fredericksburg', 'freelance', 'frees', 'freezer', 'fremantle', 'fresno', 'frets', 'friedgen', 'friendships', 'frills', 'fringes', 'fromental', 'frontage', 'fronted', 'frontières', 'frontrunners', 'fruitcake', 'ftáčnik', 'fuck', 'fuels', 'fujian', 'fulk', 'functionality', 'functioned', 'fundamentalists', 'furlongs', 'furnished', 'futterman', 'förster', 'g.e', 'gadolinium', 'gage', 'gags', 'galactic', 'gallantry', 'galley', 'gallimard', 'gallon', 'gallop', 'galvanized', 'gamble', 'gamescom', 'gametrailers', 'gansu', 'garcia', 'gardermoen', 'garter', 'gastrointestinal', 'gastão', 'gatherers', 'gators', 'gatwick', 'gauges', 'gauls', 'gavins', 'gaviria', 'gawker.com', 'gelatinous', 'geledi', 'genetically', 'gentler', 'geologic', 'geologist', 'gestures', 'ghana', 'gharana', 'gibbs', 'gilbey', 'gilchrist', 'giring', 'glades', 'glans', 'glitches', 'glock', 'glodwick', 'glue', 'glued', 'godly', 'godsmack', 'goebbels', 'gonzález', 'goodall', 'gopal', 'gophna', 'gordian', 'gorgeously', 'governess', 'governs', 'grabbing', 'grains', 'grammer', 'grandest', 'grandiosity', 'granny', 'graphical', 'graphite', 'gravestone', 'gravestones', 'graveyard', 'grazed', 'greedy', 'greenock', 'grenadiers', 'griffith', 'grille', 'grinder', 'gritty', 'grizzly', 'grocery', 'grossly', 'grotesque', 'groton', 'groundsel', 'gsc', 'guam', 'guangxi', 'guardians', 'guillermo', 'guiry', 'gunports', 'gunshot', 'gus', 'gy', 'gyroporus', 'habsburg', 'hackers', 'haga', 'hagiography', 'hai', 'hallmark', 'hallucinogenic', 'halogenated', 'hamisah', 'hampstead', 'handkerchief', 'hantzopoulos', 'harbours', 'hardness', 'hardship', 'hares', 'harlem', 'harms', 'harney', 'harrington', 'hartlepool', 'haugesund', 'haunts', 'hauser', 'hawker', 'hayhurst', 'haynes', 'headache', 'headlines', 'heaney', 'heartbreaking', 'heckled', 'hedgehog', 'heidelberg', 'heinlein', 'helgenberger', 'helical', 'helix', 'hellenized', 'helmed', 'helpless', 'helsinki', 'hendrix', 'henrique', 'henryson', 'heraclea', 'heredity', 'herodotus', 'heroism', 'hesitated', 'heston', 'heterochromatin', 'hexafluoride', 'hidatsa', 'hideous', 'highbury', 'hillary', 'hiller', 'him.ch', 'hinder', 'hinds', 'hinduism', 'hinterland', 'hinting', 'hirosaki', 'hiroshi', 'hiroyuki', 'historia', 'histotroph', 'hix', 'hmc', 'hmv', 'hoax', 'hoglan', 'hoisting', 'hologram', 'holsteyn', 'holt', 'homemaker', 'homosexuals', 'honeymooners', 'hooded', 'hooper', 'hooves', 'hopping', 'hordes', 'hormones', 'horner', 'horowitz', 'horribly', 'horseshoe', 'horton', 'houghton', 'housekeeper', 'hsia', 'huayangosaurus', 'hudaydah', 'huerta', 'hugging', 'huguenot', 'hurdle', 'hurdling', 'hurley', 'hurling', 'hut', 'hutton', 'hutzel', 'hydrated', 'hydrolysis', 'hyman', 'iata', 'ibarra', 'ibrahima', 'icc', 'ichiro', 'ictus', 'ida', 'idina', 'idiosyncratic', 'idolator', 'idols', 'ifta', 'iguanodonts', 'illnesses', 'illuminate', 'ilp', 'im', 'imaginary', 'imagining', 'imbert', 'imitation', 'immensely', 'immigrated', 'imp', 'impaired', 'impassioned', 'impatient', 'impeded', 'impenetrable', 'imperfections', 'impersonation', 'implements', 'implicated', 'implication', 'impotence', 'impractical', 'impressing', 'improves', 'improvisational', 'impulse', 'impure', 'impurity', 'incana', 'incarceration', 'incentive', 'indah', 'indecency', 'indecent', 'indentured', 'indescribable', 'inequality', 'infants', 'infatuated', 'infatuation', 'infective', 'infertile', 'infertility', 'infestation', 'infiltration', 'inflammation', 'inflated', 'inflicting', 'influenza', 'infringement', 'infusion', 'ingenuity', 'inhibit', 'inmate', 'inomata', 'insemination', 'insist', 'inspections', 'inspector', 'instalments', 'instigation', 'instigator', 'instituted', 'insured', 'inswing', 'integument', 'intercede', 'interchangeable', 'interchromatin', 'intercity', 'intercontinental', 'interment', 'interplay', 'interpreter', 'interpreting', 'interprets', 'interred', 'interrelated', 'interscope', 'intervening', 'interwoven', 'intestine', 'inti', 'intolerable', 'invades', 'invertebrate', 'invitations', 'invoking', 'iodide', 'ip', 'ir8', 'ire', 'irene', 'irises', 'ironbark', 'irrational', 'irrespective', 'irritating', 'irv', 'iselle', 'isidro', 'islander', 'ismailia', 'isolate', 'isotopic', 'itai', 'itchy', 'itcz', 'itinerant', 'ivo', 'iwo', 'j.p.', 'jacinto', 'jacksons', 'jagdeep', 'jagged', 'jaime', 'jakob', 'jamahl', 'jamaican', 'jammed', 'jammer', 'jana', 'janna', 'jantar', 'javier', 'jaworski', 'jays', 'jemmappes', 'jenson', 'jewel', 'jima', 'jimi', 'joaquín', 'jock', 'johansen', 'joker', 'joking', 'jonas', 'josipović', 'joss', 'journalism', 'jowell', 'joystick', 'joão', 'juanes', 'jude', 'judoka', 'juliusz', 'junctions', 'jurek', 'juste', 'jv', 'jürgen', 'kabir', 'kalachuris', 'kalamazoo', 'kamara', 'kan', 'kanpur', 'kara', 'karagias', 'karan', 'kareem', 'karnow', 'kartikeya', 'karyopherins', 'kaspar', 'kazakhstan', 'kaúlza', 'keach', 'kean', 'keck', 'kellman', 'kenna', 'kentrosaurus', 'kenyan', 'kerikil', 'kern', 'keynes', 'khz', 'kickstarter', 'kidnapping', 'kidnaps', 'kimball', 'kimmeridgian', 'kimmy', 'kinase', 'kinda', 'kindness', 'kinetics', 'kingstown', 'kinnear', 'kinsman', 'kiplin', 'kirchner', 'kirkland', 'kirn', 'kishon', 'kittens', 'klaus', 'klm', 'km3', 'knafel', 'knees', 'kokuryū', 'kolkata', 'koma', 'konrad', 'korda', 'korsvoll', 'kotick', 'krayot', 'krek', 'kress', 'kriegsmarine', 'kringen', 'kris', 'kristen', 'kristiansund', 'kritosaurus', 'kronprinz', 'kubicek', 'kubrick', 'kyrano', 'kōkaku', 'l.a.', 'lafitte', 'laku', 'lal', 'lament', 'lamenting', 'lana', 'lances', 'landlady', 'landmines', 'landspace', 'languid', 'larroquette', 'lasance', 'lashes', 'laterally', 'lattimore', 'layouts', 'layton', 'ld50', 'leachi', 'leadeth', 'leaflets', 'leaking', 'lean', 'leans', 'leavis', 'lefevre', 'leftover', 'legged', 'legislated', 'legislators', 'legislatures', 'leguat', 'leisurely', 'lejeune', 'lemnos', 'len', 'lenin', 'lennox', 'lerew', 'lessen', 'liable', 'liaison', 'liberators', 'libya', 'lice', 'lifeguard', 'lifestyles', 'lightened', 'lignin', 'likening', 'lil', 'lily', 'lima', 'lindelof', 'lindsey', 'linebackers', 'ling', 'linger', 'liquor', 'listens', 'lites', 'lithuanians', 'littered', 'litters', 'livelihoods', 'll', 'llandaff', 'lo', 'loaf', 'lobe', 'locality', 'lochaber', 'lochmarne', 'locusts', 'lodging', 'longs', 'longues', 'looming', 'looped', 'loser', 'louder', 'loudly', 'loughborough', 'lourenço', 'loyalist', 'loyalists', 'lt', 'luca', 'lucaris', 'lucifer', 'lucille', 'ludacris', 'luftwaffe', 'luggage', 'luiz', 'lumbering', 'lund', 'luoyang', 'lupus', 'lured', 'lurid', 'luthor', 'lydney', 'lymphoma', 'lyne', 'lynes', 'lynx', 'lyon', 'lyons', 'lysate', 'légion', 'lópez', 'm1822', 'maarten', 'maasai', 'macedonia', 'maceo', 'machel', 'mack', 'madeira', 'magnet', 'magnussen', 'maharaj', 'mai', 'mailing', 'mailings', 'majel', 'malawi', 'malayan', 'maleev', 'malleable', 'mallowan', 'malmesbury', 'mandel', 'mandy', 'mandé', 'mangrove', 'maniacs', 'manifest', 'manifesto', 'manny', 'manorina', 'manson', 'mantar', 'mantis', 'maracanã', 'maratha', 'marathi', 'marcella', 'margam', 'margate', 'maris', 'marley', 'marlow', 'marmontel', 'marshes', 'martian', 'martinique', 'martyrs', 'martín', 'mashtots', 'maskrays', 'masons', 'massacred', 'massively', 'mated', 'materialize', 'mather', 'mats', 'matte', 'matured', 'mavis', 'maxim', 'mayfair', 'mayson', 'mbó', 'mc', 'mccain', 'mccormick', 'mcdermott', 'mcenroe', 'mcglashan', 'mckinley', 'mcleish', 'mcnamara', 'mcrae', 'mds', 'meanders', 'meath', 'mechanised', 'medallist', 'meg', 'megawatts', 'meic', 'melee', 'mellow', 'melvin', 'membered', 'mena', 'menace', 'menacing', 'menagerie', 'mengden', 'mennonite', 'mera', 'mercado', 'merenre', 'meresankh', 'merits', 'meriwether', 'merkaz', 'merops', 'merrill', 'mervyn', 'metalloid', 'metallurgical', 'meteorites', 'methylene', 'meticulous', 'micro', 'microphones', 'midpoint', 'migrations', 'mihai', 'mikołaj', 'milano', 'milburn', 'milford', 'milhouse', 'militants', 'milne', 'mimi', 'mimicry', 'mina', 'mindy', 'minefield', 'miniatures', 'minimise', 'minors', 'minster', 'minstrel', 'mintage', 'mips', 'mira', 'mirrored', 'mirroring', 'missy', 'mites', 'mitochondria', 'mixtures', 'moba', 'mockery', 'mocks', 'modernization', 'modify', 'moffat', 'moldavia', 'molluscs', 'molokai', 'molotovsk', 'molten', 'monaco', 'monarc', 'moneypenny', 'moniteur', 'monmouthshire', 'monogram', 'monophyletic', 'montoursville', 'moods', 'moorland', 'morals', 'morecambe', 'morley', 'mormon', 'moroccan', 'morphine', 'morphologies', 'mort', 'mortally', 'mortals', 'mosques', 'mosquito', 'mosquitoes', 'motivating', 'motivations', 'mottled', 'msf', 'mshd', 'muang', 'mudskippers', 'mules', 'mulhall', 'mum', 'mumaith', 'mummies', 'mundane', 'murals', 'murchison', 'murderers', 'mureş', 'muscled', 'musket', 'mustang', 'mutant', 'mutilation', 'mutualistic', 'muybridge', 'mvps', 'mwele', 'mystical', 'mythic', 'médecins', 'nabataeans', 'nadiadwala', 'nail', 'nakano', 'napier', 'napoleonic', 'napoléon', 'nares', 'narragansett', 'naruhodō', 'nat', 'nataraja', 'nathaniel', 'naughty', 'nautla', 'naveen', 'navigating', 'navigational', 'ne4', 'neapolitan', 'nearfield', 'nebaioth', 'neckbreaker', 'necrophiliac', 'negated', 'negotiation', 'nehru', 'neighbourhood', 'neighbourhoods', 'nene', 'neoclassical', 'nerves', 'neserkauhor', 'netherland', 'neutralised', 'newgate', 'ngebe', 'ngô', 'nhs', 'ni', 'niassa', 'nic', 'nijmegen', 'nikita', 'ning', 'nippon', 'nirnaya', 'nittany', 'nizam', 'nja', 'nobleman', 'nobodies', 'nod', 'noisescapes', 'nomad', 'nomina', 'nonoxynol', 'nonsensical', 'nonviolent', 'norm', 'normalcy', 'northam', 'northcentral', 'northgate', 'northumbrian', 'nostalgic', 'notched', 'notebook', 'noticeably', 'notifying', 'notoriety', 'nots', 'nourished', 'novelization', 'novi', 'nown', 'np', 'nrr', 'nuance', 'nucleophilic', 'nuj', 'numismatic', 'nunez', 'nurseries', 'nxf2', 'nymphaeum', 'nyuserre', 'nāsti', 'nṯr', 'oahe', 'oates', 'obe', 'obligations', 'obliterated', 'oblivion', 'obscene', 'obscuring', 'observable', 'observatories', 'obsessions', 'obsessive', 'obstruction', 'occupants', 'oceanic', 'ocog', 'ocosingo', 'octavia', 'odile', 'odysseus', 'offending', 'oft', 'olorotitan', 'omer', 'ominous', 'omission', 'omniscience', 'onça', 'oo', 'oosterbeek', 'oppressive', 'oracles', 'orchards', 'orchestration', 'orchids', 'orderings', 'orderly', 'organelles', 'organise', 'organisers', 'organizing', 'orientations', 'oriente', 'originality', 'originate', 'orne', 'ornithopods', 'orphaned', 'orphans', 'orsini', 'osbourne', 'osmond', 'ossetian', 'ostrich', 'otterville', 'outflanked', 'outgrowth', 'outreach', 'outsider', 'outsiders', 'outstandingly', 'overclocked', 'overflow', 'overhauled', 'overland', 'overlapped', 'overpainted', 'overran', 'oversized', 'overworld', 'oxbow', 'oxidizing', 'oxymoron', 'oyebanjo', 'ozzy', 'paces', 'pacification', 'pacifier', 'paddy', 'padmarasa', 'padres', 'paes', 'paganism', 'paget', 'pagliacci', 'paleontologists', 'palicki', 'palmyrenes', 'pans', 'pants', 'paochinda', 'papa', 'papert', 'para', 'paradise', 'paradoxical', 'paranoia', 'parapet', 'paraphyses', 'paraspeckles', 'pareiasaur', 'pareil', 'parishes', 'parity', 'parrott', 'partnered', 'pasir', 'pasley', 'pasture', 'pastures', 'patented', 'pathogens', 'pathologist', 'patti', 'paused', 'pavarotti', 'pavement', 'pavers', 'paving', 'pca', 'pcbs', 'pcg', 'pdb', 'peacekeepers', 'pear', 'peasant', 'pedestal', 'peeters', 'pembina', 'penannular', 'penguin', 'peninsulas', 'pennebaker', 'pentagram', 'pepi', 'perceives', 'peregrine', 'perihelion', 'periodical', 'periphery', 'periplus', 'permissible', 'perpetrator', 'perrie', 'persoon', 'persuading', 'perxenate', 'pestilence', 'pfeiffer', 'philanthropist', 'philharmonic', 'phips', 'phlebopus', 'phobia', 'photographers', 'phrygian', 'physicists', 'physiological', 'pianists', 'pide', 'pieter', 'pigeons', 'pigs', 'pillaged', 'piloted', 'pinch', 'pinnacles', 'pippen', 'piquet', 'pixel', 'plaf', 'plagiarized', 'playback', 'playboy', 'playthrough', 'plead', 'pleas', 'pleasures', 'plied', 'plotted', 'ploy', 'plundered', 'plunged', 'plural', 'poaching', 'poisons', 'polarization', 'polities', 'pollard', 'polow', 'polychaete', 'polygamists', 'polyisoprene', 'polymerase', 'polymers', 'ponies', 'pontiac', 'pontus', 'poole', 'popcrush', 'pops', 'porfirio', 'pork', 'porous', 'porters', 'postcards', 'postpone', 'postremission', 'posturing', 'pouches', 'pouw', 'prabhu', 'prakash', 'prayed', 'prebendary', 'precepts', 'predate', 'predicts', 'predominate', 'prefrontals', 'premarital', 'prematurely', 'premaxillaries', 'premaxillary', 'premonition', 'preoccupation', 'preparedness', 'prequel', 'prerogatives', 'prescribe', 'presley', 'pressings', 'pretended', 'pretext', 'prewar', 'prezan', 'primacy', 'procedural', 'procession', 'processional', 'processors', 'proclaim', 'procreation', 'professions', 'prolexic', 'proliferation', 'prolonging', 'promontory', 'promos', 'prompts', 'propagandist', 'propellers', 'prophecy', 'proponent', 'propositions', 'propulsive', 'prosecutors', 'prosser', 'protects', 'protoceratopsidae', 'protocols', 'protons', 'proudest', 'provost', 'prunes', 'przewalski', 'préludes', 'ps3', 'pseudoephedrine', 'psychedelic', 'psychic', 'ptah', 'ptahhotep', 'ptc', 'ptychoverpa', 'publicised', 'puddings', 'pugliese', 'pulitzer', 'pulsar', 'pulteney', 'punching', 'puncture', 'pungent', 'punish', 'punishable', 'punishing', 'punjab', 'puns', 'punter', 'punting', 'purplish', 'pwi', 'pynchon', 'pyrenees', 'q3', 'qian', 'qualifications', 'qualifiers', 'quan', 'quandary', 'quarantine', 'quarterly', 'quatrain', 'quell', 'quentin', 'queue', 'quietus', 'quince', 'quinta', 'qur', 'quảng', 'r1', 'rabaul', 'rabbits', 'raced', 'racehorse', 'racquets', 'radetzky', 'radford', 'radiant', 'rafa', 'raged', 'railhead', 'rainforests', 'rakiura', 'ramanujacharya', 'ramfis', 'ramifications', 'ramsbury', 'ramsey', 'ramón', 'ranch', 'rancho', 'rancid', 'rangefinder', 'rangtp', 'rankled', 'ranulf', 'raoul', 'raped', 'rapes', 'rasc', 'rascal', 'ravi', 'rawson', 'razed', 're8', 'realistically', 'realization', 'reanalysis', 'rebound', 'rebranded', 'rebuffed', 'receipts', 'recharge', 'reckoning', 'recoilless', 'recollection', 'reconstructions', 'recorders', 'recur', 'recycling', 'redbridge', 'redeployed', 'redone', 'redoubt', 'reelected', 'reels', 'reestablished', 'referral', 'refinement', 'refitted', 'reflective', 'refreshing', 'refuted', 'regimentarz', 'regionally', 'regrets', 'regrouped', 'regurgitated', 'reigned', 'reims', 'reintroduction', 'reinvent', 'reissue', 'reiterated', 'relapsed', 'relays', 'reliever', 'relocating', 'reminding', 'remodelled', 'remuneration', 'renditions', 'renewing', 'renounce', 'renovate', 'rental', 'renting', 'renumbered', 'repaid', 'reparation', 'repeal', 'repealed', 'repentance', 'repentant', 'replayed', 'replete', 'replicas', 'reprints', 'reprisal', 'repudiated', 'repurposed', 'rescind', 'resentment', 'reserving', 'resobowo', 'respectful', 'respers', 'restrictive', 'resumption', 'resurfacing', 'resurrect', 'retaliate', 'retaliatory', 'retardants', 'retook', 'retorts', 'retrieve', 'reuniting', 'reversal', 'reverting', 'revise', 'reviving', 'revoked', 'revolutionized', 'revolve', 'rework', 'rewrote', 'rhineland', 'rhodogeidio', 'riaj', 'ribosome', 'riches', 'riddled', 'ridgway', 'ridicules', 'rie', 'rienzi', 'rigs', 'rimu', 'ringed', 'risa', 'rita', 'ritualised', 'rivaled', 'riverbanks', 'riveted', 'rmm', 'roamed', 'roasting', 'robbers', 'robespierre', 'roche', 'roches', 'rockabilly', 'rockers', 'rocking', 'rockman', 'rogan', 'romances', 'romanticism', 'romulans', 'roofing', 'rory', 'rosaleen', 'roskill', 'rossi', 'rossiya', 'rostral', 'roud', 'rouen', 'rowen', 'royals', 'rubens', 'rudder', 'rudders', 'rudolf', 'rufinus', 'rufipes', 'rumor', 'rusheng', 'russians', 'ruy', 'rye', 'ryūjinmura', 's.10', 's.s.', 'sacrificial', 'sacs', 'sages', 'salam', 'salaries', 'salinity', 'salman', 'salons', 'saloons', 'samak', 'samantabhadra', 'samantha', 'sandals', 'sandefjord', 'sanders', 'sandé', 'santana', 'sanz', 'saprobic', 'saprotrophic', 'sarasota', 'saratoga', 'sarcastic', 'sardi', 'sardonic', 'sarsen', 'sash', 'satan', 'satellites', 'sati', 'satisfaction', 'sausage', 'savery', 'sawgrass', 'scaly', 'scan', 'scanlan', 'scanning', 'scapterisci', 'scars', 'scatter', 'schank', 'schism', 'schlesinger', 'schultz', 'schulz', 'schuster', 'scipion', 'scorsese', 'scottie', 'scotts', 'scoutz', 'scrape', 'scratchy', 'screenwriters', 'screwattack', 'scrolling', 'scuttling', 'se', 'seals', 'searing', 'seater', 'seawater', 'seclusion', 'secrecy', 'secwepemc', 'sed', 'seddon', 'seduction', 'seductress', 'seeger', 'seeping', 'segmental', 'seine', 'selenide', 'semblance', 'seminoles', 'senedjemib', 'sensational', 'sensibilities', 'sensible', 'sensuous', 'sentient', 'separatists', 'sequencing', 'serene', 'serrano', 'servilia', 'servitude', 'sesuatu', 'setup', 'severity', 'sexton', 'sgt', 'shaken', 'shamans', 'shanks', 'shanxi', 'shattering', 'shaved', 'shawnna', 'sheath', 'shedding', 'sheldon', 'sheltering', 'sherwood', 'shetland', 'shigeru', 'shigure', 'shilling', 'shimitsu', 'shingen', 'shinji', 'shinnok', 'shit', 'shizong', 'shogakukan', 'shontelle', 'shortness', 'shoten', 'shotguns', 'shovel', 'showbiz', 'showings', 'showrunner', 'shrank', 'shreveport', 'shriners', 'shrinks', 'shrubby', 'shrunk', 'shu', 'shutting', 'sibling', 'sickle', 'sickly', 'sieur', 'silverside', 'sim', 'simplest', 'simulators', 'sint', 'sitcoms', 'siècle', 'skate', 'skenesboro', 'skins', 'skirt', 'skyline', 'sleeps', 'slice', 'slider', 'slipping', 'slipway', 'sliver', 'sludge', 'slugs', 'slums', 'smoker', 'smokers', 'smoothly', 'smuggle', 'smuggled', 'snails', 'snell', 'snowmelt', 'sociologists', 'sod', 'solfège', 'soliciting', 'solis', 'solitarius', 'soloists', 'solos', 'soltis', 'sonora', 'sooner', 'sorabji', 'sorrows', 'soundstage', 'souper', 'southeastward', 'spa', 'spalato', 'spared', 'sparkling', 'spearhead', 'specialty', 'specie', 'speckled', 'spectroscopic', 'speculative', 'spelt', 'spence', 'sphinx', 'spinners', 'spirited', 'spirituals', 'spisevognselskap', 'spivey', 'spleen', 'splintered', 'splinters', 'spoon', 'sportswriter', 'sportswriters', 'spousal', 'sprain', 'spraying', 'springboks', 'sprints', 'sprite', 'squads', 'squalls', 'squirrels', 'sr.', 'stabilizers', 'staccato', 'stacked', 'stain', 'staining', 'stairway', 'stalingrad', 'standardized', 'standoff', 'standstill', 'stanwix', 'startup', 'statesman', 'statutes', 'std', 'steaming', 'steeple', 'steffie', 'stegosaurians', 'stella', 'stenographer', 'stereotype', 'stereotyped', 'sternum', 'steroid', 'steward', 'stewards', 'stibine', 'sting', 'stingaree', 'stingrays', 'stis', 'stocked', 'stoic', 'stoneman', 'stool', 'stork', 'storrington', 'storyteller', 'stott', 'stowage', 'strains', 'strangers', 'strathaird', 'stray', 'strengthens', 'strikingly', 'stripping', 'stromeyer', 'strongpoint', 'strum', 'strut', 'stuever', 'stunts', 'sturnidae', 'sturnus', 'stylist', 'stylized', 'subfamilies', 'subfossils', 'subgenre', 'subgraph', 'sublimation', 'submissions', 'submissive', 'submitting', 'subordinates', 'subordination', 'subseries', 'subsumed', 'subway', 'successively', 'sucks', 'sud', 'suffolk', 'suitably', 'sultans', 'sumatra', 'summarily', 'summoning', 'sumo', 'sunrise', 'sunspot', 'superbly', 'supercar', 'superfluous', 'superhuman', 'superseded', 'superstar', 'supervisory', 'suppressing', 'surgeons', 'surmounted', 'surpass', 'surpasses', 'sussman', 'sutil', 'sveshnikov', 'swallow', 'swallows', 'swam', 'swamped', 'swarm', 'swears', 'swell', 'swings', 'switches', 'sycaminon', 'syco', 'symbolising', 'symbolizing', 'sync', 'syrah', 'syrup', 'systema', 'syāt', 'são', 't30s', 'tabloid', 'taboo', 'tacit', 'tactically', 'taft', 'taka', 'takia', 'tama', 'tamp', 'tamura', 'tancherês', 'tangle', 'tangyin', 'tankers', 'tanning', 'tapping', 'taranto', 'tariffs', 'tarpan', 'tarps', 'tart', 'tasting', 'tattoo', 'taunts', 'tawakal', 'tbilisi', 'tearing', 'teddy', 'tegetthoff', 'tehran', 'telecast', 'telecommunication', 'teller', 'tenets', 'tengu', 'terkel', 'terminates', 'terminology', 'terra', 'terrapins', 'terribly', 'testify', 'testimonies', 'tete', 'tetris', 'tetroxide', 'tetsuya', 'textbooks', 'textiles', 'tezontle', 'theirs', 'theorem', 'theorems', 'therepio', 'thew', 'thickened', 'thicket', 'thigh', 'thighs', 'thinning', 'thirties', 'thistles', 'thorium', 'thorns', 'threepwood', 'thrills', 'thrive', 'tiara', 'tiberias', 'tibia', 'tick', 'tiebreak', 'tiebreaker', 'tiered', 'timid', 'timmy', 'tiring', 'titan', 'tittenhurst', 'tjoet', 'toads', 'toby', 'toes', 'tofu', 'tokugoro', 'tomasevich', 'tonga', 'toppled', 'tor', 'torah', 'tormented', 'tory', 'tossed', 'totalitarian', 'totalling', 'tous', 'toye', 'trachodon', 'trackage', 'trailers', 'trait', 'traitor', 'trance', 'transatlantic', 'transmitting', 'transmuted', 'trapdoor', 'traumatic', 'trawling', 'trego', 'treknation', 'triatoma', 'triatomine', 'tribesmen', 'tribunal', 'triggering', 'trinidad', 'tripod', 'trna', 'trolley', 'tropospheric', 'tryon', 'trypomastigotes', 'tsak', 'tsubaki', 'tuck', 'tularemia', 'tulloch', 'tulsidas', 'tumbling', 'tumultuous', 'turboprop', 'turdus', 'turnovers', 'turnspeak', 'tuxpan', 'twh', 'twilight', 'twisse', 'tyndall', 'tynedale', 'typeset', 'typing', 'typists', 'typographic', 'tåsen', 'tấn', 'ua', 'udaynath', 'ukraina', 'ul', 'ulnar', 'ultimatum', 'ultratip', 'um', 'unaltered', 'unauthorized', 'unbelievable', 'unbreakable', 'unbroken', 'unchecked', 'unconditional', 'uncontrolled', 'undecided', 'undefended', 'undergoes', 'undertail', 'undrafted', 'undue', 'undulating', 'unfold', 'unfounded', 'ungulates', 'unhealthy', 'unicameral', 'uninhabited', 'unintentionally', 'uniting', 'unlicensed', 'unlocks', 'unofficially', 'unosom', 'unpleasant', 'unpredictability', 'unproven', 'unregulated', 'unrestricted', 'unruly', 'untitled', 'untold', 'untrained', 'unwelcome', 'upgrading', 'upheavals', 'upland', 'uproar', 'upsets', 'upsetting', 'upside', 'upstairs', 'upt', 'uptake', 'uptempo', 'urge', 'urges', 'urinary', 'usaaf', 'usable', 'usefulness', 'ushant', 'uterine', 'uttam', 'vaccine', 'valence', 'valencia', 'valera', 'vanessa', 'varpas', 'varuna', 'vaulting', 'venerable', 'venetian', 'vented', 'ventures', 'verbally', 'vergara', 'versatility', 'vh1', 'vie', 'vietnamization', 'vigil', 'vinci', 'vineae', 'vinegar', 'vins', 'virchow', 'virtuosity', 'vis', 'vishnuvardhana', 'visionary', 'vista', 'visualize', 'vitality', 'vladimir', 'vogler', 'volleyball', 'volts', 'vowels', 'vvs', 'vying', 'vāda', 'waffle', 'wag', 'waived', 'waldo', 'waldrons', 'walidah', 'wandered', 'wansel', 'waryn', 'watered', 'watery', 'wavelength', 'weakens', 'weariness', 'weaver', 'webisode', 'weddings', 'weed', 'weeds', 'weeping', 'weinberg', 'weldon', 'wellness', 'wendell', 'wenlock', 'wessex', 'westerns', 'westland', 'wetmore', 'wexford', 'whalebone', 'wheatgrass', 'whitewater', 'wickes', 'widacki', 'widerøe', 'widower', 'wig', 'wikimedia', 'wildside', 'willingly', 'winchell', 'windass', 'winnebago', 'wippleman', 'wiriyamu', 'wirraways', 'wiseman', 'withdraws', 'wizard', 'wolfteam', 'woo', 'wooing', 'woolley', 'wop', 'workmanship', 'worm', 'worrying', 'worthen', 'worthington', 'worthless', 'worthwhile', 'wrangling', 'wrath', 'wrestle', 'wsdot', 'wspu', 'wuthering', 'wycombe', 'x16', 'xemnas', 'xiangyang', 'xingyi', 'xuande', 'yalunka', 'yamashita', 'yamato', 'yamu', 'yan', 'yangjiang', 'yarmouth', 'yearwood', 'yew', 'yingtianfu', 'yogishvara', 'yorke', 'yorktown', 'yoshinori', 'ypres', 'yui', 'yves', 'zander', 'zealander', 'zebra', 'zeitung', 'zenith', 'zetlandicus', 'zong', 'zumárraga', 'zuniceratops', 'zurich', 'zx', '¡', '¥', '³', '·', 'école', 'érard', 'étienne', 'ā', 'حصن', 'ვ', 'ი', 'კ', 'ო', 'ხ', 'ჯ', '″', '火礮', \"'addario\", \"'ani\", \"'awiil\", \"'azzam\", \"'carmel\", \"'dell\", \"'donnell\", \"'elkhunu\", \"'honneur\", \"'il\", \"'im\", \"'italia\", \"'lln\", \"'ospital\", \"'ouverture\", \"'toole\", \"'être\", '--', '.50', '002', '006', '008', '0300', '032', '056', '077', '081', '090', '1,000th', '1.c4', '1002', '1012', '1015', '1035', '1036', '104a', '1052', '1059', '1063', '1072', '1086', '1095', '1096', '1099', '10s', '1103', '1119', '1131', '1136', '1139', '1145', '1155', '1165', '116th', '1175', '118th', '1191', '1194', '1203', '1204', '1209', '120th', '1216', '1230s', '1250s', '1275', '1281', '1303rd', '1336', '13400', '1422', '1438', '1440', '1501', '150th', '1514', '1518', '151st', '152eu', '1530', '1532', '1540', '1542', '1544', '1546', '1555', '1560', '1569', '1573', '157th', '1580', '1592', '1593', '1608', '1610', '1618', '1620', '1627', '1638', '1661', '1672', '1674', '1677', '1683', '1691', '1693', '1694', '1700', '1703', '1710', '1723', '1727', '1730', '1736', '1738', '1740', '1744', '1748', '1757', '1770s', '1779', '1785', '1786', '1807', '1815', '184', '186th', '188', '191', '194c', '194f', '197', '19th-', '2018', '2022', '2117', '223', '227', '22e', '235', '236', '242', '249', '255', '272', '280th', '288', '291', '296', '2e', '2id', '2γ', '30s', '320th', '343', '346', '347', '348', '349', '34th', '352', '35mm', '361st', '364', '372', '373', '374', '384', '386', '389', '38b', '394', '405', '40s', '422nd', '426', '432', '439', '445th', '446', '468', '46th', '473', '478', '491', '497', '4chan', '4s', '502', '508', '511', '521', '5240', '527', '529', '538', '539', '545', '549th', '555th', '562', '565', '571', '575', '576', '588th', '591', '592', '59th', '5a', '6.bg5', '603', '605', '608', '623', '62nd', '639', '645', '648', '653', '656', '676', '682', '684', '692', '699', '700th', '701', '710', '713', '715', '733', '735', '743', '750th', '754', '761', '762', '763', '770', '787', '789', '799', '805', '826', '842', '856', '85th', '864', '865', '86th', '883', '88th', '890', '89a', '8e', '903', '910l', '911', '918', '922', '93rd', '940', '951', '952', '957', '961', '968', '979', '983', '985', '99th', '\\\\', '`', 'a4160', 'aaat', 'aagadu', 'aalborg', 'aar', 'abatement', 'abba', 'abbreviation', 'abdi', 'abdicated', 'abdirashid', 'abdu', 'abducts', 'abdullahi', 'abierto', 'abolishing', 'abortive', 'abreast', 'absences', 'absolutist', 'abstinence', 'absurd', 'abuses', 'abutments', 'abyss', 'acceded', 'acceleration', 'accented', 'accessing', 'accessory', 'acclamation', 'accolade', 'accommodations', 'accomplishment', 'accorded', 'accordion', 'accountants', 'accreditation', 'accredited', 'accrington', 'accuses', 'acetylcholine', 'achaea', 'achaemenid', 'acknowledgement', 'ackroyd', 'acrid', 'actuality', 'adaptive', 'adder', 'addictive', 'adel', 'adelson', 'adhered', 'adjectives', 'adjustment', 'adjutant', 'administers', 'adolphe', 'adoptive', 'adorable', 'adrien', 'adulatory', 'adventurous', 'advertiser', 'advertisers', 'advocacy', 'ae2', 'aeris', 'aero', 'aerobatics', 'aeroplanes', 'aesop', 'aesopic', 'aesthetics', 'affirm', 'affirms', 'affixed', 'affleck', 'afflicted', 'affray', 'afield', 'afloat', 'africana', 'afrodisiac', 'aftershock', 'agathaumas', 'aggregated', 'agile', 'agitated', 'agni', 'agonies', 'agonist', 'ahhhh', 'aidan', 'aikens', 'ailerons', 'aimé', 'aircrew', 'airframe', 'airstrip', 'airtransport', 'airy', 'ajuran', 'akitaro', 'akka', 'akrad', 'akropolites', 'akrād', 'alamgir', 'albedo', 'alberto', 'albinism', 'aldehyde', 'alds', 'aleppo', 'alexandrian', 'alexandru', 'alfonsi', 'algiers', 'algonquin', 'alicante', 'alienate', 'alkaline', 'allahabad', 'allergy', 'allison', 'allude', 'alluvium', 'aloud', 'alphonse', 'altercation', 'alternately', 'alters', 'altman', 'alton', 'aluminum', 'alun', 'alyssa', 'amalgamation', 'amassing', 'amateurish', 'amateurism', 'ambassadorial', 'ambiguity', 'ambon', 'ambushes', 'amc', 'amend', 'americanism', 'americanus', 'amiens', 'amine', 'amish', 'amisom', 'amok', 'amphitheatre', 'amplifier', 'amplitude', 'amputated', 'amtrak', 'amusements', 'ana', 'anabaptist', 'anachronism', 'anand', 'anatolian', 'andalee', 'andres', 'angiosperms', 'angled', 'anglers', 'anglian', 'anguilla', 'anhui', 'anions', 'ankylosaurian', 'anneke', 'annotata', 'announcements', 'annulment', 'anonymus', 'anouilh', 'ansons', 'anta', 'antelopes', 'antenna', 'anthracycline', 'anthrax', 'antibiotic', 'antibiotics', 'anticipate', 'anticipating', 'anticoagulant', 'anticyclone', 'antietam', 'antimonide', 'antimonides', 'antimonium', 'antipathy', 'antithesis', 'anubis', 'apartheid', 'apathy', 'aphorisms', 'apologised', 'apoptotic', 'apostrophe', 'appetite', 'appleby', 'appliances', 'appointee', 'apprehend', 'apprehends', 'apprehension', 'appropriating', 'appropriation', 'apron', 'apted', 'aptitude', 'apu', 'aqua', 'aquila', 'aquilops', 'arailt', 'aramburu', 'aransas', 'arashikage', 'arba', 'archangel', 'archeological', 'archpriest', 'ardhanarishvara', 'arikaree', 'armadale', 'armagh', 'armchair', 'arnie', 'arpeggios', 'arranging', 'arrogance', 'artie', 'artificially', 'artisans', 'artistically', 'artworks', 'asahi', 'ascendancy', 'ascetics', 'asi', 'asiatic', 'asimov', 'aspired', 'assailed', 'assays', 'assessing', 'assessments', 'assisi', 'assmann', 'assuring', 'astor', 'astounding', 'astray', 'astrov', 'asuka', 'asymmetric', 'atas', 'aten', 'athena', 'athene', 'atherton', 'atlit', 'atone', 'attach', 'attainment', 'attenborough', 'attests', 'attributable', 'aubrey', 'audacious', 'audiovisuals', 'audit', 'augment', 'augusto', 'aury', 'auschwitz', 'austere', 'authorship', 'autographed', 'autonomic', 'autonomously', 'autopsy', 'avar', 'avenged', 'avloed', 'avoidance', 'avres', 'avro', 'awaiting', 'awaits', 'awry', 'axes', 'ayurveda', 'ayyubids', 'b-', 'babcock', 'bachmann', 'bacolas', 'bacterial', 'badai', 'badenoch', 'badinter', 'badlands', 'badrinath', 'baer', 'baggage', 'bagrat', 'bahr', 'bait', 'bakery', 'baking', 'balad', 'balancing', 'balbás', 'balconies', 'balcony', 'balkans', 'ballantyne', 'balloons', 'baltasar', 'baltodano', 'banaadir', 'banadir', 'bandages', 'bandai', 'bandcamp', 'banerjea', 'bangchang', 'banishment', 'banjo', 'banked', 'bankeraceae', 'banquet', 'banquets', 'bantal', 'banter', 'baptism', 'baptistery', 'baptists', 'barbarossa', 'barbette', 'barco', 'bardawil', 'barefoot', 'barfleur', 'barghash', 'barkley', 'barney', 'barnsley', 'baroness', 'barque', 'barracked', 'barricades', 'barring', 'bartov', 'basavanna', 'bascule', 'baserunners', 'bashing', 'batholith', 'bathtub', 'batter', 'battleline', 'bauer', 'bavarian', 'bayou', 'bayrak', 'bayreuth', 'bb', 'bb7', 'bc2', 'beacon', 'bead', 'bean', 'bearer', 'bearers', 'beav', 'bechtler', 'beckerson', 'beef', 'beersheba', 'beesly', 'beetham', 'befriend', 'befriending', 'befriends', 'beg', 'begrand', 'begrudgingly', 'behaviors', 'beige', 'beit', 'bejewelled', 'belaṭṭhaputta', 'belgians', 'bella', 'bellcote', 'belleville', 'bellied', 'belorussiya', 'benaim', 'benchmarks', 'benefactor', 'benefactors', 'beneficiaries', 'bengali', 'beni', 'benton', 'benz', 'berbisik', 'bereft', 'bergmann', 'bering', 'berlalu', 'berle', 'bertrand', 'berzelius', 'besant', 'beset', 'bestsellers', 'bethesda', 'betjeman', 'betting', 'betty', 'bewitched', 'bg2', 'bhagavata', 'bharata', 'bhringi', 'bhāva', 'bianjing', 'bibles', 'bibliography', 'bicolor', 'bidder', 'bidders', 'bielen', 'biennial', 'bierly', 'bighorn', 'bight', 'bilateral', 'bilderbogen', 'bilingual', 'billa', 'billboards', 'billing', 'billund', 'binder', 'binge', 'bio', 'biodegradable', 'biologists', 'biomolecules', 'biotrophic', 'bipolar', 'biran', 'birger', 'biringuccio', 'bishōjo', 'bitten', 'bitterness', 'bivouac', 'björn', 'bjørn', 'blabbermouth.net', 'blackfoot', 'blackish', 'blackmail', 'blackmails', 'blacksmith', 'blacksmiths', 'blackstock', 'blameless', 'blatant', 'bleak', 'blessings', 'blinded', 'blindness', 'blink', 'blisters', 'bloggers', 'bloodless', 'bloodline', 'bloodstream', 'bloomberg', 'blooms', 'bloomsbury', 'blotched', 'bluebunch', 'blueprints', 'blur', 'blätter', 'bobcat', 'bodily', 'boer', 'bogart', 'bogged', 'bohemian', 'bok', 'boland', 'bolesław', 'boletales', 'boletus', 'bolliger', 'bolstered', 'bom', 'bombarding', 'bonga', 'bontekoe', 'booby', 'booking', 'bookstore', 'boomerang', 'boon', 'boonyaratkalin', 'boos', 'booth', 'bootlegs', 'bootylicious', 'bor', 'borderline', 'boreal', 'bormanis', 'borneo', 'borowski', 'borrow', 'bosque', 'boswell', 'bosworth', 'bottleneck', 'bottomed', 'boucher', 'boulders', 'boulez', 'bouncers', 'bounty', 'bourdais', 'bourne', 'bowden', 'bowed', 'bowker', 'boycotts', 'boyer', 'bozeman', 'bra', 'bracelets', 'brachylophosaurus', 'bracket', 'brady', 'brains', 'brainwashed', 'brakes', 'brandywine', 'branko', 'brannock', 'breaching', 'breasts', 'breathy', 'breezes', 'breit', 'brendan', 'breton', 'brevis', 'bribery', 'brickwork', 'bridlington', 'briefing', 'briefings', 'brightly', 'brisk', 'britannia', 'broadest', 'broadhurst', 'broadleaf', 'broadmoor', 'brockman', 'brodribb', 'brody', 'brokered', 'bromide', 'bronson', 'broomstick', 'broth', 'brotzman', 'brower', 'browne', 'brownrigg', 'brundle', 'brunette', 'buckhorn', 'buddhists', 'budding', 'buddytv', 'budgeted', 'buf', 'buggy', 'bulbous', 'bulim', 'bulky', 'burman', 'burner', 'burying', 'burza', 'bushfires', 'bushnell', 'bushranger', 'bushy', 'businessmen', 'buteo', 'buttler', 'butyl', 'bylaw', 'bülow', 'c4', 'ca2', 'cabins', 'cabled', 'cables', 'cabrera', 'cache', 'cadre', 'cadw', 'caiaphas', 'cairns', 'caithness', 'calais', 'caldecott', 'calderón', 'caleb', 'calf', 'caliphate', 'calming', 'calthrop', 'caltrans', 'calves', 'camacho', 'cambodians', 'campanian', 'camphor', 'canaanite', 'canadair', 'canatara', 'caninus', 'canis', 'cannabis', 'cannington', 'cantonese', 'cantor', 'canucks', 'canyons', 'capillitia', 'capitalist', 'capitalized', 'capon', 'caprera', 'caprices', 'caption', 'carabott', 'carapace', 'carbenoid', 'carbonates', 'carbonic', 'carcinogenic', 'cardboard', 'careless', 'carelessly', 'cargoes', 'carignan', 'carlyon', 'carmelit', 'carmichael', 'carnage', 'carpenters', 'carpentry', 'carpets', 'carrhae', 'carteaux', 'cartwheel', 'carwardine', 'cascading', 'cassandra', 'castell', 'castes', 'catacombs', 'catalan', 'catalinas', 'catalysis', 'catastrophe', 'catchphrase', 'categorization', 'catwalk', 'caudal', 'caulkins', 'causal', 'cautiously', 'caxton', 'cayman', 'cbe', 'ccu', 'cecilius', 'cedric', 'celebratory', 'celestine', 'celibacy', 'cellar', 'cellist', 'censuses', 'centering', 'centerpiece', 'centralised', 'centrosomes', 'ceratops', 'ceratopsoidea', 'cerberus', 'cererian', 'certiorari', 'ceylon', 'cf', 'cgt', 'chalet', 'chalk', 'chalukyan', 'chandeliers', 'chandra', 'channeled', 'chants', 'chap', 'chaparral', 'chasers', 'che', 'cheated', 'cheats', 'cheboygan', 'cheerleader', 'cheilocystidia', 'chelicerae', 'chemin', 'cherbourg', 'cherished', 'cherries', 'chests', 'chevalier', 'chevrons', 'cheyenne', 'cheò', 'chieftain', 'chieftains', 'chigi', 'childs', 'chimney', 'chimneys', 'chinian', 'chirps', 'chisholm', 'cho', 'chobert', 'chok', 'choked', 'chops', 'chorister', 'chr', 'christman', 'christophe', 'chromatids', 'chrome', 'chroniclers', 'chronological', 'chrysler', 'chugach', 'chulachomklao', 'chunuk', 'chupacabra', 'churchwardens', 'churning', 'chutes', 'ciara', 'circulating', 'citibank', 'citistat', 'civilisation', 'cl', 'cladograms', 'clarence', 'clarification', 'clarissa', 'claudius', 'cleanly', 'cleansing', 'cleavage', 'clements', 'clerestory', 'clergymen', 'cleverly', 'cliché', 'clifford', 'clifton', 'clings', 'clint', 'clockwork', 'clothesline', 'cloudy', 'clump', 'clumsy', 'cm3', 'cnbc', 'cnet', 'co.', 'coaling', 'coatings', 'cobby', 'coca', 'cocaine', 'cock', 'cockney', 'cocoon', 'coding', 'codon', 'codons', 'coe', 'coeducational', 'coefficient', 'cofer', 'cofferdam', 'cofferdams', 'coffins', 'cognition', 'cohort', 'coincidences', 'cola', 'colborne', 'colby', 'coldest', 'coleby', 'colfer', 'colletts', 'collingridge', 'collymore', 'colm', 'colombo', 'colonels', 'colorectal', 'colossal', 'colosseum', 'colourist', 'colpix', 'colson', 'combatant', 'combating', 'combativeness', 'combinatorial', 'comburendo', 'combustion', 'comets', 'comforted', 'comforts', 'comintern', 'commas', 'commencing', 'commodities', 'compartmentalization', 'compatriot', 'competence', 'competes', 'complacent', 'complicating', 'compliment', 'complimenting', 'comprehension', 'compromises', 'comptroller', 'computerized', 'comte', 'conceive', 'concentrates', 'concierge', 'concord', 'concubine', 'condemnation', 'condemnations', 'condescending', 'condominium', 'conducive', 'cone', 'confederates', 'confessional', 'confidently', 'configured', 'confiscate', 'conform', 'conformations', 'conforming', 'conformist', 'conformists', 'confuse', 'congenital', 'congratulations', 'congregational', 'congregationalist', 'conjugated', 'conquering', 'conquistadors', 'conscripted', 'consecrate', 'consecutively', 'consented', 'conservancy', 'conserve', 'consistory', 'consonants', 'conspired', 'conspiring', 'constabulary', 'constance', 'constituting', 'construed', 'consult', 'consultancy', 'contactmusic.com', 'containment', 'contemplate', 'contemplated', 'contemplates', 'contemplation', 'contender', 'contentment', 'contradiction', 'contraptions', 'contras', 'contrastingly', 'controversially', 'conurbation', 'convent', 'converge', 'convicts', 'cookbooks', 'coolant', 'coombs', 'coordinating', 'copsey', 'corcoran', 'cormorant', 'cornelia', 'cornered', 'cornet', 'cornhill', 'coronel', 'corran', 'corrections', 'corrientes', 'corroborated', 'corroboree', 'corrosive', 'corsini', 'coryi', 'cosme', 'coterie', 'cotswold', 'cottington', 'counseling', 'counteract', 'counterproductive', 'countrymen', 'couplet', 'couplets', 'courageous', 'courant', 'courthouse', 'covenants', 'covent', 'covert', 'covertly', 'cowardice', 'cr', 'crafting', 'cramer', 'cramped', 'cranfield', 'cranial', 'crap', 'crass', 'craze', 'cre', 'creosaurus', 'crewman', 'cria', 'crib', 'cricketing', 'crimean', 'criminology', 'crimint', 'criss', 'criterion', 'criticize', 'critiques', 'crofting', 'crombie', 'crooked', 'croplands', 'crossbar', 'crossfire', 'croton', 'crouch', 'cruised', 'crumble', 'crunch', 'crypts', 'crystals', 'csiro', 'ct', 'cuarán', 'culled', 'culminates', 'culprits', 'culver', 'culvert', 'cum', 'cuney', 'cupboard', 'curfew', 'curling', 'currencies', 'curricular', 'curry', 'cursed', 'cursing', 'cutaway', 'cyanide', 'cyberbrain', 'cyclotron', 'cylinders', 'cymbal', 'cyril', 'cytarabine', 'cécile', 'd.i.c.e', 'dahlen', 'dahlgren', 'dakotas', 'damian', 'damsel', 'dangling', 'danzig', 'dapple', 'dardanelles', 'darke', 'daro', 'darwis', 'dashashwamedh', 'daspletosaurus', 'dassen', 'daun', 'daunting', 'ddt', 'deacons', 'deadlines', 'deadpan', 'debilitating', 'debussy', 'dec', 'decandido', 'deceit', 'decency', 'decentralization', 'deceptive', 'deceptively', 'deco', 'decolonisation', 'decomposing', 'deconstruction', 'decoy', 'dedan', 'deems', 'defamation', 'defecation', 'defection', 'defendants', 'deficient', 'deficits', 'degenerating', 'degrading', 'degroot', 'deified', 'delaunay', 'deliberations', 'delicacy', 'delicious', 'delirious', 'della', 'delusion', 'demarcation', 'demonstrators', 'demoralised', 'demotion', 'dempsey', 'dench', 'denner', 'denominational', 'denouncing', 'denticles', 'denys', 'deodoro', 'dependable', 'dependencies', 'dependents', 'depletion', 'deported', 'depositing', 'depress', 'deprive', 'derry', 'descamisados', 'descend', 'deschamps', 'designate', 'desiree', 'despised', 'desserts', 'destitute', 'detach', 'detectable', 'detectives', 'deterrent', 'detonating', 'detours', 'detrimental', 'deviations', 'devonshire', 'dewnr', 'dexter', 'dexterity', 'dfc', 'dga', 'dh.60', 'dhawan', 'dhow', 'dhrupad', 'diabetes', 'dialectic', 'dialects', 'dials', 'diarmata', 'diastereoselectivity', 'diatoms', 'dice', 'dicey', 'dickinson', 'dickson', 'dictates', 'dictatorships', 'diction', 'dictionaries', 'dieu', 'digest', 'digits', 'dignified', 'digo', 'dili', 'diluted', 'dinorah', 'dionem', 'dior', 'dioxide', 'diplocystaceae', 'diplomacy', 'dips', 'directs', 'disagreeable', 'disciplina', 'disciplinarian', 'discordant', 'discreetly', 'discriminate', 'disembarked', 'disenfranchised', 'disengage', 'disguises', 'disillusionment', 'disintegrating', 'disjointed', 'disks', 'dismissive', 'disobey', 'disordered', 'disorganised', 'dispensation', 'displace', 'displacements', 'dispose', 'disproportionately', 'disregard', 'disrespect', 'dissolves', 'dissolving', 'dissuade', 'distanced', 'distracting', 'ditty', 'diurnal', 'diver', 'diversified', 'dives', 'divinely', 'división', 'diwal', 'dizzy', 'dizzying', 'djan', 'doak', 'docked', 'doctrinal', 'dodd', 'dodgy', 'doherty', 'dolmen', 'dolphins', 'domenici', 'domesticity', 'donaghy', 'dong', 'donlan', 'donn', 'donning', 'dons', 'doohan', 'dope', 'doran', 'dorian', 'dormitory', 'dosti', 'dotted', 'doughboy', 'douglass', 'doux', 'dovel', 'downloading', 'downright', 'downturn', 'draftsman', 'dragging', 'dragons', 'dragoon', 'dramaturgical', 'drawback', 'drawbacks', 'drawbridge', 'dreamed', 'dreaming', 'dreamworld', 'dredges', 'drenched', 'drexler', 'drifts', 'drinkwater', 'drone', 'dropkicks', 'droplets', 'droughts', 'drowns', 'drugged', 'drunkards', 'dubbing', 'dubia', 'dubreuil', 'duchy', 'duels', 'dukes', 'dulce', 'duller', 'duluth', 'dump', 'dumps', 'dunnstown', 'duns', 'dunstan', 'dupatta', 'duplicity', 'dustin', 'dvorak', 'dweller', 'dwelt', 'dykes', 'débats', 'día', 'e.122', 'earmarked', 'earnestness', 'earthly', 'easley', 'easton', 'eastwood', 'ebbsfleet', 'ecaha', 'eccleston', 'echave', 'echinodontium', 'eco', 'economies', 'ecumenical', 'edging', 'edicts', 'edmontosaurus', 'edo', 'edoardo', 'educators', 'edwina', 'eef', 'effervescent', 'effigies', 'egmont', 'eighties', 'eisenberg', 'ejaculation', 'ejler', 'eka', 'ekānta', 'elaborately', 'elaborating', 'elasticity', 'electra', 'electrically', 'electrified', 'electrodes', 'electrolyte', 'electronica', 'electronically', 'electrophoresis', 'elegiac', 'elevating', 'elicit', 'elicited', 'eliezer', 'eligius', 'elinor', 'elkton', 'ellipsoid', 'ellmann', 'elmore', 'elohim', 'eloy', 'elsinore', 'embargo', 'embarrassing', 'embellished', 'embodies', 'embrittlement', 'embryonic', 'emeritus', 'emetic', 'emilio', 'emotive', 'emphasise', 'emphasises', 'emphatically', 'emplacement', 'empties', 'enantiomeric', 'enbom', 'encapsulates', 'encircle', 'enclaves', 'encloses', 'enclosing', 'encode', 'encompass', 'encroaching', 'encroachment', 'encrusted', 'endearingly', 'endgame', 'endgames', 'endowed', 'engelmann', 'engender', 'englishmen', 'enhancement', 'enhances', 'enjoying', 'enlists', 'enmity', 'enormously', 'enrolment', 'enslaved', 'ensue', 'enthusiast', 'entrant', 'environmentalists', 'environmentally', 'envoy', 'epicloud', 'epidemiology', 'episcopate', 'epistemological', 'eps', 'epstein', 'equalize', 'equating', 'equation', 'equivalence', 'equivalents', 'eradicate', 'eroding', 'errant', 'ersatz', 'erupt', 'eruption', 'eruptions', 'erwin', 'erythraean', 'escalate', 'escalates', 'escalating', 'escorial', 'escorts', 'esculenta', 'esher', 'especiais', 'esperance', 'espn.com', 'espncricinfo', 'espresso', 'esteban', 'esterase', 'estrogen', 'estuaries', 'estuarine', 'etched', 'eternity', 'ethnicity', 'ethnography', 'etingoff', 'etmaler', 'eubanks', 'eucalyptus', 'eucharist', 'euclid', 'eugenia', 'eunice', 'euphoria', 'europan', 'eus', 'evacuating', 'evangeline', 'evaporation', 'evelyn', 'eventful', 'evers', 'everson', 'evesham', 'evict', 'evicted', 'evocation', 'ewan', 'exacting', 'exalted', 'examiners', 'excepting', 'excerpt', 'excesses', 'excision', 'excite', 'exclaimed', 'exclamation', 'exclude', 'excreted', 'excursions', 'exertion', 'exhaled', 'exhibiting', 'exons', 'expatriate', 'expectancy', 'expedite', 'expendable', 'explosively', 'exponential', 'expressiveness', 'exquisitely', 'extinguish', 'eyebrows', 'eyewitness', 'ezekiel', 'fable', 'fabrication', 'faceless', 'facelock', 'facilitates', 'facsimile', 'faculties', 'faggots', 'faintest', 'fairfield', 'fairness', 'falchuk', 'falkland', 'falloppio', 'fallow', 'falmouth', 'falsely', 'falstaff', 'familial', 'fanbase', 'fang', 'fannie', 'fap', 'farinaceous', 'farnam', 'farnum', 'farsley', 'fates', 'fay', 'fayette', 'façades', 'feathered', 'feces', 'federico', 'feigenbaum', 'felids', 'felinae', 'feline', 'fellows', 'femora', 'fend', 'feodosiya', 'fermentation', 'fernández', 'ferrets', 'ferrying', 'fertilisation', 'fertilized', 'fervor', 'fervour', 'feuding', 'feynman', 'fiberglass', 'fibers', 'fibreglass', 'fibrils', 'fictioneers', 'fies', 'fiesta', 'fiestas', 'fifpro', 'fiftieth', 'figgins', 'figurine', 'filtration', 'finery', 'fines', 'fingering', 'fining', 'finisher', 'finniss', 'fiona', 'fireball', 'firefight', 'first-', 'firstborn', 'firsthand', 'firsts', 'fiscal', 'fished', 'fishermen', 'fishers', 'fisichella', 'fittoni', 'fitzjohn', 'fitzwarin', 'fixing', 'fl', 'flaccid', 'flagged', 'flagpole', 'flamethrower', 'flammable', 'flamsteed', 'flans', 'flap', 'flapping', 'flatly', 'flattered', 'flatts', 'flavivolvata', 'flaxen', 'fleas', 'fledge', 'fletch', 'flighted', 'flightlessness', 'floats', 'flocked', 'flop', 'florencio', 'flotation', 'flowery', 'fluctuations', 'fluent', 'fluffy', 'flushed', 'flyover', 'foal', 'fogerty', 'folklorists', 'folktales', 'follicles', 'foment', 'fondness', 'fonzie', 'foolish', 'fools', 'footwear', 'forbid', 'foreboding', 'forecaster', 'forecasting', 'foreigner', 'foremast', 'foreshadowing', 'foreshore', 'forfeit', 'forfeited', 'forging', 'formalized', 'formative', 'formatting', 'formulas', 'forrester', 'forsaken', 'fortunate', 'fota', 'fowle', 'foxworth', 'fractions', 'fragillis', 'frakes', 'franchi', 'franchomme', 'francs', 'frankfort', 'frankie', 'frantically', 'freddie', 'freedmen', 'freezes', 'freiherr', 'frenchtown', 'frenzied', 'freyberg', 'friary', 'fricke', 'friendless', 'friendlies', 'frilled', 'fritsch', 'frivolous', 'froze', 'frs', 'fruitless', 'fuelled', 'fueras', 'fugitive', 'fuji', 'fumbles', 'fundraiser', 'fundraisers', 'funfair', 'furness', 'furthered', 'fuss', 'fxe6', 'für', 'g3', 'g4tv', 'gac', 'gaeltacht', 'gaetano', 'gagged', 'gagosian', 'gaiety', 'gaillard', 'gaited', 'gaits', 'gallatin', 'galleon', 'gallic', 'gallinae', 'galvez', 'gambier', 'gambit', 'gamboa', 'gamecocks', 'gamerankings', 'gammarus', 'gangadhara', 'gangsters', 'gani', 'gar', 'garnier', 'garrod', 'garrulous', 'garza', 'gatherer', 'gatland', 'gatrell', 'gaudium', 'gauntlet', 'gaurav', 'gayle', 'gazi', 'geddes', 'gefion', 'geforce', 'gehrig', 'geller', 'gelwicks', 'gendered', 'genealogy', 'genghis', 'genitive', 'genoa', 'gentil', 'geographer', 'georgiev', 'geraint', 'gerd', 'germanization', 'germinate', 'gervais', 'geste', 'getaway', 'ghq', 'giancarlo', 'giao', 'giddens', 'giersbergen', 'gigalitres', 'gigantic', 'gigs', 'gilii', 'gillespie', 'gilmour', 'gilt', 'ginczanka', 'ginglymostoma', 'girder', 'girdwood', 'girlfriends', 'girlhood', 'girth', 'gizmodo', 'glade', 'glance', 'glancing', 'glazing', 'glenwood', 'glimpse', 'glitzy', 'globally', 'gloire', 'gloria', 'glorification', 'glorify', 'glycolysis', 'glyph', 'goalscoring', 'goddard', 'godsal', 'goldenson', 'goldie', 'golfer', 'gomez', 'gong', 'gonzales', 'goo', 'goodbye', 'goodison', 'goodwood', 'gorse', 'gossip', 'gottfried', 'gounod', 'governesses', 'gowns', 'gpa', 'gpca', 'gracile', 'graduates', 'grammarian', 'grandmaster', 'grandstand', 'granville', 'greasewood', 'greats', 'greaves', 'greenberg', 'greenhouse', 'greer', 'gregg', 'greil', 'grenville', 'grevillea', 'greyhound', 'greys', 'grieco', 'grieving', 'grind', 'grit', 'grivičić', 'grog', 'grooved', 'groundskeeper', 'groupings', 'grube', 'gruening', 'grupos', 'gryposaurus', 'gryzelda', 'gudbrandsdalen', 'guerard', 'guerre', 'guessed', 'guildenstern', 'guildhall', 'guinan', 'gujarat', 'gulbenkian', 'gunboats', 'gundersen', 'gunfight', 'gunmen', 'gurevich', 'gurion', 'gusted', 'gusting', 'guttural', 'gyanvapi', 'gérard', 'gómez', 'günther', 'h.g', 'h2', 'haas', 'habermas', 'habitually', 'habsburgs', 'haddam', 'haden', 'hadfield', 'hageby', 'haired', 'hairline', 'hairpin', 'halina', 'hallucinations', 'halswell', 'hamersley', 'hammadi', 'hampden', 'hamper', 'hampi', 'hampson', 'hamstring', 'hancock', 'handbags', 'handcuffs', 'handedness', 'handicapped', 'handlers', 'handover', 'handwritten', 'hangar', 'hanks', 'hanson', 'hapa', 'hapoel', 'haraldr', 'harappa', 'harass', 'harassing', 'harden', 'hardwood', 'harkuf', 'harmon', 'harmonic', 'harrel', 'harrier', 'harrisburg', 'harrogate', 'harshaw', 'hartington', 'harvester', 'hastata', 'hasten', 'hatched', 'hatfield', 'hathershaw', 'hatters', 'haunt', 'haus', 'havelange', 'havelock', 'havers', 'hawthorn', 'haydn', 'hayley', 'haymarket', 'hboi', 'headland', 'headless', 'headman', 'heal', 'heartbroken', 'hearth', 'heartless', 'heathrow', 'heavenly', 'hebron', 'hecht', 'hedemarken', 'hedge', 'heed', 'heels', 'hefa', 'heginbotham', 'hegna', 'heinkel', 'helens', 'heliport', 'hellenistic', 'helles', 'hemacandra', 'hemp', 'henrik', 'heptathlon', 'herders', 'heretico', 'heretics', 'herff', 'herman', 'hernán', 'hesitates', 'hesketh', 'heskey', 'hesler', 'het', 'heterogeneous', 'hetherington', 'hewson', 'hexafluoroplatinate', 'hf', 'hgh', 'hibari.ch', 'hibbett', 'higgins', 'hillsboro', 'hilltop', 'hilly', 'hindering', 'hindlimbs', 'hindrance', 'hipparchus', 'hires', 'hisashi', 'hisn', 'hiss', 'histones', 'hitherto', 'hitoshi', 'hiyorigawa', 'hns', 'hoard', 'hoarding', 'hodgkin', 'hoffmann', 'hogan', 'hoist', 'hoists', 'holbrook', 'holbrooke', 'holl', 'hollaback', 'holodeck', 'holsters', 'holtz', 'homeric', 'homeworld', 'homophobia', 'homosocial', 'hone', 'honjou', 'honourable', 'honoured', 'hoot', 'hopfield', 'hopper', 'horgan', 'horizonte', 'horsecar', 'horsemanship', 'horthy', 'horvath', 'hospitalised', 'hough', 'hovers', 'hst', 'html', 'hu', 'hudsonville', 'hue', 'hugs', 'hulke', 'humanistic', 'humankind', 'humerus', 'hummel', 'hummelfjell', 'humorist', 'hungarians', 'hungerford', 'hunicke', 'huntington', 'hunts', 'hurlford', 'hurting', 'husn', 'hxg4', 'hybrids', 'hydnoid', 'hydnum', 'hydrate', 'hydrology', 'hyperion', 'hypermetabolic', 'hyphen', 'hypnotic', 'hypotheses', 'hypoxia', 'hypselospinus', 'hypsilophodon', 'hysterical', 'hywel', 'hämeenmaa', 'ibc', 'ibea', 'ibelin', 'icarus', 'ico', 'iconographies', 'icu', 'idealistic', 'ides', 'idiosyncrasies', 'idleness', 'idolatry', 'idolized', 'idyllic', 'ieds', 'ifpi', 'igneous', 'igor', 'iguanodontia', 'iguanodontidae', 'ihsan', 'ile', 'ilich', 'illusions', 'illustrious', 'imbalance', 'imca', 'imitating', 'immoral', 'immutable', 'impartial', 'impartiality', 'impassable', 'impede', 'imperialism', 'imperioli', 'impermanence', 'implanted', 'implicit', 'implicitly', 'importin', 'impoverishment', 'imprison', 'improvise', 'impulsive', 'impulsively', 'impurities', 'imwonjin', 'inaccurately', 'inaction', 'inactivated', 'inactivation', 'inbound', 'inca', 'incapacitated', 'incarcerated', 'ince', 'incensed', 'incessant', 'incline', 'incoherent', 'incompletely', 'incompleteness', 'inconspicuous', 'indefinite', 'indiaglitz', 'indiamen', 'indicators', 'indicted', 'indisputably', 'indium', 'individuality', 'indoctrination', 'indulged', 'indulgence', 'industrialisation', 'industrialist', 'inefficient', 'inept', 'inexperience', 'inference', 'infiltrates', 'infiltrating', 'infinitely', 'inflating', 'inflow', 'informing', 'infraction', 'infuriated', 'infused', 'ingenious', 'ingham', 'ingredient', 'ingvald', 'inhibitor', 'inhospitable', 'initiation', 'injection', 'injunction', 'inlets', 'innate', 'innovate', 'innovator', 'inoffensive', 'inoperable', 'inquiries', 'inquisition', 'insensitive', 'instated', 'instigated', 'instilled', 'institutional', 'instructional', 'instructors', 'instrumentalist', 'insubordination', 'insulin', 'insurrection', 'insurrectionists', 'intaglio', 'integrating', 'intensively', 'intents', 'intercollegiate', 'intercut', 'interdiction', 'intergrades', 'interlace', 'internship', 'interpretive', 'interrelationships', 'interrogated', 'interruptions', 'interrupts', 'intersected', 'intertoto', 'intertwine', 'interwar', 'intestinal', 'intimidated', 'intracoastal', 'intrepid', 'intrinsic', 'introns', 'intrusion', 'inundation', 'investigative', 'invigorated', 'invite', 'iny', 'io9', 'ipc', 'irakli', 'irradiation', 'irralie', 'irregularities', 'isa', 'ischemic', 'isiah', 'islamist', 'islanders', 'islington', 'isolating', 'isometric', 'israelites', 'issuance', 'ist', 'isthmus', 'istván', 'italics', 'iwamoto', 'jabbar', 'jabs', 'jacquetta', 'jamaaladeen', 'jannetty', 'jarl', 'jarrah', 'jasmine', 'javed', 'jawaharlal', 'jax', 'jaycen', 'jensen', 'jeopardize', 'jeopardy', 'jericho', 'jesy', 'jewelled', 'jewishness', 'jfk', 'jgt', 'jha', 'ji', 'jingling', 'jk', 'jockey', 'jodidio', 'joints', 'joinville', 'jolliet', 'jos', 'josiah', 'jostling', 'journeyed', 'jovi', 'jowhar', 'jp', 'jstor', 'ju', 'juarez', 'jubba', 'judi', 'jugal', 'jumbo', 'jumpers', 'junk', 'junun', 'jupiters', 'jurists', 'jurors', 'juxtaposing', 'juxtaposition', 'jérôme', 'kaaba', 'kadyrov', 'kahane', 'kaida', 'kaj', 'kalabhairava', 'kalayanamitr', 'kalyani', 'kamaludiningrat', 'kamerkoor', 'kami', 'kampong', 'kangley', 'kapellmeister', 'kapitän', 'karamchand', 'karankawa', 'karate', 'karchner', 'kareen', 'karel', 'karlsson', 'kartik', 'kash', 'kashgar', 'kato', 'katz', 'katzenjammer', 'kavya', 'kaylor', 'kda', 'kdot', 'keathley', 'keefer', 'keene', 'kellee', 'kenai', 'kennet', 'kensington', 'kenya', 'kenyon', 'keratin', 'kereya', 'kerguelen', 'kerslake', 'kesselring', 'ketchum', 'kevalajñāna', 'keyed', 'keymar', 'keystone', 'kgul', 'khalid', 'khani', 'khenty', 'khitans', 'khmelnytsky', 'khắc', 'kickoffs', 'kiev', 'kilburn', 'kildare', 'kilid', 'kilkenny', 'killarney', 'kindly', 'kingpin', 'kingston', 'kinsey', 'kinship', 'kiosk', 'kissed', 'kisses', 'kissimmee', 'kitsu', 'kitsunebi', 'klecksel', 'knighthood', 'knobbs', 'knope', 'knott', 'kns', 'knut', 'koan', 'kohl', 'koi', 'kokanee', 'kolev', 'kommunistblad', 'kompong', 'koopa', 'korchnoi', 'korn', 'korvettenkapitän', 'koryun', 'kosb', 'koshiki', 'kosovo', 'koss', 'kotaku', 'kountze', 'kovacs', 'kowalski', 'krakowski', 'kremplsetzer', 'kreutzer', 'krist', 'kristin', 'krueck', 'kuala', 'kubla', 'kuraki', 'kurdish', 'kurnool', 'kwame', 'kykuit', 'kākāpō', 'kāla', 'kōenji', 'kṣetra', 'laa', 'labelling', 'laberinto', 'laborious', 'labourers', 'labs', 'laced', 'lacey', 'lactone', 'lae', 'lafayette', 'lair', 'lakeside', 'lakota', 'lakotaensis', 'lalande', 'lambasted', 'lambeth', 'lambourn', 'lambskin', 'laments', 'lampooned', 'lancet', 'landfill', 'lanesboro', 'laney', 'langhelle', 'langley', 'langstaff', 'langston', 'lanthanide', 'lanxess', 'laramide', 'laricina', 'larrabee', 'larsen', 'larva', 'lately', 'latent', 'lateran', 'latham', 'latvia', 'lauding', 'laughed', 'laurie', 'lausanne', 'laver', 'lavished', 'lavishly', 'lawlessness', 'lawsuits', 'lazy', 'leah', 'leakage', 'leaks', 'leaned', 'leapt', 'learie', 'lebron', 'leftist', 'legacies', 'legato', 'legibility', 'legitimize', 'leisler', 'lemieux', 'lena', 'lendl', 'lends', 'lengede', 'lenny', 'lenses', 'leoni', 'leppard', 'leptoceratopsid', 'leptoceratopsidae', 'leptophylla', 'lepus', 'lesportsac', 'letterman', 'leukaemia', 'lever', 'leverett', 'levitt', 'levon', 'lewenthal', 'lex', 'lexicon', 'libanius', 'libby', 'libel', 'liberals', 'liberate', 'liebmann', 'lietuva', 'lieutenants', 'lifeboat', 'lifeless', 'lifesize', 'lifetimes', 'ligaments', 'ligatures', 'lighten', 'lightest', 'ligne', 'lignotuber', 'lignotuberous', 'likable', 'likenesses', 'lilavati', 'lilian', 'lilith', 'lim', 'limp', 'liners', 'linesman', 'lingerie', 'lingual', 'linguistic', 'linguistically', 'linguists', 'linjeflyg', 'linus', 'lipstick', 'lirpa', 'lisle', 'litres', 'littlefield', 'ljubinje', 'llewelyn', 'llull', 'loans', 'loaves', 'lobed', 'lobes', 'locates', 'lochalsh', 'lockhart', 'lodgings', 'loggers', 'logics', 'lohengrin', 'lonergan', 'longoria', 'loni', 'loomis', 'looms', 'looser', 'loparite', 'lorenz', 'louisville', 'lounges', 'lourdes', 'lovecraft', 'lovegame', 'lovin', 'lowenstein', 'lowers', 'lownds', 'lowney', 'lowry', 'loyalties', 'lubny', 'lubricants', 'luc', 'lucha', 'lucy', 'ludicrous', 'lukis', 'lukman', 'luminescence', 'lundin', 'lunette', 'lupton', 'lustrous', 'luz', 'lviv', 'ly', 'lydia', 'léon', 'lê', 'm8', 'mabillard', 'macclesfield', 'machete', 'machiavellian', 'macintosh', 'mackay', 'macquarie', 'macrophages', 'madeline', 'madigan', 'magdhaba', 'magnesium', 'magnetism', 'magnets', 'magnirostris', 'mahamdiyah', 'mahdi', 'mahler', 'mahogany', 'maian', 'mainstay', 'makeover', 'mako', 'makropoulos', 'malahide', 'malalas', 'malcom', 'maldives', 'maler', 'malevolence', 'malfunctioning', 'malicious', 'maligned', 'mallett', 'mallikarjuna', 'mallisena', 'maltese', 'malvolio', 'manaus', 'mancuso', 'mandi', 'mandolin', 'mane', 'maneuverability', 'maniac', 'manikarnika', 'manna', 'mannerisms', 'manufactures', 'mapped', 'maq', 'marat', 'marathon', 'marcantonio', 'marcelo', 'marche', 'marck', 'marcos', 'marg', 'marginalised', 'mariano', 'marijan', 'marijuana', 'marismeño', 'marjorie', 'marjory', 'marksman', 'marlo', 'marquette', 'marriott', 'marshy', 'marta', 'martha', 'martindale', 'martyrdom', 'martyred', 'marvellous', 'marvelous', 'marylin', 'marymount', 'marysa', 'masala', 'masamune', 'masand', 'masato', 'mascarene', 'masjid', 'maslin', 'mastaba', 'masterly', 'mastermind', 'masterton', 'mata', 'matam', 'matchup', 'materialized', 'materially', 'math', 'mathematicians', 'matheson', 'mathura', 'matrices', 'mattel', 'maturation', 'maugham', 'mauzac', 'maximilien', 'maxis', 'maynard', 'mazar', 'mazza', 'maíl', 'mba', 'mbe', 'mccarey', 'mccombe', 'mccorduck', 'mcgee', 'mcguire', 'mci', 'mcneill', 'mcoa', 'mdt', 'mdx', 'meandered', 'mearns', 'measurable', 'mechtshausen', 'mecke', 'media.vision', 'mediaeval', 'mediator', 'medius', 'megacrex', 'megamind', 'megastore', 'meginness', 'meiko', 'meilani', 'mein', 'melchior', 'memoranda', 'memorandum', 'mendoza', 'menus', 'merciless', 'merritt', 'mescon', 'meshuggah', 'meson', 'metallurgy', 'metalocalypse', 'metaphorical', 'metaphysical', 'metastable', 'meteorologist', 'methanide', 'methodological', 'methodology', 'methyl', 'metrodome', 'metromedia', 'meuvaines', 'mgm', 'mia', 'michał', 'michoacán', 'mickiewicz', 'micrometres', 'microtubules', 'middling', 'midfielders', 'midline', 'midrange', 'midwestern', 'mie', 'milbrook', 'mildred', 'militaries', 'militarily', 'millibars', 'mimicked', 'minarsih', 'mindedness', 'mindset', 'minesweeper', 'minesweepers', 'mineurs', 'minginish', 'minigame', 'mintages', 'miocene', 'mirabal', 'miracles', 'miranda', 'mirkin', 'miscarriages', 'mischievous', 'mishandling', 'mishra', 'misrepresented', 'mistletoe', 'mistook', 'mistreatment', 'misuse', 'mitford', 'mitsuyo', 'mixer', 'miyazaki', 'mla', 'mlk', 'modal', 'moderated', 'modernisation', 'modernised', 'modernist', 'modular', 'mogila', 'mogudu', 'mohandas', 'mohenjo', 'moister', 'mokona', 'moleman', 'mondondo', 'monism', 'monmouth', 'monologues', 'monomers', 'monotheism', 'monoxide', 'monsignor', 'monstrous', 'montbéliard', 'monteith', 'montoneros', 'montreux', 'montrose', 'montserrat', 'mooresville', 'moorside', 'moot', 'morag', 'moraines', 'moreau', 'morgue', 'mori', 'mornings', 'morphs', 'morrow', 'mortis', 'moscheles', 'moshe', 'moskin', 'moskowitz', 'mosses', 'motionless', 'motivate', 'motors', 'motzkin', 'moulding', 'mounds', 'mourners', 'moustache', 'moutawakel', 'movable', 'moçambique', 'mpa', 'mpc', 'mtdna', 'mtqnnʿ', 'muenich', 'muhammed', 'mulei', 'multibillion', 'multicellular', 'multiplied', 'mummy', 'murai', 'murderous', 'murti', 'muses', 'musicomh', 'muslin', 'mustered', 'musée', 'mutinied', 'muwekma', 'muzaffar', 'mya', 'mycological', 'myelodysplastic', 'myeloproliferative', 'mykelti', 'myriad', 'mysorean', 'mysteriously', 'mêlée', 'mügge', 'münchener', 'mūsų', 'nabucco', 'nadia', 'nadine', 'nadir', 'nadu', 'nagoya', 'naidu', 'nakedness', 'naminé', 'nanak', 'nanobot', 'nanobots', 'nanyang', 'naoko', 'nape', 'narron', 'nascarella', 'nascent', 'nasrallah', 'naturalism', 'naturalists', 'natured', 'naturels', 'natures', 'nausea', 'navigable', 'nayas', 'nazism', 'nd4', 'ndtv', 'neats', 'nebulous', 'necklaces', 'necrophilia', 'nederlands', 'needles', 'neeson', 'nefer', 'negligible', 'nehardea', 'neoceratopsia', 'neotrygon', 'nepal', 'nephews', 'nereide', 'nergal', 'nesher', 'neumann', 'neville', 'newborns', 'newcomer', 'newfound', 'news.com.au', 'newstead', 'nexon', 'nf', 'nganno', 'nicholl', 'nickelback', 'nicknames', 'nicolae', 'nicollette', 'nifurtimox', 'nightclubs', 'nightlife', 'nightly', 'nighttime', 'nikolayev', 'nils', 'nilsson', 'ninian', 'niobium', 'niobrara', 'nishimura', 'nisibis', 'nisnas', 'nissan', 'nitric', 'niven', 'nlcs', 'node', 'nogić', 'nomads', 'nominating', 'noncombatant', 'nonspecific', 'nonstop', 'nord', 'nordic', 'norges', 'norman-', 'norris', 'northeasterly', 'northwesterly', 'notch', 'notify', 'notting', 'notwithstanding', 'nourishing', 'nourrit', 'novae', 'novelists', 'novello', 'novelty', 'novice', 'novo', 'novorossiysk', 'nppl', 'npws', 'nrc', 'nsc', 'nu', 'nuances', 'nubian', 'nucleated', 'nucleic', 'nudity', 'nudum', 'numeric', 'numerically', 'nuss', 'nutritional', 'nx', 'nyc', 'nylon', 'nzef', 'nîmes', 'o.d.b', 'o.w.c.a', 'oakwood', 'oarsmen', 'oaths', 'oats', 'oberon', 'objector', 'oblivious', 'oblong', 'obo', 'obsolescent', 'obtains', 'occupancy', 'occupations', 'octave', 'ocular', 'oder', 'odriozola', 'odžak', 'oeler', 'offside', 'ogdon', 'ohlone', 'oilers', 'olajuwon', 'olfactory', 'olga', 'olives', 'oliviers', 'olympian', 'omniscient', 'oncoming', 'oncostylis', 'oni', 'onomatopoeia', 'ophelia', 'opinionated', 'oppidum', 'opportunistic', 'opposes', 'opposites', 'oppression', 'optics', 'optimal', 'optioned', 'oradea', 'orally', 'orbited', 'orchestras', 'orchestrations', 'orchid', 'orci', 'ordeal', 'ordinarily', 'ordovician', 'org', 'originator', 'orilla', 'orlov', 'orn', 'ornamented', 'ornithologists', 'osage', 'ossification', 'ossified', 'ost', 'ostracized', 'oswalt', 'osório', 'ounces', 'ousting', 'outback', 'outbid', 'outbreaks', 'outburst', 'outbursts', 'outfitting', 'outlines', 'outlining', 'outperformed', 'outrageously', 'outweighed', 'ovary', 'overabundance', 'overblown', 'overcrowded', 'overdubs', 'overhang', 'overlaid', 'overlaps', 'overlord', 'overlords', 'overrunning', 'overshadow', 'overtures', 'overwinter', 'owenii', 'oxidizes', 'ozawa', 'p.j', 'pacifica', 'pacifist', 'packages', 'padded', 'padding', 'paddywack', 'padukone', 'pagasa', 'pageants', 'paige', 'paik', 'paisley', 'paki', 'pal', 'palabras', 'palatable', 'palate', 'palatial', 'palermo', 'palette', 'palkuriki', 'pals', 'pampas', 'panchganga', 'pandemic', 'pandita', 'panigrahana', 'papillae', 'papyrus', 'paragraph', 'paraguay', 'paratrooper', 'parentage', 'parentheses', 'parietal', 'parkinson', 'parlabane', 'parmenter', 'parodying', 'parshvanath', 'parslow', 'particulate', 'parting', 'partway', 'pas', 'pascal', 'pascual', 'passageways', 'passchendaele', 'passively', 'pasti', 'patched', 'paternity', 'pathology', 'patriotism', 'patter', 'patterned', 'paulo', 'pavel', 'pavelić', 'pavilions', 'pawns', 'paws', 'payoff', 'pdt', 'pea', 'peacefully', 'peacetime', 'peas', 'peccavi', 'peckhams', 'peckinpah', 'pedestrians', 'pedigree', 'pemba', 'pemberton', 'penance', 'penciled', 'pencils', 'penfold', 'pennant', 'pennines', 'pensacola', 'pensioners', 'pentominoes', 'pepsi', 'peptides', 'percentages', 'perched', 'percival', 'perfumes', 'perianth', 'perilous', 'periodicals', 'permeated', 'peronism', 'perpetuating', 'persecuted', 'persistently', 'personages', 'personas', 'persuasion', 'persuasive', 'peruvian', 'pervasive', 'perversion', 'petershagen', 'petrus', 'petts', 'peziza', 'ph.d.', 'phalanges', 'phallic', 'phan', 'pheasant', 'phenomenal', 'phenotype', 'philanthropic', 'philipp', 'philosophically', 'phoenicia', 'phonetic', 'photometric', 'pickering', 'picket', 'picpoul', 'pie', 'pierson', 'pilasters', 'piles', 'pillay', 'pillow', 'pillsbury', 'pincers', 'pinfall', 'pining', 'pinner', 'piotr', 'piracy', 'pirelli', 'pitfalls', 'pixie', 'pizhi', 'placard', 'placards', 'placenames', 'plainfield', 'plainly', 'plaintive', 'plakson', 'planck', 'plantagenet', 'plata', 'platelets', 'platou', 'pleading', 'pleads', 'pleasence', 'plectrum', 'pledges', 'pledging', 'pneumocystis', 'pocantico', 'pod', 'podcast', 'poduke', 'poeti', 'pointer', 'poise', 'poke', 'poked', 'poking', 'polarized', 'polemical', 'politburo', 'polite', 'polity', 'polymer', 'polynesia', 'polynomial', 'polypeptides', 'polytechnic', 'polytree', 'pompeii', 'pondered', 'pongsak', 'pontica', 'pony', 'popcorn', 'popo', 'poppy', 'popularisation', 'popularise', 'popularizing', 'portis', 'portraiture', 'portrayals', 'porvenir', 'positron', 'possessive', 'postural', 'potentials', 'poti', 'potts', 'powdered', 'ppl', 'practicable', 'prams', 'prays', 'preaching', 'precarious', 'precaution', 'precincts', 'preclude', 'precognition', 'precursors', 'predates', 'predetermined', 'predicament', 'predication', 'predominated', 'prefabricated', 'prefaced', 'preferences', 'prefix', 'prefrontal', 'prehensile', 'prejudice', 'prejudices', 'premieres', 'preoccupied', 'preposterous', 'prerequisite', 'presently', 'presiding', 'pressurized', 'prestwich', 'prestwichii', 'pretentious', 'prevails', 'preying', 'prickly', 'pridiyathorn', 'pringle', 'pristine', 'probing', 'proclaiming', 'procyon', 'prodigious', 'professionalisation', 'profitability', 'programmable', 'prokaryotes', 'prolog', 'prom', 'promenade', 'promiscuity', 'propagate', 'propagating', 'proportionally', 'proportionate', 'proprietors', 'proscribed', 'prospectors', 'prospered', 'prosthetic', 'prostitution', 'prostrate', 'protectorate', 'proteomics', 'protestors', 'proudly', 'providers', 'prudence', 'prudential', 'pruett', 'psalter', 'pseudo', 'pseudonares', 'psittacosauridae', 'psychopathic', 'ptf6', 'ptolemaic', 'ptv', 'publicist', 'publicize', 'puckering', 'puddle', 'puff', 'puffball', 'puget', 'puja', 'pulmonary', 'pumas', 'punched', 'pune', 'punishments', 'punjabi', 'punta', 'purana', 'purdham', 'purifying', 'purportedly', 'purposefully', 'pussycat', 'putsch', 'pvc', 'pyramids', 'pyrite', 'q.', 'qc', 'qidri', 'qigong', 'qiu', 'qizhou', 'quadrupedal', 'quahog', 'quail', 'quaint', 'quaker', 'qualifies', 'qualms', 'quarries', 'quarrying', 'quartered', 'quercus', 'queried', 'queries', 'query', 'quests', 'qufu', 'qui', 'quieter', 'quinine', 'quito', 'quiz', 'quraysh', 'racer', 'rack', 'racket', 'radiating', 'radiative', 'radii', 'raeburn', 'raemka', 'rafts', 'rahardjo', 'rajeev', 'rake', 'rallies', 'ramachandra', 'rambam', 'ramillies', 'ramot', 'ramírez', 'rance', 'ranchers', 'randomized', 'rang', 'rangefinders', 'ransome', 'raonic', 'raphinae', 'rapist', 'raps', 'rarer', 'rashid', 'rashida', 'rashtrakutas', 'rathlin', 'ratification', 'rationale', 'rationality', 'rationing', 'rattle', 'raul', 'ravel', 'ravenwolf', 'ravidas', 'ravidass', 'raving', 'ravno', 'razorback', 'rb1', 'rb8', 'rc8', 'rcr', 'reactionary', 'readership', 'readmitted', 'realigned', 'realignment', 'realisation', 'realises', 'realist', 'reappear', 'reappearance', 'reappears', 'reared', 'rearmost', 'reassembled', 'rebuttal', 'recanted', 'receivership', 'receptacle', 'recess', 'reciprocating', 'reclusive', 'reconnoitre', 'reconsider', 'recourse', 'recovers', 'rectified', 'rectify', 'recurrent', 'redeem', 'redeemer', 'redeeming', 'redefine', 'redeployment', 'rediscovery', 'redknapp', 'redrawn', 'redshirt', 'rees', 'reestablish', 'reeve', 'referenda', 'reformer', 'refraction', 'refreshed', 'refreshingly', 'refuel', 'refute', 'reg', 'regal', 'regalis', 'reggaeton', 'regia', 'regimen', 'regina', 'registering', 'regression', 'regretted', 'regulator', 'rehab', 'reinhard', 'reinstalled', 'reitan', 'reiterating', 'rejoining', 'rejoins', 'rekindle', 'relaunch', 'relaxing', 'relieving', 'relinquish', 'reliquaries', 'reliquary', 'relive', 'rellstab', 'rem', 'remakes', 'remembrance', 'remodeled', 'remorse', 'remunerated', 'renal', 'renderer', 'renderings', 'reneged', 'rennes', 'renovating', 'rentals', 'reopening', 'reorganize', 'repatriated', 'repatriation', 'repayment', 'repercussions', 'replays', 'replenish', 'repression', 'repressive', 'reprimanded', 'reprises', 'reprising', 'repute', 'rescinded', 'reset', 'reshuffle', 'resisting', 'resolutions', 'resor', 'resorted', 'resorts', 'resourceful', 'respawn', 'respectability', 'responsive', 'restart', 'restorations', 'restorative', 'restraints', 'resurgence', 'retaking', 'retaliated', 'retelling', 'retells', 'rethink', 'retinue', 'retractable', 'retraction', 'retreats', 'reunites', 'reusing', 'reuters', 'reverses', 'revising', 'revisit', 'revisiting', 'revivals', 'revolved', 'rewards', 'rex', 'reykjavík', 'rezzonico', 'rf8', 'rfc', 'rhea', 'rhenish', 'rhett', 'rhizomorphs', 'ri', 'rib', 'ribbed', 'ribbons', 'ribchester', 'ribonuclease', 'ricardo', 'richdale', 'ricks', 'ridiculously', 'ridley', 'riekki', 'riela', 'rieng', 'rifled', 'rifts', 'righteous', 'righteousness', 'rikshospitalet', 'rimmer', 'ringtone', 'rip', 'ripley', 'risky', 'rite', 'riverbed', 'roadbed', 'roadblocks', 'roadrunner', 'roadside', 'roald', 'robbing', 'robby', 'robins', 'rockwilder', 'rogier', 'rojo', 'rolette', 'rollefson', 'romain', 'romanians', 'ronaldo', 'ronay', 'ronk', 'roommates', 'rootlets', 'rosacarnis', 'rosada', 'rosellas', 'rosen', 'rosenblatt', 'rosenblum', 'rotated', 'rotational', 'rotator', 'rotting', 'roundabouts', 'rounding', 'roupen', 'roush', 'routines', 'rowan', 'rowers', 'rowlinson', 'rowlock', 'roxbury', 'roxy', 'rspb', 'rub', 'rubbed', 'rubbers', 'rudimentary', 'rudnicki', 'rue', 'rueben', 'ruinous', 'ruiz', 'rukun', 'rulership', 'rumelhart', 'rumoured', 'ruppert', 'rushers', 'rushie', 'russ', 'rust', 'rusticana', 'rusty', 'ruthenia', 'rysher', 'ryūnosuke', 'rza', 'régiment', 'røros', 's.28', 'saccharine', 'sacking', 'sacramental', 'saddam', 'saddleworth', 'sadistic', 'sadly', 'safeguard', 'saharan', 'saic', 'saintly', 'sakhir', 'sakuraba', 'salaried', 'salford', 'salient', 'saltzman', 'salute', 'salvaging', 'salvo', 'samart', 'sambeghu', 'sambha', 'samora', 'sampler', 'sancha', 'sandman', 'sandpit', 'sandwiches', 'sanitar', 'sankara', 'sankatha', 'sanskritic', 'santísima', 'sappers', 'saracens', 'sarasaland', 'sarcasm', 'sardinia', 'sari', 'sassanian', 'sassone', 'sassy', 'sataka', 'satisfactorily', 'saturated', 'sauce', 'saul', 'saurophaganax', 'sauvignon', 'saux', 'saville', 'saxons', 'saxophonist', 'sañjaya', 'sb2s3', 'sb3', 'scaffidi', 'scalloping', 'scapteriscus', 'scarborough', 'scarlett', 'scarring', 'scavengers', 'schadla', 'schauenburg', 'scheflo', 'schilling', 'schmeichel', 'schoolchildren', 'schoolmaster', 'schopenhauer', 'schröter', 'schubert', 'schur', 'schwimmer', 'scientology.org', 'scofield', 'scolding', 'scolosaurus', 'scorers', 'scotch', 'scotus', 'scouted', 'scraping', 'scratching', 'screenings', 'screenplays', 'screenwriting', 'screws', 'scribal', 'scrimmage', 'scroll', 'scrolls', 'scunthorpe', 'seaboard', 'seabrook', 'seacouver', 'seafrance', 'seagrass', 'seahawks', 'seamen', 'seaplane', 'seatech', 'seaweed', 'secede', 'second-', 'secretariat', 'secretion', 'securely', 'sedentary', 'sedges', 'sedimentation', 'sedis', 'seductive', 'sefik', 'segersäll', 'segunda', 'seitz', 'selectively', 'selects', 'sells', 'selma', 'semantic', 'semilibera', 'seneca', 'seniors', 'sensations', 'sensei', 'sensibility', 'sensing', 'seoul', 'separatist', 'septentrional', 'sequenced', 'seral', 'serge', 'sergius', 'serialisation', 'serialization', 'serials', 'server', 'serviced', 'sesame', 'severn', 'sewell', 'sfor', 'sg', 'sgitheanach', 'shabdamanidarpana', 'shabelle', 'shabtai', 'shaddad', 'shadowed', 'shaffer', 'shaggy', 'shakedown', 'shakes', 'shakey', 'shallower', 'shalott', 'shan', 'shank', 'sharif', 'sharpe', 'sharper', 'shastri', 'shaun', 'shave', 'shea', 'shebelle', 'shellac', 'shelly', 'shepherd', 'sherborne', 'shermarke', 'shinde', 'shines', 'shingles', 'shinra', 'shinto', 'shipwrecked', 'shirow', 'shoals', 'shoring', 'shortfall', 'shoshone', 'shouldn', 'showcases', 'showcasing', 'showdown', 'showered', 'showering', 'shrinking', 'shrubbery', 'shueisha', 'shuffle', 'shum', 'shyam', 'shylock', 'siad', 'siberian', 'sibley', 'siddharama', 'sidelines', 'sideshow', 'siding', 'sigmund', 'signatory', 'signet', 'sigra', 'sihanoukville', 'silently', 'silico', 'siloeman', 'silt', 'silva', 'silverman', 'silverstone', 'simakis', 'simango', 'simms', 'simtek', 'sinfonia', 'singaporean', 'singleton', 'sinks', 'sip', 'sisumayana', 'siti', 'sixties', 'ska', 'skating', 'skiing', 'skilful', 'skimpy', 'skinned', 'skirmishes', 'sky1', 'skyscraper', 'skywalker', 'slain', 'slams', 'slapping', 'slates', 'slavic', 'slaying', 'slezak', 'sliced', 'slighted', 'sling', 'slips', 'slitting', 'sloop', 'sloped', 'slowest', 'slows', 'sluggish', 'slump', 'sm', 'smallpox', 'smashes', 'smear', 'smelling', 'smithers', 'smithsonian', 'smithy', 'smn', 'smoked', 'smoothbore', 'smothered', 'sn', 'snaps', 'sneak', 'sniping', 'snowberry', 'snu', 'snurposomes', 'soaked', 'soared', 'soaring', 'sobbing', 'sobering', 'sobriety', 'sobriquet', 'solders', 'soledad', 'solemnly', 'solenoid', 'solids', 'solitaires', 'solungen', 'solves', 'somme', 'sonatine', 'songbook', 'sonne', 'sonny', 'sorcery', 'sore', 'sorted', 'sos', 'soulful', 'soundgarden', 'soundly', 'soundstages', 'soup', 'sous', 'southwesterly', 'spangled', 'spanky', 'sparking', 'spawls', 'specialising', 'specifics', 'specify', 'spectrograph', 'spectrometry', 'speculating', 'speculations', 'speculator', 'spermicide', 'spes', 'spice', 'spices', 'spiegelman', 'spielberg', 'spiked', 'spiky', 'spill', 'spilled', 'spills', 'spinal', 'spinner', 'spinoff', 'spinster', 'spiny', 'spire', 'spiritually', 'spiro', 'spitfire', 'spithead', 'spitsbergen', 'splashes', 'splitsider', 'spokane', 'spondees', 'sponsoring', 'spontaneity', 'sportaccord', 'spotnitz', 'spotting', 'spotty', 'sprague', 'sprinters', 'sprouting', 'spruces', 'sprung', 'spurring', 'squandering', 'squarely', 'squirtle', 'src', 'sridhar', 'stabbed', 'stabbing', 'stabilizing', 'stacee', 'stack', 'staffers', 'staffs', 'stagecoaches', 'stagnant', 'stagnation', 'stainless', 'staircases', 'staked', 'stale', 'stalking', 'stalling', 'stamford', 'standalone', 'standby', 'starcraft', 'starkly', 'stats', 'stavans', 'stavro', 'steadfastness', 'stechowi', 'stegosauria', 'stent', 'stepfather', 'stephanolepis', 'stephens', 'stereotyping', 'sterigmata', 'sternberg', 'stevie', 'stewardship', 'stibium', 'stillborn', 'stimmi', 'stimulates', 'stimulus', 'stings', 'stjepan', 'stockyards', 'stoichiometric', 'stollard', 'stonehenge', 'stonework', 'storing', 'stortford', 'stourton', 'stove', 'strachey', 'stragglers', 'straining', 'stranding', 'strands', 'strangle', 'strap', 'strapline', 'strata', 'strategist', 'stratton', 'stravinsky', 'straying', 'streamers', 'streamlined', 'streetcar', 'streeter', 'streisand', 'stresses', 'stressing', 'strickland', 'strident', 'strife', 'strobel', 'strongholds', 'strove', 'strudwick', 'struensee', 'struts', 'stubborn', 'stubbornly', 'studbook', 'studs', 'stumbles', 'stunningly', 'stunted', 'stupnitsky', 'sturgeon', 'sturmovik', 'sturt', 'styling', 'stylus', 'subdue', 'subic', 'subnuclear', 'subordinated', 'subscribed', 'subscription', 'subscriptions', 'subservience', 'subsidize', 'subsidy', 'substantive', 'subtext', 'subversion', 'succumbing', 'suchar', 'sudeikis', 'suffragette', 'sulmona', 'summon', 'sumner', 'sunbury', 'sunflowers', 'sungei', 'suns', 'suo', 'supercomputer', 'superfamily', 'supergiants', 'superimposed', 'supermarket', 'superstitious', 'suplex', 'supplements', 'suppliers', 'surfing', 'surmised', 'surrealism', 'surrendering', 'surveyor', 'survivals', 'surya', 'susie', 'suspiciously', 'sustainability', 'sustainable', 'sustenance', 'susu', 'sutra', 'suvla', 'suwa', 'suzie', 'svalbard', 'svay', 'sveaborg', 'swamphen', 'swampy', 'swannell', 'swans', 'swanson', 'swarming', 'swartzwelder', 'sway', 'sweating', 'sweetums', 'swordians', 'swordsman', 'swpa', 'sxste', 'syd', 'syfy', 'sylvain', 'sylvatic', 'symbiont', 'symbionts', 'sympathizers', 'symposium', 'symptom', 'synchestra', 'syncopated', 'syncretism', 'syncretized', 'syndication', 'syntheses', 'synthpop', 'systemic', 'syān', 'szent', 'sửu', 't.s', 'tabash', 'tableaux', 'tablebases', 'tachibana', 'tackled', 'tackling', 'tahitian', 'taikor', 'tailored', 'takeda', 'taker', 'takings', 'taliaferro', 'talok', 'tamara', 'tamba', 'tamiami', 'tandem', 'tangled', 'tantalum', 'tantrik', 'tarakasura', 'tarmac', 'tarore', 'tarrytown', 'tartar', 'tartrate', 'tasmanian', 'tatasciore', 'tatparya', 'tattoos', 'tauri', 'taxiing', 'taxing', 'tearful', 'technica', 'tecolutla', 'tedx', 'telephoned', 'telephones', 'teleplay', 'telluride', 'templers', 'temporal', 'temptations', 'tempting', 'tendagurensis', 'tendencies', 'tendinitis', 'tensile', 'terfel', 'terminally', 'termination', 'terraced', 'terrence', 'terreplein', 'terria', 'tetanuran', 'tetragonosaurus', 'textual', 'thanh', 'thanked', 'theatricality', 'theatrically', 'theba', 'theorized', 'therosaurus', 'thickly', 'thimble', 'thinker', 'thoroughfare', 'thoth', 'thousandth', 'threadlike', 'threefold', 'thrillaz', 'throckmorton', 'throop', 'thrush', 'thugs', 'thumping', 'thutmose', 'thwart', 'thwarted', 'ti', 'ticking', 'tifa', 'tightness', 'tilting', 'timely', 'timpani', 'tinge', 'tins', 'tipu', 'tirat', 'titanic', 'titans', 'tithonian', 'titius', 'tj', 'tk', 'tko', 'toadstool', 'toei', 'toilets', 'token', 'tokyopop', 'toledo', 'toleration', 'tolsá', 'tomas', 'tombstone', 'tomentum', 'tomoko', 'tompkins', 'tomás', 'tonality', 'tonic', 'tonnage', 'topmost', 'torch', 'torodbe', 'torsos', 'toshiko', 'toulouse', 'toussaint', 'toxteth', 'toyline', 'trachsel', 'tracing', 'tracys', 'trademarked', 'tradesmen', 'trainee', 'tramp', 'tranquil', 'tranquilizer', 'transcendent', 'transcribes', 'transcript', 'transcripts', 'transduction', 'transepts', 'transfers', 'transfusion', 'transfusions', 'transient', 'transjordan', 'translator', 'translit', 'transliteration', 'transparency', 'trapezoidal', 'travers', 'traviata', 'trawls', 'treasonable', 'treed', 'treeguh', 'trembling', 'tremellogaster', 'trenchard', 'triad', 'triandos', 'triangulate', 'tribulations', 'tributes', 'tricolour', 'trident', 'tridentata', 'triga', 'trigonal', 'trimmed', 'tripadi', 'triquet', 'trismegistus', 'triviality', 'trl', 'troff', 'trojans', 'trolleys', 'trombone', 'troopship', 'tropes', 'trophies', 'trottiscliffe', 'truely', 'trumpet', 'truncation', 'truro', 'trustworthy', 'träumerei', 'trương', 'tsu', 'ttz', 'tubercles', 'tuberculosis', 'tugboat', 'tuk', 'tulane', 'tullidge', 'tumtum', 'tumulus', 'tungsten', 'turbaco', 'turnbull', 'turtles', 'tuscaloosa', 'tuscola', 'tutorial', 'tutorials', 'tuy', 'tv.com', 'tvline', 'twa', 'tweaks', 'tweeted', 'twitching', 'typecast', 'typesetters', 'typewriters', 'typographical', 'tyson', 'tú', \"u'lláh\", 'u.s.c', 'uchiyama', 'udell', 'udupi', 'uist', 'uljin', 'ulm', 'umbo', 'unabated', 'unadorned', 'unambiguously', 'unattractive', 'unbeknownst', 'unchanging', 'uncompleted', 'uncompromising', 'unconsciousness', 'uncontested', 'uncontrollable', 'uncooperative', 'undeniably', 'underdog', 'underestimated', 'undergraduates', 'underhill', 'underline', 'understandably', 'undertakings', 'undertones', 'underworld', 'undescribed', 'undetectable', 'undetermined', 'undifferentiated', 'undisturbed', 'uneasy', 'unenviable', 'unequivocally', 'unexplained', 'unfavorably', 'unfeared', 'unfit', 'uniformity', 'unimpeded', 'unimportant', 'uninfected', 'unintentional', 'uninterrupted', 'unionists', 'uniqueness', 'unloading', 'unlocking', 'unmanaged', 'uno', 'unoccupied', 'unorganized', 'unpaved', 'unpopularity', 'unpopulated', 'unprofitable', 'unrecorded', 'unremarkable', 'unrepentant', 'unroofed', 'unsatisfied', 'unscathed', 'unsuited', 'untimely', 'untreated', 'unwieldy', 'unwittingly', 'unworthy', 'unwounded', 'unwritten', 'uphill', 'upkeep', 'uploaded', 'uppermost', 'uppingham', 'upstaged', 'urgently', 'urish', 'urocerus', 'usaid', 'usc', 'usn', 'ussr', 'ustaša', 'usurpers', 'usury', 'utsler', 'utterances', 'uzbekistan', 'vacancies', 'vaginal', 'vaishnavism', 'valdensis', 'valens', 'valenti', 'valeria', 'vallarta', 'vallenato', 'vandalised', 'vandalism', 'vanguard', 'vanish', 'vanishing', 'vanquishing', 'vanstabel', 'varina', 'vasa', 'vaughan', 'veblen', 'vectors', 'vega', 'velocetron', 'velpeau', 'veneer', 'venkateswara', 'vent', 'verizon', 'verso', 'vertebrates', 'vest', 'vested', 'vestments', 'veterinarian', 'vga', 'viability', 'vibrate', 'vicki', 'vickie', 'victors', 'videotape', 'vignettes', 'vijay', 'vijaya', 'vikramāditya', 'vila', 'vilified', 'vindicated', 'vine', 'vini', 'vintners', 'viola', 'virampattinam', 'visceral', 'visibly', 'visualized', 'vitaris', 'vivo', 'vlachos', 'vocabulary', 'vocalization', 'vocalizations', 'vocally', 'vogt', 'voivode', 'volcanoes', 'volturno', 'volunteerism', 'volva', 'voodoo', 'vow', 'vt', 'vukovar', 'vuthiphong', 'w3xwt', 'wa', 'wackett', 'waddell', 'waddon', 'wadhurst', 'wading', 'wadsworth', 'wagons', 'waiouru', 'waive', 'waivers', 'wakaba', 'wallabies', 'waller', 'wanda', 'wander', 'wanders', 'wapaq', 'warhead', 'warmth', 'warspite', 'wary', 'wasted', 'wasteland', 'wastewater', 'watercolors', 'waterproofing', 'wattles', 'wavell', 'waverly', 'wavy', 'wayback', 'wca', 'wcas', 'weathered', 'webberville', 'wed', 'wee', 'wehrmacht', 'wei', 'weiland', 'weiss', 'welch', 'welcoming', 'welding', 'werner', 'westchester', 'westerlies', 'westlake', 'wetter', 'whaler', 'whaling', 'whammy', 'whatsoever', 'wheelers', 'whichever', 'whim', 'whimsical', 'whistling', 'whitaker', 'whitby', 'whitewashed', 'whitman', 'whitworth', 'wholesale', 'wiccen', 'wiccens', 'wichita', 'widths', 'wiesel', 'wieselman', 'wigmore', 'wiki', 'wilberforce', 'wilburys', 'wildhearts', 'willed', 'willem', 'wilt', 'windermere', 'windward', 'winemaking', 'winfield', 'winnberg', 'winterbottom', 'winthrop', 'wirth', 'withering', 'witherspoon', 'withstood', 'witticisms', 'wmsc', 'wn', 'wobble', 'wofford', 'wolfe', 'wolfgang', 'wondering', 'woodcut', 'woodpeckers', 'woodpile', 'worf', 'workhouse', 'workload', 'worrisome', 'worshiping', 'worshippers', 'wow', 'wrapping', 'wrists', 'wsmv', 'wumpa', 'wynn', 'wynter', 'wyo', 'włodzimierz', 'xamar', 'xfx', 'xizong', 'xlvii', 'yamamoto', 'yammer', 'yao', 'yarder', 'yatie', 'yeh', 'yellowwoods', 'yen', 'yeoh', 'yesterday', 'yiddish', 'yohn', 'yokohama', 'yolk', 'yongdok', 'yorkers', 'youngsters', 'ypm', 'ysabel', 'ysland', 'yttrium', 'yuki', 'yukizuki', 'yung', 'yurikago', 'yvonne', 'zach', 'zachary', 'zahir', 'zaitsev', 'zankou', 'zanla', 'zappa', 'zatanna', 'zbarazh', 'zbigniew', 'ze', 'zediker', 'zeus', 'zhao', 'zhejiang', 'zhishen', 'zhu', 'zincography', 'zofia', 'zonghan', 'zongwang', 'zoromski', 'zosimus', 'zuniga', 'zuzanna', '|', '§', 'álvaro', 'élodie', 'émile', 'étude', 'ösel', 'ø', 'østerdalen', 'último', 'ürümqi', 'þórfinnr', 'łaszcz', 'żeleński', 'γ', 'κb', 'советская', 'กัลยาณมิตร', 'ง', '่', '์', 'გ', 'დ', 'ზ', 'რ', 'ს', 'უ', 'ც', 'ძ', 'წ', '₤', '⅔', 'ストップ', '戦場のヴァルキュリア3', '攻殻機動隊', 'e.g.', 'u.', 'x.', 'a.m', 'd.c', 'f.c.', 'i.e.', 'l.a.m.b.', 'p.m']\n"
     ]
    }
   ],
   "source": [
    "word_beam_search(LM, 'he', 64, 1)"
   ]
  },
  {
   "cell_type": "markdown",
   "metadata": {},
   "source": [
    "# char-level LM"
   ]
  },
  {
   "cell_type": "markdown",
   "metadata": {},
   "source": [
    "### Question 7 [code]\n",
    "- Implement ``char_tokenizer``\n",
    "- Implement ``CharLangModel``, ``char_train``, ``char_test``\n",
    "- Implement ``char_greedy_search``"
   ]
  },
  {
   "cell_type": "code",
   "execution_count": 144,
   "metadata": {},
   "outputs": [],
   "source": [
    "def char_tokenizer(string):\n",
    "    '''\n",
    "    param:\n",
    "        string: str --- e.g. \"I love this assignment\"\n",
    "    return:\n",
    "        char_list: list[str] --- e.g. ['I', 'l', 'o', 'v', 'e', ' ', 't', 'h', 'i', 's', ...]\n",
    "    '''\n",
    "    char_list = None\n",
    "    ### YOUR CODE HERE\n",
    "    \n",
    "    ### END OF YOUR CODE\n",
    "    return [char for char in string]"
   ]
  },
  {
   "cell_type": "code",
   "execution_count": 145,
   "metadata": {},
   "outputs": [
    {
     "data": {
      "text/plain": [
       "['t', 'e', 's', 't', ' ', 't', 'e', 's', 't', ' ', 't', 'e', 's', 't']"
      ]
     },
     "execution_count": 145,
     "metadata": {},
     "output_type": "execute_result"
    }
   ],
   "source": [
    "test_str = 'test test test'\n",
    "char_tokenizer(test_str)"
   ]
  },
  {
   "cell_type": "code",
   "execution_count": 146,
   "metadata": {},
   "outputs": [],
   "source": [
    "CHAR_TEXT = data.Field(lower=True, tokenize=char_tokenizer ,init_token='<START>', eos_token='<STOP>')\n",
    "ctrain, cvalid, ctest = WikiText2.splits(CHAR_TEXT)  "
   ]
  },
  {
   "cell_type": "code",
   "execution_count": 147,
   "metadata": {},
   "outputs": [
    {
     "name": "stdout",
     "output_type": "stream",
     "text": [
      "Vocabulary size: 247\n"
     ]
    }
   ],
   "source": [
    "CHAR_TEXT.build_vocab(ctrain)\n",
    "print('Vocabulary size:', len(CHAR_TEXT.vocab))"
   ]
  },
  {
   "cell_type": "code",
   "execution_count": 148,
   "metadata": {},
   "outputs": [],
   "source": [
    "BATCH_SIZE = 32\n",
    "# the length of a piece of text feeding to the RNN layer\n",
    "BPTT_LEN = 128        \n",
    "# train, validation, test data\n",
    "ctrain_iter, cvalid_iter, ctest_iter = data.BPTTIterator.splits((ctrain, cvalid, ctest),\n",
    "                                                                batch_size=BATCH_SIZE,\n",
    "                                                                bptt_len=BPTT_LEN,\n",
    "                                                                repeat=False)"
   ]
  },
  {
   "cell_type": "code",
   "execution_count": 155,
   "metadata": {},
   "outputs": [],
   "source": [
    "class CharLangModel(nn.Module):\n",
    "   \n",
    "\n",
    "    def __init__(self, lang_config):\n",
    "        ### YOUR CODE HERE\n",
    "        super(CharLangModel, self).__init__()\n",
    "        self.vocab_size = lang_config['vocab_size']\n",
    "        self.emb_size = lang_config['emb_size']\n",
    "        self.hidden_size = lang_config['hidden_size']\n",
    "        self.num_layer = lang_config['num_layer']\n",
    "        \n",
    "        self.embedding = None\n",
    "        self.rnn = None\n",
    "        self.linear = None\n",
    "        \n",
    "        ### TODO: \n",
    "        ###    1. Initialize 'self.embedding' with nn.Embedding function and 2 variables we have initialized for you\n",
    "        ###    2. Initialize 'self.rnn' with nn.LSTM function and 3 variables we have initialized for you\n",
    "        ###    3. Initialize 'self.linear' with nn.Linear function and 2 variables we have initialized for you\n",
    "        ### Reference:\n",
    "        ###        https://pytorch.org/docs/stable/nn.html\n",
    "        \n",
    "        ### YOUR CODE HERE (3 lines)\n",
    "        self.embedding = nn.Embedding(self.vocab_size,self.emb_size)\n",
    "        self.rnn = nn.LSTM(self.emb_size,self.hidden_size,self.num_layer)\n",
    "        self.linear = nn.Linear(self.hidden_size,self.vocab_size)\n",
    "        ### END OF YOUR CODE\n",
    "        \n",
    "    def forward(self, batch_sents, hidden=None):\n",
    "        '''\n",
    "        params:\n",
    "            batch_sents: torch.LongTensor of shape (sequence_len, batch_size)\n",
    "        return:\n",
    "            normalized_score: torch.FloatTensor of shape (sequence_len, batch_size, vocab_size)\n",
    "        '''\n",
    "        normalized_score = None\n",
    "        hidden = hidden\n",
    "        ### TODO:\n",
    "        ###      1. Feed the batch_sents to self.embedding  \n",
    "        ###      2. Feed the embeddings to self.rnn. Remember to pass \"hidden\" into self.rnn, even if it is None. But we will \n",
    "        ###         use \"hidden\" when implementing greedy search.\n",
    "        ###      3. Apply linear transformation to the output of self.rnn\n",
    "        ###      4. Apply 'F.log_softmax' to the output of linear transformation\n",
    "        ###\n",
    "        ### YOUR CODE HERE \n",
    "        embedding = self.embedding(batch_sents)\n",
    "        out,hidden = self.rnn(embedding,hidden)\n",
    "        out = self.linear(out)\n",
    "        normalized_score = F.log_softmax(out,dim=2)\n",
    "        \n",
    "        ### END OF YOUR CODE\n",
    "        return normalized_score, hidden"
   ]
  },
  {
   "cell_type": "code",
   "execution_count": 152,
   "metadata": {},
   "outputs": [],
   "source": [
    "def char_train(model, train_iter, valid_iter, criterion, optimizer, vocab_size, num_epochs):\n",
    "    ### YOUR CODE HERE\n",
    "    for n in range(num_epochs):\n",
    "        train_loss = 0\n",
    "        target_num = 0\n",
    "        model.train()\n",
    "        for batch in train_iter:\n",
    "            \n",
    "            text, targets = batch.text.to(device), batch.target.to(device)\n",
    "            loss = None\n",
    "            \n",
    "            ### we don't consider \"hidden\" here. So according to the default setting, \"hidden\" will be None\n",
    "            ### YOU CODE HERE (~5 lines)\n",
    "            optimizer.zero_grad()\n",
    "            prediction,_ = model(text)\n",
    "            loss = criterion(prediction.view(-1, vocab_size), targets.view(-1))\n",
    "\n",
    "            # Step 5. Do the backward pass and update the gradient\n",
    "            loss.backward()\n",
    "            optimizer.step()\n",
    "\n",
    "            ### END OF YOUR CODE\n",
    "            ##########################################\n",
    "            train_loss += loss.item() * targets.size(0) * targets.size(1)\n",
    "            target_num += targets.size(0) * targets.size(1)\n",
    "\n",
    "        train_loss /= target_num\n",
    "\n",
    "        # monitor the loss of all the predictions\n",
    "        val_loss = 0\n",
    "        target_num = 0\n",
    "        model.eval()\n",
    "        for batch in valid_iter:\n",
    "            text, targets = batch.text.to(device), batch.target.to(device)\n",
    "            \n",
    "            prediction,_ = model(text)\n",
    "            loss = criterion(prediction.view(-1, vocab_size), targets.view(-1))\n",
    "            \n",
    "            val_loss += loss.item() * targets.size(0) * targets.size(1)\n",
    "            target_num += targets.size(0) * targets.size(1)\n",
    "        val_loss /= target_num\n",
    "\n",
    "        print('Epoch: {}, Training Loss: {:.4f}, Validation Loss: {:.4f}'.format(n+1, train_loss, val_loss))   "
   ]
  },
  {
   "cell_type": "code",
   "execution_count": 153,
   "metadata": {},
   "outputs": [],
   "source": [
    "def char_test(model, vocab_size, test_iter, criterion):\n",
    "    \n",
    "    '''\n",
    "    params: \n",
    "        model: LSTM model\n",
    "        test_iter: test data\n",
    "    return:\n",
    "        ppl: perplexity \n",
    "    '''\n",
    "    ppl = None\n",
    "    test_loss = 0\n",
    "    target_num = 0\n",
    "    with torch.no_grad():\n",
    "        for batch in test_iter:\n",
    "            text, targets = batch.text.to(device), batch.target.to(device)\n",
    "\n",
    "            prediction,_ = model(text)\n",
    "            loss = criterion(prediction.view(-1, vocab_size), targets.view(-1))\n",
    "\n",
    "            test_loss += loss.item() * targets.size(0) * targets.size(1)\n",
    "            target_num += targets.size(0) * targets.size(1)\n",
    "\n",
    "        test_loss /= target_num\n",
    "        \n",
    "        ### Compute perplexity according to \"test_loss\"\n",
    "        ### Hint: Consider how the loss is computed.\n",
    "        ### YOUR CODE HERE(1 line)\n",
    "        print(test_loss)\n",
    "        ppl = math.exp(test_loss)\n",
    "        ### END OF YOUR CODE\n",
    "        return ppl"
   ]
  },
  {
   "cell_type": "code",
   "execution_count": 156,
   "metadata": {},
   "outputs": [],
   "source": [
    "num_epochs=10\n",
    "device = torch.device(\"cuda\" if torch.cuda.is_available() else \"cpu\")\n",
    "char_vocab_size = len(CHAR_TEXT.vocab)\n",
    "\n",
    "config = {'vocab_size':char_vocab_size,\n",
    "         'emb_size':128,\n",
    "         'hidden_size':128,\n",
    "         'num_layer':1}\n",
    "\n",
    "CLM = CharLangModel(config)\n",
    "CLM = CLM.to(device)\n",
    "\n",
    "char_criterion = nn.NLLLoss(reduction='mean')\n",
    "char_optimizer = optim.Adam(CLM.parameters(), lr=1e-3, betas=(0.7, 0.99))"
   ]
  },
  {
   "cell_type": "code",
   "execution_count": 157,
   "metadata": {},
   "outputs": [
    {
     "name": "stdout",
     "output_type": "stream",
     "text": [
      "Epoch: 1, Training Loss: 1.8382, Validation Loss: 1.5442\n",
      "Epoch: 2, Training Loss: 1.5425, Validation Loss: 1.4395\n",
      "Epoch: 3, Training Loss: 1.4699, Validation Loss: 1.3946\n",
      "Epoch: 4, Training Loss: 1.4334, Validation Loss: 1.3702\n",
      "Epoch: 5, Training Loss: 1.4106, Validation Loss: 1.3541\n",
      "Epoch: 6, Training Loss: 1.3946, Validation Loss: 1.3423\n",
      "Epoch: 7, Training Loss: 1.3825, Validation Loss: 1.3335\n",
      "Epoch: 8, Training Loss: 1.3728, Validation Loss: 1.3264\n",
      "Epoch: 9, Training Loss: 1.3649, Validation Loss: 1.3207\n",
      "Epoch: 10, Training Loss: 1.3583, Validation Loss: 1.3158\n"
     ]
    }
   ],
   "source": [
    "char_train(CLM, ctrain_iter, cvalid_iter, char_criterion, char_optimizer, char_vocab_size, num_epochs)"
   ]
  },
  {
   "cell_type": "code",
   "execution_count": 158,
   "metadata": {},
   "outputs": [
    {
     "name": "stdout",
     "output_type": "stream",
     "text": [
      "1.3080920918196521\n"
     ]
    },
    {
     "data": {
      "text/plain": [
       "3.699109414225743"
      ]
     },
     "execution_count": 158,
     "metadata": {},
     "output_type": "execute_result"
    }
   ],
   "source": [
    "# <10\n",
    "char_test(CLM, char_vocab_size, ctest_iter, char_criterion)"
   ]
  },
  {
   "cell_type": "code",
   "execution_count": 190,
   "metadata": {},
   "outputs": [],
   "source": [
    "def char_greedy_search(model, start_token, max_len):\n",
    "    '''\n",
    "    param:\n",
    "        model: nn.Module --- language model\n",
    "        start_token: str --- e.g. 'h'\n",
    "        max_len: int --- max number of tokens generated\n",
    "    return:\n",
    "        strings: list[str] --- list of tokens, e.g., ['h', 'e', ' ', 'i', 's',...]\n",
    "    '''   \n",
    "    model.eval()\n",
    "    ID = CHAR_TEXT.vocab.stoi[start_token]\n",
    "    strings = [start_token]\n",
    "    hidden = None\n",
    "    \n",
    "    ### You may find CHAR_TEXT.vocab.itos useful.\n",
    "     ### YOUR CODE HERE\n",
    "    #print(model.eval())\n",
    "    #print(ID)\n",
    "    #print(torch.tensor([ID]).long().unsqueeze(1).to(device))\n",
    "    norm,hidden = model(torch.tensor([ID]).unsqueeze(1).to(device))\n",
    "    #print(norm,hidden)\n",
    "    ID =  torch.argmax(norm)\n",
    "    end = CHAR_TEXT.vocab.stoi[\"<eos>\"]\n",
    "    #print(end)\n",
    "    #print(ID.item())\n",
    "    nextword = CHAR_TEXT.vocab.itos[ID.item()]\n",
    "    strings.append(nextword)\n",
    "    #print(nextword)\n",
    "    i = 1\n",
    "    print(CHAR_TEXT.vocab.itos)\n",
    "    while ID.item() != end and i<max_len:\n",
    "        norm,hidden = model(torch.tensor([ID]).unsqueeze(1).to(device),hidden)\n",
    "        ID = torch.argmax(norm,dim=-1)\n",
    "        nextword = CHAR_TEXT.vocab.itos[ID.item()]\n",
    "        #print(nextword)\n",
    "        strings.append(nextword)\n",
    "        i += 1\n",
    "    #print(TEXT.vocab.stoi)\n",
    "    ### END OF YOUR CODE \n",
    "    return strings"
   ]
  },
  {
   "cell_type": "code",
   "execution_count": 191,
   "metadata": {},
   "outputs": [
    {
     "name": "stdout",
     "output_type": "stream",
     "text": [
      "['<unk>', '<pad>', '<START>', '<STOP>', ' ', 'e', 't', 'a', 'n', 'i', 'o', 'r', 's', 'h', 'd', 'l', 'u', 'c', 'm', 'f', 'g', 'p', 'w', 'b', 'y', 'k', ',', '.', 'v', '<', '>', '@', '<eos>', '1', '0', '=', '\"', '2', \"'\", '9', '-', 'j', 'x', ')', '(', '3', '5', '8', '4', '6', '7', 'z', 'q', ';', '–', ':', '/', '—', '%', 'é', '$', '[', ']', '&', '!', 'í', '’', 'á', 'ā', '£', '°', '?', 'ó', '+', '#', 'š', '−', 'ō', 'ö', 'è', '×', 'ü', 'ä', 'ʻ', 'ś', 'ć', 'ø', '“', 'ł', 'ç', '”', '₹', 'ã', 'µ', 'ì', 'ư', '\\ufeff', 'æ', '…', '→', 'ơ', 'ñ', 'å', '☉', '‘', '*', '~', '⁄', 'î', '²', 'ë', 'ệ', 'ī', 'ú', 'ễ', 'à', 'ô', 'ă', 'ū', '^', 'ê', '♯', 'ỳ', '‑', 'đ', 'μ', '≤', 'ل', 'ṃ', '～', '्', '†', '€', '±', 'ė', 'ž', '〈', '〉', '・', 'û', 'č', 'α', 'β', '½', 'γ', 'с', 'ṭ', 'ị', '„', '♭', 'â', '̃', 'ا', 'ه', '჻', 'ṅ', 'ầ', 'ớ', '′', '⅓', '大', '空', '¡', '¥', '³', '·', 'ş', 'ح', 'ص', 'ن', 'ვ', 'ი', 'კ', 'ო', 'ხ', 'ჯ', 'ḥ', 'ṯ', 'ả', 'ấ', '″', '火', '礮', '\\\\', '`', '|', '§', 'ò', 'þ', 'ń', 'ų', 'ż', 'ʿ', 'κ', 'а', 'в', 'е', 'к', 'о', 'т', 'я', 'ก', 'ง', 'ณ', 'ต', 'ม', 'ย', 'ร', 'ล', 'ั', 'า', 'ิ', '่', '์', 'გ', 'დ', 'ზ', 'რ', 'ს', 'უ', 'ც', 'ძ', 'წ', 'ṣ', 'ắ', 'ử', '₤', '⅔', 'の', 'ァ', 'ア', 'キ', 'ス', 'ッ', 'ト', 'プ', 'ュ', 'リ', 'ル', 'ヴ', '動', '場', '戦', '攻', '機', '殻', '隊']\n"
     ]
    },
    {
     "data": {
      "text/plain": [
       "['h',\n",
       " 'e',\n",
       " ' ',\n",
       " 's',\n",
       " 't',\n",
       " 'a',\n",
       " 't',\n",
       " 'e',\n",
       " ' ',\n",
       " ',',\n",
       " ' ',\n",
       " 'a',\n",
       " 'n',\n",
       " 'd',\n",
       " ' ',\n",
       " 't',\n",
       " 'h',\n",
       " 'e',\n",
       " ' ',\n",
       " 's',\n",
       " 't',\n",
       " 'o',\n",
       " 'r',\n",
       " 'y',\n",
       " ' ',\n",
       " ',',\n",
       " ' ',\n",
       " 'a',\n",
       " 'n',\n",
       " 'd',\n",
       " ' ',\n",
       " 't',\n",
       " 'h',\n",
       " 'e',\n",
       " ' ',\n",
       " 's',\n",
       " 't',\n",
       " 'o',\n",
       " 'r',\n",
       " 'y',\n",
       " ' ',\n",
       " ',',\n",
       " ' ',\n",
       " 'a',\n",
       " 'n',\n",
       " 'd',\n",
       " ' ',\n",
       " 't',\n",
       " 'h',\n",
       " 'e',\n",
       " ' ',\n",
       " 's',\n",
       " 't',\n",
       " 'o',\n",
       " 'r',\n",
       " 'y',\n",
       " ' ',\n",
       " ',',\n",
       " ' ',\n",
       " 'a',\n",
       " 'n',\n",
       " 'd',\n",
       " ' ',\n",
       " 't',\n",
       " 'h']"
      ]
     },
     "execution_count": 191,
     "metadata": {},
     "output_type": "execute_result"
    }
   ],
   "source": [
    "char_greedy_search(CLM, 'h', 64)"
   ]
  },
  {
   "cell_type": "markdown",
   "metadata": {
    "colab_type": "text",
    "collapsed": true,
    "id": "cernoBq6CdX9"
   },
   "source": [
    "### Requirements:\n",
    "- This is an individual report.\n",
    "- Complete the code using Python.\n",
    "- List students with whom you have discussed if there are any.\n",
    "- Follow the honor code strictly."
   ]
  },
  {
   "cell_type": "markdown",
   "metadata": {
    "colab_type": "text",
    "id": "bDOUuC7-CdX-"
   },
   "source": [
    "### Free GPU Resources\n",
    "We suggest that you run neural language models on machines with GPU(s). Google provides the free online platform [Colaboratory](https://colab.research.google.com/notebooks/welcome.ipynb), a research tool for machine learning education and research. It’s a Jupyter notebook environment that requires no setup to use as common packages have been  pre-installed. Google users can have access to a Tesla T4 GPU (approximately 15G memory). Note that when you connect to a GPU-based VM runtime, you are given a maximum of 12 hours at a time on the VM.\n",
    "\n",
    "It is convenient to upload local Jupyter Notebook files and data to Colab, please refer to the [tutorial](https://colab.research.google.com/notebooks/io.ipynb). \n",
    "\n",
    "In addition, Microsoft also provides the online platform [Azure Notebooks](https://notebooks.azure.com/help/introduction) for research of data science and machine learning, there are free trials for new users with credits."
   ]
  }
 ],
 "metadata": {
  "colab": {
   "name": "mini project.ipynb",
   "provenance": []
  },
  "kernelspec": {
   "display_name": "Python 3",
   "language": "python",
   "name": "python3"
  },
  "language_info": {
   "codemirror_mode": {
    "name": "ipython",
    "version": 3
   },
   "file_extension": ".py",
   "mimetype": "text/x-python",
   "name": "python",
   "nbconvert_exporter": "python",
   "pygments_lexer": "ipython3",
   "version": "3.7.6"
  }
 },
 "nbformat": 4,
 "nbformat_minor": 1
}
